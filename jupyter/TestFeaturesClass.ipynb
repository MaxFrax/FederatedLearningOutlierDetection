{
 "cells": [
  {
   "cell_type": "markdown",
   "metadata": {},
   "source": [
    "For quicker iteration I define BSVClassifier also in this jupyter"
   ]
  },
  {
   "cell_type": "code",
   "execution_count": 1,
   "metadata": {},
   "outputs": [],
   "source": [
    "import matplotlib.pyplot as plt\n",
    "import pandas as pd\n",
    "import os\n",
    "import numpy as np\n",
    "\n",
    "plt.rcParams['figure.figsize'] = (15.0, 5.0)"
   ]
  },
  {
   "cell_type": "code",
   "execution_count": 2,
   "metadata": {},
   "outputs": [],
   "source": [
    "import sys\n",
    "\n",
    "sys.path.append('..')"
   ]
  },
  {
   "cell_type": "code",
   "execution_count": 3,
   "metadata": {},
   "outputs": [],
   "source": [
    "from flod.features_extraction import load_features\n",
    "from flod.dataset import download_dataset\n",
    "from sklearn.model_selection import train_test_split, RandomizedSearchCV, StratifiedKFold\n",
    "from flod.classifiers.bsvclassifier import BSVClassifier\n",
    "from scipy.stats import uniform as sp_randFloat\n",
    "from scipy.stats import randint as sp_randInt\n",
    "from sklearn.metrics import confusion_matrix, precision_score, recall_score, f1_score, make_scorer"
   ]
  },
  {
   "cell_type": "code",
   "execution_count": 4,
   "metadata": {},
   "outputs": [],
   "source": [
    "CACHE_FOLDER = '../cache'\n",
    "load_features.LABELS_PATH = '../labels.json'"
   ]
  },
  {
   "cell_type": "code",
   "execution_count": 5,
   "metadata": {},
   "outputs": [
    {
     "name": "stderr",
     "output_type": "stream",
     "text": [
      "39it [00:43,  1.12s/it]\n"
     ]
    }
   ],
   "source": [
    "dataset_path = download_dataset(CACHE_FOLDER)\n",
    "dataset = load_features.load_features(CACHE_FOLDER, dataset_path)"
   ]
  },
  {
   "cell_type": "code",
   "execution_count": 6,
   "metadata": {},
   "outputs": [],
   "source": [
    "X = np.array(dataset[['c1', 'c2', 'c3', 'c4']])  # Features\n",
    "y = np.array(dataset['is_fall'])  # Labels\n",
    "\n",
    "# Split dataset into training set and test set\n",
    "X_train, X_test, y_train, y_test = train_test_split(X, y, train_size=100, test_size=200, stratify=y, shuffle=True)\n"
   ]
  },
  {
   "cell_type": "code",
   "execution_count": null,
   "metadata": {},
   "outputs": [],
   "source": [
    "parameters = {\n",
    "        'c': sp_randFloat(0, 1),\n",
    "        'q': sp_randInt(0, 200),\n",
    "        'penalization' : sp_randInt(0, 400),\n",
    "        'n_iter': [10]\n",
    "    }\n",
    "\n",
    "cv = StratifiedKFold(n_splits=2, shuffle=True)\n",
    "model = BSVClassifier()\n",
    "# Probabilmente CV fa fatta stratified in qualche modo\n",
    "randm_src = RandomizedSearchCV(estimator=model, param_distributions = parameters,\n",
    "                           cv = cv, n_iter = 10, n_jobs=2, scoring=make_scorer(precision_score))\n",
    "randm_src.fit(X_train, y_train)\n",
    "\n",
    "print(\" Results from Random Search \" )\n",
    "print(\"\\n The best estimator across ALL searched params:\\n\", randm_src.best_estimator_)\n",
    "print(\"\\n The best score across ALL searched params:\\n\", randm_src.best_score_)\n",
    "print(\"\\n The best parameters across ALL searched params:\\n\", randm_src.best_params_)"
   ]
  },
  {
   "cell_type": "code",
   "execution_count": null,
   "metadata": {},
   "outputs": [],
   "source": [
    "print(f'Outliers {sum(y_train)}')\n",
    "clf = BSVClassifier(**randm_src.best_params_)\n",
    "clf.fit(X_train, y_train)"
   ]
  },
  {
   "cell_type": "code",
   "execution_count": null,
   "metadata": {},
   "outputs": [],
   "source": [
    "print(f'There are {len(clf.betas_)} betas')\n",
    "print(f'The sum is {sum(clf.betas_)}')\n",
    "print(f'There are {len([x for x in clf.betas_ if x < 0])} negative betas')"
   ]
  },
  {
   "cell_type": "code",
   "execution_count": null,
   "metadata": {},
   "outputs": [],
   "source": [
    "out_x = [i for i, y in enumerate(y_train) if y == 1]\n",
    "out_y = [clf.c] * len(out_x)\n",
    "\n",
    "plt.plot(clf.betas_, '.',label='betas')\n",
    "\n",
    "plt.plot([clf.c for _ in range(len(clf.betas_))], label='c', color='brown')\n",
    "plt.scatter(out_x, out_y, label='outlier', color='red')\n",
    "plt.legend()\n",
    "plt.show()"
   ]
  },
  {
   "cell_type": "code",
   "execution_count": null,
   "metadata": {},
   "outputs": [],
   "source": [
    "plt.hist(clf.betas_)\n",
    "plt.show()"
   ]
  },
  {
   "cell_type": "markdown",
   "metadata": {},
   "source": [
    "Il paper su bsv suggerisce che si parta da q come calcolato qui sotto e poi si cresca:"
   ]
  },
  {
   "cell_type": "code",
   "execution_count": null,
   "metadata": {},
   "outputs": [],
   "source": [
    "max_distance = 0\n",
    "for i, x in enumerate(X_train):\n",
    "    for j in range(len(X_train) - i):\n",
    "        y = X_train[i+j]\n",
    "        \n",
    "        difference = x - y\n",
    "        difference2 = np.linalg.norm(difference) ** 2\n",
    "        \n",
    "        if difference2 > max_distance:\n",
    "            max_distance = difference2\n",
    "\n",
    "print(max_distance)\n",
    "print(f'Q >= {1/max_distance}')"
   ]
  },
  {
   "cell_type": "code",
   "execution_count": null,
   "metadata": {},
   "outputs": [],
   "source": [
    "counter = 0\n",
    "for b in clf.betas_:\n",
    "    if np.isclose(b, 0):\n",
    "        counter += 1\n",
    "        \n",
    "print(f'Close to 0 are {counter}/{len(clf.betas_)}')"
   ]
  },
  {
   "cell_type": "code",
   "execution_count": null,
   "metadata": {},
   "outputs": [],
   "source": [
    "counter = 0\n",
    "for b in clf.betas_:\n",
    "    if np.isclose(b, clf.c):\n",
    "        counter += 1\n",
    "        \n",
    "print(f'Close to c are {counter}/{len(clf.betas_)}')"
   ]
  },
  {
   "cell_type": "code",
   "execution_count": null,
   "metadata": {},
   "outputs": [],
   "source": [
    "sorted_values = sorted(zip(clf.betas_, X_train), key=lambda x: x[0])"
   ]
  },
  {
   "cell_type": "code",
   "execution_count": null,
   "metadata": {},
   "outputs": [],
   "source": [
    "bs, xs = sorted_values[int(len(sorted_values)/2)]"
   ]
  },
  {
   "cell_type": "code",
   "execution_count": null,
   "metadata": {
    "scrolled": true
   },
   "outputs": [],
   "source": [
    "plt.plot(clf.radiuses_, label='radiuses')\n",
    "plt.plot([clf.radiuses_[clf.sv_i] for _ in range(len(clf.radiuses_))], label='Best score')\n",
    "out_y = [clf.radiuses_[clf.sv_i]] * len(out_x)\n",
    "plt.scatter(out_x, out_y, label='outlier', color='red')\n",
    "plt.legend()\n",
    "plt.show()"
   ]
  },
  {
   "cell_type": "code",
   "execution_count": null,
   "metadata": {},
   "outputs": [],
   "source": [
    "y_pred = clf.predict(X_test)\n",
    "tn, fp, fn, tp = confusion_matrix(y_test, y_pred).ravel()\n",
    "\n",
    "print(f'TP: outliers detected {tp}')\n",
    "print(f'FP: false alarm {fp}')\n",
    "print(f'FN: outlier not detected {fn}')\n",
    "print(f'TN: daily activity not detected {tn}')"
   ]
  },
  {
   "cell_type": "code",
   "execution_count": null,
   "metadata": {},
   "outputs": [],
   "source": [
    "print(f'Precision {precision_score(y_test, y_pred)} Recall: {recall_score(y_test, y_pred)} F1: {f1_score(y_test, y_pred)}')"
   ]
  },
  {
   "cell_type": "code",
   "execution_count": null,
   "metadata": {},
   "outputs": [],
   "source": []
  }
 ],
 "metadata": {
  "kernelspec": {
   "display_name": "Python 3",
   "language": "python",
   "name": "python3"
  },
  "language_info": {
   "codemirror_mode": {
    "name": "ipython",
    "version": 3
   },
   "file_extension": ".py",
   "mimetype": "text/x-python",
   "name": "python",
   "nbconvert_exporter": "python",
   "pygments_lexer": "ipython3",
   "version": "3.8.5"
  }
 },
 "nbformat": 4,
 "nbformat_minor": 4
}

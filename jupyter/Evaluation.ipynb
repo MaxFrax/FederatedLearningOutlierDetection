{
 "cells": [
  {
   "cell_type": "code",
   "execution_count": 1,
   "id": "26416969",
   "metadata": {},
   "outputs": [
    {
     "name": "stderr",
     "output_type": "stream",
     "text": [
      "\n",
      "Bad key text.latex.unicode in file /Users/maxfrax/anaconda3/envs/default/lib/python3.7/site-packages/matplotlib/mpl-data/stylelib/_classic_test.mplstyle, line 112 ('text.latex.unicode : False # use \"ucs\" and \"inputenc\" LaTeX packages for handling')\n",
      "You probably need to get an updated matplotlibrc file from\n",
      "https://github.com/matplotlib/matplotlib/blob/v3.5.1/matplotlibrc.template\n",
      "or from the matplotlib source distribution\n",
      "\n",
      "Bad key text.latex.preview in file /Users/maxfrax/anaconda3/envs/default/lib/python3.7/site-packages/matplotlib/mpl-data/stylelib/_classic_test.mplstyle, line 125 ('text.latex.preview : False')\n",
      "You probably need to get an updated matplotlibrc file from\n",
      "https://github.com/matplotlib/matplotlib/blob/v3.5.1/matplotlibrc.template\n",
      "or from the matplotlib source distribution\n",
      "\n",
      "Bad key mathtext.fallback_to_cm in file /Users/maxfrax/anaconda3/envs/default/lib/python3.7/site-packages/matplotlib/mpl-data/stylelib/_classic_test.mplstyle, line 157 ('mathtext.fallback_to_cm : True  # When True, use symbols from the Computer Modern')\n",
      "You probably need to get an updated matplotlibrc file from\n",
      "https://github.com/matplotlib/matplotlib/blob/v3.5.1/matplotlibrc.template\n",
      "or from the matplotlib source distribution\n",
      "\n",
      "Bad key savefig.jpeg_quality in file /Users/maxfrax/anaconda3/envs/default/lib/python3.7/site-packages/matplotlib/mpl-data/stylelib/_classic_test.mplstyle, line 420 ('savefig.jpeg_quality: 95       # when a jpeg is saved, the default quality parameter.')\n",
      "You probably need to get an updated matplotlibrc file from\n",
      "https://github.com/matplotlib/matplotlib/blob/v3.5.1/matplotlibrc.template\n",
      "or from the matplotlib source distribution\n",
      "\n",
      "Bad key savefig.frameon in file /Users/maxfrax/anaconda3/envs/default/lib/python3.7/site-packages/matplotlib/mpl-data/stylelib/_classic_test.mplstyle, line 423 ('savefig.frameon : True')\n",
      "You probably need to get an updated matplotlibrc file from\n",
      "https://github.com/matplotlib/matplotlib/blob/v3.5.1/matplotlibrc.template\n",
      "or from the matplotlib source distribution\n",
      "\n",
      "Bad key pgf.debug in file /Users/maxfrax/anaconda3/envs/default/lib/python3.7/site-packages/matplotlib/mpl-data/stylelib/_classic_test.mplstyle, line 444 ('pgf.debug           : False')\n",
      "You probably need to get an updated matplotlibrc file from\n",
      "https://github.com/matplotlib/matplotlib/blob/v3.5.1/matplotlibrc.template\n",
      "or from the matplotlib source distribution\n",
      "\n",
      "Bad key verbose.level in file /Users/maxfrax/anaconda3/envs/default/lib/python3.7/site-packages/matplotlib/mpl-data/stylelib/_classic_test.mplstyle, line 475 ('verbose.level  : silent      # one of silent, helpful, debug, debug-annoying')\n",
      "You probably need to get an updated matplotlibrc file from\n",
      "https://github.com/matplotlib/matplotlib/blob/v3.5.1/matplotlibrc.template\n",
      "or from the matplotlib source distribution\n",
      "\n",
      "Bad key verbose.fileo in file /Users/maxfrax/anaconda3/envs/default/lib/python3.7/site-packages/matplotlib/mpl-data/stylelib/_classic_test.mplstyle, line 476 ('verbose.fileo  : sys.stdout  # a log filename, sys.stdout or sys.stderr')\n",
      "You probably need to get an updated matplotlibrc file from\n",
      "https://github.com/matplotlib/matplotlib/blob/v3.5.1/matplotlibrc.template\n",
      "or from the matplotlib source distribution\n",
      "\n",
      "Bad key keymap.all_axes in file /Users/maxfrax/anaconda3/envs/default/lib/python3.7/site-packages/matplotlib/mpl-data/stylelib/_classic_test.mplstyle, line 493 ('keymap.all_axes : a                 # enable all axes')\n",
      "You probably need to get an updated matplotlibrc file from\n",
      "https://github.com/matplotlib/matplotlib/blob/v3.5.1/matplotlibrc.template\n",
      "or from the matplotlib source distribution\n",
      "\n",
      "Bad key animation.avconv_path in file /Users/maxfrax/anaconda3/envs/default/lib/python3.7/site-packages/matplotlib/mpl-data/stylelib/_classic_test.mplstyle, line 504 ('animation.avconv_path: avconv     # Path to avconv binary. Without full path')\n",
      "You probably need to get an updated matplotlibrc file from\n",
      "https://github.com/matplotlib/matplotlib/blob/v3.5.1/matplotlibrc.template\n",
      "or from the matplotlib source distribution\n",
      "\n",
      "Bad key animation.avconv_args in file /Users/maxfrax/anaconda3/envs/default/lib/python3.7/site-packages/matplotlib/mpl-data/stylelib/_classic_test.mplstyle, line 506 ('animation.avconv_args:            # Additional arguments to pass to avconv')\n",
      "You probably need to get an updated matplotlibrc file from\n",
      "https://github.com/matplotlib/matplotlib/blob/v3.5.1/matplotlibrc.template\n",
      "or from the matplotlib source distribution\n"
     ]
    }
   ],
   "source": [
    "import pandas as pd\n",
    "import matplotlib.pyplot as plt"
   ]
  },
  {
   "cell_type": "markdown",
   "id": "2b740ca5",
   "metadata": {},
   "source": [
    "# Evaluation"
   ]
  },
  {
   "cell_type": "markdown",
   "id": "bd2aa57c",
   "metadata": {},
   "source": [
    "Article Source: A Comparative Evaluation of Unsupervised Anomaly Detection Algorithms for Multivariate Data \n",
    "Goldstein M, Uchida S (2016) A Comparative Evaluation of Unsupervised Anomaly Detection Algorithms for Multivariate Data. PLOS ONE 11(4): e0152173. https://doi.org/10.1371/journal.pone.0152173"
   ]
  },
  {
   "cell_type": "markdown",
   "id": "8d16d2da",
   "metadata": {},
   "source": [
    "https://dataverse.harvard.edu/dataset.xhtml?persistentId=doi:10.7910/DVN/OPQMVF\n",
    "\n",
    "I'm going to test the following dataset:\n",
    "1. Pen-Global\n",
    "1. Pen-Local\n",
    "1. Speech\n",
    "1. Aloi\n",
    "\n",
    "On the following metrics: ROC-AUC"
   ]
  },
  {
   "cell_type": "markdown",
   "id": "f63e771b",
   "metadata": {},
   "source": [
    "## Pen-Global Dataset"
   ]
  },
  {
   "cell_type": "markdown",
   "id": "45471c93",
   "metadata": {},
   "source": [
    "Paper version: https://dataverse.harvard.edu/file.xhtml?persistentId=doi:10.7910/DVN/OPQMVF/KQYDN9&version=1.0\n",
    "\n",
    "Original UCI: https://archive.ics.uci.edu/ml/datasets/Pen-Based%20Recognition%20of%20Handwritten%20Digits"
   ]
  },
  {
   "cell_type": "code",
   "execution_count": 2,
   "id": "73044f65",
   "metadata": {
    "scrolled": true
   },
   "outputs": [],
   "source": [
    "input_names = []\n",
    "\n",
    "for i in range(8):\n",
    "    input_names.append(f'x{i}')\n",
    "    input_names.append(f'y{i}')\n",
    "\n",
    "data = pd.read_csv('/Users/maxfrax/Downloads/pen-global-unsupervised-ad.csv', names=input_names+['outlier'])\n",
    "data = data.sample(frac=1)"
   ]
  },
  {
   "cell_type": "code",
   "execution_count": 3,
   "id": "0f928afa",
   "metadata": {},
   "outputs": [],
   "source": [
    "X = data[input_names]\n",
    "y = data['outlier'] == 'o'\n",
    "\n",
    "y = [-1 if v else 1 for v in y]\n"
   ]
  },
  {
   "cell_type": "markdown",
   "id": "94420f8d",
   "metadata": {},
   "source": [
    "### Normalization"
   ]
  },
  {
   "cell_type": "markdown",
   "id": "da11fd16",
   "metadata": {},
   "source": [
    "In the paper the declare they scale all their datasets with MinMax (Normalization section)"
   ]
  },
  {
   "cell_type": "code",
   "execution_count": 4,
   "id": "9861a427",
   "metadata": {},
   "outputs": [],
   "source": [
    "from sklearn.preprocessing import MinMaxScaler\n",
    "\n",
    "X = MinMaxScaler().fit_transform(X)\n",
    "X = pd.DataFrame(X, columns=input_names)"
   ]
  },
  {
   "cell_type": "markdown",
   "id": "8b558c8d",
   "metadata": {},
   "source": [
    "Let's plot the first number to show we understood the dataset correctly. As we can see the plot shows the number 8, which is expected since the normal class is just the number 8."
   ]
  },
  {
   "cell_type": "code",
   "execution_count": 5,
   "id": "f094c852",
   "metadata": {},
   "outputs": [
    {
     "data": {
      "image/png": "[encoded data removed]",
      "text/plain": [
       "<Figure size 432x288 with 1 Axes>"
      ]
     },
     "metadata": {
      "needs_background": "light"
     },
     "output_type": "display_data"
    },
    {
     "data": {
      "text/plain": [
       "507    n\n",
       "Name: outlier, dtype: object"
      ]
     },
     "execution_count": 5,
     "metadata": {},
     "output_type": "execute_result"
    }
   ],
   "source": [
    "xs = []\n",
    "ys = []\n",
    "\n",
    "for i, v in enumerate(data[input_names][0:1].values[0]):\n",
    "    if i % 2 == 0:\n",
    "        xs.append(v)\n",
    "    else:\n",
    "        ys.append(v)\n",
    "        \n",
    "plt.plot(xs, ys)\n",
    "plt.show()\n",
    "\n",
    "data[0:1]['outlier']"
   ]
  },
  {
   "cell_type": "markdown",
   "id": "e2e6474c",
   "metadata": {},
   "source": [
    "### Replicating: One Class SVM"
   ]
  },
  {
   "cell_type": "markdown",
   "id": "7f54be07",
   "metadata": {},
   "source": [
    "I'm going to use sklearn implementation https://scikit-learn.org/stable/modules/generated/sklearn.svm.OneClassSVM.html since both the paper and sklearn refer to:\n",
    "\n",
    "Estimating the support of a high-dimensional distribution Schölkopf, Bernhard, et al. Neural computation 13.7 (2001): 1443-1471."
   ]
  },
  {
   "cell_type": "markdown",
   "id": "4dd73d93",
   "metadata": {},
   "source": [
    "In the paper they use OneClassSVM in an unsupervised setting.\n",
    "\n",
    "> In the unsupervised anomaly detection scenario, the one-class SVM is trained using the dataset and afterwards, each instance in the dataset is scored by a normalized distance to the determined decision boundary [40]. The parameter ν needs to be set to a value lager than zero such that the contained anomalies are correctly handled by a soft-margin\n",
    "\n",
    "The hyper parameters tested are 0.2 < v < 0.8 and automatic tuning for the Gaussian kernel.\n",
    "By automatic tuning I guess they talk about trial and error. In fact they declare it as a computationally hard task."
   ]
  },
  {
   "cell_type": "code",
   "execution_count": 6,
   "id": "6787f033",
   "metadata": {},
   "outputs": [
    {
     "name": "stdout",
     "output_type": "stream",
     "text": [
      "610\n",
      "0.9708082212950085\n",
      "{'gamma': 5.921994182304879, 'nu': 0.9039647521118852}\n"
     ]
    },
    {
     "data": {
      "image/png": "[encoded data removed]",
      "text/plain": [
       "<Figure size 432x288 with 2 Axes>"
      ]
     },
     "metadata": {
      "needs_background": "light"
     },
     "output_type": "display_data"
    }
   ],
   "source": [
    "from sklearn.svm import OneClassSVM\n",
    "from sklearn.model_selection import RandomizedSearchCV\n",
    "from sklearn.metrics import confusion_matrix, ConfusionMatrixDisplay\n",
    "from scipy.stats import uniform\n",
    "from sklearn.model_selection import PredefinedSplit\n",
    "\n",
    "# Gamma is a free parameter. It ranges from 0 to infinity\n",
    "# Predefined split to train on the whole dataset and test on the whole dataset\n",
    "distributions = dict(nu=uniform(loc=0.2, scale=0.8), gamma=uniform(loc=0, scale=1000))\n",
    "\n",
    "test_fold = [0 if v < len(X) else 1 for v in range(len(X) * 2)]\n",
    "\n",
    "search = RandomizedSearchCV(OneClassSVM(), distributions, cv=PredefinedSplit(test_fold=test_fold), refit=True, n_iter=1000, scoring='roc_auc', n_jobs=-1, error_score='raise')\n",
    "\n",
    "res = search.fit(pd.concat([X,X]), y+y)\n",
    "\n",
    "clf = res.best_estimator_\n",
    "\n",
    "print(res.best_index_)\n",
    "print(res.best_score_)\n",
    "print(res.best_params_)\n",
    "\n",
    "\n",
    "y_pred = clf.predict(X)\n",
    "\n",
    "ConfusionMatrixDisplay(confusion_matrix(y, y_pred)).plot()\n",
    "plt.show()"
   ]
  },
  {
   "cell_type": "code",
   "execution_count": 8,
   "id": "fb51ae05",
   "metadata": {
    "scrolled": false
   },
   "outputs": [
    {
     "data": {
      "image/png": "[encoded data removed]",
      "text/plain": [
       "<Figure size 432x288 with 1 Axes>"
      ]
     },
     "metadata": {
      "needs_background": "light"
     },
     "output_type": "display_data"
    }
   ],
   "source": [
    "from sklearn.metrics import RocCurveDisplay\n",
    "\n",
    "RocCurveDisplay.from_predictions(y, clf.score_samples(X))\n",
    "\n",
    "plt.show()"
   ]
  },
  {
   "cell_type": "code",
   "execution_count": 9,
   "id": "f3e430ab",
   "metadata": {},
   "outputs": [
    {
     "data": {
      "text/html": [
       "<div>\n",
       "<style scoped>\n",
       "    .dataframe tbody tr th:only-of-type {\n",
       "        vertical-align: middle;\n",
       "    }\n",
       "\n",
       "    .dataframe tbody tr th {\n",
       "        vertical-align: top;\n",
       "    }\n",
       "\n",
       "    .dataframe thead th {\n",
       "        text-align: right;\n",
       "    }\n",
       "</style>\n",
       "<table border=\"1\" class=\"dataframe\">\n",
       "  <thead>\n",
       "    <tr style=\"text-align: right;\">\n",
       "      <th></th>\n",
       "      <th>mean_fit_time</th>\n",
       "      <th>std_fit_time</th>\n",
       "      <th>mean_score_time</th>\n",
       "      <th>std_score_time</th>\n",
       "      <th>param_gamma</th>\n",
       "      <th>param_nu</th>\n",
       "      <th>params</th>\n",
       "      <th>split0_test_score</th>\n",
       "      <th>split1_test_score</th>\n",
       "      <th>mean_test_score</th>\n",
       "      <th>std_test_score</th>\n",
       "      <th>rank_test_score</th>\n",
       "    </tr>\n",
       "  </thead>\n",
       "  <tbody>\n",
       "    <tr>\n",
       "      <th>610</th>\n",
       "      <td>0.072435</td>\n",
       "      <td>0.001533</td>\n",
       "      <td>0.102872</td>\n",
       "      <td>0.001299</td>\n",
       "      <td>5.921994</td>\n",
       "      <td>0.903965</td>\n",
       "      <td>{'gamma': 5.921994182304879, 'nu': 0.903964752...</td>\n",
       "      <td>0.970808</td>\n",
       "      <td>0.970808</td>\n",
       "      <td>0.970808</td>\n",
       "      <td>0.0</td>\n",
       "      <td>1</td>\n",
       "    </tr>\n",
       "    <tr>\n",
       "      <th>595</th>\n",
       "      <td>0.062999</td>\n",
       "      <td>0.003756</td>\n",
       "      <td>0.088885</td>\n",
       "      <td>0.004241</td>\n",
       "      <td>6.145953</td>\n",
       "      <td>0.710915</td>\n",
       "      <td>{'gamma': 6.14595296837539, 'nu': 0.7109145980...</td>\n",
       "      <td>0.960454</td>\n",
       "      <td>0.960454</td>\n",
       "      <td>0.960454</td>\n",
       "      <td>0.0</td>\n",
       "      <td>2</td>\n",
       "    </tr>\n",
       "    <tr>\n",
       "      <th>218</th>\n",
       "      <td>0.062297</td>\n",
       "      <td>0.007578</td>\n",
       "      <td>0.104307</td>\n",
       "      <td>0.004323</td>\n",
       "      <td>8.170006</td>\n",
       "      <td>0.864242</td>\n",
       "      <td>{'gamma': 8.17000638174681, 'nu': 0.8642421899...</td>\n",
       "      <td>0.949251</td>\n",
       "      <td>0.949251</td>\n",
       "      <td>0.949251</td>\n",
       "      <td>0.0</td>\n",
       "      <td>3</td>\n",
       "    </tr>\n",
       "    <tr>\n",
       "      <th>378</th>\n",
       "      <td>0.045387</td>\n",
       "      <td>0.004247</td>\n",
       "      <td>0.052386</td>\n",
       "      <td>0.002953</td>\n",
       "      <td>3.209377</td>\n",
       "      <td>0.422458</td>\n",
       "      <td>{'gamma': 3.209377470656416, 'nu': 0.422457832...</td>\n",
       "      <td>0.942837</td>\n",
       "      <td>0.942837</td>\n",
       "      <td>0.942837</td>\n",
       "      <td>0.0</td>\n",
       "      <td>4</td>\n",
       "    </tr>\n",
       "    <tr>\n",
       "      <th>632</th>\n",
       "      <td>0.054412</td>\n",
       "      <td>0.000440</td>\n",
       "      <td>0.089987</td>\n",
       "      <td>0.004328</td>\n",
       "      <td>7.177927</td>\n",
       "      <td>0.657489</td>\n",
       "      <td>{'gamma': 7.177926857044659, 'nu': 0.657488885...</td>\n",
       "      <td>0.934400</td>\n",
       "      <td>0.934400</td>\n",
       "      <td>0.934400</td>\n",
       "      <td>0.0</td>\n",
       "      <td>5</td>\n",
       "    </tr>\n",
       "    <tr>\n",
       "      <th>...</th>\n",
       "      <td>...</td>\n",
       "      <td>...</td>\n",
       "      <td>...</td>\n",
       "      <td>...</td>\n",
       "      <td>...</td>\n",
       "      <td>...</td>\n",
       "      <td>...</td>\n",
       "      <td>...</td>\n",
       "      <td>...</td>\n",
       "      <td>...</td>\n",
       "      <td>...</td>\n",
       "      <td>...</td>\n",
       "    </tr>\n",
       "    <tr>\n",
       "      <th>416</th>\n",
       "      <td>0.055878</td>\n",
       "      <td>0.003065</td>\n",
       "      <td>0.095256</td>\n",
       "      <td>0.020606</td>\n",
       "      <td>932.400791</td>\n",
       "      <td>0.672931</td>\n",
       "      <td>{'gamma': 932.4007910612743, 'nu': 0.672931197...</td>\n",
       "      <td>0.408353</td>\n",
       "      <td>0.408353</td>\n",
       "      <td>0.408353</td>\n",
       "      <td>0.0</td>\n",
       "      <td>996</td>\n",
       "    </tr>\n",
       "    <tr>\n",
       "      <th>244</th>\n",
       "      <td>0.064408</td>\n",
       "      <td>0.003552</td>\n",
       "      <td>0.098712</td>\n",
       "      <td>0.005330</td>\n",
       "      <td>41.597488</td>\n",
       "      <td>0.671028</td>\n",
       "      <td>{'gamma': 41.597488002328205, 'nu': 0.67102774...</td>\n",
       "      <td>0.407480</td>\n",
       "      <td>0.407480</td>\n",
       "      <td>0.407480</td>\n",
       "      <td>0.0</td>\n",
       "      <td>997</td>\n",
       "    </tr>\n",
       "    <tr>\n",
       "      <th>359</th>\n",
       "      <td>0.064281</td>\n",
       "      <td>0.005252</td>\n",
       "      <td>0.112309</td>\n",
       "      <td>0.019712</td>\n",
       "      <td>66.837282</td>\n",
       "      <td>0.964027</td>\n",
       "      <td>{'gamma': 66.83728188726879, 'nu': 0.964026699...</td>\n",
       "      <td>0.400495</td>\n",
       "      <td>0.400495</td>\n",
       "      <td>0.400495</td>\n",
       "      <td>0.0</td>\n",
       "      <td>998</td>\n",
       "    </tr>\n",
       "    <tr>\n",
       "      <th>345</th>\n",
       "      <td>0.055764</td>\n",
       "      <td>0.006129</td>\n",
       "      <td>0.110429</td>\n",
       "      <td>0.008544</td>\n",
       "      <td>53.592595</td>\n",
       "      <td>0.932813</td>\n",
       "      <td>{'gamma': 53.59259516086268, 'nu': 0.932812796...</td>\n",
       "      <td>0.324154</td>\n",
       "      <td>0.324154</td>\n",
       "      <td>0.324154</td>\n",
       "      <td>0.0</td>\n",
       "      <td>999</td>\n",
       "    </tr>\n",
       "    <tr>\n",
       "      <th>904</th>\n",
       "      <td>0.067636</td>\n",
       "      <td>0.000746</td>\n",
       "      <td>0.119725</td>\n",
       "      <td>0.001507</td>\n",
       "      <td>195.288519</td>\n",
       "      <td>0.87449</td>\n",
       "      <td>{'gamma': 195.2885189111526, 'nu': 0.874490011...</td>\n",
       "      <td>0.298516</td>\n",
       "      <td>0.298516</td>\n",
       "      <td>0.298516</td>\n",
       "      <td>0.0</td>\n",
       "      <td>1000</td>\n",
       "    </tr>\n",
       "  </tbody>\n",
       "</table>\n",
       "<p>1000 rows × 12 columns</p>\n",
       "</div>"
      ],
      "text/plain": [
       "     mean_fit_time  std_fit_time  mean_score_time  std_score_time param_gamma  \\\n",
       "610       0.072435      0.001533         0.102872        0.001299    5.921994   \n",
       "595       0.062999      0.003756         0.088885        0.004241    6.145953   \n",
       "218       0.062297      0.007578         0.104307        0.004323    8.170006   \n",
       "378       0.045387      0.004247         0.052386        0.002953    3.209377   \n",
       "632       0.054412      0.000440         0.089987        0.004328    7.177927   \n",
       "..             ...           ...              ...             ...         ...   \n",
       "416       0.055878      0.003065         0.095256        0.020606  932.400791   \n",
       "244       0.064408      0.003552         0.098712        0.005330   41.597488   \n",
       "359       0.064281      0.005252         0.112309        0.019712   66.837282   \n",
       "345       0.055764      0.006129         0.110429        0.008544   53.592595   \n",
       "904       0.067636      0.000746         0.119725        0.001507  195.288519   \n",
       "\n",
       "     param_nu                                             params  \\\n",
       "610  0.903965  {'gamma': 5.921994182304879, 'nu': 0.903964752...   \n",
       "595  0.710915  {'gamma': 6.14595296837539, 'nu': 0.7109145980...   \n",
       "218  0.864242  {'gamma': 8.17000638174681, 'nu': 0.8642421899...   \n",
       "378  0.422458  {'gamma': 3.209377470656416, 'nu': 0.422457832...   \n",
       "632  0.657489  {'gamma': 7.177926857044659, 'nu': 0.657488885...   \n",
       "..        ...                                                ...   \n",
       "416  0.672931  {'gamma': 932.4007910612743, 'nu': 0.672931197...   \n",
       "244  0.671028  {'gamma': 41.597488002328205, 'nu': 0.67102774...   \n",
       "359  0.964027  {'gamma': 66.83728188726879, 'nu': 0.964026699...   \n",
       "345  0.932813  {'gamma': 53.59259516086268, 'nu': 0.932812796...   \n",
       "904   0.87449  {'gamma': 195.2885189111526, 'nu': 0.874490011...   \n",
       "\n",
       "     split0_test_score  split1_test_score  mean_test_score  std_test_score  \\\n",
       "610           0.970808           0.970808         0.970808             0.0   \n",
       "595           0.960454           0.960454         0.960454             0.0   \n",
       "218           0.949251           0.949251         0.949251             0.0   \n",
       "378           0.942837           0.942837         0.942837             0.0   \n",
       "632           0.934400           0.934400         0.934400             0.0   \n",
       "..                 ...                ...              ...             ...   \n",
       "416           0.408353           0.408353         0.408353             0.0   \n",
       "244           0.407480           0.407480         0.407480             0.0   \n",
       "359           0.400495           0.400495         0.400495             0.0   \n",
       "345           0.324154           0.324154         0.324154             0.0   \n",
       "904           0.298516           0.298516         0.298516             0.0   \n",
       "\n",
       "     rank_test_score  \n",
       "610                1  \n",
       "595                2  \n",
       "218                3  \n",
       "378                4  \n",
       "632                5  \n",
       "..               ...  \n",
       "416              996  \n",
       "244              997  \n",
       "359              998  \n",
       "345              999  \n",
       "904             1000  \n",
       "\n",
       "[1000 rows x 12 columns]"
      ]
     },
     "execution_count": 9,
     "metadata": {},
     "output_type": "execute_result"
    }
   ],
   "source": [
    "# TODO come mai il valore della roc curve è peggio di quelli del training?\n",
    "# Sto scegliendo gli iperparametri trainando e testando su tutto il dataset.\n",
    "cv_results = pd.DataFrame(res.cv_results_)\n",
    "\n",
    "cv_results.sort_values('rank_test_score')"
   ]
  },
  {
   "cell_type": "markdown",
   "id": "f2e58a07",
   "metadata": {},
   "source": [
    "### My Algorithm: BSVClassifier"
   ]
  },
  {
   "cell_type": "code",
   "execution_count": null,
   "id": "603f0d6f",
   "metadata": {},
   "outputs": [],
   "source": []
  },
  {
   "cell_type": "markdown",
   "id": "7ca59152",
   "metadata": {},
   "source": [
    "### Federated Learning: BSVClassifier"
   ]
  },
  {
   "cell_type": "code",
   "execution_count": null,
   "id": "c82c7739",
   "metadata": {},
   "outputs": [],
   "source": []
  }
 ],
 "metadata": {
  "kernelspec": {
   "display_name": "Python 3 (ipykernel)",
   "language": "python",
   "name": "python3"
  },
  "language_info": {
   "codemirror_mode": {
    "name": "ipython",
    "version": 3
   },
   "file_extension": ".py",
   "mimetype": "text/x-python",
   "name": "python",
   "nbconvert_exporter": "python",
   "pygments_lexer": "ipython3",
   "version": "3.7.11"
  }
 },
 "nbformat": 4,
 "nbformat_minor": 5
}

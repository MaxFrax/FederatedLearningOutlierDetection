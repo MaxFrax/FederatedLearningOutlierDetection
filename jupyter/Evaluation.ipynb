{
 "cells": [
  {
   "cell_type": "code",
   "execution_count": null,
   "id": "26416969",
   "metadata": {
    "scrolled": true
   },
   "outputs": [],
   "source": [
    "import pandas as pd\n",
    "import matplotlib.pyplot as plt\n",
    "import numpy as np"
   ]
  },
  {
   "cell_type": "markdown",
   "id": "2b740ca5",
   "metadata": {},
   "source": [
    "# Evaluation"
   ]
  },
  {
   "cell_type": "markdown",
   "id": "bd2aa57c",
   "metadata": {},
   "source": [
    "Article Source: A Comparative Evaluation of Unsupervised Anomaly Detection Algorithms for Multivariate Data \n",
    "Goldstein M, Uchida S (2016) A Comparative Evaluation of Unsupervised Anomaly Detection Algorithms for Multivariate Data. PLOS ONE 11(4): e0152173. https://doi.org/10.1371/journal.pone.0152173"
   ]
  },
  {
   "cell_type": "markdown",
   "id": "8d16d2da",
   "metadata": {},
   "source": [
    "https://dataverse.harvard.edu/dataset.xhtml?persistentId=doi:10.7910/DVN/OPQMVF\n",
    "\n",
    "I'm going to test the following dataset:\n",
    "1. Pen-Global\n",
    "1. Pen-Local\n",
    "1. Speech\n",
    "1. Aloi\n",
    "\n",
    "On the following metrics: ROC-AUC"
   ]
  },
  {
   "cell_type": "markdown",
   "id": "f63e771b",
   "metadata": {},
   "source": [
    "## Pen-Global Dataset"
   ]
  },
  {
   "cell_type": "markdown",
   "id": "45471c93",
   "metadata": {},
   "source": [
    "Paper version: https://dataverse.harvard.edu/file.xhtml?persistentId=doi:10.7910/DVN/OPQMVF/KQYDN9&version=1.0\n",
    "\n",
    "Original UCI: https://archive.ics.uci.edu/ml/datasets/Pen-Based%20Recognition%20of%20Handwritten%20Digits"
   ]
  },
  {
   "cell_type": "code",
   "execution_count": null,
   "id": "73044f65",
   "metadata": {
    "scrolled": true
   },
   "outputs": [],
   "source": [
    "input_names = []\n",
    "\n",
    "for i in range(8):\n",
    "    input_names.append(f'x{i}')\n",
    "    input_names.append(f'y{i}')\n",
    "\n",
    "data = pd.read_csv('/Users/maxfrax/Downloads/pen-global-unsupervised-ad.csv', names=input_names+['outlier'])\n",
    "data = data.sample(frac=1)"
   ]
  },
  {
   "cell_type": "code",
   "execution_count": null,
   "id": "0f928afa",
   "metadata": {},
   "outputs": [],
   "source": [
    "X = data[input_names]\n",
    "y = data['outlier'] == 'o'\n",
    "\n",
    "y = [-1 if v else 1 for v in y]\n"
   ]
  },
  {
   "cell_type": "markdown",
   "id": "94420f8d",
   "metadata": {},
   "source": [
    "### Normalization"
   ]
  },
  {
   "cell_type": "markdown",
   "id": "da11fd16",
   "metadata": {},
   "source": [
    "In the paper the declare they scale all their datasets with MinMax (Normalization section)"
   ]
  },
  {
   "cell_type": "code",
   "execution_count": null,
   "id": "9861a427",
   "metadata": {},
   "outputs": [],
   "source": [
    "from sklearn.preprocessing import MinMaxScaler\n",
    "\n",
    "X = MinMaxScaler().fit_transform(X)\n",
    "X = pd.DataFrame(X, columns=input_names)"
   ]
  },
  {
   "cell_type": "markdown",
   "id": "8b558c8d",
   "metadata": {},
   "source": [
    "Let's plot the first number to show we understood the dataset correctly. As we can see the plot shows the number 8, which is expected since the normal class is just the number 8."
   ]
  },
  {
   "cell_type": "code",
   "execution_count": null,
   "id": "f094c852",
   "metadata": {},
   "outputs": [],
   "source": [
    "xs = []\n",
    "ys = []\n",
    "\n",
    "for i, v in enumerate(data[input_names][0:1].values[0]):\n",
    "    if i % 2 == 0:\n",
    "        xs.append(v)\n",
    "    else:\n",
    "        ys.append(v)\n",
    "        \n",
    "plt.plot(xs, ys)\n",
    "plt.show()\n",
    "\n",
    "data[0:1]['outlier']"
   ]
  },
  {
   "cell_type": "markdown",
   "id": "e2e6474c",
   "metadata": {},
   "source": [
    "### Replicating: One Class SVM"
   ]
  },
  {
   "cell_type": "markdown",
   "id": "7f54be07",
   "metadata": {},
   "source": [
    "I'm going to use sklearn implementation https://scikit-learn.org/stable/modules/generated/sklearn.svm.OneClassSVM.html since both the paper and sklearn refer to:\n",
    "\n",
    "Estimating the support of a high-dimensional distribution Schölkopf, Bernhard, et al. Neural computation 13.7 (2001): 1443-1471."
   ]
  },
  {
   "cell_type": "markdown",
   "id": "4dd73d93",
   "metadata": {},
   "source": [
    "In the paper they use OneClassSVM in an unsupervised setting.\n",
    "\n",
    "> In the unsupervised anomaly detection scenario, the one-class SVM is trained using the dataset and afterwards, each instance in the dataset is scored by a normalized distance to the determined decision boundary [40]. The parameter ν needs to be set to a value lager than zero such that the contained anomalies are correctly handled by a soft-margin\n",
    "\n",
    "The hyper parameters tested are 0.2 < v < 0.8 and automatic tuning for the Gaussian kernel.\n",
    "By automatic tuning I guess they talk about trial and error. In fact they declare it as a computationally hard task."
   ]
  },
  {
   "cell_type": "code",
   "execution_count": null,
   "id": "6787f033",
   "metadata": {
    "scrolled": true
   },
   "outputs": [],
   "source": [
    "from sklearn.svm import OneClassSVM\n",
    "from sklearn.model_selection import RandomizedSearchCV\n",
    "from sklearn.metrics import confusion_matrix, ConfusionMatrixDisplay\n",
    "from scipy.stats import uniform\n",
    "from sklearn.model_selection import PredefinedSplit\n",
    "\n",
    "# Gamma is a free parameter. It ranges from 0 to infinity\n",
    "# Predefined split to train on the whole dataset and test on the whole dataset\n",
    "distributions = dict(nu=uniform(loc=0.2, scale=0.8), gamma=uniform(loc=0, scale=1000))\n",
    "\n",
    "test_fold = [0 if v < len(X) else 1 for v in range(len(X) * 2)]\n",
    "\n",
    "search = RandomizedSearchCV(OneClassSVM(), distributions, cv=PredefinedSplit(test_fold=test_fold), refit=True, n_iter=1000, scoring='roc_auc', n_jobs=-1, error_score='raise', verbose=2)\n",
    "\n",
    "res = search.fit(pd.concat([X,X]), y+y)\n",
    "\n",
    "clf = res.best_estimator_\n",
    "\n",
    "print(res.best_index_)\n",
    "print(res.best_score_)\n",
    "print(res.best_params_)\n",
    "\n",
    "\n",
    "y_pred = clf.predict(X)"
   ]
  },
  {
   "cell_type": "code",
   "execution_count": null,
   "id": "5982b6cf",
   "metadata": {},
   "outputs": [],
   "source": [
    "conf_mat = confusion_matrix(y, y_pred)\n",
    "ConfusionMatrixDisplay(conf_mat).plot()\n",
    "plt.show()\n",
    "\n",
    "display(conf_mat)"
   ]
  },
  {
   "cell_type": "code",
   "execution_count": null,
   "id": "fb51ae05",
   "metadata": {
    "scrolled": false
   },
   "outputs": [],
   "source": [
    "from sklearn.metrics import RocCurveDisplay\n",
    "\n",
    "RocCurveDisplay.from_predictions(y, clf.score_samples(X))\n",
    "\n",
    "plt.show()"
   ]
  },
  {
   "cell_type": "code",
   "execution_count": null,
   "id": "f3e430ab",
   "metadata": {
    "scrolled": true
   },
   "outputs": [],
   "source": [
    "cv_results = pd.DataFrame(res.cv_results_)\n",
    "\n",
    "cv_results.sort_values('rank_test_score')"
   ]
  },
  {
   "cell_type": "markdown",
   "id": "f2e58a07",
   "metadata": {},
   "source": [
    "### My Algorithm: BSVClassifier"
   ]
  },
  {
   "cell_type": "code",
   "execution_count": null,
   "id": "603f0d6f",
   "metadata": {},
   "outputs": [],
   "source": [
    "import sys\n",
    "import os\n",
    "\n",
    "sys.path.append(os.path.abspath('..'))\n",
    "\n",
    "from flod.classifiers.bsvclassifier import BSVClassifier"
   ]
  },
  {
   "cell_type": "code",
   "execution_count": null,
   "id": "00822bf7",
   "metadata": {
    "scrolled": false
   },
   "outputs": [],
   "source": [
    "distributions = {'c':uniform(loc=0.2, scale=0.8),'q':uniform(loc=0, scale=1)}\n",
    "\n",
    "search = RandomizedSearchCV(BSVClassifier(normal_class_label=1, outlier_class_label=-1), distributions, cv=PredefinedSplit(test_fold=test_fold), refit=True, scoring='roc_auc', error_score='raise', verbose=2, n_jobs=4, n_iter=10)\n",
    "res = search.fit(pd.concat([X,X]).to_numpy(), y+y)\n",
    "\n",
    "clf = res.best_estimator_\n",
    "\n",
    "print(res.best_index_)\n",
    "print(res.best_score_)\n",
    "print(res.best_params_)\n",
    "\n",
    "y_pred = clf.predict(X.to_numpy())"
   ]
  },
  {
   "cell_type": "code",
   "execution_count": null,
   "id": "199e5fde",
   "metadata": {},
   "outputs": [],
   "source": [
    "conf_mat = confusion_matrix(y, y_pred)\n",
    "ConfusionMatrixDisplay(conf_mat).plot()\n",
    "plt.show()\n",
    "\n",
    "display(conf_mat)"
   ]
  },
  {
   "cell_type": "code",
   "execution_count": null,
   "id": "8f68cf28",
   "metadata": {},
   "outputs": [],
   "source": [
    "RocCurveDisplay.from_predictions(y, clf.score_samples(X.to_numpy()))\n",
    "\n",
    "plt.show()"
   ]
  },
  {
   "cell_type": "code",
   "execution_count": null,
   "id": "533b16ce",
   "metadata": {
    "scrolled": true
   },
   "outputs": [],
   "source": [
    "cv_results = pd.DataFrame(res.cv_results_)\n",
    "\n",
    "cv_results.sort_values('rank_test_score')"
   ]
  },
  {
   "cell_type": "markdown",
   "id": "7ca59152",
   "metadata": {},
   "source": [
    "### Federated Learning: BSVClassifier"
   ]
  },
  {
   "cell_type": "code",
   "execution_count": null,
   "id": "0d6307d4",
   "metadata": {},
   "outputs": [],
   "source": [
    "from flod.classifiers.federatedbsvclassifier import FederatedBSVClassifier\n",
    "# global_combine should use auc as metric as above"
   ]
  }
 ],
 "metadata": {
  "kernelspec": {
   "display_name": "Python 3 (ipykernel)",
   "language": "python",
   "name": "python3"
  },
  "language_info": {
   "codemirror_mode": {
    "name": "ipython",
    "version": 3
   },
   "file_extension": ".py",
   "mimetype": "text/x-python",
   "name": "python",
   "nbconvert_exporter": "python",
   "pygments_lexer": "ipython3",
   "version": "3.7.11"
  }
 },
 "nbformat": 4,
 "nbformat_minor": 5
}

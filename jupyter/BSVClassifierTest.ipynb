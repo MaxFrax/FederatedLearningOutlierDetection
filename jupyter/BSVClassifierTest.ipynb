{
 "cells": [
  {
   "cell_type": "code",
   "execution_count": null,
   "metadata": {},
   "outputs": [],
   "source": [
    "import os\n",
    "import sys\n",
    "\n",
    "PATH_FLOD = os.path.join(os.getcwd(), '..')\n",
    "\n",
    "sys.path.append(os.path.abspath(PATH_FLOD))"
   ]
  },
  {
   "cell_type": "code",
   "execution_count": null,
   "metadata": {},
   "outputs": [],
   "source": [
    "from experiments.experiments import get_dataset_from_path, get_datasets\n",
    "\n",
    "\n",
    "X, y = get_dataset_from_path(get_datasets()['pen-global'])"
   ]
  },
  {
   "cell_type": "code",
   "execution_count": null,
   "metadata": {},
   "outputs": [],
   "source": [
    "import matplotlib.pyplot as plt\n",
    "from collections import Counter\n",
    "\n",
    "counter = Counter(y)\n",
    "\n",
    "plt.pie(counter.values(), labels=counter.keys(), autopct=lambda pct: f\"{pct:.1f}% ({int(pct * sum(counter.values()) / 100)})\")\n",
    "plt.show()"
   ]
  },
  {
   "cell_type": "code",
   "execution_count": null,
   "metadata": {},
   "outputs": [],
   "source": [
    "from flod.classifiers.bsvclassifier import BSVClassifier\n",
    "\n",
    "clf = BSVClassifier(c=1.0, q=1.0, normal_class_label=1, outlier_class_label=-1)\n",
    "clf.fit(X,y)"
   ]
  },
  {
   "cell_type": "code",
   "execution_count": null,
   "metadata": {},
   "outputs": [],
   "source": [
    "from sklearn.metrics import ConfusionMatrixDisplay, confusion_matrix\n",
    "\n",
    "ConfusionMatrixDisplay.from_predictions(y, clf.predict(X))\n",
    "plt.show()"
   ]
  },
  {
   "cell_type": "code",
   "execution_count": null,
   "metadata": {},
   "outputs": [],
   "source": [
    "plt.hist(clf.betas_.detach().numpy(), color='blue', alpha=0.5, label='Client 0')\n",
    "plt.xlabel('Beta Values')\n",
    "plt.ylabel('Frequency')\n",
    "plt.title('Histogram of Beta Values')\n",
    "plt.legend()\n",
    "plt.show()"
   ]
  },
  {
   "cell_type": "code",
   "execution_count": null,
   "metadata": {},
   "outputs": [],
   "source": [
    "from sklearn.metrics import accuracy_score\n",
    "\n",
    "accuracy_score(y, clf.predict(X))"
   ]
  },
  {
   "cell_type": "code",
   "execution_count": null,
   "metadata": {},
   "outputs": [],
   "source": [
    "confusion_matrix(y, clf.predict(X))/len(y)"
   ]
  },
  {
   "cell_type": "code",
   "execution_count": null,
   "metadata": {},
   "outputs": [],
   "source": []
  }
 ],
 "metadata": {
  "kernelspec": {
   "display_name": "flod",
   "language": "python",
   "name": "python3"
  },
  "language_info": {
   "codemirror_mode": {
    "name": "ipython",
    "version": 3
   },
   "file_extension": ".py",
   "mimetype": "text/x-python",
   "name": "python",
   "nbconvert_exporter": "python",
   "pygments_lexer": "ipython3",
   "version": "3.11.6"
  }
 },
 "nbformat": 4,
 "nbformat_minor": 2
}

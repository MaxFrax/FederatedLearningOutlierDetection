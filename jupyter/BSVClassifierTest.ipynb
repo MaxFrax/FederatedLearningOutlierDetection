{
 "cells": [
  {
   "cell_type": "code",
   "execution_count": null,
   "metadata": {},
   "outputs": [],
   "source": [
    "import os\n",
    "import sys\n",
    "\n",
    "PATH_FLOD = os.path.join(os.getcwd(), '..')\n",
    "\n",
    "sys.path.append(os.path.abspath(PATH_FLOD))"
   ]
  },
  {
   "cell_type": "code",
   "execution_count": null,
   "metadata": {},
   "outputs": [],
   "source": [
    "from experiments.experiments import get_dataset_from_path, get_datasets\n",
    "\n",
    "\n",
    "X, y = get_dataset_from_path(get_datasets()['pen-global'])"
   ]
  },
  {
   "cell_type": "code",
   "execution_count": null,
   "metadata": {},
   "outputs": [],
   "source": [
    "import matplotlib.pyplot as plt\n",
    "from collections import Counter\n",
    "\n",
    "counter = Counter(y)\n",
    "\n",
    "plt.pie(counter.values(), labels=counter.keys(), autopct=lambda pct: f\"{pct:.1f}% ({int(pct * sum(counter.values()) / 100)})\")\n",
    "plt.show()"
   ]
  },
  {
   "cell_type": "code",
   "execution_count": null,
   "metadata": {},
   "outputs": [],
   "source": [
    "from flod.classifiers.bsvclassifier import BSVClassifier\n",
    "\n",
    "clf = BSVClassifier(c=1.0, q=1.0, normal_class_label=1, outlier_class_label=-1)\n",
    "clf.fit(X,y)"
   ]
  },
  {
   "cell_type": "code",
   "execution_count": null,
   "metadata": {},
   "outputs": [],
   "source": [
    "from sklearn.metrics import ConfusionMatrixDisplay, confusion_matrix\n",
    "\n",
    "ConfusionMatrixDisplay.from_predictions(y, clf.predict(X))\n",
    "plt.show()"
   ]
  },
  {
   "cell_type": "code",
   "execution_count": null,
   "metadata": {},
   "outputs": [],
   "source": [
    "plt.hist(clf.betas_.detach().numpy(), color='blue', alpha=0.5, label='Client 0')\n",
    "plt.xlabel('Beta Values')\n",
    "plt.ylabel('Frequency')\n",
    "plt.title('Histogram of Beta Values')\n",
    "plt.legend()\n",
    "plt.show()"
   ]
  },
  {
   "cell_type": "code",
   "execution_count": null,
   "metadata": {},
   "outputs": [],
   "source": [
    "from sklearn.metrics import accuracy_score\n",
    "\n",
    "accuracy_score(y, clf.predict(X))"
   ]
  },
  {
   "cell_type": "code",
   "execution_count": null,
   "metadata": {},
   "outputs": [],
   "source": [
    "confusion_matrix(y, clf.predict(X))/len(y)"
   ]
  },
  {
   "cell_type": "code",
   "execution_count": null,
   "metadata": {},
   "outputs": [],
   "source": [
    "max(clf.betas_.data)"
   ]
  },
  {
   "cell_type": "code",
   "execution_count": null,
   "metadata": {},
   "outputs": [],
   "source": [
    "clf.betas_.data.sum()"
   ]
  },
  {
   "cell_type": "code",
   "execution_count": null,
   "metadata": {},
   "outputs": [],
   "source": [
    "plt.plot(clf.objectives)"
   ]
  },
  {
   "cell_type": "code",
   "execution_count": null,
   "metadata": {},
   "outputs": [],
   "source": [
    "from sklearn.model_selection import GridSearchCV, PredefinedSplit\n",
    "import numpy as np\n",
    "\n",
    "param_grid = {\n",
    "    'initial_lr': [0.1, 0.01, 0.001, 0.0001],\n",
    "    'lr_decay': [0.9, 0.7, 0.5, 0.2, 0.1],\n",
    "    'max_iter': [100, 1000, 10000]\n",
    "}\n",
    "\n",
    "test_fold = [0 if v < len(X) else 1 for v in range(len(X) * 2)]\n",
    "search = GridSearchCV(BSVClassifier(c=1.0, q=1.0, normal_class_label=1, outlier_class_label=-1), param_grid, cv=PredefinedSplit(test_fold=test_fold), scoring='accuracy', verbose=10, n_jobs=-1)\n",
    "search.fit(np.concatenate((X,X)), np.array(y+y))"
   ]
  },
  {
   "cell_type": "code",
   "execution_count": null,
   "metadata": {},
   "outputs": [],
   "source": [
    "import pandas as pd\n",
    "pd.DataFrame(search.cv_results_).sort_values('rank_test_score')"
   ]
  },
  {
   "cell_type": "code",
   "execution_count": null,
   "metadata": {},
   "outputs": [],
   "source": []
  }
 ],
 "metadata": {
  "kernelspec": {
   "display_name": "flod",
   "language": "python",
   "name": "python3"
  },
  "language_info": {
   "codemirror_mode": {
    "name": "ipython",
    "version": 3
   },
   "file_extension": ".py",
   "mimetype": "text/x-python",
   "name": "python",
   "nbconvert_exporter": "python",
   "pygments_lexer": "ipython3",
   "version": "3.11.6"
  }
 },
 "nbformat": 4,
 "nbformat_minor": 2
}

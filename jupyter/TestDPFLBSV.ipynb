{
 "cells": [
  {
   "cell_type": "code",
   "execution_count": null,
   "id": "26416969",
   "metadata": {
    "scrolled": true
   },
   "outputs": [],
   "source": [
    "import pandas as pd\n",
    "import matplotlib.pyplot as plt\n",
    "import numpy as np\n",
    "import sys\n",
    "import os\n",
    "import warnings\n",
    "from sklearn.metrics import ConfusionMatrixDisplay\n",
    "warnings.simplefilter(action='ignore', category=FutureWarning)\n",
    "\n",
    "PATH_FLOD = os.path.join(os.getcwd(), '..')\n",
    "\n",
    "sys.path.append(os.path.abspath(PATH_FLOD))"
   ]
  },
  {
   "cell_type": "code",
   "execution_count": null,
   "id": "9f29a921",
   "metadata": {},
   "outputs": [],
   "source": [
    "MAX_ROUNDS = 1\n",
    "NOISE = .1\n",
    "TOL = 0.0001"
   ]
  },
  {
   "cell_type": "code",
   "execution_count": null,
   "metadata": {},
   "outputs": [],
   "source": [
    "from flod.classifiers.dp_flbsv import DPFLBSV"
   ]
  },
  {
   "cell_type": "code",
   "execution_count": null,
   "metadata": {},
   "outputs": [],
   "source": [
    "from experiments.experiments import get_datasets, get_dataset_from_path"
   ]
  },
  {
   "cell_type": "code",
   "execution_count": null,
   "metadata": {},
   "outputs": [],
   "source": [
    "X, Y = get_dataset_from_path(get_datasets()['pen-global'])"
   ]
  },
  {
   "cell_type": "code",
   "execution_count": null,
   "metadata": {},
   "outputs": [],
   "source": [
    "from sklearn.model_selection import train_test_split\n",
    "\n",
    "# Keep only normal data for training\n",
    "X_train = []\n",
    "y_train = []\n",
    "for x, y in zip(X, Y):\n",
    "    if y == 1:\n",
    "        X_train.append(x)\n",
    "        y_train.append(y)\n",
    "\n",
    "\n",
    "X_train, _, y_train, _ = train_test_split(X_train, y_train, test_size=0.985)\n",
    "X_train = np.array(X_train)\n",
    "y_train = np.array(y_train)\n",
    "len(X_train)"
   ]
  },
  {
   "cell_type": "markdown",
   "metadata": {},
   "source": [
    "# IID"
   ]
  },
  {
   "cell_type": "code",
   "execution_count": null,
   "metadata": {},
   "outputs": [],
   "source": [
    "client_assigment = np.random.choice([0,1], size=len(X_train))"
   ]
  },
  {
   "cell_type": "code",
   "execution_count": null,
   "metadata": {},
   "outputs": [],
   "source": [
    "clf = DPFLBSV(NOISE, TOL, normal_class_label=1, outlier_class_label=-1, max_rounds=MAX_ROUNDS)"
   ]
  },
  {
   "cell_type": "code",
   "execution_count": null,
   "metadata": {},
   "outputs": [],
   "source": [
    "from sklearn.metrics import accuracy_score\n",
    "\n",
    "acc_res = []\n",
    "def callback(fbsv):\n",
    "    acc = accuracy_score(y_train, fbsv.clf.predict(X_train))\n",
    "    acc_res.append(acc)\n",
    "\n",
    "    plt.plot(acc_res)\n",
    "    plt.show()"
   ]
  },
  {
   "cell_type": "code",
   "execution_count": null,
   "metadata": {},
   "outputs": [],
   "source": [
    "clf.fit(X_train, y_train, client_assignment=client_assigment, round_callback=callback)"
   ]
  },
  {
   "cell_type": "code",
   "execution_count": null,
   "metadata": {},
   "outputs": [],
   "source": [
    "ConfusionMatrixDisplay.from_predictions(y_train, clf.predict(X_train), cmap=plt.cm.Blues)\n",
    "plt.show()"
   ]
  },
  {
   "cell_type": "markdown",
   "metadata": {},
   "source": [
    "# Toy Example"
   ]
  },
  {
   "cell_type": "code",
   "execution_count": null,
   "metadata": {},
   "outputs": [],
   "source": [
    "from sklearn.datasets import make_blobs\n",
    "from sklearn.preprocessing import MinMaxScaler\n",
    "\n",
    "X, client_assigment = make_blobs(n_samples=12, centers=2, n_features=2, random_state=42)\n",
    "y = [1 for _ in range(len(X))]\n",
    "\n",
    "X = MinMaxScaler().fit_transform(X)"
   ]
  },
  {
   "cell_type": "code",
   "execution_count": null,
   "metadata": {},
   "outputs": [],
   "source": [
    "# Imbalance the clients\n",
    "new_X = []\n",
    "new_y = []\n",
    "new_ass = []\n",
    "\n",
    "for i, a in enumerate(client_assigment):\n",
    "    if a == 0:\n",
    "        keep = np.random.choice([0,1], size=1, p=[.5, .5])\n",
    "        if keep[0] == 1:\n",
    "            continue\n",
    "    new_X.append(X[i])\n",
    "    new_y.append(y[i])\n",
    "    new_ass.append(client_assigment[i])\n",
    "\n",
    "X = np.array(new_X)\n",
    "y = np.array(new_y)\n",
    "client_assigment = new_ass"
   ]
  },
  {
   "cell_type": "code",
   "execution_count": null,
   "metadata": {},
   "outputs": [],
   "source": [
    "C = 1\n",
    "q = 1"
   ]
  },
  {
   "cell_type": "code",
   "execution_count": null,
   "metadata": {},
   "outputs": [],
   "source": [
    "plt.scatter(X[:,0], X[:,1], c=client_assigment)\n",
    "plt.show()"
   ]
  },
  {
   "cell_type": "code",
   "execution_count": null,
   "metadata": {},
   "outputs": [],
   "source": [
    "acc_res = []\n",
    "def callback(fbsv):\n",
    "    acc = accuracy_score(y, fbsv.clf.predict(X))\n",
    "    acc_res.append(acc)\n",
    "\n",
    "    plt.plot(acc_res)\n",
    "    plt.show()\n",
    "\n",
    "    gx = np.linspace(min(X[:,0])-1, max(X[:,0])+1)\n",
    "    gy = np.linspace(min(X[:,1])-1, max(X[:,1])+1)\n",
    "    gX, gY = np.meshgrid(gx, gy)\n",
    "    zs = np.array([clf.clf._compute_r((x,y)) for x, y in zip(np.ravel(gX), np.ravel(gY))])\n",
    "    gZ = zs.reshape(gX.shape)\n",
    "    levels = [clf.clf._best_radius()]\n",
    "    levels.sort()\n",
    "    membership_contour = plt.contour(gX, gY, gZ, levels=levels)\n",
    "    plt.clabel(membership_contour, inline=1)\n",
    "\n",
    "    plt.scatter(X[:, 0], X[:, 1], c=client_assigment, alpha=.4)\n",
    "\n",
    "    plt.show()"
   ]
  },
  {
   "cell_type": "code",
   "execution_count": null,
   "metadata": {},
   "outputs": [],
   "source": [
    "clf = DPFLBSV(NOISE, TOL, normal_class_label=1, outlier_class_label=-1, max_rounds=MAX_ROUNDS, C = C, q = q)"
   ]
  },
  {
   "cell_type": "code",
   "execution_count": null,
   "metadata": {},
   "outputs": [],
   "source": [
    "clf.fit(X, y, client_assignment=client_assigment, round_callback=callback)"
   ]
  },
  {
   "cell_type": "code",
   "execution_count": null,
   "metadata": {},
   "outputs": [],
   "source": [
    "gx = np.linspace(min(X[:,0])-1, max(X[:,0])+1)\n",
    "gy = np.linspace(min(X[:,1])-1, max(X[:,1])+1)\n",
    "gX, gY = np.meshgrid(gx, gy)\n",
    "zs = np.array([clf.clf._compute_r((x,y)) for x, y in zip(np.ravel(gX), np.ravel(gY))])\n",
    "gZ = zs.reshape(gX.shape)\n",
    "levels = [clf.clf._best_radius()]\n",
    "levels.sort()\n",
    "membership_contour = plt.contour(gX, gY, gZ, levels=levels)\n",
    "plt.clabel(membership_contour, inline=1)\n",
    "\n",
    "plt.scatter(X[:, 0], X[:, 1], c=client_assigment, alpha=.4)\n",
    "\n",
    "plt.show()"
   ]
  },
  {
   "cell_type": "code",
   "execution_count": null,
   "metadata": {},
   "outputs": [],
   "source": [
    "from sklearn.metrics import ConfusionMatrixDisplay\n",
    "\n",
    "ConfusionMatrixDisplay.from_predictions(y, clf.predict(X), cmap=plt.cm.Blues)\n",
    "plt.show()"
   ]
  },
  {
   "cell_type": "code",
   "execution_count": null,
   "metadata": {},
   "outputs": [],
   "source": []
  }
 ],
 "metadata": {
  "kernelspec": {
   "display_name": "Python 3 (ipykernel)",
   "language": "python",
   "name": "python3"
  },
  "language_info": {
   "codemirror_mode": {
    "name": "ipython",
    "version": 3
   },
   "file_extension": ".py",
   "mimetype": "text/x-python",
   "name": "python",
   "nbconvert_exporter": "python",
   "pygments_lexer": "ipython3",
   "version": "3.11.5"
  },
  "vscode": {
   "interpreter": {
    "hash": "80f4fd69947296ccc16aff0bea70214e79eeefd0f7264a44085050d2fcc6d30c"
   }
  }
 },
 "nbformat": 4,
 "nbformat_minor": 5
}

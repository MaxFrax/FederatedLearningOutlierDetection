{
 "cells": [
  {
   "cell_type": "code",
   "execution_count": null,
   "metadata": {},
   "outputs": [],
   "source": [
    "import os\n",
    "import re\n",
    "import json\n",
    "import matplotlib.pyplot as plt\n",
    "\n",
    "plt.rcParams[\"figure.figsize\"] = (10,5)"
   ]
  },
  {
   "cell_type": "code",
   "execution_count": null,
   "metadata": {},
   "outputs": [],
   "source": [
    "labels_path = '../labels.json'"
   ]
  },
  {
   "cell_type": "code",
   "execution_count": null,
   "metadata": {},
   "outputs": [],
   "source": [
    "def load_to_process():\n",
    "    labels = {}\n",
    "    with open(labels_path) as json_file:\n",
    "        labels = json.load(json_file)\n",
    "        \n",
    "    to_proc = []\n",
    "    for path, folder_list, file_list in os.walk('../cache/SisFall_dataset/SisFall_dataset'):\n",
    "        for file in file_list:\n",
    "\n",
    "            if file in labels:\n",
    "                continue\n",
    "\n",
    "            file_path = os.path.join(path, file)\n",
    "            \n",
    "            match = re.search(r\"([A-Z 0-9]{3,4})_([A-Z 0-9]{3,4})_([A-Z 0-9]{3})\", file)\n",
    "\n",
    "            if match:\n",
    "                activity = match.group(1)\n",
    "\n",
    "                if 'D' in activity:\n",
    "                    labels[file] = None\n",
    "                    continue\n",
    "\n",
    "                to_proc.append({'path': file_path, 'name': file })\n",
    "                \n",
    "    return to_proc, labels"
   ]
  },
  {
   "cell_type": "code",
   "execution_count": null,
   "metadata": {},
   "outputs": [],
   "source": [
    "def save_labels():\n",
    "    with open(labels_path, 'w') as fp:\n",
    "        json.dump(labels, fp)"
   ]
  },
  {
   "cell_type": "markdown",
   "metadata": {},
   "source": [
    "# Process data"
   ]
  },
  {
   "cell_type": "code",
   "execution_count": null,
   "metadata": {},
   "outputs": [],
   "source": [
    "import pandas as pd"
   ]
  },
  {
   "cell_type": "code",
   "execution_count": null,
   "metadata": {},
   "outputs": [],
   "source": [
    "files_to_process, labels = load_to_process()\n",
    "print(f'To process {len(files_to_process)}')\n",
    "\n",
    "current_file = {'name':''}\n",
    "\n",
    "for f in files_to_process:\n",
    "    if f['name'] > current_file['name']:\n",
    "        current_file = f\n",
    "        \n",
    "print(current_file)\n",
    "\n",
    "data = pd.read_csv(current_file['path'], header=None)\n",
    "data = data.iloc[:,:3]"
   ]
  },
  {
   "cell_type": "code",
   "execution_count": null,
   "metadata": {},
   "outputs": [],
   "source": [
    "begin, end = 800, 1400"
   ]
  },
  {
   "cell_type": "code",
   "execution_count": null,
   "metadata": {},
   "outputs": [],
   "source": [
    "data.plot()\n",
    "plt.axvspan(begin, end, color='purple', alpha=0.05)\n",
    "plt.show()"
   ]
  },
  {
   "cell_type": "code",
   "execution_count": null,
   "metadata": {
    "scrolled": true
   },
   "outputs": [],
   "source": [
    "data[begin:end].plot()\n",
    "plt.show()"
   ]
  },
  {
   "cell_type": "code",
   "execution_count": null,
   "metadata": {},
   "outputs": [],
   "source": [
    "#labels[current_file['name']] = {\n",
    "#    'begin': begin,\n",
    "#    'end': end\n",
    "#}\n",
    "#save_labels()"
   ]
  },
  {
   "cell_type": "code",
   "execution_count": null,
   "metadata": {},
   "outputs": [],
   "source": []
  }
 ],
 "metadata": {
  "kernelspec": {
   "display_name": "Python 3",
   "language": "python",
   "name": "python3"
  },
  "language_info": {
   "codemirror_mode": {
    "name": "ipython",
    "version": 3
   },
   "file_extension": ".py",
   "mimetype": "text/x-python",
   "name": "python",
   "nbconvert_exporter": "python",
   "pygments_lexer": "ipython3",
   "version": "3.8.5"
  }
 },
 "nbformat": 4,
 "nbformat_minor": 4
}

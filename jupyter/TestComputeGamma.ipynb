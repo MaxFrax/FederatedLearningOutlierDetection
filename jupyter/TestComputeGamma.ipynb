{
 "cells": [
  {
   "cell_type": "code",
   "execution_count": null,
   "id": "26416969",
   "metadata": {
    "scrolled": true
   },
   "outputs": [],
   "source": [
    "import pandas as pd\n",
    "import matplotlib.pyplot as plt\n",
    "import numpy as np\n",
    "import sys\n",
    "import os\n",
    "import warnings\n",
    "from sklearn.metrics import ConfusionMatrixDisplay\n",
    "warnings.simplefilter(action='ignore', category=FutureWarning)\n",
    "\n",
    "PATH_FLOD = os.path.join(os.getcwd(), '..')\n",
    "\n",
    "sys.path.append(os.path.abspath(PATH_FLOD))"
   ]
  },
  {
   "cell_type": "code",
   "execution_count": null,
   "id": "9f29a921",
   "metadata": {},
   "outputs": [],
   "source": [
    "MAX_ROUNDS = 1\n",
    "METHOD = 'gamma'"
   ]
  },
  {
   "cell_type": "code",
   "execution_count": null,
   "metadata": {},
   "outputs": [],
   "source": [
    "from flod.classifiers.federatedbsvclassifier import FederatedBSVClassifier"
   ]
  },
  {
   "cell_type": "code",
   "execution_count": null,
   "metadata": {},
   "outputs": [],
   "source": [
    "from experiments.experiments import get_datasets, get_dataset_from_path"
   ]
  },
  {
   "cell_type": "code",
   "execution_count": null,
   "metadata": {},
   "outputs": [],
   "source": [
    "X, Y = get_dataset_from_path(get_datasets()['pen-global'])"
   ]
  },
  {
   "cell_type": "code",
   "execution_count": null,
   "metadata": {},
   "outputs": [],
   "source": [
    "from sklearn.model_selection import train_test_split\n",
    "\n",
    "# Keep only normal data for training\n",
    "X_train = []\n",
    "y_train = []\n",
    "for x, y in zip(X, Y):\n",
    "    if y == 1:\n",
    "        X_train.append(x)\n",
    "        y_train.append(y)\n",
    "\n",
    "\n",
    "X_train, _, y_train, _ = train_test_split(X_train, y_train, test_size=0.985)\n",
    "len(X_train)"
   ]
  },
  {
   "cell_type": "markdown",
   "metadata": {},
   "source": [
    "# IID"
   ]
  },
  {
   "cell_type": "code",
   "execution_count": null,
   "metadata": {},
   "outputs": [],
   "source": [
    "client_assigment = np.random.choice([0,1], size=len(X_train))"
   ]
  },
  {
   "cell_type": "code",
   "execution_count": null,
   "metadata": {},
   "outputs": [],
   "source": [
    "clf = FederatedBSVClassifier(method=METHOD, normal_class_label=1, outlier_class_label=-1, max_rounds=MAX_ROUNDS)"
   ]
  },
  {
   "cell_type": "code",
   "execution_count": null,
   "metadata": {},
   "outputs": [],
   "source": [
    "cos, gamma, sum_betas, opt_norms, bsvclf = clf._compute_gamma(X_train, y_train, client_assigment)\n",
    "print(f'Cos: {cos} \\nGamma: {gamma} \\nSum betas: {sum_betas} \\nOpt norms: {opt_norms}')\n",
    "\n",
    "ConfusionMatrixDisplay.from_predictions(y_train, bsvclf.predict(X_train), cmap=plt.cm.Blues)"
   ]
  },
  {
   "cell_type": "code",
   "execution_count": null,
   "metadata": {},
   "outputs": [],
   "source": [
    "import matplotlib.pyplot as plt\n",
    "\n",
    "client_betas = [[], []]\n",
    "\n",
    "for i, beta in enumerate(bsvclf.betas_):\n",
    "    client_betas[client_assigment[i]].append((i, beta))\n",
    "\n",
    "plt.hist([b for _, b in client_betas[0]], color='blue', alpha=0.5, label='Client 0')\n",
    "plt.hist([b for _, b in client_betas[1]], color='orange', alpha=0.5, label='Client 1')\n",
    "plt.xlabel('Beta Values')\n",
    "plt.ylabel('Frequency')\n",
    "plt.title('Histogram of Beta Values')\n",
    "plt.legend()\n",
    "plt.show()\n"
   ]
  },
  {
   "cell_type": "code",
   "execution_count": null,
   "metadata": {},
   "outputs": [],
   "source": [
    "def callback_beta_dist(fbsv):\n",
    "    plt.hist(fbsv.betas0, color='blue', alpha=0.5, label='Client 0')\n",
    "    plt.hist(fbsv.betas1, color='orange', alpha=0.5, label='Client 1', stacked=True)\n",
    "    plt.xlabel('Beta Values')\n",
    "    plt.ylabel('Frequency')\n",
    "    plt.title('Histogram of Beta Values')\n",
    "    plt.legend()\n",
    "    plt.show()\n",
    "\n",
    "def callback_delta_overtime(fbsv):\n",
    "    if len(fbsv.debug) < MAX_ROUNDS:\n",
    "        return\n",
    "    debug = pd.DataFrame(fbsv.debug)\n",
    "    debug['delta'] = abs(debug['W0'] - debug['W1'])\n",
    "    debug.plot(x='sum_beta0', y=['W0', 'W1', 'delta'], figsize=(15, 5), title='W0, W1 and delta', marker='o', style=['.','.','--'])\n",
    "    plt.show()"
   ]
  },
  {
   "cell_type": "code",
   "execution_count": null,
   "metadata": {},
   "outputs": [],
   "source": [
    "clf.fit(X_train, y_train, client_assignment=client_assigment, round_callback=callback_beta_dist)"
   ]
  },
  {
   "cell_type": "code",
   "execution_count": null,
   "metadata": {},
   "outputs": [],
   "source": [
    "ConfusionMatrixDisplay.from_predictions(y_train, clf.predict(X_train), cmap=plt.cm.Blues)\n",
    "plt.show()"
   ]
  },
  {
   "cell_type": "code",
   "execution_count": null,
   "metadata": {},
   "outputs": [],
   "source": [
    "debug = pd.DataFrame(clf.debug)"
   ]
  },
  {
   "cell_type": "code",
   "execution_count": null,
   "metadata": {},
   "outputs": [],
   "source": [
    "debug['delta_W'] = abs(debug['W0'] - debug['W1'])\n",
    "debug['delta_norm'] = abs(debug['f_norm0'] - debug['f_norm1'])\n",
    "display(debug)"
   ]
  },
  {
   "cell_type": "markdown",
   "metadata": {},
   "source": [
    "# Toy Example"
   ]
  },
  {
   "cell_type": "code",
   "execution_count": null,
   "metadata": {},
   "outputs": [],
   "source": [
    "from sklearn.datasets import make_blobs\n",
    "from sklearn.preprocessing import MinMaxScaler\n",
    "\n",
    "X, client_assigment = make_blobs(n_samples=12, centers=2, n_features=2, random_state=42)\n",
    "y = [1 for _ in range(len(X))]\n",
    "\n",
    "X = MinMaxScaler().fit_transform(X)"
   ]
  },
  {
   "cell_type": "code",
   "execution_count": null,
   "metadata": {},
   "outputs": [],
   "source": [
    "# Imbalance the clients\n",
    "new_X = []\n",
    "new_y = []\n",
    "new_ass = []\n",
    "\n",
    "for i, a in enumerate(client_assigment):\n",
    "    if a == 0:\n",
    "        keep = np.random.choice([0,1], size=1, p=[.5, .5])\n",
    "        if keep[0] == 1:\n",
    "            continue\n",
    "    new_X.append(X[i])\n",
    "    new_y.append(y[i])\n",
    "    new_ass.append(client_assigment[i])\n",
    "\n",
    "X = np.array(new_X)\n",
    "y = np.array(new_y)\n",
    "client_assigment = new_ass"
   ]
  },
  {
   "cell_type": "code",
   "execution_count": null,
   "metadata": {},
   "outputs": [],
   "source": [
    "C = 1\n",
    "q = 1"
   ]
  },
  {
   "cell_type": "code",
   "execution_count": null,
   "metadata": {},
   "outputs": [],
   "source": [
    "plt.scatter(X[:,0], X[:,1], c=client_assigment)\n",
    "plt.show()"
   ]
  },
  {
   "cell_type": "code",
   "execution_count": null,
   "metadata": {},
   "outputs": [],
   "source": [
    "clf = FederatedBSVClassifier(method=METHOD, normal_class_label=1, outlier_class_label=-1, max_rounds=MAX_ROUNDS, C = C, q = q)\n",
    "cos, gamma, sum_betas, opt_norms, bsvclf = clf._compute_gamma(X, y, client_assigment)\n",
    "print(f'Cos: {cos} \\nGamma: {gamma} \\nSum betas: {sum_betas} \\nOpt norms: {opt_norms}')\n",
    "\n",
    "ConfusionMatrixDisplay.from_predictions(y, bsvclf.predict(X), cmap=plt.cm.Blues)"
   ]
  },
  {
   "cell_type": "code",
   "execution_count": null,
   "metadata": {},
   "outputs": [],
   "source": [
    "gx = np.linspace(min(X[:,0])-1, max(X[:,0])+1)\n",
    "gy = np.linspace(min(X[:,1])-1, max(X[:,1])+1)\n",
    "gX, gY = np.meshgrid(gx, gy)\n",
    "zs = np.array([bsvclf._compute_r((x,y)) for x, y in zip(np.ravel(gX), np.ravel(gY))])\n",
    "gZ = zs.reshape(gX.shape)\n",
    "levels = [bsvclf._best_radius()]\n",
    "levels.sort()\n",
    "membership_contour = plt.contour(gX, gY, gZ, levels=levels)\n",
    "plt.clabel(membership_contour, inline=1)\n",
    "\n",
    "plt.scatter(X[:, 0], X[:, 1], c=client_assigment, alpha=.4)\n",
    "\n",
    "plt.show()"
   ]
  },
  {
   "cell_type": "code",
   "execution_count": null,
   "metadata": {},
   "outputs": [],
   "source": [
    "import matplotlib.pyplot as plt\n",
    "\n",
    "client_betas = [[], []]\n",
    "\n",
    "for i, beta in enumerate(bsvclf.betas_):\n",
    "    client_betas[client_assigment[i]].append((i, beta))\n",
    "\n",
    "plt.hist([b for _, b in client_betas[0]], color='blue', alpha=0.5, label='Client 0')\n",
    "plt.hist([b for _, b in client_betas[1]], color='orange', alpha=0.5, label='Client 1')\n",
    "plt.xlabel('Beta Values')\n",
    "plt.ylabel('Frequency')\n",
    "plt.title('Histogram of Beta Values')\n",
    "plt.legend()\n",
    "plt.show()"
   ]
  },
  {
   "cell_type": "code",
   "execution_count": null,
   "metadata": {},
   "outputs": [],
   "source": [
    "clf.fit(X, y, client_assignment=client_assigment, round_callback=callback_beta_dist)"
   ]
  },
  {
   "cell_type": "code",
   "execution_count": null,
   "metadata": {},
   "outputs": [],
   "source": [
    "debug = pd.DataFrame(clf.debug)\n",
    "\n",
    "debug['delta_W'] = abs(debug['W0'] - debug['W1'])\n",
    "debug['delta_norm'] = abs(debug['f_norm0'] - debug['f_norm1'])\n",
    "display(debug)"
   ]
  },
  {
   "cell_type": "code",
   "execution_count": null,
   "metadata": {},
   "outputs": [],
   "source": [
    "r0, r0std = np.average(clf.radiuses0), np.std(clf.radiuses0)\n",
    "r0, r0std"
   ]
  },
  {
   "cell_type": "code",
   "execution_count": null,
   "metadata": {},
   "outputs": [],
   "source": [
    "r1, r1std = np.average(clf.radiuses1), np.std(clf.radiuses1)\n",
    "r1, r1std"
   ]
  },
  {
   "cell_type": "code",
   "execution_count": null,
   "metadata": {},
   "outputs": [],
   "source": [
    "abs(np.average(clf.radiuses0) - np.average(clf.radiuses1))"
   ]
  },
  {
   "cell_type": "code",
   "execution_count": null,
   "metadata": {},
   "outputs": [],
   "source": [
    "gx = np.linspace(min(X[:,0])-1, max(X[:,0])+1)\n",
    "gy = np.linspace(min(X[:,1])-1, max(X[:,1])+1)\n",
    "gX, gY = np.meshgrid(gx, gy)\n",
    "zs0 = np.array([clf.fc0(np.array([x, y])) for x, y in zip(np.ravel(gX), np.ravel(gY))])\n",
    "zs1 = np.array([clf.fc1(np.array([x, y])) for x, y in zip(np.ravel(gX), np.ravel(gY))])\n",
    "gZ0 = zs0.reshape(gX.shape)\n",
    "gZ1 = zs1.reshape(gX.shape)\n",
    "levels.sort()\n",
    "membership_contour = plt.contour(gX, gY, gZ0, levels=[r0])\n",
    "membership_contour = plt.contour(gX, gY, gZ1, levels=[r1])\n",
    "# membership_contour = plt.contour(gX, gY, gZ)\n",
    "plt.clabel(membership_contour, inline=1)\n",
    "\n",
    "plt.scatter(X[:, 0], X[:, 1], c=clf.predict(X), alpha=.4)\n",
    "\n",
    "plt.show()"
   ]
  },
  {
   "cell_type": "code",
   "execution_count": null,
   "metadata": {},
   "outputs": [],
   "source": [
    "from sklearn.metrics import ConfusionMatrixDisplay\n",
    "\n",
    "ConfusionMatrixDisplay.from_predictions(y, clf.predict(X), cmap=plt.cm.Blues)\n",
    "plt.show()"
   ]
  },
  {
   "cell_type": "markdown",
   "metadata": {},
   "source": [
    "## What happens if we train only on one of the clients?"
   ]
  },
  {
   "cell_type": "code",
   "execution_count": null,
   "metadata": {},
   "outputs": [],
   "source": [
    "from flod.classifiers.bsvclassifier import BSVClassifier\n",
    "\n",
    "\n",
    "monoclient = BSVClassifier(normal_class_label=1, outlier_class_label=-1, c=C, q=q)\n",
    "\n",
    "client_x = []\n",
    "client_y = []\n",
    "\n",
    "for i, x in enumerate(X):\n",
    "    if client_assigment[i] == 0:\n",
    "        client_x.append(x)\n",
    "        client_y.append(y[i])\n",
    "\n",
    "\n",
    "monoclient.fit(client_x, client_y)"
   ]
  },
  {
   "cell_type": "code",
   "execution_count": null,
   "metadata": {},
   "outputs": [],
   "source": [
    "gx = np.linspace(min(X[:,0])-1, max(X[:,0])+1)\n",
    "gy = np.linspace(min(X[:,1])-1, max(X[:,1])+1)\n",
    "gX, gY = np.meshgrid(gx, gy)\n",
    "zs = np.array([monoclient._compute_r((x,y)) for x, y in zip(np.ravel(gX), np.ravel(gY))])\n",
    "gZ = zs.reshape(gX.shape)\n",
    "membership_contour = plt.contour(gX, gY, gZ, levels=((monoclient._best_radius(), )))\n",
    "# membership_contour = plt.contour(gX, gY, gZ)\n",
    "plt.clabel(membership_contour, inline=1)\n",
    "\n",
    "plt.scatter(X[:, 0], X[:, 1], c=client_assigment, alpha=.4)\n",
    "\n",
    "plt.show()"
   ]
  },
  {
   "cell_type": "code",
   "execution_count": null,
   "metadata": {},
   "outputs": [],
   "source": [
    "from sklearn.metrics import ConfusionMatrixDisplay\n",
    "\n",
    "ConfusionMatrixDisplay.from_predictions(y, monoclient.predict(X), cmap=plt.cm.Blues)\n",
    "plt.show()"
   ]
  }
 ],
 "metadata": {
  "kernelspec": {
   "display_name": "Python 3 (ipykernel)",
   "language": "python",
   "name": "python3"
  },
  "language_info": {
   "codemirror_mode": {
    "name": "ipython",
    "version": 3
   },
   "file_extension": ".py",
   "mimetype": "text/x-python",
   "name": "python",
   "nbconvert_exporter": "python",
   "pygments_lexer": "ipython3",
   "version": "3.11.6"
  },
  "vscode": {
   "interpreter": {
    "hash": "80f4fd69947296ccc16aff0bea70214e79eeefd0f7264a44085050d2fcc6d30c"
   }
  }
 },
 "nbformat": 4,
 "nbformat_minor": 5
}

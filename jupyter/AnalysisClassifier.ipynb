{
 "cells": [
  {
   "cell_type": "code",
   "execution_count": null,
   "metadata": {
    "executionInfo": {
     "elapsed": 2507,
     "status": "ok",
     "timestamp": 1616709102757,
     "user": {
      "displayName": "Massimo Frasson",
      "photoUrl": "https://lh3.googleusercontent.com/a-/AOh14GgRYgqdrCV2RBw6mud9GZiTlAXnSWawV8ttlZYv0w=s64",
      "userId": "09747843240273532020"
     },
     "user_tz": -60
    },
    "gather": {
     "logged": 1616942575232
    },
    "id": "VOMTc65TCjrx"
   },
   "outputs": [],
   "source": [
    "import sys\n",
    "\n",
    "sys.path.append('..')\n",
    "\n",
    "from flod.classifiers.bsvclassifier import BSVClassifier"
   ]
  },
  {
   "cell_type": "code",
   "execution_count": null,
   "metadata": {
    "executionInfo": {
     "elapsed": 2503,
     "status": "ok",
     "timestamp": 1616709102758,
     "user": {
      "displayName": "Massimo Frasson",
      "photoUrl": "https://lh3.googleusercontent.com/a-/AOh14GgRYgqdrCV2RBw6mud9GZiTlAXnSWawV8ttlZYv0w=s64",
      "userId": "09747843240273532020"
     },
     "user_tz": -60
    },
    "gather": {
     "logged": 1616942575742
    },
    "id": "AYb0zMIoBgA6"
   },
   "outputs": [],
   "source": [
    "from sklearn.datasets import make_blobs\n",
    "import matplotlib.pyplot as plt\n",
    "from sklearn.model_selection import train_test_split, StratifiedKFold, RandomizedSearchCV, GridSearchCV\n",
    "from sklearn.metrics import precision_score, recall_score, f1_score, make_scorer, confusion_matrix, accuracy_score\n",
    "from scipy.stats import uniform as sp_randFloat\n",
    "from scipy.stats import randint as sp_randInt\n",
    "import numpy as np\n",
    "\n",
    "plt.rcParams[\"figure.figsize\"] = (15, 6)"
   ]
  },
  {
   "cell_type": "markdown",
   "metadata": {},
   "source": [
    "# Let's see the performances in the training set"
   ]
  },
  {
   "cell_type": "code",
   "execution_count": null,
   "metadata": {},
   "outputs": [],
   "source": [
    "from joblib import dump, load\n",
    "clf = load('iris.joblib').best_estimator_"
   ]
  },
  {
   "cell_type": "code",
   "execution_count": null,
   "metadata": {},
   "outputs": [],
   "source": [
    "print(f'Q: {clf.q}')\n",
    "print(f'C: {clf.c}')"
   ]
  },
  {
   "cell_type": "code",
   "execution_count": null,
   "metadata": {
    "gather": {
     "logged": 1616942698444
    },
    "id": "AOLC1XQBBgBL"
   },
   "outputs": [],
   "source": [
    "X = clf.X_\n",
    "y = clf.y_\n",
    "y_test = clf.y_\n",
    "y_pred = clf.predict(clf.X_)\n",
    "\n",
    "print(f'Precision {precision_score(y_test, y_pred)}')\n",
    "print(f'Recall {recall_score(y_test, y_pred)}')\n",
    "print(f'F1 {f1_score(y_test, y_pred)}')\n",
    "print(f'Accuracy {accuracy_score(y_test, y_pred)}')"
   ]
  },
  {
   "cell_type": "code",
   "execution_count": null,
   "metadata": {
    "gather": {
     "logged": 1616942718856
    },
    "id": "LrF5qBCuBgBM"
   },
   "outputs": [],
   "source": [
    "colors = ['green' if i == 0 else 'red' for i in y]\n",
    "\n",
    "gx = np.linspace(min(X[:,0])-.1, max(X[:,0])+.1, 50)\n",
    "gy = np.linspace(min(X[:,1])-.1, max(X[:,1])+.1, 50)\n",
    "gX, gY = np.meshgrid(gx, gy)\n",
    "zs = np.array([clf._compute_r(np.array([x, y])) for x, y in zip(np.ravel(gX), np.ravel(gY))])\n",
    "gZ = zs.reshape(gX.shape)\n",
    "membership_contour = plt.contour(gX, gY, gZ, levels=(clf.radius_, ))\n",
    "plt.clabel(membership_contour, inline=1)\n",
    "\n",
    "plt.scatter(X[:, 0], X[:, 1], c=colors, alpha=.4)\n",
    "\n",
    "plt.show()"
   ]
  },
  {
   "cell_type": "code",
   "execution_count": null,
   "metadata": {
    "gather": {
     "logged": 1616942719213
    },
    "id": "-p1SC4rTBgBN"
   },
   "outputs": [],
   "source": [
    "tn, fp, fn, tp = confusion_matrix(y_test, y_pred, labels=[0,1]).ravel()\n",
    "\n",
    "print(f'TP: {tp} FP: {fp} FN: {fn} TN: {tn}')"
   ]
  },
  {
   "cell_type": "markdown",
   "metadata": {
    "nteract": {
     "transient": {
      "deleting": false
     }
    }
   },
   "source": [
    "## Let's see how are the beta values distrubuted"
   ]
  },
  {
   "cell_type": "code",
   "execution_count": null,
   "metadata": {
    "gather": {
     "logged": 1616942719706
    },
    "id": "1vPmFhE3BgBN"
   },
   "outputs": [],
   "source": [
    "plt.plot(clf.betas_, 'o', alpha=.3, label='betas')\n",
    "plt.axhline(clf.c, color='black', alpha=.3)\n",
    "plt.legend()\n",
    "plt.show()"
   ]
  },
  {
   "cell_type": "code",
   "execution_count": null,
   "metadata": {
    "gather": {
     "logged": 1616942719840
    },
    "jupyter": {
     "outputs_hidden": false,
     "source_hidden": false
    },
    "nteract": {
     "transient": {
      "deleting": false
     }
    }
   },
   "outputs": [],
   "source": [
    "print(f'Sum betas {sum(clf.betas_)} Negative betas {len([1 for b in clf.betas_ if b < 0])}')"
   ]
  },
  {
   "cell_type": "markdown",
   "metadata": {
    "nteract": {
     "transient": {
      "deleting": false
     }
    }
   },
   "source": [
    "## Let's see the distribution of the radiuses"
   ]
  },
  {
   "cell_type": "code",
   "execution_count": null,
   "metadata": {},
   "outputs": [],
   "source": [
    "colors = ['red' if y == 1 else 'green' for y in clf.y_]"
   ]
  },
  {
   "cell_type": "code",
   "execution_count": null,
   "metadata": {
    "gather": {
     "logged": 1616942720285
    },
    "jupyter": {
     "outputs_hidden": false,
     "source_hidden": false
    },
    "nteract": {
     "transient": {
      "deleting": false
     }
    }
   },
   "outputs": [],
   "source": [
    "plt.axhline(clf.radius_, color='purple', alpha=.3)\n",
    "plt.scatter(range(len(clf.radiuses_)), clf.radiuses_, c=colors, label='outliers', alpha=1)\n",
    "plt.plot(clf.radiuses_, label='radius')\n",
    "plt.legend()\n",
    "plt.show()"
   ]
  },
  {
   "cell_type": "code",
   "execution_count": null,
   "metadata": {},
   "outputs": [],
   "source": []
  }
 ],
 "metadata": {
  "accelerator": "GPU",
  "colab": {
   "collapsed_sections": [
    "j82peBObBmvg"
   ],
   "name": "TestBSV.ipynb",
   "provenance": []
  },
  "kernel_info": {
   "name": "python3"
  },
  "kernelspec": {
   "display_name": "Python 3",
   "language": "python",
   "name": "python3"
  },
  "language_info": {
   "codemirror_mode": {
    "name": "ipython",
    "version": 3
   },
   "file_extension": ".py",
   "mimetype": "text/x-python",
   "name": "python",
   "nbconvert_exporter": "python",
   "pygments_lexer": "ipython3",
   "version": "3.8.5"
  },
  "microsoft": {
   "host": {
    "AzureML": {
     "notebookHasBeenCompleted": true
    }
   }
  },
  "nteract": {
   "version": "nteract-front-end@1.0.0"
  }
 },
 "nbformat": 4,
 "nbformat_minor": 1
}

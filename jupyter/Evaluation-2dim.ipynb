{
 "cells": [
  {
   "cell_type": "code",
   "execution_count": null,
   "id": "26416969",
   "metadata": {
    "scrolled": true
   },
   "outputs": [],
   "source": [
    "import pandas as pd\n",
    "import matplotlib.pyplot as plt\n",
    "from matplotlib import colormaps\n",
    "import numpy as np\n",
    "\n",
    "plt.rcParams[\"figure.figsize\"] = (10, 10)"
   ]
  },
  {
   "cell_type": "code",
   "execution_count": null,
   "id": "9f29a921",
   "metadata": {},
   "outputs": [],
   "source": [
    "VERBOSE = 0\n",
    "N_JOBS = 4"
   ]
  },
  {
   "cell_type": "code",
   "execution_count": null,
   "id": "897f2626",
   "metadata": {},
   "outputs": [],
   "source": [
    "import sys\n",
    "import os\n",
    "\n",
    "PATH_FLOD = \"/Users/maxfrax/Desktop/FederatedLearningOutlierDetection\"\n",
    "\n",
    "sys.path.append(os.path.abspath(PATH_FLOD))\n",
    "\n",
    "from flod.classifiers.bsvclassifier import BSVClassifier"
   ]
  },
  {
   "cell_type": "markdown",
   "id": "2b740ca5",
   "metadata": {},
   "source": [
    "# Evaluation"
   ]
  },
  {
   "cell_type": "markdown",
   "id": "bd2aa57c",
   "metadata": {},
   "source": [
    "Article Source: A Comparative Evaluation of Unsupervised Anomaly Detection Algorithms for Multivariate Data \n",
    "Goldstein M, Uchida S (2016) A Comparative Evaluation of Unsupervised Anomaly Detection Algorithms for Multivariate Data. PLOS ONE 11(4): e0152173. https://doi.org/10.1371/journal.pone.0152173"
   ]
  },
  {
   "cell_type": "markdown",
   "id": "8d16d2da",
   "metadata": {},
   "source": [
    "https://dataverse.harvard.edu/dataset.xhtml?persistentId=doi:10.7910/DVN/OPQMVF\n",
    "\n",
    "I'm going to test the following dataset:\n",
    "1. Pen-Global\n",
    "1. Pen-Local\n",
    "1. Speech\n",
    "1. Aloi\n",
    "\n",
    "On the following metrics: ROC-AUC"
   ]
  },
  {
   "cell_type": "markdown",
   "id": "f63e771b",
   "metadata": {},
   "source": [
    "## Pen-Global Dataset"
   ]
  },
  {
   "cell_type": "markdown",
   "id": "45471c93",
   "metadata": {},
   "source": [
    "Paper version: https://dataverse.harvard.edu/file.xhtml?persistentId=doi:10.7910/DVN/OPQMVF/KQYDN9&version=1.0\n",
    "\n",
    "Original UCI: https://archive.ics.uci.edu/ml/datasets/Pen-Based%20Recognition%20of%20Handwritten%20Digits"
   ]
  },
  {
   "cell_type": "code",
   "execution_count": null,
   "id": "73044f65",
   "metadata": {
    "scrolled": true
   },
   "outputs": [],
   "source": [
    "input_names = []\n",
    "\n",
    "for i in range(8):\n",
    "    input_names.append(f'x{i}')\n",
    "    input_names.append(f'y{i}')\n",
    "\n",
    "data = pd.read_csv('/Users/maxfrax/Downloads/pen-global-unsupervised-ad.csv', names=input_names+['outlier'])\n",
    "data = data.sample(frac=1)"
   ]
  },
  {
   "cell_type": "code",
   "execution_count": null,
   "id": "78c0904b",
   "metadata": {},
   "outputs": [],
   "source": [
    "data"
   ]
  },
  {
   "cell_type": "code",
   "execution_count": null,
   "id": "0f928afa",
   "metadata": {},
   "outputs": [],
   "source": [
    "X = data[input_names]\n",
    "y = data['outlier'] == 'o'\n",
    "\n",
    "y = np.array([-1 if v else 1 for v in y])"
   ]
  },
  {
   "cell_type": "markdown",
   "id": "dda94582",
   "metadata": {},
   "source": [
    "### Dimensionality Reduction"
   ]
  },
  {
   "cell_type": "code",
   "execution_count": null,
   "id": "d2be28e3",
   "metadata": {},
   "outputs": [],
   "source": [
    "from sklearn.manifold import TSNE\n",
    "\n",
    "X = TSNE(n_components=2, learning_rate='auto', init='pca').fit_transform(X)"
   ]
  },
  {
   "cell_type": "markdown",
   "id": "94420f8d",
   "metadata": {},
   "source": [
    "### Normalization"
   ]
  },
  {
   "cell_type": "markdown",
   "id": "da11fd16",
   "metadata": {},
   "source": [
    "In the paper the declare they scale all their datasets with MinMax (Normalization section)"
   ]
  },
  {
   "cell_type": "code",
   "execution_count": null,
   "id": "9861a427",
   "metadata": {},
   "outputs": [],
   "source": [
    "from sklearn.preprocessing import MinMaxScaler\n",
    "\n",
    "X = MinMaxScaler().fit_transform(X)"
   ]
  },
  {
   "cell_type": "code",
   "execution_count": null,
   "id": "7453be9b",
   "metadata": {},
   "outputs": [],
   "source": [
    "X.shape"
   ]
  },
  {
   "cell_type": "markdown",
   "id": "a77653af",
   "metadata": {},
   "source": [
    "Plot all points after dimensionality reduction:"
   ]
  },
  {
   "cell_type": "code",
   "execution_count": null,
   "id": "79b47620",
   "metadata": {},
   "outputs": [],
   "source": [
    "plt.scatter(X[y==1,0], X[y==1,1])\n",
    "plt.scatter(X[y==-1,0], X[y==-1,1], marker='x')\n",
    "plt.show()"
   ]
  },
  {
   "cell_type": "markdown",
   "id": "e2e6474c",
   "metadata": {},
   "source": [
    "### Replicating: One Class SVM"
   ]
  },
  {
   "cell_type": "markdown",
   "id": "7f54be07",
   "metadata": {},
   "source": [
    "I'm going to use sklearn implementation https://scikit-learn.org/stable/modules/generated/sklearn.svm.OneClassSVM.html since both the paper and sklearn refer to:\n",
    "\n",
    "Estimating the support of a high-dimensional distribution Schölkopf, Bernhard, et al. Neural computation 13.7 (2001): 1443-1471."
   ]
  },
  {
   "cell_type": "markdown",
   "id": "4dd73d93",
   "metadata": {},
   "source": [
    "In the paper they use OneClassSVM in an unsupervised setting.\n",
    "\n",
    "> In the unsupervised anomaly detection scenario, the one-class SVM is trained using the dataset and afterwards, each instance in the dataset is scored by a normalized distance to the determined decision boundary [40]. The parameter ν needs to be set to a value lager than zero such that the contained anomalies are correctly handled by a soft-margin\n",
    "\n",
    "The hyper parameters tested are 0.2 < v < 0.8 and automatic tuning for the Gaussian kernel.\n",
    "By automatic tuning I guess they talk about trial and error. In fact they declare it as a computationally hard task."
   ]
  },
  {
   "cell_type": "code",
   "execution_count": null,
   "id": "7166d5aa",
   "metadata": {},
   "outputs": [],
   "source": [
    "from sklearn.svm import OneClassSVM\n",
    "from sklearn.model_selection import RandomizedSearchCV, GridSearchCV\n",
    "from sklearn.metrics import confusion_matrix, ConfusionMatrixDisplay\n",
    "from scipy.stats import uniform\n",
    "from sklearn.model_selection import PredefinedSplit\n",
    "from sklearn.metrics import RocCurveDisplay, PrecisionRecallDisplay"
   ]
  },
  {
   "cell_type": "code",
   "execution_count": null,
   "id": "8461fa9d",
   "metadata": {},
   "outputs": [],
   "source": [
    "def plot_clf(clf, ix, X=None, y=None):\n",
    "\n",
    "    color = colormaps['tab10'](ix)\n",
    "\n",
    "    if X is None or y is None:\n",
    "        X = clf.X_\n",
    "        y = clf.y_ \n",
    "\n",
    "    gx = np.linspace(0, 1)\n",
    "    gy = np.linspace(0, 1)\n",
    "    gX, gY = np.meshgrid(gx, gy)\n",
    "    zs = np.array([clf._compute_r(np.array([x, y])) for x, y in zip(np.ravel(gX), np.ravel(gY))])\n",
    "    gZ = zs.reshape(gX.shape)\n",
    "    membership_contour = plt.contour(gX, gY, gZ, levels=(clf.radius_, ), colors=[color])\n",
    "    plt.clabel(membership_contour, inline=1)\n",
    "\n",
    "    plt.scatter(X[y==1,0], X[y==1,1],  color=color, label=str(ix))\n",
    "    plt.scatter(X[y==-1,0], X[y==-1,1], marker='x', color=color, label=str(ix))"
   ]
  },
  {
   "cell_type": "code",
   "execution_count": null,
   "id": "843fa77d",
   "metadata": {},
   "outputs": [],
   "source": [
    "def svm_experiment(classifier, distributions, metric: str):\n",
    "    print(f'One Class Experiment: {metric}')\n",
    "\n",
    "    # Gamma is a free parameter. It ranges from 0 to infinity\n",
    "    # Predefined split to train on the whole dataset and test on the whole dataset\n",
    "    test_fold = [0 if v < len(X) else 1 for v in range(len(X) * 2)]\n",
    "\n",
    "    search = RandomizedSearchCV(classifier, distributions, cv=PredefinedSplit(test_fold=test_fold), refit=True, n_iter=10, scoring='average_precision', n_jobs=N_JOBS, error_score='raise', verbose=VERBOSE)\n",
    "\n",
    "    res = search.fit(np.concatenate([X,X]), np.concatenate([y,y]))\n",
    "\n",
    "    clf = res.best_estimator_\n",
    "\n",
    "    print(res.best_index_)\n",
    "    print(res.best_score_)\n",
    "    print(res.best_params_)\n",
    "\n",
    "\n",
    "    y_pred = clf.predict(X)\n",
    "\n",
    "    conf_mat = confusion_matrix(y, y_pred)\n",
    "    ConfusionMatrixDisplay(conf_mat).plot()\n",
    "    plt.show()\n",
    "\n",
    "    display(conf_mat)\n",
    "\n",
    "    RocCurveDisplay.from_predictions(y, clf.score_samples(X))\n",
    "\n",
    "    plt.show()\n",
    "\n",
    "    PrecisionRecallDisplay.from_predictions(y, clf.score_samples(X))\n",
    "\n",
    "    plt.show()\n",
    "\n",
    "    cv_results = pd.DataFrame(res.cv_results_)\n",
    "    cv_results.sort_values('rank_test_score')\n",
    "\n",
    "    print(f\"Average Score: {np.average(cv_results['mean_test_score'])}\")\n",
    "    print(f\"STD Score: {np.std(cv_results['mean_test_score'])}\")\n",
    "\n",
    "    if isinstance(clf, BSVClassifier):\n",
    "        plot_clf(clf, 0)"
   ]
  },
  {
   "cell_type": "code",
   "execution_count": null,
   "id": "e9588917",
   "metadata": {},
   "outputs": [],
   "source": [
    "classifier = OneClassSVM(kernel='rbf')\n",
    "distributions = dict(nu=uniform(loc=0.2, scale=0.8), gamma=uniform(loc=0, scale=1))\n",
    "\n",
    "svm_experiment(classifier, distributions, 'roc_auc')\n",
    "svm_experiment(classifier, distributions, 'average_precision')"
   ]
  },
  {
   "cell_type": "markdown",
   "id": "f2e58a07",
   "metadata": {},
   "source": [
    "### My Algorithm: BSVClassifier"
   ]
  },
  {
   "cell_type": "code",
   "execution_count": null,
   "id": "00822bf7",
   "metadata": {
    "scrolled": false
   },
   "outputs": [],
   "source": [
    "classifier = BSVClassifier(normal_class_label=1, outlier_class_label=-1)\n",
    "distributions = {'c':uniform(loc=0.2, scale=0.8),'q':uniform(loc=0, scale=.1)}\n",
    "\n",
    "svm_experiment(classifier, distributions, 'roc_auc')\n",
    "svm_experiment(classifier, distributions, 'average_precision')"
   ]
  },
  {
   "cell_type": "markdown",
   "id": "7ca59152",
   "metadata": {},
   "source": [
    "### Federated Learning: BSVClassifier"
   ]
  },
  {
   "cell_type": "markdown",
   "id": "dafa732c",
   "metadata": {},
   "source": [
    "The whole work is inspired by https://arxiv.org/pdf/1602.05629.pdf paper.\n",
    "\n",
    "Since we are working in an unsupervised setting, our metric is not Accuracy but Roc-Auc.\n",
    "\n",
    "We will not use E, number of iterations per client update, since we are doing exact calculation and not gradient descent.\n",
    "Same thing with the parameter B"
   ]
  },
  {
   "cell_type": "code",
   "execution_count": null,
   "id": "0d6307d4",
   "metadata": {},
   "outputs": [],
   "source": [
    "import sys\n",
    "import os\n",
    "\n",
    "PATH_FLOD = \"/Users/maxfrax/Desktop/FederatedLearningOutlierDetection\"\n",
    "\n",
    "sys.path.append(os.path.abspath(PATH_FLOD))\n",
    "\n",
    "from flod.classifiers.federatedbsvclassifier import FederatedBSVClassifier"
   ]
  },
  {
   "cell_type": "markdown",
   "id": "a6a36d68",
   "metadata": {},
   "source": [
    "#### IID"
   ]
  },
  {
   "cell_type": "markdown",
   "id": "4b2aff4d",
   "metadata": {},
   "source": [
    "We have about **809 samples**. \n",
    "Let's sort them and distribute them among **10 clients**.\n",
    "\n",
    "There are 9 points that will be randomly left over."
   ]
  },
  {
   "cell_type": "code",
   "execution_count": null,
   "id": "f4147767",
   "metadata": {},
   "outputs": [],
   "source": [
    "total_clients = 10\n",
    "\n",
    "data_per_client = int(len(X)/total_clients)\n",
    "\n",
    "X = X[0:data_per_client*total_clients]\n",
    "y = y[0:data_per_client*total_clients]\n",
    "\n",
    "client_assignment = []\n",
    "\n",
    "# Split the data among the clients in a balanced way\n",
    "for i in range(total_clients):\n",
    "    client_assignment.extend([i]*data_per_client)\n",
    "\n",
    "client_assignment = np.array(client_assignment)\n",
    "\n",
    "print(f'len Client assignment {len(client_assignment)} == len X {len(X)}')"
   ]
  },
  {
   "cell_type": "code",
   "execution_count": null,
   "id": "39c45f97",
   "metadata": {
    "scrolled": true
   },
   "outputs": [],
   "source": [
    "# Inputs\n",
    "# C: 0 aka 1 client, .1, .2, .5, 1 aka total_clients\n",
    "# B: 'infinite' aka data_per_client, 1% of data_per_client\n",
    "\n",
    "parameters = {\n",
    "'client_fraction': [.1, .5,  1],\n",
    "'max_rounds': [1, 3, 5],\n",
    "'B': [5, 10]\n",
    "}\n",
    "\n",
    "test_fold = [0 if v < len(X) else 1 for v in range(len(X) * 2)]\n",
    "\n",
    "search = GridSearchCV(FederatedBSVClassifier(normal_class_label=1, outlier_class_label=-1, total_clients=total_clients), parameters, cv=PredefinedSplit(test_fold=test_fold), refit=True, scoring='average_precision', error_score='raise', verbose=VERBOSE)\n",
    "res_iid = search.fit(np.concatenate([X,X]), np.concatenate([y,y]), client_assignment=np.concatenate([client_assignment, client_assignment]))\n",
    "\n",
    "iid_clf = res_iid.best_estimator_\n",
    "\n",
    "print(res_iid.best_index_)\n",
    "print(res_iid.best_score_)\n",
    "print(res_iid.best_params_)\n",
    "\n",
    "\n",
    "y_pred = iid_clf.predict(X)"
   ]
  },
  {
   "cell_type": "code",
   "execution_count": null,
   "id": "664e6862",
   "metadata": {},
   "outputs": [],
   "source": [
    "conf_mat = confusion_matrix(y, y_pred)\n",
    "ConfusionMatrixDisplay(conf_mat).plot()\n",
    "plt.show()\n",
    "\n",
    "display(conf_mat)"
   ]
  },
  {
   "cell_type": "code",
   "execution_count": null,
   "id": "4f7dc9c2",
   "metadata": {},
   "outputs": [],
   "source": [
    "RocCurveDisplay.from_predictions(y, iid_clf.score_samples(X))\n",
    "\n",
    "plt.show()"
   ]
  },
  {
   "cell_type": "code",
   "execution_count": null,
   "id": "38caa9a9",
   "metadata": {},
   "outputs": [],
   "source": [
    "PrecisionRecallDisplay.from_predictions(y, iid_clf.score_samples(X))\n",
    "\n",
    "plt.show()"
   ]
  },
  {
   "cell_type": "code",
   "execution_count": null,
   "id": "8db0501b",
   "metadata": {},
   "outputs": [],
   "source": [
    "iid_cv_results = pd.DataFrame(res_iid.cv_results_)\n",
    "\n",
    "iid_cv_results['Datapoints Estimate'] = iid_cv_results['param_B'] * iid_cv_results['param_client_fraction'] * total_clients * iid_cv_results['param_max_rounds']\n",
    "\n",
    "iid_cv_results = iid_cv_results.sort_values('rank_test_score')\n",
    "\n",
    "iid_cv_results.to_csv('iid_cv_results.csv')\n",
    "\n",
    "iid_cv_results"
   ]
  },
  {
   "cell_type": "code",
   "execution_count": null,
   "id": "e3f0624b",
   "metadata": {},
   "outputs": [],
   "source": [
    "print(np.average(iid_cv_results['mean_test_score']))\n",
    "print(np.std(iid_cv_results['mean_test_score']))"
   ]
  },
  {
   "cell_type": "code",
   "execution_count": null,
   "id": "8bca61be",
   "metadata": {},
   "outputs": [],
   "source": [
    "plt.plot(iid_clf.sv_count)\n",
    "plt.show()"
   ]
  },
  {
   "cell_type": "code",
   "execution_count": null,
   "id": "20210e63",
   "metadata": {},
   "outputs": [],
   "source": [
    "plt.hist(iid_clf.clf.betas_)\n",
    "plt.show()"
   ]
  },
  {
   "cell_type": "code",
   "execution_count": null,
   "id": "66b2ad16",
   "metadata": {
    "scrolled": true
   },
   "outputs": [],
   "source": [
    "display(pd.DataFrame(iid_cv_results.groupby(['param_B'])['mean_test_score'].mean()))\n",
    "display(pd.DataFrame(iid_cv_results.groupby(['param_B'])['mean_test_score'].std()))\n",
    "display(pd.DataFrame(iid_cv_results.groupby(['param_client_fraction'])['mean_test_score'].mean()))\n",
    "display(pd.DataFrame(iid_cv_results.groupby(['param_client_fraction'])['mean_test_score'].std()))\n",
    "display(pd.DataFrame(iid_cv_results.groupby(['param_max_rounds'])['mean_test_score'].mean()))\n",
    "display(pd.DataFrame(iid_cv_results.groupby(['param_max_rounds'])['mean_test_score'].std()))"
   ]
  },
  {
   "cell_type": "code",
   "execution_count": null,
   "id": "df1c9523",
   "metadata": {},
   "outputs": [],
   "source": [
    "scale_factor = 10000\n",
    "\n",
    "# Plot 1\n",
    "plot1_data = pd.DataFrame(iid_cv_results.groupby(['param_client_fraction', 'param_max_rounds']).agg(Mean=('mean_test_score', 'mean'), Std=('mean_test_score', 'std'))).reset_index()\n",
    "plot1_data.sort_values(by='Mean', ascending=False, inplace=True)\n",
    "plot1_data['Scaled Std'] = plot1_data['Std'] * scale_factor\n",
    "display(plot1_data)\n",
    "\n",
    "fig = plt.figure()\n",
    "ax1 = plot1_data.plot.scatter(x='param_client_fraction', y='param_max_rounds', c='Mean', s='Scaled Std', cmap='Greens', sharex=False)\n",
    "plt.show()\n",
    "\n",
    "# Plot 2\n",
    "plot2_data = pd.DataFrame(iid_cv_results.groupby(['param_client_fraction', 'param_B']).agg(Mean=('mean_test_score', 'mean'), Std=('mean_test_score', 'std'))).reset_index()\n",
    "plot2_data.sort_values(by='Mean', ascending=False, inplace=True)\n",
    "plot2_data['Scaled Std'] = plot2_data['Std'] * scale_factor\n",
    "display(plot2_data)\n",
    "\n",
    "fig = plt.figure()\n",
    "ax2 = plot2_data.plot.scatter(x='param_client_fraction', y='param_B', c='Mean', s='Scaled Std', cmap='Greens', sharex=False)\n",
    "plt.show()\n",
    "\n",
    "# Plot 3\n",
    "plot3_data = pd.DataFrame(iid_cv_results.groupby(['param_max_rounds', 'param_B']).agg(Mean=('mean_test_score', 'mean'), Std=('mean_test_score', 'std'))).reset_index()\n",
    "plot3_data.sort_values(by='Mean', ascending=False, inplace=True)\n",
    "plot3_data['Scaled Std'] = plot3_data['Std'] * scale_factor\n",
    "display(plot3_data)\n",
    "\n",
    "fig = plt.figure()\n",
    "ax3 = plot3_data.plot.scatter(x='param_max_rounds', y='param_B', c='Mean', s='Scaled Std', cmap='Greens', sharex=False)\n",
    "plt.show()"
   ]
  },
  {
   "cell_type": "code",
   "execution_count": null,
   "id": "1367f142",
   "metadata": {},
   "outputs": [],
   "source": [
    "def plot_fbsv(fbsv):\n",
    "    frames = []\n",
    "    #Plot client assignment\n",
    "    plt.title('All the dataset colored by client assignment')\n",
    "    plt.scatter(X[y==1,0], X[y==1,1], c=client_assignment[y==1])\n",
    "    plt.scatter(X[y==-1,0], X[y==-1,1], marker='x', c=client_assignment[y==-1])\n",
    "    plt.show()\n",
    "\n",
    "    # Plot client training\n",
    "    for round in fbsv.classifiers:\n",
    "        plt.title(f'Round {round[\"round\"]} - Clients training')\n",
    "        for id, clf in round['clients'].items():\n",
    "            plot_clf(clf, id)\n",
    "\n",
    "        plt.legend()\n",
    "        plt.show()\n",
    "        plt.title(f'Round {round[\"round\"]} - Global combine')\n",
    "        plot_clf(round['global'], total_clients+1)\n",
    "        plt.show()\n",
    "\n",
    "    # Plot final classifier on the whole dataset\n",
    "    plt.title(\"Whole dataset with final classifier\")\n",
    "    plot_clf(fbsv.clf, total_clients+2, X, y)\n",
    "    plt.show()"
   ]
  },
  {
   "cell_type": "code",
   "execution_count": null,
   "id": "1b6f0fd9",
   "metadata": {},
   "outputs": [],
   "source": [
    "plot_fbsv(iid_clf)"
   ]
  },
  {
   "cell_type": "markdown",
   "id": "010c8720",
   "metadata": {},
   "source": [
    "#### Non IID"
   ]
  },
  {
   "cell_type": "code",
   "execution_count": null,
   "id": "f7e06612",
   "metadata": {},
   "outputs": [],
   "source": [
    "from sklearn.cluster import KMeans\n",
    "\n",
    "kmeans = KMeans(n_clusters=total_clients)\n",
    "client_assignment = kmeans.fit_predict(X)"
   ]
  },
  {
   "cell_type": "code",
   "execution_count": null,
   "id": "925e6d14",
   "metadata": {},
   "outputs": [],
   "source": [
    "from collections import Counter\n",
    "Counter(client_assignment)"
   ]
  },
  {
   "cell_type": "code",
   "execution_count": null,
   "id": "5cd2ea41",
   "metadata": {},
   "outputs": [],
   "source": [
    "test_fold = [0 if v < len(X) else 1 for v in range(len(X) * 2)]\n",
    "\n",
    "search = GridSearchCV(FederatedBSVClassifier(normal_class_label=1, outlier_class_label=-1, total_clients=total_clients), parameters, cv=PredefinedSplit(test_fold=test_fold), refit=True, scoring='average_precision', error_score='raise', verbose=VERBOSE)\n",
    "res_n_iid = search.fit(np.concatenate([X,X]), np.concatenate([y,y]), client_assignment=np.concatenate([client_assignment, client_assignment]))\n",
    "\n",
    "n_iid_clf = res_n_iid.best_estimator_\n",
    "\n",
    "print(res_n_iid.best_index_)\n",
    "print(res_n_iid.best_score_)\n",
    "print(res_n_iid.best_params_)\n",
    "\n",
    "\n",
    "y_pred = n_iid_clf.predict(X)"
   ]
  },
  {
   "cell_type": "code",
   "execution_count": null,
   "id": "7f94c7ad",
   "metadata": {},
   "outputs": [],
   "source": [
    "conf_mat = confusion_matrix(y, y_pred)\n",
    "ConfusionMatrixDisplay(conf_mat).plot()\n",
    "plt.show()\n",
    "\n",
    "display(conf_mat)"
   ]
  },
  {
   "cell_type": "code",
   "execution_count": null,
   "id": "a9e08291",
   "metadata": {},
   "outputs": [],
   "source": [
    "RocCurveDisplay.from_predictions(y, n_iid_clf.score_samples(X))\n",
    "\n",
    "plt.show()"
   ]
  },
  {
   "cell_type": "code",
   "execution_count": null,
   "id": "6d3ab35e",
   "metadata": {},
   "outputs": [],
   "source": [
    "PrecisionRecallDisplay.from_predictions(y, n_iid_clf.score_samples(X))\n",
    "\n",
    "plt.show()"
   ]
  },
  {
   "cell_type": "code",
   "execution_count": null,
   "id": "e1588538",
   "metadata": {},
   "outputs": [],
   "source": [
    "n_iid_cv_results = pd.DataFrame(res_n_iid.cv_results_)\n",
    "\n",
    "n_iid_cv_results['Datapoints Estimate'] = n_iid_cv_results['param_B'] * n_iid_cv_results['param_client_fraction'] * total_clients * n_iid_cv_results['param_max_rounds']\n",
    "\n",
    "n_iid_cv_results = n_iid_cv_results.sort_values('rank_test_score')\n",
    "\n",
    "n_iid_cv_results.to_csv('n_iid_cv_results.csv')\n",
    "\n",
    "n_iid_cv_results"
   ]
  },
  {
   "cell_type": "code",
   "execution_count": null,
   "id": "18f74c97",
   "metadata": {},
   "outputs": [],
   "source": [
    "print(np.average(n_iid_cv_results['mean_test_score']))\n",
    "print(np.std(n_iid_cv_results['mean_test_score']))"
   ]
  },
  {
   "cell_type": "code",
   "execution_count": null,
   "id": "7bb932b2",
   "metadata": {},
   "outputs": [],
   "source": [
    "plt.plot(n_iid_clf.sv_count)\n",
    "plt.show()"
   ]
  },
  {
   "cell_type": "code",
   "execution_count": null,
   "id": "519ee629",
   "metadata": {},
   "outputs": [],
   "source": [
    "plt.hist(n_iid_clf.clf.betas_)\n",
    "plt.show()"
   ]
  },
  {
   "cell_type": "code",
   "execution_count": null,
   "id": "a5561c7c",
   "metadata": {},
   "outputs": [],
   "source": [
    "display(pd.DataFrame(n_iid_cv_results.groupby(['param_B'])['mean_test_score'].mean()))\n",
    "display(pd.DataFrame(n_iid_cv_results.groupby(['param_B'])['mean_test_score'].std()))\n",
    "display(pd.DataFrame(n_iid_cv_results.groupby(['param_client_fraction'])['mean_test_score'].mean()))\n",
    "display(pd.DataFrame(n_iid_cv_results.groupby(['param_client_fraction'])['mean_test_score'].std()))\n",
    "display(pd.DataFrame(n_iid_cv_results.groupby(['param_max_rounds'])['mean_test_score'].mean()))\n",
    "display(pd.DataFrame(n_iid_cv_results.groupby(['param_max_rounds'])['mean_test_score'].std()))"
   ]
  },
  {
   "cell_type": "code",
   "execution_count": null,
   "id": "a03da5b7",
   "metadata": {},
   "outputs": [],
   "source": [
    "scale_factor = 10000\n",
    "\n",
    "# Plot 1\n",
    "plot1_data = pd.DataFrame(n_iid_cv_results.groupby(['param_client_fraction', 'param_max_rounds']).agg(Mean=('mean_test_score', 'mean'), Std=('mean_test_score', 'std'))).reset_index()\n",
    "plot1_data.sort_values(by='Mean', ascending=False, inplace=True)\n",
    "plot1_data['Scaled Std'] = plot1_data['Std'] * scale_factor\n",
    "display(plot1_data)\n",
    "\n",
    "fig = plt.figure()\n",
    "ax1 = plot1_data.plot.scatter(x='param_client_fraction', y='param_max_rounds', c='Mean', s='Scaled Std', cmap='Blues', sharex=False)\n",
    "plt.show()\n",
    "\n",
    "# Plot 2\n",
    "plot2_data = pd.DataFrame(n_iid_cv_results.groupby(['param_client_fraction', 'param_B']).agg(Mean=('mean_test_score', 'mean'), Std=('mean_test_score', 'std'))).reset_index()\n",
    "plot2_data.sort_values(by='Mean', ascending=False, inplace=True)\n",
    "plot2_data['Scaled Std'] = plot2_data['Std'] * scale_factor\n",
    "display(plot2_data)\n",
    "\n",
    "fig = plt.figure()\n",
    "ax2 = plot2_data.plot.scatter(x='param_client_fraction', y='param_B', c='Mean', s='Scaled Std', cmap='Blues', sharex=False)\n",
    "plt.show()\n",
    "\n",
    "# Plot 3\n",
    "plot3_data = pd.DataFrame(n_iid_cv_results.groupby(['param_max_rounds', 'param_B']).agg(Mean=('mean_test_score', 'mean'), Std=('mean_test_score', 'std'))).reset_index()\n",
    "plot3_data.sort_values(by='Mean', ascending=False, inplace=True)\n",
    "plot3_data['Scaled Std'] = plot3_data['Std'] * scale_factor\n",
    "display(plot3_data)\n",
    "\n",
    "fig = plt.figure()\n",
    "ax3 = plot3_data.plot.scatter(x='param_max_rounds', y='param_B', c='Mean', s='Scaled Std', cmap='Blues', sharex=False)\n",
    "plt.show()"
   ]
  },
  {
   "cell_type": "code",
   "execution_count": null,
   "id": "80a5f5fe",
   "metadata": {},
   "outputs": [],
   "source": [
    "plot_fbsv(n_iid_clf)"
   ]
  }
 ],
 "metadata": {
  "kernelspec": {
   "display_name": "Python 3.7.11",
   "language": "python",
   "name": "python3"
  },
  "language_info": {
   "codemirror_mode": {
    "name": "ipython",
    "version": 3
   },
   "file_extension": ".py",
   "mimetype": "text/x-python",
   "name": "python",
   "nbconvert_exporter": "python",
   "pygments_lexer": "ipython3",
   "version": "3.7.11"
  },
  "vscode": {
   "interpreter": {
    "hash": "80f4fd69947296ccc16aff0bea70214e79eeefd0f7264a44085050d2fcc6d30c"
   }
  }
 },
 "nbformat": 4,
 "nbformat_minor": 5
}

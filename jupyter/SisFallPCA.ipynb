{
 "cells": [
  {
   "cell_type": "code",
   "execution_count": null,
   "metadata": {},
   "outputs": [],
   "source": [
    "import matplotlib.pyplot as plt\n",
    "import pandas as pd\n",
    "import os\n",
    "import numpy as np\n",
    "\n",
    "plt.rcParams['figure.figsize'] = (10.0, 4.0)"
   ]
  },
  {
   "cell_type": "code",
   "execution_count": null,
   "metadata": {},
   "outputs": [],
   "source": [
    "import sys\n",
    "\n",
    "sys.path.append('..')"
   ]
  },
  {
   "cell_type": "code",
   "execution_count": null,
   "metadata": {},
   "outputs": [],
   "source": [
    "from flod.features_extraction import load_features\n",
    "from flod.dataset import download_dataset\n",
    "from sklearn.model_selection import train_test_split, RandomizedSearchCV, StratifiedKFold\n",
    "from flod.classifiers.bsvclassifier import BSVClassifier\n",
    "from scipy.stats import uniform as sp_randFloat\n",
    "from scipy.stats import randint as sp_randInt\n",
    "from sklearn.decomposition import PCA\n",
    "from sklearn.metrics import confusion_matrix, precision_score, recall_score, f1_score, make_scorer\n",
    "from sklearn.preprocessing import StandardScaler, MaxAbsScaler, RobustScaler, QuantileTransformer"
   ]
  },
  {
   "cell_type": "code",
   "execution_count": null,
   "metadata": {},
   "outputs": [],
   "source": [
    "CACHE_FOLDER = '../cache'\n",
    "load_features.LABELS_PATH = '../labels.json'\n",
    "person_id = 'SA23'"
   ]
  },
  {
   "cell_type": "markdown",
   "metadata": {},
   "source": [
    "Let's load the features with 90% overlap"
   ]
  },
  {
   "cell_type": "code",
   "execution_count": null,
   "metadata": {},
   "outputs": [],
   "source": [
    "dataset_path = download_dataset(CACHE_FOLDER)\n",
    "dataset = load_features.load_features(CACHE_FOLDER, dataset_path, 100, False, 0.9, person_id)"
   ]
  },
  {
   "cell_type": "code",
   "execution_count": null,
   "metadata": {},
   "outputs": [],
   "source": [
    "dataset"
   ]
  },
  {
   "cell_type": "markdown",
   "metadata": {},
   "source": [
    "Let's see if the features reduced to two main components have a nice representation"
   ]
  },
  {
   "cell_type": "code",
   "execution_count": null,
   "metadata": {},
   "outputs": [],
   "source": [
    "X = dataset[['c1','c2', 'c3', 'c4']]\n",
    "y = dataset['is_fall']\n",
    "\n",
    "color = ['red' if i == 1 else 'green' for i in y]"
   ]
  },
  {
   "cell_type": "code",
   "execution_count": null,
   "metadata": {},
   "outputs": [],
   "source": [
    "X_full = MaxAbsScaler().fit_transform(X)\n",
    "X = PCA(n_components=2).fit_transform(X_full)"
   ]
  },
  {
   "cell_type": "code",
   "execution_count": null,
   "metadata": {},
   "outputs": [],
   "source": [
    "plt.scatter(X[:, 0], X[:, 1], c=color, alpha=.2)\n",
    "plt.show()"
   ]
  },
  {
   "cell_type": "markdown",
   "metadata": {},
   "source": [
    "Maybe with 3 main components they look better."
   ]
  },
  {
   "cell_type": "code",
   "execution_count": null,
   "metadata": {
    "scrolled": true
   },
   "outputs": [],
   "source": [
    "from mpl_toolkits.mplot3d import Axes3D\n",
    "\n",
    "X = PCA(n_components=3).fit_transform(X_full)\n",
    "\n",
    "fig = plt.figure()\n",
    "ax = Axes3D(fig)\n",
    "\n",
    "ax.scatter(X[:, 0], X[:, 1], X[:, 2], c=color, alpha=.1)\n",
    "plt.show()"
   ]
  },
  {
   "cell_type": "markdown",
   "metadata": {},
   "source": [
    "Let's try with less overlap over the windows to reduce the noise."
   ]
  },
  {
   "cell_type": "code",
   "execution_count": null,
   "metadata": {},
   "outputs": [],
   "source": [
    "dataset_path = download_dataset(CACHE_FOLDER)\n",
    "dataset = load_features.load_features(CACHE_FOLDER, dataset_path, 100, False, 0.3, person_id)"
   ]
  },
  {
   "cell_type": "code",
   "execution_count": null,
   "metadata": {},
   "outputs": [],
   "source": [
    "X = dataset[['c1','c2', 'c3', 'c4']]\n",
    "y = dataset['is_fall']\n",
    "\n",
    "color = ['red' if i == 1 else 'green' for i in y]"
   ]
  },
  {
   "cell_type": "code",
   "execution_count": null,
   "metadata": {},
   "outputs": [],
   "source": [
    "X_full = MaxAbsScaler().fit_transform(X)\n",
    "X = PCA(n_components=2).fit_transform(X_full)"
   ]
  },
  {
   "cell_type": "code",
   "execution_count": null,
   "metadata": {},
   "outputs": [],
   "source": [
    "plt.scatter(X[:, 0], X[:, 1], c=color, alpha=.2)\n",
    "plt.show()"
   ]
  },
  {
   "cell_type": "code",
   "execution_count": null,
   "metadata": {
    "scrolled": true
   },
   "outputs": [],
   "source": [
    "from mpl_toolkits.mplot3d import Axes3D\n",
    "\n",
    "X = PCA(n_components=3).fit_transform(X_full)\n",
    "\n",
    "fig = plt.figure()\n",
    "ax = Axes3D(fig)\n",
    "\n",
    "ax.scatter(X[:, 0], X[:, 1], X[:, 2], c=color, alpha=.1)\n",
    "plt.show()"
   ]
  },
  {
   "cell_type": "markdown",
   "metadata": {},
   "source": [
    "Let's try with filtered data"
   ]
  },
  {
   "cell_type": "code",
   "execution_count": null,
   "metadata": {},
   "outputs": [],
   "source": [
    "dataset_path = download_dataset(CACHE_FOLDER)\n",
    "dataset = load_features.load_features(CACHE_FOLDER, dataset_path, 100, True, 0.9, person_id)"
   ]
  },
  {
   "cell_type": "code",
   "execution_count": null,
   "metadata": {},
   "outputs": [],
   "source": [
    "X = dataset[['f_c1','f_c2', 'f_c3', 'f_c4']]\n",
    "y = dataset['is_fall']\n",
    "\n",
    "color = ['red' if i == 1 else 'green' for i in y]"
   ]
  },
  {
   "cell_type": "code",
   "execution_count": null,
   "metadata": {},
   "outputs": [],
   "source": [
    "X_full = MaxAbsScaler().fit_transform(X)\n",
    "X = PCA(n_components=2).fit_transform(X_full)"
   ]
  },
  {
   "cell_type": "code",
   "execution_count": null,
   "metadata": {},
   "outputs": [],
   "source": [
    "plt.scatter(X[:, 0], X[:, 1], c=color, alpha=.2)\n",
    "plt.show()"
   ]
  },
  {
   "cell_type": "code",
   "execution_count": null,
   "metadata": {},
   "outputs": [],
   "source": [
    "from mpl_toolkits.mplot3d import Axes3D\n",
    "\n",
    "X = PCA(n_components=3).fit_transform(X_full)\n",
    "\n",
    "fig = plt.figure()\n",
    "ax = Axes3D(fig)\n",
    "\n",
    "ax.scatter(X[:, 0], X[:, 1], X[:, 2], c=color, alpha=.1)\n",
    "plt.show()"
   ]
  },
  {
   "cell_type": "code",
   "execution_count": null,
   "metadata": {},
   "outputs": [],
   "source": [
    "dataset_path = download_dataset(CACHE_FOLDER)\n",
    "dataset = load_features.load_features(CACHE_FOLDER, dataset_path, 100, True, 0.3, person_id)"
   ]
  },
  {
   "cell_type": "code",
   "execution_count": null,
   "metadata": {},
   "outputs": [],
   "source": [
    "X = dataset[['f_c1','f_c2', 'f_c3', 'f_c4']]\n",
    "y = dataset['is_fall']\n",
    "\n",
    "color = ['red' if i == 1 else 'green' for i in y]"
   ]
  },
  {
   "cell_type": "code",
   "execution_count": null,
   "metadata": {},
   "outputs": [],
   "source": [
    "X_full = MaxAbsScaler().fit_transform(X)\n",
    "X = PCA(n_components=2).fit_transform(X_full)"
   ]
  },
  {
   "cell_type": "code",
   "execution_count": null,
   "metadata": {},
   "outputs": [],
   "source": [
    "plt.scatter(X[:, 0], X[:, 1], c=color, alpha=.2)\n",
    "plt.show()"
   ]
  },
  {
   "cell_type": "code",
   "execution_count": null,
   "metadata": {},
   "outputs": [],
   "source": [
    "from mpl_toolkits.mplot3d import Axes3D\n",
    "\n",
    "X = PCA(n_components=3).fit_transform(X_full)\n",
    "\n",
    "fig = plt.figure()\n",
    "ax = Axes3D(fig)\n",
    "\n",
    "ax.scatter(X[:, 0], X[:, 1], X[:, 2], c=color, alpha=.1)\n",
    "plt.show()"
   ]
  },
  {
   "cell_type": "markdown",
   "metadata": {},
   "source": [
    "# Less questions, more training"
   ]
  },
  {
   "cell_type": "code",
   "execution_count": null,
   "metadata": {},
   "outputs": [],
   "source": [
    "dataset_path = download_dataset(CACHE_FOLDER)\n",
    "dataset = load_features.load_features(CACHE_FOLDER, dataset_path, 100, True, 0.3, person_id)\n",
    "\n",
    "X = dataset[['f_c1','f_c2', 'f_c3', 'f_c4']]\n",
    "y = dataset['is_fall']\n",
    "\n",
    "color = ['red' if i == 1 else 'green' for i in y]"
   ]
  },
  {
   "cell_type": "code",
   "execution_count": null,
   "metadata": {},
   "outputs": [],
   "source": [
    "from scipy.stats import randint, uniform\n",
    "from sklearn.model_selection import cross_validate\n",
    "from tqdm.notebook import tqdm\n",
    "from sklearn.pipeline import Pipeline\n",
    "from sklearn.model_selection import StratifiedKFold\n",
    "\n",
    "pipe = Pipeline([\n",
    "        ('scaler', MaxAbsScaler()),\n",
    "        ('reduce_dim', PCA()),\n",
    "        ('classifier', BSVClassifier())\n",
    "])\n",
    "\n",
    "params = {\n",
    "    'scaler': [StandardScaler(), MaxAbsScaler(), RobustScaler(), QuantileTransformer()],\n",
    "    'reduce_dim__n_components': randint(0, X.shape[1]),\n",
    "    'classifier__n_iter': [10],\n",
    "    'classifier__penalization': randint(0, 500),\n",
    "    'classifier__q': randint(0, 500),\n",
    "    'classifier__c': uniform()    \n",
    "}\n",
    "\n",
    "scoring = ['precision', 'recall', 'f1']\n",
    "outer_cv = StratifiedKFold(n_splits=3, shuffle=True)\n",
    "inner_cv = StratifiedKFold(n_splits=2, shuffle=True)\n",
    "\n",
    "\n",
    "r_clf = RandomizedSearchCV(pipe, params, n_jobs=-1, cv=inner_cv, refit='f1', verbose=10, return_train_score=False, scoring=scoring, n_iter=10)\n",
    "scores = cross_validate(r_clf, X=X, y=y, cv=outer_cv, n_jobs=-1, scoring=scoring, verbose=10, return_estimator=True, return_train_score=True)"
   ]
  },
  {
   "cell_type": "code",
   "execution_count": null,
   "metadata": {},
   "outputs": [],
   "source": [
    "import pandas as pd\n",
    "\n",
    "cv_res = pd.DataFrame(scores)\n",
    "cv_res['estimator_params'] = [est.best_params_ for est in cv_res['estimator']]\n",
    "cv_res"
   ]
  },
  {
   "cell_type": "code",
   "execution_count": null,
   "metadata": {},
   "outputs": [],
   "source": [
    "print(f'Average precision: {np.average(cv_res[\"test_precision\"]):.4f}')\n",
    "print(f'Std precision: {np.std(cv_res[\"test_precision\"]):.4f}')\n",
    "\n",
    "print(f'\\nAverage recall: {np.average(cv_res[\"test_recall\"]):.4f}')\n",
    "print(f'Std recall: {np.std(cv_res[\"test_recall\"]):.4f}')\n",
    "\n",
    "print(f'\\nAverage f1: {np.average(cv_res[\"test_f1\"]):.4f}')\n",
    "print(f'Std f1: {np.std(cv_res[\"test_f1\"]):.2f}')"
   ]
  }
 ],
 "metadata": {
  "kernelspec": {
   "display_name": "Python 3",
   "language": "python",
   "name": "python3"
  },
  "language_info": {
   "codemirror_mode": {
    "name": "ipython",
    "version": 3
   },
   "file_extension": ".py",
   "mimetype": "text/x-python",
   "name": "python",
   "nbconvert_exporter": "python",
   "pygments_lexer": "ipython3",
   "version": "3.8.5"
  }
 },
 "nbformat": 4,
 "nbformat_minor": 4
}

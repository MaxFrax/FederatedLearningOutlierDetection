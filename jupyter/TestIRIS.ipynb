{
 "cells": [
  {
   "cell_type": "code",
   "execution_count": 1,
   "metadata": {
    "gather": {
     "logged": 1618142225399
    }
   },
   "outputs": [],
   "source": [
    "from sklearn import datasets\n",
    "\n",
    "iris = datasets.load_iris()"
   ]
  },
  {
   "cell_type": "code",
   "execution_count": 2,
   "metadata": {
    "gather": {
     "logged": 1618142225671
    }
   },
   "outputs": [],
   "source": [
    "from sklearn.decomposition import PCA\n",
    "from sklearn.preprocessing import StandardScaler, MaxAbsScaler, RobustScaler, QuantileTransformer\n",
    "import numpy as np\n",
    "from sklearn.model_selection import RandomizedSearchCV"
   ]
  },
  {
   "cell_type": "code",
   "execution_count": 3,
   "metadata": {
    "gather": {
     "logged": 1618142226210
    }
   },
   "outputs": [],
   "source": [
    "import matplotlib.pyplot as plt"
   ]
  },
  {
   "cell_type": "markdown",
   "metadata": {},
   "source": [
    "# Let's try the algorithm\n",
    "\n",
    "First of all we select the middle class as outlier (label = 1) since it's a bit harder than the others.\n",
    "In fact by being in the middle of the other two, the sphere projection must split."
   ]
  },
  {
   "cell_type": "code",
   "execution_count": 4,
   "metadata": {
    "gather": {
     "logged": 1618142226481
    }
   },
   "outputs": [],
   "source": [
    "X = iris.data\n",
    "y = [0] * 50 + [1] * 50 + [0] * 50\n",
    "colors = ['red' if i == 1 else 'green' for i in y]"
   ]
  },
  {
   "cell_type": "markdown",
   "metadata": {},
   "source": [
    "We scale the data and reduce the components to two, just to work in a easy to visualize environment."
   ]
  },
  {
   "cell_type": "code",
   "execution_count": 5,
   "metadata": {
    "gather": {
     "logged": 1618142226800
    }
   },
   "outputs": [],
   "source": [
    "X_scaled = MaxAbsScaler().fit_transform(X)\n",
    "X_reduced = PCA(n_components=2).fit_transform(X_scaled)"
   ]
  },
  {
   "cell_type": "code",
   "execution_count": 6,
   "metadata": {
    "gather": {
     "logged": 1618142227887
    },
    "scrolled": true
   },
   "outputs": [
    {
     "data": {
      "image/png": "[encoded data removed]",
      "text/plain": [
       "<Figure size 432x288 with 1 Axes>"
      ]
     },
     "metadata": {
      "needs_background": "light"
     },
     "output_type": "display_data"
    }
   ],
   "source": [
    "plt.scatter(X_reduced[:,0],X_reduced[:,1], c=colors)\n",
    "plt.show()"
   ]
  },
  {
   "cell_type": "code",
   "execution_count": 7,
   "metadata": {
    "gather": {
     "logged": 1618142228858
    }
   },
   "outputs": [],
   "source": [
    "import sys\n",
    "\n",
    "sys.path.append('..')\n",
    "\n",
    "from flod.classifiers.bsvclassifier import BSVClassifier"
   ]
  },
  {
   "cell_type": "markdown",
   "metadata": {},
   "source": [
    "We keep only 33% of the dataset as test set.\n",
    "\n",
    "We shuffle and stratify, since the outliers are not the same amount as the regular points."
   ]
  },
  {
   "cell_type": "code",
   "execution_count": 8,
   "metadata": {
    "gather": {
     "logged": 1618142229143
    }
   },
   "outputs": [],
   "source": [
    "from sklearn.model_selection import train_test_split\n",
    "\n",
    "X_train, X_test, y_train, y_test = train_test_split(X_reduced, y, test_size=0.33, shuffle=True, stratify=y)"
   ]
  },
  {
   "cell_type": "code",
   "execution_count": 9,
   "metadata": {
    "gather": {
     "logged": 1618142248537
    },
    "scrolled": true
   },
   "outputs": [
    {
     "name": "stderr",
     "output_type": "stream",
     "text": [
      "Estimated kernel_values size 1.6722828149795532e-05 GB\n"
     ]
    },
    {
     "data": {
      "text/plain": [
       "BSVClassifier(c=0.25, n_iter=10, penalization=200, q=100)"
      ]
     },
     "execution_count": 9,
     "metadata": {},
     "output_type": "execute_result"
    }
   ],
   "source": [
    "clf = BSVClassifier(n_iter=10, c=.25, q=100, penalization=200)\n",
    "clf.fit(X_train, y_train)"
   ]
  },
  {
   "cell_type": "code",
   "execution_count": 10,
   "metadata": {
    "gather": {
     "logged": 1618142248822
    }
   },
   "outputs": [],
   "source": [
    "y_pred = clf.predict(X_test)"
   ]
  },
  {
   "cell_type": "code",
   "execution_count": 11,
   "metadata": {
    "gather": {
     "logged": 1618142248951
    },
    "jupyter": {
     "outputs_hidden": false,
     "source_hidden": false
    },
    "nteract": {
     "transient": {
      "deleting": false
     }
    }
   },
   "outputs": [
    {
     "name": "stdout",
     "output_type": "stream",
     "text": [
      "Precision 0.8823529411764706\n",
      "Recall 0.8823529411764706\n",
      "F1 0.8823529411764706\n",
      "Accuracy 0.92\n"
     ]
    }
   ],
   "source": [
    "from sklearn.metrics import accuracy_score, precision_score, recall_score, f1_score\n",
    "\n",
    "print(f'Precision {precision_score(y_test, y_pred)}')\n",
    "print(f'Recall {recall_score(y_test, y_pred)}')\n",
    "print(f'F1 {f1_score(y_test, y_pred)}')\n",
    "print(f'Accuracy {accuracy_score(y_test, y_pred)}')"
   ]
  },
  {
   "cell_type": "code",
   "execution_count": 12,
   "metadata": {
    "gather": {
     "logged": 1618142249061
    }
   },
   "outputs": [
    {
     "name": "stdout",
     "output_type": "stream",
     "text": [
      "              precision    recall  f1-score   support\n",
      "\n",
      "           0       0.94      0.94      0.94        33\n",
      "           1       0.88      0.88      0.88        17\n",
      "\n",
      "    accuracy                           0.92        50\n",
      "   macro avg       0.91      0.91      0.91        50\n",
      "weighted avg       0.92      0.92      0.92        50\n",
      "\n"
     ]
    }
   ],
   "source": [
    "from sklearn.metrics import classification_report\n",
    "\n",
    "print(classification_report(y_test, y_pred))"
   ]
  },
  {
   "cell_type": "code",
   "execution_count": 13,
   "metadata": {
    "gather": {
     "logged": 1618142251942
    }
   },
   "outputs": [
    {
     "data": {
      "image/png": "[encoded data removed]",
      "text/plain": [
       "<Figure size 432x288 with 1 Axes>"
      ]
     },
     "metadata": {
      "needs_background": "light"
     },
     "output_type": "display_data"
    }
   ],
   "source": [
    "gx = np.linspace(min(X_reduced[:,0])-.2, max(X_reduced[:,0])+.2, 50)\n",
    "gy = np.linspace(min(X_reduced[:,1])-.2, max(X_reduced[:,1])+.2, 50)\n",
    "gX, gY = np.meshgrid(gx, gy)\n",
    "zs = np.array([clf._compute_r(np.array([x, y])) for x, y in zip(np.ravel(gX), np.ravel(gY))])\n",
    "gZ = zs.reshape(gX.shape)\n",
    "membership_contour = plt.contour(gX, gY, gZ, levels=(clf.radiuses_[clf.sv_i], ))\n",
    "plt.clabel(membership_contour, inline=1)\n",
    "\n",
    "plt.scatter(X_reduced[:,0],X_reduced[:,1], c=y)\n",
    "plt.show()"
   ]
  },
  {
   "cell_type": "code",
   "execution_count": 14,
   "metadata": {
    "gather": {
     "logged": 1618142252264
    }
   },
   "outputs": [
    {
     "data": {
      "text/plain": [
       "['iris.joblib']"
      ]
     },
     "execution_count": 14,
     "metadata": {},
     "output_type": "execute_result"
    }
   ],
   "source": [
    "from joblib import dump, load\n",
    "dump(clf, 'iris.joblib') "
   ]
  },
  {
   "cell_type": "markdown",
   "metadata": {},
   "source": [
    "# Let's setup a Pipeline"
   ]
  },
  {
   "cell_type": "markdown",
   "metadata": {},
   "source": [
    "We split train and test the same as above."
   ]
  },
  {
   "cell_type": "code",
   "execution_count": 15,
   "metadata": {
    "gather": {
     "logged": 1618142252382
    },
    "jupyter": {
     "outputs_hidden": false,
     "source_hidden": false
    },
    "nteract": {
     "transient": {
      "deleting": false
     }
    }
   },
   "outputs": [],
   "source": [
    "from scipy.stats import randint, uniform\n",
    "from sklearn.model_selection import cross_validate\n",
    "from tqdm.notebook import tqdm"
   ]
  },
  {
   "cell_type": "code",
   "execution_count": 16,
   "metadata": {
    "gather": {
     "logged": 1618142252503
    }
   },
   "outputs": [],
   "source": [
    "from sklearn.pipeline import Pipeline\n",
    "from sklearn.model_selection import StratifiedKFold\n",
    "\n",
    "\n",
    "pipe = Pipeline([\n",
    "        ('scaler', MaxAbsScaler()),\n",
    "        ('reduce_dim', PCA('mle')),\n",
    "        ('classifier', BSVClassifier())\n",
    "])\n",
    "\n",
    "params = {\n",
    "    'scaler': [StandardScaler(), MaxAbsScaler(), RobustScaler(), QuantileTransformer()],\n",
    "    'classifier__n_iter': [10],\n",
    "    'classifier__penalization': randint(0, 500),\n",
    "    'classifier__q': randint(0, 500),\n",
    "    'classifier__c': uniform()    \n",
    "}\n",
    "\n",
    "scoring = ['precision', 'recall', 'f1']"
   ]
  },
  {
   "cell_type": "markdown",
   "metadata": {},
   "source": [
    "Inner loop aka RandomizedSearchCV to find the best model given the data.\n",
    "Outer loop to see if the best model was just lucky or all the best models perform well."
   ]
  },
  {
   "cell_type": "code",
   "execution_count": 17,
   "metadata": {
    "gather": {
     "logged": 1618142953207
    },
    "jupyter": {
     "outputs_hidden": false,
     "source_hidden": false
    },
    "nteract": {
     "transient": {
      "deleting": false
     }
    }
   },
   "outputs": [
    {
     "name": "stderr",
     "output_type": "stream",
     "text": [
      "[Parallel(n_jobs=-1)]: Using backend LokyBackend with 4 concurrent workers.\n",
      "[Parallel(n_jobs=-1)]: Done   5 out of  10 | elapsed: 106.2min remaining: 106.2min\n",
      "[Parallel(n_jobs=-1)]: Done   7 out of  10 | elapsed: 112.7min remaining: 48.3min\n",
      "[Parallel(n_jobs=-1)]: Done  10 out of  10 | elapsed: 155.4min finished\n"
     ]
    }
   ],
   "source": [
    "outer_cv = StratifiedKFold(n_splits=10, shuffle=True)\n",
    "inner_cv = StratifiedKFold(n_splits=5, shuffle=True)\n",
    "\n",
    "\n",
    "clf = RandomizedSearchCV(pipe, params, n_jobs=-1, cv=inner_cv, refit='f1', verbose=10, return_train_score=False, scoring=scoring, n_iter=10)\n",
    "scores = cross_validate(clf, X=X, y=y, cv=outer_cv, n_jobs=-1, scoring=scoring, verbose=10, return_estimator=True, return_train_score=True)"
   ]
  },
  {
   "cell_type": "code",
   "execution_count": 18,
   "metadata": {
    "gather": {
     "logged": 1618142953524
    },
    "jupyter": {
     "outputs_hidden": false,
     "source_hidden": false
    },
    "nteract": {
     "transient": {
      "deleting": false
     }
    }
   },
   "outputs": [
    {
     "data": {
      "text/plain": [
       "{'fit_time': array([3517.64639902, 3389.93425107, 3710.90846395, 3711.33131814,\n",
       "        2974.65280819, 2978.01552415, 3044.40738368, 3062.83801293,\n",
       "        2851.70627785, 2822.80552721]),\n",
       " 'score_time': array([0.06298614, 0.06480885, 0.0604279 , 0.06227589, 0.06497216,\n",
       "        0.06216884, 0.06191206, 0.04954004, 0.03390193, 0.02894688]),\n",
       " 'estimator': (RandomizedSearchCV(cv=StratifiedKFold(n_splits=5, random_state=None, shuffle=True),\n",
       "                     estimator=Pipeline(steps=[('scaler', MaxAbsScaler()),\n",
       "                                               ('reduce_dim',\n",
       "                                                PCA(n_components='mle')),\n",
       "                                               ('classifier', BSVClassifier())]),\n",
       "                     n_jobs=-1,\n",
       "                     param_distributions={'classifier__c': <scipy.stats._distn_infrastructure.rv_frozen object at 0x7fed13af5df0>,\n",
       "                                          'classifier__n_iter': [10],\n",
       "                                          'classifier__penalization': <scipy.stats._distn_infrastructure.rv_frozen object at 0x7fed13a98a00>,\n",
       "                                          'classifier__q': <scipy.stats._distn_infrastructure.rv_frozen object at 0x7fed13a98c40>,\n",
       "                                          'scaler': [StandardScaler(),\n",
       "                                                     MaxAbsScaler(),\n",
       "                                                     RobustScaler(),\n",
       "                                                     QuantileTransformer()]},\n",
       "                     refit='f1', scoring=['precision', 'recall', 'f1'],\n",
       "                     verbose=10),\n",
       "  RandomizedSearchCV(cv=StratifiedKFold(n_splits=5, random_state=None, shuffle=True),\n",
       "                     estimator=Pipeline(steps=[('scaler', MaxAbsScaler()),\n",
       "                                               ('reduce_dim',\n",
       "                                                PCA(n_components='mle')),\n",
       "                                               ('classifier', BSVClassifier())]),\n",
       "                     n_jobs=-1,\n",
       "                     param_distributions={'classifier__c': <scipy.stats._distn_infrastructure.rv_frozen object at 0x7fed13ada670>,\n",
       "                                          'classifier__n_iter': [10],\n",
       "                                          'classifier__penalization': <scipy.stats._distn_infrastructure.rv_frozen object at 0x7fed13abcb50>,\n",
       "                                          'classifier__q': <scipy.stats._distn_infrastructure.rv_frozen object at 0x7fed13ada460>,\n",
       "                                          'scaler': [StandardScaler(),\n",
       "                                                     MaxAbsScaler(),\n",
       "                                                     RobustScaler(),\n",
       "                                                     QuantileTransformer()]},\n",
       "                     refit='f1', scoring=['precision', 'recall', 'f1'],\n",
       "                     verbose=10),\n",
       "  RandomizedSearchCV(cv=StratifiedKFold(n_splits=5, random_state=None, shuffle=True),\n",
       "                     estimator=Pipeline(steps=[('scaler', MaxAbsScaler()),\n",
       "                                               ('reduce_dim',\n",
       "                                                PCA(n_components='mle')),\n",
       "                                               ('classifier', BSVClassifier())]),\n",
       "                     n_jobs=-1,\n",
       "                     param_distributions={'classifier__c': <scipy.stats._distn_infrastructure.rv_frozen object at 0x7fed13afc940>,\n",
       "                                          'classifier__n_iter': [10],\n",
       "                                          'classifier__penalization': <scipy.stats._distn_infrastructure.rv_frozen object at 0x7fed13a80d30>,\n",
       "                                          'classifier__q': <scipy.stats._distn_infrastructure.rv_frozen object at 0x7fed13abc4c0>,\n",
       "                                          'scaler': [StandardScaler(),\n",
       "                                                     MaxAbsScaler(),\n",
       "                                                     RobustScaler(),\n",
       "                                                     QuantileTransformer()]},\n",
       "                     refit='f1', scoring=['precision', 'recall', 'f1'],\n",
       "                     verbose=10),\n",
       "  RandomizedSearchCV(cv=StratifiedKFold(n_splits=5, random_state=None, shuffle=True),\n",
       "                     estimator=Pipeline(steps=[('scaler', MaxAbsScaler()),\n",
       "                                               ('reduce_dim',\n",
       "                                                PCA(n_components='mle')),\n",
       "                                               ('classifier', BSVClassifier())]),\n",
       "                     n_jobs=-1,\n",
       "                     param_distributions={'classifier__c': <scipy.stats._distn_infrastructure.rv_frozen object at 0x7fed13aa2820>,\n",
       "                                          'classifier__n_iter': [10],\n",
       "                                          'classifier__penalization': <scipy.stats._distn_infrastructure.rv_frozen object at 0x7fed13aa2310>,\n",
       "                                          'classifier__q': <scipy.stats._distn_infrastructure.rv_frozen object at 0x7fed13afcd00>,\n",
       "                                          'scaler': [StandardScaler(),\n",
       "                                                     MaxAbsScaler(),\n",
       "                                                     RobustScaler(),\n",
       "                                                     QuantileTransformer()]},\n",
       "                     refit='f1', scoring=['precision', 'recall', 'f1'],\n",
       "                     verbose=10),\n",
       "  RandomizedSearchCV(cv=StratifiedKFold(n_splits=5, random_state=None, shuffle=True),\n",
       "                     estimator=Pipeline(steps=[('scaler', MaxAbsScaler()),\n",
       "                                               ('reduce_dim',\n",
       "                                                PCA(n_components='mle')),\n",
       "                                               ('classifier', BSVClassifier())]),\n",
       "                     n_jobs=-1,\n",
       "                     param_distributions={'classifier__c': <scipy.stats._distn_infrastructure.rv_frozen object at 0x7fed13b035e0>,\n",
       "                                          'classifier__n_iter': [10],\n",
       "                                          'classifier__penalization': <scipy.stats._distn_infrastructure.rv_frozen object at 0x7fed13aaa220>,\n",
       "                                          'classifier__q': <scipy.stats._distn_infrastructure.rv_frozen object at 0x7fed13aaa760>,\n",
       "                                          'scaler': [StandardScaler(),\n",
       "                                                     MaxAbsScaler(),\n",
       "                                                     RobustScaler(),\n",
       "                                                     QuantileTransformer()]},\n",
       "                     refit='f1', scoring=['precision', 'recall', 'f1'],\n",
       "                     verbose=10),\n",
       "  RandomizedSearchCV(cv=StratifiedKFold(n_splits=5, random_state=None, shuffle=True),\n",
       "                     estimator=Pipeline(steps=[('scaler', MaxAbsScaler()),\n",
       "                                               ('reduce_dim',\n",
       "                                                PCA(n_components='mle')),\n",
       "                                               ('classifier', BSVClassifier())]),\n",
       "                     n_jobs=-1,\n",
       "                     param_distributions={'classifier__c': <scipy.stats._distn_infrastructure.rv_frozen object at 0x7fed13b1e0d0>,\n",
       "                                          'classifier__n_iter': [10],\n",
       "                                          'classifier__penalization': <scipy.stats._distn_infrastructure.rv_frozen object at 0x7fed13abc9d0>,\n",
       "                                          'classifier__q': <scipy.stats._distn_infrastructure.rv_frozen object at 0x7fed13abcbb0>,\n",
       "                                          'scaler': [StandardScaler(),\n",
       "                                                     MaxAbsScaler(),\n",
       "                                                     RobustScaler(),\n",
       "                                                     QuantileTransformer()]},\n",
       "                     refit='f1', scoring=['precision', 'recall', 'f1'],\n",
       "                     verbose=10),\n",
       "  RandomizedSearchCV(cv=StratifiedKFold(n_splits=5, random_state=None, shuffle=True),\n",
       "                     estimator=Pipeline(steps=[('scaler', MaxAbsScaler()),\n",
       "                                               ('reduce_dim',\n",
       "                                                PCA(n_components='mle')),\n",
       "                                               ('classifier', BSVClassifier())]),\n",
       "                     n_jobs=-1,\n",
       "                     param_distributions={'classifier__c': <scipy.stats._distn_infrastructure.rv_frozen object at 0x7fed13b1e8b0>,\n",
       "                                          'classifier__n_iter': [10],\n",
       "                                          'classifier__penalization': <scipy.stats._distn_infrastructure.rv_frozen object at 0x7fed13ac43d0>,\n",
       "                                          'classifier__q': <scipy.stats._distn_infrastructure.rv_frozen object at 0x7fed13ac4a60>,\n",
       "                                          'scaler': [StandardScaler(),\n",
       "                                                     MaxAbsScaler(),\n",
       "                                                     RobustScaler(),\n",
       "                                                     QuantileTransformer()]},\n",
       "                     refit='f1', scoring=['precision', 'recall', 'f1'],\n",
       "                     verbose=10),\n",
       "  RandomizedSearchCV(cv=StratifiedKFold(n_splits=5, random_state=None, shuffle=True),\n",
       "                     estimator=Pipeline(steps=[('scaler', MaxAbsScaler()),\n",
       "                                               ('reduce_dim',\n",
       "                                                PCA(n_components='mle')),\n",
       "                                               ('classifier', BSVClassifier())]),\n",
       "                     n_jobs=-1,\n",
       "                     param_distributions={'classifier__c': <scipy.stats._distn_infrastructure.rv_frozen object at 0x7fed13abc8b0>,\n",
       "                                          'classifier__n_iter': [10],\n",
       "                                          'classifier__penalization': <scipy.stats._distn_infrastructure.rv_frozen object at 0x7fed13ace3d0>,\n",
       "                                          'classifier__q': <scipy.stats._distn_infrastructure.rv_frozen object at 0x7fed13ace6d0>,\n",
       "                                          'scaler': [StandardScaler(),\n",
       "                                                     MaxAbsScaler(),\n",
       "                                                     RobustScaler(),\n",
       "                                                     QuantileTransformer()]},\n",
       "                     refit='f1', scoring=['precision', 'recall', 'f1'],\n",
       "                     verbose=10),\n",
       "  RandomizedSearchCV(cv=StratifiedKFold(n_splits=5, random_state=None, shuffle=True),\n",
       "                     estimator=Pipeline(steps=[('scaler', MaxAbsScaler()),\n",
       "                                               ('reduce_dim',\n",
       "                                                PCA(n_components='mle')),\n",
       "                                               ('classifier', BSVClassifier())]),\n",
       "                     n_jobs=-1,\n",
       "                     param_distributions={'classifier__c': <scipy.stats._distn_infrastructure.rv_frozen object at 0x7fed13aa9eb0>,\n",
       "                                          'classifier__n_iter': [10],\n",
       "                                          'classifier__penalization': <scipy.stats._distn_infrastructure.rv_frozen object at 0x7fed13ad5340>,\n",
       "                                          'classifier__q': <scipy.stats._distn_infrastructure.rv_frozen object at 0x7fed13ada160>,\n",
       "                                          'scaler': [StandardScaler(),\n",
       "                                                     MaxAbsScaler(),\n",
       "                                                     RobustScaler(),\n",
       "                                                     QuantileTransformer()]},\n",
       "                     refit='f1', scoring=['precision', 'recall', 'f1'],\n",
       "                     verbose=10),\n",
       "  RandomizedSearchCV(cv=StratifiedKFold(n_splits=5, random_state=None, shuffle=True),\n",
       "                     estimator=Pipeline(steps=[('scaler', MaxAbsScaler()),\n",
       "                                               ('reduce_dim',\n",
       "                                                PCA(n_components='mle')),\n",
       "                                               ('classifier', BSVClassifier())]),\n",
       "                     n_jobs=-1,\n",
       "                     param_distributions={'classifier__c': <scipy.stats._distn_infrastructure.rv_frozen object at 0x7fed13a98820>,\n",
       "                                          'classifier__n_iter': [10],\n",
       "                                          'classifier__penalization': <scipy.stats._distn_infrastructure.rv_frozen object at 0x7fed13ae0280>,\n",
       "                                          'classifier__q': <scipy.stats._distn_infrastructure.rv_frozen object at 0x7fed13aa2eb0>,\n",
       "                                          'scaler': [StandardScaler(),\n",
       "                                                     MaxAbsScaler(),\n",
       "                                                     RobustScaler(),\n",
       "                                                     QuantileTransformer()]},\n",
       "                     refit='f1', scoring=['precision', 'recall', 'f1'],\n",
       "                     verbose=10)),\n",
       " 'test_precision': array([0.57142857, 1.        , 1.        , 0.83333333, 0.71428571,\n",
       "        0.8       , 0.83333333, 1.        , 0.8       , 0.66666667]),\n",
       " 'train_precision': array([0.85106383, 0.88372093, 0.95121951, 0.89130435, 0.875     ,\n",
       "        0.84313725, 0.95348837, 1.        , 0.91489362, 1.        ]),\n",
       " 'test_recall': array([0.8, 1. , 0.8, 1. , 1. , 0.8, 1. , 1. , 0.8, 0.8]),\n",
       " 'train_recall': array([0.88888889, 0.84444444, 0.86666667, 0.91111111, 0.93333333,\n",
       "        0.95555556, 0.91111111, 0.86666667, 0.95555556, 0.88888889]),\n",
       " 'test_f1': array([0.66666667, 1.        , 0.88888889, 0.90909091, 0.83333333,\n",
       "        0.8       , 0.90909091, 1.        , 0.8       , 0.72727273]),\n",
       " 'train_f1': array([0.86956522, 0.86363636, 0.90697674, 0.9010989 , 0.90322581,\n",
       "        0.89583333, 0.93181818, 0.92857143, 0.93478261, 0.94117647])}"
      ]
     },
     "execution_count": 18,
     "metadata": {},
     "output_type": "execute_result"
    }
   ],
   "source": [
    "scores"
   ]
  },
  {
   "cell_type": "code",
   "execution_count": 19,
   "metadata": {
    "gather": {
     "logged": 1618142993529
    },
    "jupyter": {
     "outputs_hidden": false,
     "source_hidden": false
    },
    "nteract": {
     "transient": {
      "deleting": false
     }
    }
   },
   "outputs": [
    {
     "data": {
      "text/html": [
       "<div>\n",
       "<style scoped>\n",
       "    .dataframe tbody tr th:only-of-type {\n",
       "        vertical-align: middle;\n",
       "    }\n",
       "\n",
       "    .dataframe tbody tr th {\n",
       "        vertical-align: top;\n",
       "    }\n",
       "\n",
       "    .dataframe thead th {\n",
       "        text-align: right;\n",
       "    }\n",
       "</style>\n",
       "<table border=\"1\" class=\"dataframe\">\n",
       "  <thead>\n",
       "    <tr style=\"text-align: right;\">\n",
       "      <th></th>\n",
       "      <th>fit_time</th>\n",
       "      <th>score_time</th>\n",
       "      <th>estimator</th>\n",
       "      <th>test_precision</th>\n",
       "      <th>train_precision</th>\n",
       "      <th>test_recall</th>\n",
       "      <th>train_recall</th>\n",
       "      <th>test_f1</th>\n",
       "      <th>train_f1</th>\n",
       "    </tr>\n",
       "  </thead>\n",
       "  <tbody>\n",
       "    <tr>\n",
       "      <th>0</th>\n",
       "      <td>3517.646399</td>\n",
       "      <td>0.062986</td>\n",
       "      <td>RandomizedSearchCV(cv=StratifiedKFold(n_splits...</td>\n",
       "      <td>0.571429</td>\n",
       "      <td>0.851064</td>\n",
       "      <td>0.8</td>\n",
       "      <td>0.888889</td>\n",
       "      <td>0.666667</td>\n",
       "      <td>0.869565</td>\n",
       "    </tr>\n",
       "    <tr>\n",
       "      <th>1</th>\n",
       "      <td>3389.934251</td>\n",
       "      <td>0.064809</td>\n",
       "      <td>RandomizedSearchCV(cv=StratifiedKFold(n_splits...</td>\n",
       "      <td>1.000000</td>\n",
       "      <td>0.883721</td>\n",
       "      <td>1.0</td>\n",
       "      <td>0.844444</td>\n",
       "      <td>1.000000</td>\n",
       "      <td>0.863636</td>\n",
       "    </tr>\n",
       "    <tr>\n",
       "      <th>2</th>\n",
       "      <td>3710.908464</td>\n",
       "      <td>0.060428</td>\n",
       "      <td>RandomizedSearchCV(cv=StratifiedKFold(n_splits...</td>\n",
       "      <td>1.000000</td>\n",
       "      <td>0.951220</td>\n",
       "      <td>0.8</td>\n",
       "      <td>0.866667</td>\n",
       "      <td>0.888889</td>\n",
       "      <td>0.906977</td>\n",
       "    </tr>\n",
       "    <tr>\n",
       "      <th>3</th>\n",
       "      <td>3711.331318</td>\n",
       "      <td>0.062276</td>\n",
       "      <td>RandomizedSearchCV(cv=StratifiedKFold(n_splits...</td>\n",
       "      <td>0.833333</td>\n",
       "      <td>0.891304</td>\n",
       "      <td>1.0</td>\n",
       "      <td>0.911111</td>\n",
       "      <td>0.909091</td>\n",
       "      <td>0.901099</td>\n",
       "    </tr>\n",
       "    <tr>\n",
       "      <th>4</th>\n",
       "      <td>2974.652808</td>\n",
       "      <td>0.064972</td>\n",
       "      <td>RandomizedSearchCV(cv=StratifiedKFold(n_splits...</td>\n",
       "      <td>0.714286</td>\n",
       "      <td>0.875000</td>\n",
       "      <td>1.0</td>\n",
       "      <td>0.933333</td>\n",
       "      <td>0.833333</td>\n",
       "      <td>0.903226</td>\n",
       "    </tr>\n",
       "    <tr>\n",
       "      <th>5</th>\n",
       "      <td>2978.015524</td>\n",
       "      <td>0.062169</td>\n",
       "      <td>RandomizedSearchCV(cv=StratifiedKFold(n_splits...</td>\n",
       "      <td>0.800000</td>\n",
       "      <td>0.843137</td>\n",
       "      <td>0.8</td>\n",
       "      <td>0.955556</td>\n",
       "      <td>0.800000</td>\n",
       "      <td>0.895833</td>\n",
       "    </tr>\n",
       "    <tr>\n",
       "      <th>6</th>\n",
       "      <td>3044.407384</td>\n",
       "      <td>0.061912</td>\n",
       "      <td>RandomizedSearchCV(cv=StratifiedKFold(n_splits...</td>\n",
       "      <td>0.833333</td>\n",
       "      <td>0.953488</td>\n",
       "      <td>1.0</td>\n",
       "      <td>0.911111</td>\n",
       "      <td>0.909091</td>\n",
       "      <td>0.931818</td>\n",
       "    </tr>\n",
       "    <tr>\n",
       "      <th>7</th>\n",
       "      <td>3062.838013</td>\n",
       "      <td>0.049540</td>\n",
       "      <td>RandomizedSearchCV(cv=StratifiedKFold(n_splits...</td>\n",
       "      <td>1.000000</td>\n",
       "      <td>1.000000</td>\n",
       "      <td>1.0</td>\n",
       "      <td>0.866667</td>\n",
       "      <td>1.000000</td>\n",
       "      <td>0.928571</td>\n",
       "    </tr>\n",
       "    <tr>\n",
       "      <th>8</th>\n",
       "      <td>2851.706278</td>\n",
       "      <td>0.033902</td>\n",
       "      <td>RandomizedSearchCV(cv=StratifiedKFold(n_splits...</td>\n",
       "      <td>0.800000</td>\n",
       "      <td>0.914894</td>\n",
       "      <td>0.8</td>\n",
       "      <td>0.955556</td>\n",
       "      <td>0.800000</td>\n",
       "      <td>0.934783</td>\n",
       "    </tr>\n",
       "    <tr>\n",
       "      <th>9</th>\n",
       "      <td>2822.805527</td>\n",
       "      <td>0.028947</td>\n",
       "      <td>RandomizedSearchCV(cv=StratifiedKFold(n_splits...</td>\n",
       "      <td>0.666667</td>\n",
       "      <td>1.000000</td>\n",
       "      <td>0.8</td>\n",
       "      <td>0.888889</td>\n",
       "      <td>0.727273</td>\n",
       "      <td>0.941176</td>\n",
       "    </tr>\n",
       "  </tbody>\n",
       "</table>\n",
       "</div>"
      ],
      "text/plain": [
       "      fit_time  score_time                                          estimator  \\\n",
       "0  3517.646399    0.062986  RandomizedSearchCV(cv=StratifiedKFold(n_splits...   \n",
       "1  3389.934251    0.064809  RandomizedSearchCV(cv=StratifiedKFold(n_splits...   \n",
       "2  3710.908464    0.060428  RandomizedSearchCV(cv=StratifiedKFold(n_splits...   \n",
       "3  3711.331318    0.062276  RandomizedSearchCV(cv=StratifiedKFold(n_splits...   \n",
       "4  2974.652808    0.064972  RandomizedSearchCV(cv=StratifiedKFold(n_splits...   \n",
       "5  2978.015524    0.062169  RandomizedSearchCV(cv=StratifiedKFold(n_splits...   \n",
       "6  3044.407384    0.061912  RandomizedSearchCV(cv=StratifiedKFold(n_splits...   \n",
       "7  3062.838013    0.049540  RandomizedSearchCV(cv=StratifiedKFold(n_splits...   \n",
       "8  2851.706278    0.033902  RandomizedSearchCV(cv=StratifiedKFold(n_splits...   \n",
       "9  2822.805527    0.028947  RandomizedSearchCV(cv=StratifiedKFold(n_splits...   \n",
       "\n",
       "   test_precision  train_precision  test_recall  train_recall   test_f1  \\\n",
       "0        0.571429         0.851064          0.8      0.888889  0.666667   \n",
       "1        1.000000         0.883721          1.0      0.844444  1.000000   \n",
       "2        1.000000         0.951220          0.8      0.866667  0.888889   \n",
       "3        0.833333         0.891304          1.0      0.911111  0.909091   \n",
       "4        0.714286         0.875000          1.0      0.933333  0.833333   \n",
       "5        0.800000         0.843137          0.8      0.955556  0.800000   \n",
       "6        0.833333         0.953488          1.0      0.911111  0.909091   \n",
       "7        1.000000         1.000000          1.0      0.866667  1.000000   \n",
       "8        0.800000         0.914894          0.8      0.955556  0.800000   \n",
       "9        0.666667         1.000000          0.8      0.888889  0.727273   \n",
       "\n",
       "   train_f1  \n",
       "0  0.869565  \n",
       "1  0.863636  \n",
       "2  0.906977  \n",
       "3  0.901099  \n",
       "4  0.903226  \n",
       "5  0.895833  \n",
       "6  0.931818  \n",
       "7  0.928571  \n",
       "8  0.934783  \n",
       "9  0.941176  "
      ]
     },
     "execution_count": 19,
     "metadata": {},
     "output_type": "execute_result"
    }
   ],
   "source": [
    "import pandas as pd\n",
    "\n",
    "cv_res = pd.DataFrame(scores)\n",
    "cv_res"
   ]
  },
  {
   "cell_type": "code",
   "execution_count": 20,
   "metadata": {
    "jupyter": {
     "outputs_hidden": false,
     "source_hidden": false
    },
    "nteract": {
     "transient": {
      "deleting": false
     }
    }
   },
   "outputs": [
    {
     "name": "stdout",
     "output_type": "stream",
     "text": [
      "Average precision: 0.82\n",
      "Std precision: 0.14\n",
      "\n",
      "Average recall: 0.90\n",
      "Std recall: 0.10\n",
      "\n",
      "Average recall: 0.85\n",
      "Std recall: 0.10\n"
     ]
    }
   ],
   "source": [
    "print(f'Average precision: {np.average(cv_res[\"test_precision\"]):.2f}')\n",
    "print(f'Std precision: {np.std(cv_res[\"test_precision\"]):.2f}')\n",
    "\n",
    "print(f'\\nAverage recall: {np.average(cv_res[\"test_recall\"]):.2f}')\n",
    "print(f'Std recall: {np.std(cv_res[\"test_recall\"]):.2f}')\n",
    "\n",
    "print(f'\\nAverage recall: {np.average(cv_res[\"test_f1\"]):.2f}')\n",
    "print(f'Std recall: {np.std(cv_res[\"test_f1\"]):.2f}')"
   ]
  },
  {
   "cell_type": "code",
   "execution_count": null,
   "metadata": {},
   "outputs": [],
   "source": []
  }
 ],
 "metadata": {
  "kernel_info": {
   "name": "python3"
  },
  "kernelspec": {
   "display_name": "Python 3",
   "language": "python",
   "name": "python3"
  },
  "language_info": {
   "codemirror_mode": {
    "name": "ipython",
    "version": 3
   },
   "file_extension": ".py",
   "mimetype": "text/x-python",
   "name": "python",
   "nbconvert_exporter": "python",
   "pygments_lexer": "ipython3",
   "version": "3.8.5"
  },
  "microsoft": {
   "host": {
    "AzureML": {
     "notebookHasBeenCompleted": true
    }
   }
  },
  "nteract": {
   "version": "nteract-front-end@1.0.0"
  }
 },
 "nbformat": 4,
 "nbformat_minor": 4
}

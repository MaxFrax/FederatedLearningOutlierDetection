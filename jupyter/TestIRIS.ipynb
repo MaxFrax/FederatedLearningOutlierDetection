{
 "cells": [
  {
   "cell_type": "code",
   "execution_count": 73,
   "metadata": {
    "gather": {
     "logged": 1617384475877
    }
   },
   "outputs": [],
   "source": [
    "from sklearn import datasets\n",
    "\n",
    "iris = datasets.load_iris()"
   ]
  },
  {
   "cell_type": "code",
   "execution_count": 74,
   "metadata": {
    "gather": {
     "logged": 1617384476397
    }
   },
   "outputs": [],
   "source": [
    "from sklearn.decomposition import PCA\n",
    "from sklearn.preprocessing import StandardScaler, MaxAbsScaler, RobustScaler, QuantileTransformer\n",
    "import numpy as np\n",
    "from sklearn.model_selection import GridSearchCV"
   ]
  },
  {
   "cell_type": "code",
   "execution_count": 75,
   "metadata": {
    "gather": {
     "logged": 1617384476716
    }
   },
   "outputs": [],
   "source": [
    "import matplotlib.pyplot as plt"
   ]
  },
  {
   "cell_type": "code",
   "execution_count": 76,
   "metadata": {
    "gather": {
     "logged": 1617384477061
    }
   },
   "outputs": [],
   "source": [
    "X = iris.data\n",
    "#y = [1] * 50 + [0] * 100\n",
    "y = [0] * 50 + [1] * 50 + [0] * 50"
   ]
  },
  {
   "cell_type": "code",
   "execution_count": 77,
   "metadata": {
    "gather": {
     "logged": 1617384477515
    }
   },
   "outputs": [],
   "source": [
    "X_scaled = MaxAbsScaler().fit_transform(X)\n",
    "X_reduced = PCA(n_components=2).fit_transform(X_scaled)"
   ]
  },
  {
   "cell_type": "code",
   "execution_count": 78,
   "metadata": {
    "gather": {
     "logged": 1617384478050
    },
    "scrolled": true
   },
   "outputs": [
    {
     "data": {
      "image/png": "[encoded data removed]",
      "text/plain": [
       "<Figure size 432x288 with 1 Axes>"
      ]
     },
     "metadata": {
      "needs_background": "light"
     },
     "output_type": "display_data"
    }
   ],
   "source": [
    "plt.scatter(X_reduced[:,0],X_reduced[:,1], c=y)\n",
    "plt.show()"
   ]
  },
  {
   "cell_type": "code",
   "execution_count": 79,
   "metadata": {
    "gather": {
     "logged": 1617384479362
    }
   },
   "outputs": [],
   "source": [
    "import sys\n",
    "\n",
    "sys.path.append('..')\n",
    "\n",
    "from flod.classifiers.bsvclassifier import BSVClassifier"
   ]
  },
  {
   "cell_type": "code",
   "execution_count": 80,
   "metadata": {
    "gather": {
     "logged": 1617384479666
    },
    "jupyter": {
     "outputs_hidden": false,
     "source_hidden": false
    },
    "nteract": {
     "transient": {
      "deleting": false
     }
    }
   },
   "outputs": [
    {
     "name": "stdout",
     "output_type": "stream",
     "text": [
      "Suggested q: 0.019920318725099598\n"
     ]
    }
   ],
   "source": [
    "max_dist = 0\n",
    "for i in X:\n",
    "    for j in X:\n",
    "        dist = np.linalg.norm(i-j, ord=2)**2\n",
    "        if dist > max_dist:\n",
    "            max_dist = dist\n",
    "\n",
    "print(f'Suggested q: {1/max_dist}')"
   ]
  },
  {
   "cell_type": "code",
   "execution_count": 81,
   "metadata": {
    "gather": {
     "logged": 1617384479780
    }
   },
   "outputs": [
    {
     "name": "stdout",
     "output_type": "stream",
     "text": [
      "p=0.006666666666666667\n"
     ]
    }
   ],
   "source": [
    "q = 10\n",
    "p = 50\n",
    "\n",
    "c = 1\n",
    "\n",
    "print(f'p={1 / (c*len(X_reduced))}')"
   ]
  },
  {
   "cell_type": "code",
   "execution_count": 82,
   "metadata": {},
   "outputs": [],
   "source": [
    "from sklearn.model_selection import train_test_split\n",
    "\n",
    "X_train, X_test, y_train, y_test = train_test_split(X_reduced, y, test_size=0.33, shuffle=True, stratify=y)"
   ]
  },
  {
   "cell_type": "code",
   "execution_count": 83,
   "metadata": {
    "gather": {
     "logged": 1617384518443
    },
    "scrolled": true
   },
   "outputs": [
    {
     "data": {
      "text/plain": [
       "BSVClassifier(n_iter=10, penalization=200, q=10)"
      ]
     },
     "execution_count": 83,
     "metadata": {},
     "output_type": "execute_result"
    }
   ],
   "source": [
    "clf = BSVClassifier(n_iter=10, q=q, penalization=200)\n",
    "clf.fit(X_train, y_train)"
   ]
  },
  {
   "cell_type": "code",
   "execution_count": 84,
   "metadata": {
    "gather": {
     "logged": 1617384518779
    }
   },
   "outputs": [],
   "source": [
    "y_pred = clf.predict(X_test)"
   ]
  },
  {
   "cell_type": "code",
   "execution_count": 85,
   "metadata": {
    "gather": {
     "logged": 1617384518894
    },
    "jupyter": {
     "outputs_hidden": false,
     "source_hidden": false
    },
    "nteract": {
     "transient": {
      "deleting": false
     }
    }
   },
   "outputs": [
    {
     "name": "stdout",
     "output_type": "stream",
     "text": [
      "Precision 0.8\n",
      "Recall 0.9411764705882353\n",
      "F1 0.8648648648648648\n",
      "Accuracy 0.9\n"
     ]
    }
   ],
   "source": [
    "from sklearn.metrics import accuracy_score, precision_score, recall_score, f1_score\n",
    "\n",
    "print(f'Precision {precision_score(y_test, y_pred)}')\n",
    "print(f'Recall {recall_score(y_test, y_pred)}')\n",
    "print(f'F1 {f1_score(y_test, y_pred)}')\n",
    "print(f'Accuracy {accuracy_score(y_test, y_pred)}')"
   ]
  },
  {
   "cell_type": "code",
   "execution_count": 86,
   "metadata": {},
   "outputs": [
    {
     "name": "stdout",
     "output_type": "stream",
     "text": [
      "              precision    recall  f1-score   support\n",
      "\n",
      "           0       0.97      0.88      0.92        33\n",
      "           1       0.80      0.94      0.86        17\n",
      "\n",
      "    accuracy                           0.90        50\n",
      "   macro avg       0.88      0.91      0.89        50\n",
      "weighted avg       0.91      0.90      0.90        50\n",
      "\n"
     ]
    }
   ],
   "source": [
    "from sklearn.metrics import classification_report\n",
    "\n",
    "print(classification_report(y_test, y_pred))"
   ]
  },
  {
   "cell_type": "code",
   "execution_count": 87,
   "metadata": {
    "gather": {
     "logged": 1617384522412
    }
   },
   "outputs": [
    {
     "data": {
      "image/png": "[encoded data removed]",
      "text/plain": [
       "<Figure size 432x288 with 1 Axes>"
      ]
     },
     "metadata": {
      "needs_background": "light"
     },
     "output_type": "display_data"
    }
   ],
   "source": [
    "gx = np.linspace(min(X_reduced[:,0])-1, max(X_reduced[:,0])+1, 50)\n",
    "gy = np.linspace(min(X_reduced[:,1])-1, max(X_reduced[:,1])+1, 50)\n",
    "gX, gY = np.meshgrid(gx, gy)\n",
    "zs = np.array([clf._compute_r(np.array([x, y])) for x, y in zip(np.ravel(gX), np.ravel(gY))])\n",
    "gZ = zs.reshape(gX.shape)\n",
    "membership_contour = plt.contour(gX, gY, gZ, levels=(clf.radiuses_[clf.sv_i], ))\n",
    "plt.clabel(membership_contour, inline=1)\n",
    "\n",
    "plt.scatter(X_reduced[:,0],X_reduced[:,1], c=y)\n",
    "plt.show()"
   ]
  },
  {
   "cell_type": "code",
   "execution_count": 88,
   "metadata": {
    "gather": {
     "logged": 1617384522555
    }
   },
   "outputs": [
    {
     "data": {
      "text/plain": [
       "['iris.joblib']"
      ]
     },
     "execution_count": 88,
     "metadata": {},
     "output_type": "execute_result"
    }
   ],
   "source": [
    "from joblib import dump, load\n",
    "dump(clf, 'iris.joblib') "
   ]
  },
  {
   "cell_type": "markdown",
   "metadata": {},
   "source": [
    "**Analizzare risultato di questa run in altro notebook**"
   ]
  },
  {
   "cell_type": "markdown",
   "metadata": {
    "nteract": {
     "transient": {
      "deleting": false
     }
    }
   },
   "source": [
    "Mi aspetto che esperimento qui sotto faccia schifo. C è uguale a 1 ma sto passando dei bsv.\n",
    "Dovrei far si che training (aka solve optimization) lavori solo con dati con y = 0"
   ]
  },
  {
   "cell_type": "code",
   "execution_count": 89,
   "metadata": {
    "gather": {
     "logged": 1617384522665
    },
    "jupyter": {
     "outputs_hidden": false,
     "source_hidden": false
    },
    "nteract": {
     "transient": {
      "deleting": false
     }
    }
   },
   "outputs": [],
   "source": [
    "from sklearn.model_selection import train_test_split\n",
    "\n",
    "X_train, X_test, y_train, y_test = train_test_split(X, y, test_size=0.33, shuffle=True, stratify=y)"
   ]
  },
  {
   "cell_type": "code",
   "execution_count": 90,
   "metadata": {
    "gather": {
     "logged": 1617384522780
    }
   },
   "outputs": [],
   "source": [
    "from sklearn.pipeline import Pipeline\n",
    "from sklearn.model_selection import StratifiedKFold\n",
    "\n",
    "\n",
    "pipe = Pipeline([\n",
    "        ('scaler', MaxAbsScaler()),\n",
    "        ('reduce_dim', PCA()),\n",
    "        ('classifier', BSVClassifier())\n",
    "])"
   ]
  },
  {
   "cell_type": "code",
   "execution_count": 91,
   "metadata": {
    "gather": {
     "logged": 1617384522911
    },
    "jupyter": {
     "outputs_hidden": false,
     "source_hidden": false
    },
    "nteract": {
     "transient": {
      "deleting": false
     }
    }
   },
   "outputs": [],
   "source": [
    "params = {\n",
    "    #'scaler': [StandardScaler(), MaxAbsScaler(), RobustScaler(), QuantileTransformer()],\n",
    "    'reduce_dim__n_components': range(iris.data.shape[1])[1:],\n",
    "    'classifier__n_iter': [10],\n",
    "    'classifier__penalization': np.random.uniform(1/max_dist, 100, 3),\n",
    "    'classifier__q': np.random.uniform(1/max_dist, 100, 5)\n",
    "}\n",
    "\n",
    "scoring = ['precision', 'recall', 'f1']\n",
    "cv = StratifiedKFold(n_splits=3, shuffle=True)\n",
    "search = GridSearchCV(pipe, params, n_jobs=-1, cv=cv, refit='f1', verbose=5, return_train_score=True, scoring=scoring)"
   ]
  },
  {
   "cell_type": "code",
   "execution_count": 92,
   "metadata": {
    "gather": {
     "logged": 1617385506934
    },
    "jupyter": {
     "outputs_hidden": false,
     "source_hidden": false
    },
    "nteract": {
     "transient": {
      "deleting": false
     }
    }
   },
   "outputs": [
    {
     "name": "stdout",
     "output_type": "stream",
     "text": [
      "Fitting 3 folds for each of 45 candidates, totalling 135 fits\n"
     ]
    },
    {
     "name": "stderr",
     "output_type": "stream",
     "text": [
      "[Parallel(n_jobs=-1)]: Using backend LokyBackend with 4 concurrent workers.\n",
      "[Parallel(n_jobs=-1)]: Done  10 tasks      | elapsed:  1.8min\n",
      "[Parallel(n_jobs=-1)]: Done  64 tasks      | elapsed:  9.3min\n",
      "[Parallel(n_jobs=-1)]: Done 135 out of 135 | elapsed: 21.3min finished\n"
     ]
    },
    {
     "data": {
      "text/plain": [
       "GridSearchCV(cv=StratifiedKFold(n_splits=3, random_state=None, shuffle=True),\n",
       "             estimator=Pipeline(steps=[('scaler', MaxAbsScaler()),\n",
       "                                       ('reduce_dim', PCA()),\n",
       "                                       ('classifier', BSVClassifier())]),\n",
       "             n_jobs=-1,\n",
       "             param_grid={'classifier__n_iter': [10],\n",
       "                         'classifier__penalization': array([28.66833754, 59.09147679,  3.06933774]),\n",
       "                         'classifier__q': array([ 3.75399521, 82.26358992, 36.03180935, 12.7234405 , 52.23384307]),\n",
       "                         'reduce_dim__n_components': range(1, 4)},\n",
       "             refit='f1', return_train_score=True,\n",
       "             scoring=['precision', 'recall', 'f1'], verbose=5)"
      ]
     },
     "execution_count": 92,
     "metadata": {},
     "output_type": "execute_result"
    }
   ],
   "source": [
    "search.fit(X_train, y_train)"
   ]
  },
  {
   "cell_type": "code",
   "execution_count": 93,
   "metadata": {
    "gather": {
     "logged": 1617385507295
    },
    "jupyter": {
     "outputs_hidden": false,
     "source_hidden": false
    },
    "nteract": {
     "transient": {
      "deleting": false
     }
    }
   },
   "outputs": [
    {
     "name": "stdout",
     "output_type": "stream",
     "text": [
      "Best params: {'classifier__n_iter': 10, 'classifier__penalization': 28.668337538483254, 'classifier__q': 36.03180934747268, 'reduce_dim__n_components': 1}\n",
      "Best score: 0.9274264382960036\n"
     ]
    }
   ],
   "source": [
    "print(f'Best params: {search.best_params_}')\n",
    "print(f'Best score: {search.best_score_}')"
   ]
  },
  {
   "cell_type": "code",
   "execution_count": 94,
   "metadata": {
    "gather": {
     "logged": 1617385507584
    },
    "jupyter": {
     "outputs_hidden": false,
     "source_hidden": false
    },
    "nteract": {
     "transient": {
      "deleting": false
     }
    }
   },
   "outputs": [
    {
     "data": {
      "text/plain": [
       "0.8666666666666666"
      ]
     },
     "execution_count": 94,
     "metadata": {},
     "output_type": "execute_result"
    }
   ],
   "source": [
    "search.score(X_test, y_test)"
   ]
  },
  {
   "cell_type": "code",
   "execution_count": 109,
   "metadata": {
    "gather": {
     "logged": 1617385507940
    },
    "jupyter": {
     "outputs_hidden": false,
     "source_hidden": false
    },
    "nteract": {
     "transient": {
      "deleting": false
     }
    }
   },
   "outputs": [
    {
     "data": {
      "text/html": [
       "<div>\n",
       "<style scoped>\n",
       "    .dataframe tbody tr th:only-of-type {\n",
       "        vertical-align: middle;\n",
       "    }\n",
       "\n",
       "    .dataframe tbody tr th {\n",
       "        vertical-align: top;\n",
       "    }\n",
       "\n",
       "    .dataframe thead th {\n",
       "        text-align: right;\n",
       "    }\n",
       "</style>\n",
       "<table border=\"1\" class=\"dataframe\">\n",
       "  <thead>\n",
       "    <tr style=\"text-align: right;\">\n",
       "      <th></th>\n",
       "      <th>mean_fit_time</th>\n",
       "      <th>std_fit_time</th>\n",
       "      <th>mean_score_time</th>\n",
       "      <th>std_score_time</th>\n",
       "      <th>param_classifier__n_iter</th>\n",
       "      <th>param_classifier__penalization</th>\n",
       "      <th>param_classifier__q</th>\n",
       "      <th>param_reduce_dim__n_components</th>\n",
       "      <th>params</th>\n",
       "      <th>split0_test_precision</th>\n",
       "      <th>...</th>\n",
       "      <th>split1_test_f1</th>\n",
       "      <th>split2_test_f1</th>\n",
       "      <th>mean_test_f1</th>\n",
       "      <th>std_test_f1</th>\n",
       "      <th>rank_test_f1</th>\n",
       "      <th>split0_train_f1</th>\n",
       "      <th>split1_train_f1</th>\n",
       "      <th>split2_train_f1</th>\n",
       "      <th>mean_train_f1</th>\n",
       "      <th>std_train_f1</th>\n",
       "    </tr>\n",
       "  </thead>\n",
       "  <tbody>\n",
       "    <tr>\n",
       "      <th>0</th>\n",
       "      <td>31.476192</td>\n",
       "      <td>0.301834</td>\n",
       "      <td>0.087892</td>\n",
       "      <td>0.004317</td>\n",
       "      <td>10</td>\n",
       "      <td>28.6683</td>\n",
       "      <td>3.754</td>\n",
       "      <td>1</td>\n",
       "      <td>{'classifier__n_iter': 10, 'classifier__penali...</td>\n",
       "      <td>0.833333</td>\n",
       "      <td>...</td>\n",
       "      <td>0.900000</td>\n",
       "      <td>0.594595</td>\n",
       "      <td>0.788053</td>\n",
       "      <td>0.137359</td>\n",
       "      <td>34</td>\n",
       "      <td>0.875000</td>\n",
       "      <td>0.857143</td>\n",
       "      <td>0.584615</td>\n",
       "      <td>0.772253</td>\n",
       "      <td>0.132880</td>\n",
       "    </tr>\n",
       "    <tr>\n",
       "      <th>1</th>\n",
       "      <td>31.218678</td>\n",
       "      <td>1.110310</td>\n",
       "      <td>0.084075</td>\n",
       "      <td>0.007552</td>\n",
       "      <td>10</td>\n",
       "      <td>28.6683</td>\n",
       "      <td>3.754</td>\n",
       "      <td>2</td>\n",
       "      <td>{'classifier__n_iter': 10, 'classifier__penali...</td>\n",
       "      <td>0.666667</td>\n",
       "      <td>...</td>\n",
       "      <td>0.571429</td>\n",
       "      <td>0.578947</td>\n",
       "      <td>0.639869</td>\n",
       "      <td>0.091524</td>\n",
       "      <td>42</td>\n",
       "      <td>0.875000</td>\n",
       "      <td>0.717949</td>\n",
       "      <td>0.591549</td>\n",
       "      <td>0.728166</td>\n",
       "      <td>0.115944</td>\n",
       "    </tr>\n",
       "    <tr>\n",
       "      <th>2</th>\n",
       "      <td>31.900745</td>\n",
       "      <td>0.446234</td>\n",
       "      <td>0.109873</td>\n",
       "      <td>0.032051</td>\n",
       "      <td>10</td>\n",
       "      <td>28.6683</td>\n",
       "      <td>3.754</td>\n",
       "      <td>3</td>\n",
       "      <td>{'classifier__n_iter': 10, 'classifier__penali...</td>\n",
       "      <td>0.625000</td>\n",
       "      <td>...</td>\n",
       "      <td>0.750000</td>\n",
       "      <td>0.564103</td>\n",
       "      <td>0.684948</td>\n",
       "      <td>0.085534</td>\n",
       "      <td>40</td>\n",
       "      <td>0.816327</td>\n",
       "      <td>0.800000</td>\n",
       "      <td>0.555556</td>\n",
       "      <td>0.723961</td>\n",
       "      <td>0.119267</td>\n",
       "    </tr>\n",
       "    <tr>\n",
       "      <th>3</th>\n",
       "      <td>32.652003</td>\n",
       "      <td>0.561869</td>\n",
       "      <td>0.092893</td>\n",
       "      <td>0.015450</td>\n",
       "      <td>10</td>\n",
       "      <td>28.6683</td>\n",
       "      <td>82.2636</td>\n",
       "      <td>1</td>\n",
       "      <td>{'classifier__n_iter': 10, 'classifier__penali...</td>\n",
       "      <td>0.909091</td>\n",
       "      <td>...</td>\n",
       "      <td>0.909091</td>\n",
       "      <td>0.956522</td>\n",
       "      <td>0.924901</td>\n",
       "      <td>0.022359</td>\n",
       "      <td>2</td>\n",
       "      <td>0.954545</td>\n",
       "      <td>0.977778</td>\n",
       "      <td>0.926829</td>\n",
       "      <td>0.953051</td>\n",
       "      <td>0.020826</td>\n",
       "    </tr>\n",
       "    <tr>\n",
       "      <th>4</th>\n",
       "      <td>30.924595</td>\n",
       "      <td>1.116166</td>\n",
       "      <td>0.094333</td>\n",
       "      <td>0.001960</td>\n",
       "      <td>10</td>\n",
       "      <td>28.6683</td>\n",
       "      <td>82.2636</td>\n",
       "      <td>2</td>\n",
       "      <td>{'classifier__n_iter': 10, 'classifier__penali...</td>\n",
       "      <td>1.000000</td>\n",
       "      <td>...</td>\n",
       "      <td>0.800000</td>\n",
       "      <td>0.761905</td>\n",
       "      <td>0.838095</td>\n",
       "      <td>0.082295</td>\n",
       "      <td>22</td>\n",
       "      <td>0.954545</td>\n",
       "      <td>0.933333</td>\n",
       "      <td>0.900000</td>\n",
       "      <td>0.929293</td>\n",
       "      <td>0.022451</td>\n",
       "    </tr>\n",
       "    <tr>\n",
       "      <th>5</th>\n",
       "      <td>30.137185</td>\n",
       "      <td>0.428239</td>\n",
       "      <td>0.084285</td>\n",
       "      <td>0.006411</td>\n",
       "      <td>10</td>\n",
       "      <td>28.6683</td>\n",
       "      <td>82.2636</td>\n",
       "      <td>3</td>\n",
       "      <td>{'classifier__n_iter': 10, 'classifier__penali...</td>\n",
       "      <td>0.833333</td>\n",
       "      <td>...</td>\n",
       "      <td>0.800000</td>\n",
       "      <td>0.916667</td>\n",
       "      <td>0.862077</td>\n",
       "      <td>0.047922</td>\n",
       "      <td>15</td>\n",
       "      <td>0.930233</td>\n",
       "      <td>0.933333</td>\n",
       "      <td>0.851064</td>\n",
       "      <td>0.904877</td>\n",
       "      <td>0.038072</td>\n",
       "    </tr>\n",
       "    <tr>\n",
       "      <th>6</th>\n",
       "      <td>31.159370</td>\n",
       "      <td>0.521315</td>\n",
       "      <td>0.084280</td>\n",
       "      <td>0.006597</td>\n",
       "      <td>10</td>\n",
       "      <td>28.6683</td>\n",
       "      <td>36.0318</td>\n",
       "      <td>1</td>\n",
       "      <td>{'classifier__n_iter': 10, 'classifier__penali...</td>\n",
       "      <td>0.909091</td>\n",
       "      <td>...</td>\n",
       "      <td>0.916667</td>\n",
       "      <td>0.956522</td>\n",
       "      <td>0.927426</td>\n",
       "      <td>0.020805</td>\n",
       "      <td>1</td>\n",
       "      <td>0.976744</td>\n",
       "      <td>0.936170</td>\n",
       "      <td>0.904762</td>\n",
       "      <td>0.939225</td>\n",
       "      <td>0.029466</td>\n",
       "    </tr>\n",
       "    <tr>\n",
       "      <th>7</th>\n",
       "      <td>30.718527</td>\n",
       "      <td>0.815640</td>\n",
       "      <td>0.085081</td>\n",
       "      <td>0.004729</td>\n",
       "      <td>10</td>\n",
       "      <td>28.6683</td>\n",
       "      <td>36.0318</td>\n",
       "      <td>2</td>\n",
       "      <td>{'classifier__n_iter': 10, 'classifier__penali...</td>\n",
       "      <td>0.916667</td>\n",
       "      <td>...</td>\n",
       "      <td>0.800000</td>\n",
       "      <td>0.800000</td>\n",
       "      <td>0.852174</td>\n",
       "      <td>0.073785</td>\n",
       "      <td>19</td>\n",
       "      <td>0.933333</td>\n",
       "      <td>0.897959</td>\n",
       "      <td>0.833333</td>\n",
       "      <td>0.888209</td>\n",
       "      <td>0.041403</td>\n",
       "    </tr>\n",
       "    <tr>\n",
       "      <th>8</th>\n",
       "      <td>31.005060</td>\n",
       "      <td>0.583961</td>\n",
       "      <td>0.078571</td>\n",
       "      <td>0.004762</td>\n",
       "      <td>10</td>\n",
       "      <td>28.6683</td>\n",
       "      <td>36.0318</td>\n",
       "      <td>3</td>\n",
       "      <td>{'classifier__n_iter': 10, 'classifier__penali...</td>\n",
       "      <td>0.888889</td>\n",
       "      <td>...</td>\n",
       "      <td>0.833333</td>\n",
       "      <td>0.846154</td>\n",
       "      <td>0.826496</td>\n",
       "      <td>0.019453</td>\n",
       "      <td>25</td>\n",
       "      <td>0.930233</td>\n",
       "      <td>0.933333</td>\n",
       "      <td>0.800000</td>\n",
       "      <td>0.887855</td>\n",
       "      <td>0.062136</td>\n",
       "    </tr>\n",
       "    <tr>\n",
       "      <th>9</th>\n",
       "      <td>30.960052</td>\n",
       "      <td>0.544836</td>\n",
       "      <td>0.084983</td>\n",
       "      <td>0.001655</td>\n",
       "      <td>10</td>\n",
       "      <td>28.6683</td>\n",
       "      <td>12.7234</td>\n",
       "      <td>1</td>\n",
       "      <td>{'classifier__n_iter': 10, 'classifier__penali...</td>\n",
       "      <td>0.909091</td>\n",
       "      <td>...</td>\n",
       "      <td>0.916667</td>\n",
       "      <td>0.761905</td>\n",
       "      <td>0.862554</td>\n",
       "      <td>0.071237</td>\n",
       "      <td>13</td>\n",
       "      <td>0.954545</td>\n",
       "      <td>0.936170</td>\n",
       "      <td>0.850000</td>\n",
       "      <td>0.913572</td>\n",
       "      <td>0.045574</td>\n",
       "    </tr>\n",
       "    <tr>\n",
       "      <th>10</th>\n",
       "      <td>30.688660</td>\n",
       "      <td>0.549530</td>\n",
       "      <td>0.083477</td>\n",
       "      <td>0.000959</td>\n",
       "      <td>10</td>\n",
       "      <td>28.6683</td>\n",
       "      <td>12.7234</td>\n",
       "      <td>2</td>\n",
       "      <td>{'classifier__n_iter': 10, 'classifier__penali...</td>\n",
       "      <td>0.900000</td>\n",
       "      <td>...</td>\n",
       "      <td>0.833333</td>\n",
       "      <td>0.615385</td>\n",
       "      <td>0.768620</td>\n",
       "      <td>0.108789</td>\n",
       "      <td>37</td>\n",
       "      <td>0.954545</td>\n",
       "      <td>0.933333</td>\n",
       "      <td>0.711111</td>\n",
       "      <td>0.866330</td>\n",
       "      <td>0.110097</td>\n",
       "    </tr>\n",
       "    <tr>\n",
       "      <th>11</th>\n",
       "      <td>31.184287</td>\n",
       "      <td>0.841277</td>\n",
       "      <td>0.084353</td>\n",
       "      <td>0.008703</td>\n",
       "      <td>10</td>\n",
       "      <td>28.6683</td>\n",
       "      <td>12.7234</td>\n",
       "      <td>3</td>\n",
       "      <td>{'classifier__n_iter': 10, 'classifier__penali...</td>\n",
       "      <td>0.900000</td>\n",
       "      <td>...</td>\n",
       "      <td>0.869565</td>\n",
       "      <td>0.695652</td>\n",
       "      <td>0.807453</td>\n",
       "      <td>0.079218</td>\n",
       "      <td>30</td>\n",
       "      <td>0.913043</td>\n",
       "      <td>0.909091</td>\n",
       "      <td>0.727273</td>\n",
       "      <td>0.849802</td>\n",
       "      <td>0.086657</td>\n",
       "    </tr>\n",
       "    <tr>\n",
       "      <th>12</th>\n",
       "      <td>30.552746</td>\n",
       "      <td>0.620614</td>\n",
       "      <td>0.079894</td>\n",
       "      <td>0.005426</td>\n",
       "      <td>10</td>\n",
       "      <td>28.6683</td>\n",
       "      <td>52.2338</td>\n",
       "      <td>1</td>\n",
       "      <td>{'classifier__n_iter': 10, 'classifier__penali...</td>\n",
       "      <td>0.909091</td>\n",
       "      <td>...</td>\n",
       "      <td>0.880000</td>\n",
       "      <td>0.956522</td>\n",
       "      <td>0.915204</td>\n",
       "      <td>0.031538</td>\n",
       "      <td>5</td>\n",
       "      <td>0.954545</td>\n",
       "      <td>0.956522</td>\n",
       "      <td>0.904762</td>\n",
       "      <td>0.938610</td>\n",
       "      <td>0.023948</td>\n",
       "    </tr>\n",
       "    <tr>\n",
       "      <th>13</th>\n",
       "      <td>31.453575</td>\n",
       "      <td>1.731500</td>\n",
       "      <td>0.086224</td>\n",
       "      <td>0.011471</td>\n",
       "      <td>10</td>\n",
       "      <td>28.6683</td>\n",
       "      <td>52.2338</td>\n",
       "      <td>2</td>\n",
       "      <td>{'classifier__n_iter': 10, 'classifier__penali...</td>\n",
       "      <td>0.916667</td>\n",
       "      <td>...</td>\n",
       "      <td>0.833333</td>\n",
       "      <td>0.814815</td>\n",
       "      <td>0.868223</td>\n",
       "      <td>0.062892</td>\n",
       "      <td>11</td>\n",
       "      <td>0.936170</td>\n",
       "      <td>0.933333</td>\n",
       "      <td>0.833333</td>\n",
       "      <td>0.900946</td>\n",
       "      <td>0.047823</td>\n",
       "    </tr>\n",
       "    <tr>\n",
       "      <th>14</th>\n",
       "      <td>32.358216</td>\n",
       "      <td>2.050882</td>\n",
       "      <td>0.098276</td>\n",
       "      <td>0.011360</td>\n",
       "      <td>10</td>\n",
       "      <td>28.6683</td>\n",
       "      <td>52.2338</td>\n",
       "      <td>3</td>\n",
       "      <td>{'classifier__n_iter': 10, 'classifier__penali...</td>\n",
       "      <td>0.800000</td>\n",
       "      <td>...</td>\n",
       "      <td>0.800000</td>\n",
       "      <td>0.846154</td>\n",
       "      <td>0.802686</td>\n",
       "      <td>0.034447</td>\n",
       "      <td>32</td>\n",
       "      <td>0.930233</td>\n",
       "      <td>0.933333</td>\n",
       "      <td>0.816327</td>\n",
       "      <td>0.893297</td>\n",
       "      <td>0.054441</td>\n",
       "    </tr>\n",
       "    <tr>\n",
       "      <th>15</th>\n",
       "      <td>31.752984</td>\n",
       "      <td>0.103862</td>\n",
       "      <td>0.100989</td>\n",
       "      <td>0.020232</td>\n",
       "      <td>10</td>\n",
       "      <td>59.0915</td>\n",
       "      <td>3.754</td>\n",
       "      <td>1</td>\n",
       "      <td>{'classifier__n_iter': 10, 'classifier__penali...</td>\n",
       "      <td>0.833333</td>\n",
       "      <td>...</td>\n",
       "      <td>0.900000</td>\n",
       "      <td>0.594595</td>\n",
       "      <td>0.788053</td>\n",
       "      <td>0.137359</td>\n",
       "      <td>34</td>\n",
       "      <td>0.875000</td>\n",
       "      <td>0.857143</td>\n",
       "      <td>0.584615</td>\n",
       "      <td>0.772253</td>\n",
       "      <td>0.132880</td>\n",
       "    </tr>\n",
       "    <tr>\n",
       "      <th>16</th>\n",
       "      <td>39.433752</td>\n",
       "      <td>2.863315</td>\n",
       "      <td>0.151202</td>\n",
       "      <td>0.043591</td>\n",
       "      <td>10</td>\n",
       "      <td>59.0915</td>\n",
       "      <td>3.754</td>\n",
       "      <td>2</td>\n",
       "      <td>{'classifier__n_iter': 10, 'classifier__penali...</td>\n",
       "      <td>0.666667</td>\n",
       "      <td>...</td>\n",
       "      <td>0.571429</td>\n",
       "      <td>0.578947</td>\n",
       "      <td>0.639869</td>\n",
       "      <td>0.091524</td>\n",
       "      <td>42</td>\n",
       "      <td>0.875000</td>\n",
       "      <td>0.717949</td>\n",
       "      <td>0.591549</td>\n",
       "      <td>0.728166</td>\n",
       "      <td>0.115944</td>\n",
       "    </tr>\n",
       "    <tr>\n",
       "      <th>17</th>\n",
       "      <td>45.674611</td>\n",
       "      <td>1.033427</td>\n",
       "      <td>0.092566</td>\n",
       "      <td>0.010623</td>\n",
       "      <td>10</td>\n",
       "      <td>59.0915</td>\n",
       "      <td>3.754</td>\n",
       "      <td>3</td>\n",
       "      <td>{'classifier__n_iter': 10, 'classifier__penali...</td>\n",
       "      <td>0.625000</td>\n",
       "      <td>...</td>\n",
       "      <td>0.750000</td>\n",
       "      <td>0.564103</td>\n",
       "      <td>0.684948</td>\n",
       "      <td>0.085534</td>\n",
       "      <td>40</td>\n",
       "      <td>0.816327</td>\n",
       "      <td>0.800000</td>\n",
       "      <td>0.555556</td>\n",
       "      <td>0.723961</td>\n",
       "      <td>0.119267</td>\n",
       "    </tr>\n",
       "    <tr>\n",
       "      <th>18</th>\n",
       "      <td>39.725116</td>\n",
       "      <td>3.216944</td>\n",
       "      <td>0.111460</td>\n",
       "      <td>0.003426</td>\n",
       "      <td>10</td>\n",
       "      <td>59.0915</td>\n",
       "      <td>82.2636</td>\n",
       "      <td>1</td>\n",
       "      <td>{'classifier__n_iter': 10, 'classifier__penali...</td>\n",
       "      <td>0.909091</td>\n",
       "      <td>...</td>\n",
       "      <td>0.909091</td>\n",
       "      <td>0.956522</td>\n",
       "      <td>0.924901</td>\n",
       "      <td>0.022359</td>\n",
       "      <td>2</td>\n",
       "      <td>0.954545</td>\n",
       "      <td>0.977778</td>\n",
       "      <td>0.926829</td>\n",
       "      <td>0.953051</td>\n",
       "      <td>0.020826</td>\n",
       "    </tr>\n",
       "    <tr>\n",
       "      <th>19</th>\n",
       "      <td>35.307365</td>\n",
       "      <td>0.525186</td>\n",
       "      <td>0.109863</td>\n",
       "      <td>0.014003</td>\n",
       "      <td>10</td>\n",
       "      <td>59.0915</td>\n",
       "      <td>82.2636</td>\n",
       "      <td>2</td>\n",
       "      <td>{'classifier__n_iter': 10, 'classifier__penali...</td>\n",
       "      <td>1.000000</td>\n",
       "      <td>...</td>\n",
       "      <td>0.800000</td>\n",
       "      <td>0.818182</td>\n",
       "      <td>0.856854</td>\n",
       "      <td>0.067954</td>\n",
       "      <td>18</td>\n",
       "      <td>0.954545</td>\n",
       "      <td>0.933333</td>\n",
       "      <td>0.883721</td>\n",
       "      <td>0.923867</td>\n",
       "      <td>0.029679</td>\n",
       "    </tr>\n",
       "    <tr>\n",
       "      <th>20</th>\n",
       "      <td>34.436005</td>\n",
       "      <td>0.834314</td>\n",
       "      <td>0.105552</td>\n",
       "      <td>0.010104</td>\n",
       "      <td>10</td>\n",
       "      <td>59.0915</td>\n",
       "      <td>82.2636</td>\n",
       "      <td>3</td>\n",
       "      <td>{'classifier__n_iter': 10, 'classifier__penali...</td>\n",
       "      <td>0.833333</td>\n",
       "      <td>...</td>\n",
       "      <td>0.800000</td>\n",
       "      <td>0.916667</td>\n",
       "      <td>0.862077</td>\n",
       "      <td>0.047922</td>\n",
       "      <td>15</td>\n",
       "      <td>0.930233</td>\n",
       "      <td>0.933333</td>\n",
       "      <td>0.851064</td>\n",
       "      <td>0.904877</td>\n",
       "      <td>0.038072</td>\n",
       "    </tr>\n",
       "    <tr>\n",
       "      <th>21</th>\n",
       "      <td>34.095695</td>\n",
       "      <td>0.417444</td>\n",
       "      <td>0.098823</td>\n",
       "      <td>0.003241</td>\n",
       "      <td>10</td>\n",
       "      <td>59.0915</td>\n",
       "      <td>36.0318</td>\n",
       "      <td>1</td>\n",
       "      <td>{'classifier__n_iter': 10, 'classifier__penali...</td>\n",
       "      <td>0.909091</td>\n",
       "      <td>...</td>\n",
       "      <td>0.880000</td>\n",
       "      <td>0.956522</td>\n",
       "      <td>0.915204</td>\n",
       "      <td>0.031538</td>\n",
       "      <td>5</td>\n",
       "      <td>0.954545</td>\n",
       "      <td>0.936170</td>\n",
       "      <td>0.904762</td>\n",
       "      <td>0.931826</td>\n",
       "      <td>0.020555</td>\n",
       "    </tr>\n",
       "    <tr>\n",
       "      <th>22</th>\n",
       "      <td>34.581108</td>\n",
       "      <td>0.754283</td>\n",
       "      <td>0.125283</td>\n",
       "      <td>0.040281</td>\n",
       "      <td>10</td>\n",
       "      <td>59.0915</td>\n",
       "      <td>36.0318</td>\n",
       "      <td>2</td>\n",
       "      <td>{'classifier__n_iter': 10, 'classifier__penali...</td>\n",
       "      <td>0.916667</td>\n",
       "      <td>...</td>\n",
       "      <td>0.800000</td>\n",
       "      <td>0.800000</td>\n",
       "      <td>0.852174</td>\n",
       "      <td>0.073785</td>\n",
       "      <td>19</td>\n",
       "      <td>0.933333</td>\n",
       "      <td>0.897959</td>\n",
       "      <td>0.833333</td>\n",
       "      <td>0.888209</td>\n",
       "      <td>0.041403</td>\n",
       "    </tr>\n",
       "    <tr>\n",
       "      <th>23</th>\n",
       "      <td>38.424356</td>\n",
       "      <td>4.599150</td>\n",
       "      <td>0.222355</td>\n",
       "      <td>0.054463</td>\n",
       "      <td>10</td>\n",
       "      <td>59.0915</td>\n",
       "      <td>36.0318</td>\n",
       "      <td>3</td>\n",
       "      <td>{'classifier__n_iter': 10, 'classifier__penali...</td>\n",
       "      <td>0.888889</td>\n",
       "      <td>...</td>\n",
       "      <td>0.833333</td>\n",
       "      <td>0.846154</td>\n",
       "      <td>0.826496</td>\n",
       "      <td>0.019453</td>\n",
       "      <td>25</td>\n",
       "      <td>0.930233</td>\n",
       "      <td>0.933333</td>\n",
       "      <td>0.800000</td>\n",
       "      <td>0.887855</td>\n",
       "      <td>0.062136</td>\n",
       "    </tr>\n",
       "    <tr>\n",
       "      <th>24</th>\n",
       "      <td>49.010089</td>\n",
       "      <td>0.906585</td>\n",
       "      <td>0.174179</td>\n",
       "      <td>0.096811</td>\n",
       "      <td>10</td>\n",
       "      <td>59.0915</td>\n",
       "      <td>12.7234</td>\n",
       "      <td>1</td>\n",
       "      <td>{'classifier__n_iter': 10, 'classifier__penali...</td>\n",
       "      <td>0.909091</td>\n",
       "      <td>...</td>\n",
       "      <td>0.916667</td>\n",
       "      <td>0.761905</td>\n",
       "      <td>0.862554</td>\n",
       "      <td>0.071237</td>\n",
       "      <td>13</td>\n",
       "      <td>0.954545</td>\n",
       "      <td>0.936170</td>\n",
       "      <td>0.850000</td>\n",
       "      <td>0.913572</td>\n",
       "      <td>0.045574</td>\n",
       "    </tr>\n",
       "    <tr>\n",
       "      <th>25</th>\n",
       "      <td>47.669683</td>\n",
       "      <td>1.932476</td>\n",
       "      <td>0.098491</td>\n",
       "      <td>0.010900</td>\n",
       "      <td>10</td>\n",
       "      <td>59.0915</td>\n",
       "      <td>12.7234</td>\n",
       "      <td>2</td>\n",
       "      <td>{'classifier__n_iter': 10, 'classifier__penali...</td>\n",
       "      <td>0.900000</td>\n",
       "      <td>...</td>\n",
       "      <td>0.833333</td>\n",
       "      <td>0.615385</td>\n",
       "      <td>0.768620</td>\n",
       "      <td>0.108789</td>\n",
       "      <td>37</td>\n",
       "      <td>0.954545</td>\n",
       "      <td>0.933333</td>\n",
       "      <td>0.711111</td>\n",
       "      <td>0.866330</td>\n",
       "      <td>0.110097</td>\n",
       "    </tr>\n",
       "    <tr>\n",
       "      <th>26</th>\n",
       "      <td>40.904222</td>\n",
       "      <td>2.797381</td>\n",
       "      <td>0.100398</td>\n",
       "      <td>0.009810</td>\n",
       "      <td>10</td>\n",
       "      <td>59.0915</td>\n",
       "      <td>12.7234</td>\n",
       "      <td>3</td>\n",
       "      <td>{'classifier__n_iter': 10, 'classifier__penali...</td>\n",
       "      <td>0.900000</td>\n",
       "      <td>...</td>\n",
       "      <td>0.869565</td>\n",
       "      <td>0.695652</td>\n",
       "      <td>0.807453</td>\n",
       "      <td>0.079218</td>\n",
       "      <td>30</td>\n",
       "      <td>0.913043</td>\n",
       "      <td>0.909091</td>\n",
       "      <td>0.727273</td>\n",
       "      <td>0.849802</td>\n",
       "      <td>0.086657</td>\n",
       "    </tr>\n",
       "    <tr>\n",
       "      <th>27</th>\n",
       "      <td>36.466341</td>\n",
       "      <td>1.584860</td>\n",
       "      <td>0.092555</td>\n",
       "      <td>0.000842</td>\n",
       "      <td>10</td>\n",
       "      <td>59.0915</td>\n",
       "      <td>52.2338</td>\n",
       "      <td>1</td>\n",
       "      <td>{'classifier__n_iter': 10, 'classifier__penali...</td>\n",
       "      <td>0.909091</td>\n",
       "      <td>...</td>\n",
       "      <td>0.880000</td>\n",
       "      <td>0.956522</td>\n",
       "      <td>0.915204</td>\n",
       "      <td>0.031538</td>\n",
       "      <td>5</td>\n",
       "      <td>0.954545</td>\n",
       "      <td>0.956522</td>\n",
       "      <td>0.904762</td>\n",
       "      <td>0.938610</td>\n",
       "      <td>0.023948</td>\n",
       "    </tr>\n",
       "    <tr>\n",
       "      <th>28</th>\n",
       "      <td>31.846954</td>\n",
       "      <td>0.626045</td>\n",
       "      <td>0.094703</td>\n",
       "      <td>0.003152</td>\n",
       "      <td>10</td>\n",
       "      <td>59.0915</td>\n",
       "      <td>52.2338</td>\n",
       "      <td>2</td>\n",
       "      <td>{'classifier__n_iter': 10, 'classifier__penali...</td>\n",
       "      <td>0.916667</td>\n",
       "      <td>...</td>\n",
       "      <td>0.833333</td>\n",
       "      <td>0.814815</td>\n",
       "      <td>0.868223</td>\n",
       "      <td>0.062892</td>\n",
       "      <td>11</td>\n",
       "      <td>0.936170</td>\n",
       "      <td>0.933333</td>\n",
       "      <td>0.833333</td>\n",
       "      <td>0.900946</td>\n",
       "      <td>0.047823</td>\n",
       "    </tr>\n",
       "    <tr>\n",
       "      <th>29</th>\n",
       "      <td>38.000964</td>\n",
       "      <td>3.110400</td>\n",
       "      <td>0.131667</td>\n",
       "      <td>0.018842</td>\n",
       "      <td>10</td>\n",
       "      <td>59.0915</td>\n",
       "      <td>52.2338</td>\n",
       "      <td>3</td>\n",
       "      <td>{'classifier__n_iter': 10, 'classifier__penali...</td>\n",
       "      <td>0.800000</td>\n",
       "      <td>...</td>\n",
       "      <td>0.800000</td>\n",
       "      <td>0.846154</td>\n",
       "      <td>0.802686</td>\n",
       "      <td>0.034447</td>\n",
       "      <td>32</td>\n",
       "      <td>0.930233</td>\n",
       "      <td>0.933333</td>\n",
       "      <td>0.816327</td>\n",
       "      <td>0.893297</td>\n",
       "      <td>0.054441</td>\n",
       "    </tr>\n",
       "    <tr>\n",
       "      <th>30</th>\n",
       "      <td>36.341710</td>\n",
       "      <td>1.506568</td>\n",
       "      <td>0.118322</td>\n",
       "      <td>0.009742</td>\n",
       "      <td>10</td>\n",
       "      <td>3.06934</td>\n",
       "      <td>3.754</td>\n",
       "      <td>1</td>\n",
       "      <td>{'classifier__n_iter': 10, 'classifier__penali...</td>\n",
       "      <td>0.666667</td>\n",
       "      <td>...</td>\n",
       "      <td>0.900000</td>\n",
       "      <td>0.578947</td>\n",
       "      <td>0.692982</td>\n",
       "      <td>0.146636</td>\n",
       "      <td>39</td>\n",
       "      <td>0.775510</td>\n",
       "      <td>0.837209</td>\n",
       "      <td>0.579710</td>\n",
       "      <td>0.730810</td>\n",
       "      <td>0.109773</td>\n",
       "    </tr>\n",
       "    <tr>\n",
       "      <th>31</th>\n",
       "      <td>36.478480</td>\n",
       "      <td>0.601366</td>\n",
       "      <td>0.126061</td>\n",
       "      <td>0.008463</td>\n",
       "      <td>10</td>\n",
       "      <td>3.06934</td>\n",
       "      <td>3.754</td>\n",
       "      <td>2</td>\n",
       "      <td>{'classifier__n_iter': 10, 'classifier__penali...</td>\n",
       "      <td>0.625000</td>\n",
       "      <td>...</td>\n",
       "      <td>0.571429</td>\n",
       "      <td>0.578947</td>\n",
       "      <td>0.630372</td>\n",
       "      <td>0.078103</td>\n",
       "      <td>45</td>\n",
       "      <td>0.823529</td>\n",
       "      <td>0.702703</td>\n",
       "      <td>0.571429</td>\n",
       "      <td>0.699220</td>\n",
       "      <td>0.102949</td>\n",
       "    </tr>\n",
       "    <tr>\n",
       "      <th>32</th>\n",
       "      <td>35.078579</td>\n",
       "      <td>0.345162</td>\n",
       "      <td>0.130580</td>\n",
       "      <td>0.010548</td>\n",
       "      <td>10</td>\n",
       "      <td>3.06934</td>\n",
       "      <td>3.754</td>\n",
       "      <td>3</td>\n",
       "      <td>{'classifier__n_iter': 10, 'classifier__penali...</td>\n",
       "      <td>0.600000</td>\n",
       "      <td>...</td>\n",
       "      <td>0.695652</td>\n",
       "      <td>0.526316</td>\n",
       "      <td>0.638092</td>\n",
       "      <td>0.079049</td>\n",
       "      <td>44</td>\n",
       "      <td>0.816327</td>\n",
       "      <td>0.782609</td>\n",
       "      <td>0.555556</td>\n",
       "      <td>0.718164</td>\n",
       "      <td>0.115802</td>\n",
       "    </tr>\n",
       "    <tr>\n",
       "      <th>33</th>\n",
       "      <td>71.044246</td>\n",
       "      <td>25.793448</td>\n",
       "      <td>0.120314</td>\n",
       "      <td>0.024627</td>\n",
       "      <td>10</td>\n",
       "      <td>3.06934</td>\n",
       "      <td>82.2636</td>\n",
       "      <td>1</td>\n",
       "      <td>{'classifier__n_iter': 10, 'classifier__penali...</td>\n",
       "      <td>0.909091</td>\n",
       "      <td>...</td>\n",
       "      <td>0.909091</td>\n",
       "      <td>0.956522</td>\n",
       "      <td>0.924901</td>\n",
       "      <td>0.022359</td>\n",
       "      <td>2</td>\n",
       "      <td>0.976744</td>\n",
       "      <td>0.977778</td>\n",
       "      <td>0.926829</td>\n",
       "      <td>0.960450</td>\n",
       "      <td>0.023777</td>\n",
       "    </tr>\n",
       "    <tr>\n",
       "      <th>34</th>\n",
       "      <td>59.437645</td>\n",
       "      <td>7.560060</td>\n",
       "      <td>0.091533</td>\n",
       "      <td>0.002836</td>\n",
       "      <td>10</td>\n",
       "      <td>3.06934</td>\n",
       "      <td>82.2636</td>\n",
       "      <td>2</td>\n",
       "      <td>{'classifier__n_iter': 10, 'classifier__penali...</td>\n",
       "      <td>1.000000</td>\n",
       "      <td>...</td>\n",
       "      <td>0.800000</td>\n",
       "      <td>0.761905</td>\n",
       "      <td>0.838095</td>\n",
       "      <td>0.082295</td>\n",
       "      <td>22</td>\n",
       "      <td>0.954545</td>\n",
       "      <td>0.933333</td>\n",
       "      <td>0.900000</td>\n",
       "      <td>0.929293</td>\n",
       "      <td>0.022451</td>\n",
       "    </tr>\n",
       "    <tr>\n",
       "      <th>35</th>\n",
       "      <td>40.280546</td>\n",
       "      <td>8.596825</td>\n",
       "      <td>0.101277</td>\n",
       "      <td>0.005413</td>\n",
       "      <td>10</td>\n",
       "      <td>3.06934</td>\n",
       "      <td>82.2636</td>\n",
       "      <td>3</td>\n",
       "      <td>{'classifier__n_iter': 10, 'classifier__penali...</td>\n",
       "      <td>0.833333</td>\n",
       "      <td>...</td>\n",
       "      <td>0.800000</td>\n",
       "      <td>0.916667</td>\n",
       "      <td>0.862077</td>\n",
       "      <td>0.047922</td>\n",
       "      <td>15</td>\n",
       "      <td>0.933333</td>\n",
       "      <td>0.933333</td>\n",
       "      <td>0.851064</td>\n",
       "      <td>0.905910</td>\n",
       "      <td>0.038782</td>\n",
       "    </tr>\n",
       "    <tr>\n",
       "      <th>36</th>\n",
       "      <td>33.746473</td>\n",
       "      <td>9.889943</td>\n",
       "      <td>0.110431</td>\n",
       "      <td>0.021173</td>\n",
       "      <td>10</td>\n",
       "      <td>3.06934</td>\n",
       "      <td>36.0318</td>\n",
       "      <td>1</td>\n",
       "      <td>{'classifier__n_iter': 10, 'classifier__penali...</td>\n",
       "      <td>0.909091</td>\n",
       "      <td>...</td>\n",
       "      <td>0.880000</td>\n",
       "      <td>0.880000</td>\n",
       "      <td>0.889697</td>\n",
       "      <td>0.013714</td>\n",
       "      <td>9</td>\n",
       "      <td>0.954545</td>\n",
       "      <td>0.956522</td>\n",
       "      <td>0.883721</td>\n",
       "      <td>0.931596</td>\n",
       "      <td>0.033862</td>\n",
       "    </tr>\n",
       "    <tr>\n",
       "      <th>37</th>\n",
       "      <td>45.625955</td>\n",
       "      <td>1.288443</td>\n",
       "      <td>0.097332</td>\n",
       "      <td>0.006729</td>\n",
       "      <td>10</td>\n",
       "      <td>3.06934</td>\n",
       "      <td>36.0318</td>\n",
       "      <td>2</td>\n",
       "      <td>{'classifier__n_iter': 10, 'classifier__penali...</td>\n",
       "      <td>0.916667</td>\n",
       "      <td>...</td>\n",
       "      <td>0.833333</td>\n",
       "      <td>0.846154</td>\n",
       "      <td>0.878670</td>\n",
       "      <td>0.055298</td>\n",
       "      <td>10</td>\n",
       "      <td>0.933333</td>\n",
       "      <td>0.933333</td>\n",
       "      <td>0.833333</td>\n",
       "      <td>0.900000</td>\n",
       "      <td>0.047140</td>\n",
       "    </tr>\n",
       "    <tr>\n",
       "      <th>38</th>\n",
       "      <td>40.276747</td>\n",
       "      <td>10.304463</td>\n",
       "      <td>0.093587</td>\n",
       "      <td>0.003252</td>\n",
       "      <td>10</td>\n",
       "      <td>3.06934</td>\n",
       "      <td>36.0318</td>\n",
       "      <td>3</td>\n",
       "      <td>{'classifier__n_iter': 10, 'classifier__penali...</td>\n",
       "      <td>0.900000</td>\n",
       "      <td>...</td>\n",
       "      <td>0.800000</td>\n",
       "      <td>0.846154</td>\n",
       "      <td>0.834432</td>\n",
       "      <td>0.024757</td>\n",
       "      <td>24</td>\n",
       "      <td>0.930233</td>\n",
       "      <td>0.933333</td>\n",
       "      <td>0.800000</td>\n",
       "      <td>0.887855</td>\n",
       "      <td>0.062136</td>\n",
       "    </tr>\n",
       "    <tr>\n",
       "      <th>39</th>\n",
       "      <td>26.416302</td>\n",
       "      <td>0.159614</td>\n",
       "      <td>0.090134</td>\n",
       "      <td>0.005210</td>\n",
       "      <td>10</td>\n",
       "      <td>3.06934</td>\n",
       "      <td>12.7234</td>\n",
       "      <td>1</td>\n",
       "      <td>{'classifier__n_iter': 10, 'classifier__penali...</td>\n",
       "      <td>0.909091</td>\n",
       "      <td>...</td>\n",
       "      <td>0.916667</td>\n",
       "      <td>0.695652</td>\n",
       "      <td>0.840470</td>\n",
       "      <td>0.102448</td>\n",
       "      <td>21</td>\n",
       "      <td>0.976744</td>\n",
       "      <td>0.936170</td>\n",
       "      <td>0.820513</td>\n",
       "      <td>0.911142</td>\n",
       "      <td>0.066191</td>\n",
       "    </tr>\n",
       "    <tr>\n",
       "      <th>40</th>\n",
       "      <td>26.106032</td>\n",
       "      <td>0.349199</td>\n",
       "      <td>0.097528</td>\n",
       "      <td>0.005109</td>\n",
       "      <td>10</td>\n",
       "      <td>3.06934</td>\n",
       "      <td>12.7234</td>\n",
       "      <td>2</td>\n",
       "      <td>{'classifier__n_iter': 10, 'classifier__penali...</td>\n",
       "      <td>0.900000</td>\n",
       "      <td>...</td>\n",
       "      <td>0.846154</td>\n",
       "      <td>0.727273</td>\n",
       "      <td>0.810190</td>\n",
       "      <td>0.058803</td>\n",
       "      <td>29</td>\n",
       "      <td>0.954545</td>\n",
       "      <td>0.916667</td>\n",
       "      <td>0.666667</td>\n",
       "      <td>0.845960</td>\n",
       "      <td>0.127719</td>\n",
       "    </tr>\n",
       "    <tr>\n",
       "      <th>41</th>\n",
       "      <td>41.228638</td>\n",
       "      <td>10.261820</td>\n",
       "      <td>0.102568</td>\n",
       "      <td>0.012996</td>\n",
       "      <td>10</td>\n",
       "      <td>3.06934</td>\n",
       "      <td>12.7234</td>\n",
       "      <td>3</td>\n",
       "      <td>{'classifier__n_iter': 10, 'classifier__penali...</td>\n",
       "      <td>0.900000</td>\n",
       "      <td>...</td>\n",
       "      <td>0.833333</td>\n",
       "      <td>0.666667</td>\n",
       "      <td>0.785714</td>\n",
       "      <td>0.084739</td>\n",
       "      <td>36</td>\n",
       "      <td>0.913043</td>\n",
       "      <td>0.913043</td>\n",
       "      <td>0.734694</td>\n",
       "      <td>0.853594</td>\n",
       "      <td>0.084075</td>\n",
       "    </tr>\n",
       "    <tr>\n",
       "      <th>42</th>\n",
       "      <td>41.578143</td>\n",
       "      <td>9.412767</td>\n",
       "      <td>0.108375</td>\n",
       "      <td>0.018804</td>\n",
       "      <td>10</td>\n",
       "      <td>3.06934</td>\n",
       "      <td>52.2338</td>\n",
       "      <td>1</td>\n",
       "      <td>{'classifier__n_iter': 10, 'classifier__penali...</td>\n",
       "      <td>0.909091</td>\n",
       "      <td>...</td>\n",
       "      <td>0.880000</td>\n",
       "      <td>0.956522</td>\n",
       "      <td>0.915204</td>\n",
       "      <td>0.031538</td>\n",
       "      <td>5</td>\n",
       "      <td>0.954545</td>\n",
       "      <td>0.956522</td>\n",
       "      <td>0.904762</td>\n",
       "      <td>0.938610</td>\n",
       "      <td>0.023948</td>\n",
       "    </tr>\n",
       "    <tr>\n",
       "      <th>43</th>\n",
       "      <td>41.036846</td>\n",
       "      <td>9.235801</td>\n",
       "      <td>0.105867</td>\n",
       "      <td>0.020333</td>\n",
       "      <td>10</td>\n",
       "      <td>3.06934</td>\n",
       "      <td>52.2338</td>\n",
       "      <td>2</td>\n",
       "      <td>{'classifier__n_iter': 10, 'classifier__penali...</td>\n",
       "      <td>0.785714</td>\n",
       "      <td>...</td>\n",
       "      <td>0.833333</td>\n",
       "      <td>0.761905</td>\n",
       "      <td>0.825079</td>\n",
       "      <td>0.048564</td>\n",
       "      <td>27</td>\n",
       "      <td>0.956522</td>\n",
       "      <td>0.933333</td>\n",
       "      <td>0.837209</td>\n",
       "      <td>0.909021</td>\n",
       "      <td>0.051654</td>\n",
       "    </tr>\n",
       "    <tr>\n",
       "      <th>44</th>\n",
       "      <td>31.256010</td>\n",
       "      <td>7.838246</td>\n",
       "      <td>0.052781</td>\n",
       "      <td>0.012198</td>\n",
       "      <td>10</td>\n",
       "      <td>3.06934</td>\n",
       "      <td>52.2338</td>\n",
       "      <td>3</td>\n",
       "      <td>{'classifier__n_iter': 10, 'classifier__penali...</td>\n",
       "      <td>0.818182</td>\n",
       "      <td>...</td>\n",
       "      <td>0.800000</td>\n",
       "      <td>0.846154</td>\n",
       "      <td>0.821445</td>\n",
       "      <td>0.018983</td>\n",
       "      <td>28</td>\n",
       "      <td>0.930233</td>\n",
       "      <td>0.933333</td>\n",
       "      <td>0.816327</td>\n",
       "      <td>0.893297</td>\n",
       "      <td>0.054441</td>\n",
       "    </tr>\n",
       "  </tbody>\n",
       "</table>\n",
       "<p>45 rows × 42 columns</p>\n",
       "</div>"
      ],
      "text/plain": [
       "    mean_fit_time  std_fit_time  mean_score_time  std_score_time  \\\n",
       "0       31.476192      0.301834         0.087892        0.004317   \n",
       "1       31.218678      1.110310         0.084075        0.007552   \n",
       "2       31.900745      0.446234         0.109873        0.032051   \n",
       "3       32.652003      0.561869         0.092893        0.015450   \n",
       "4       30.924595      1.116166         0.094333        0.001960   \n",
       "5       30.137185      0.428239         0.084285        0.006411   \n",
       "6       31.159370      0.521315         0.084280        0.006597   \n",
       "7       30.718527      0.815640         0.085081        0.004729   \n",
       "8       31.005060      0.583961         0.078571        0.004762   \n",
       "9       30.960052      0.544836         0.084983        0.001655   \n",
       "10      30.688660      0.549530         0.083477        0.000959   \n",
       "11      31.184287      0.841277         0.084353        0.008703   \n",
       "12      30.552746      0.620614         0.079894        0.005426   \n",
       "13      31.453575      1.731500         0.086224        0.011471   \n",
       "14      32.358216      2.050882         0.098276        0.011360   \n",
       "15      31.752984      0.103862         0.100989        0.020232   \n",
       "16      39.433752      2.863315         0.151202        0.043591   \n",
       "17      45.674611      1.033427         0.092566        0.010623   \n",
       "18      39.725116      3.216944         0.111460        0.003426   \n",
       "19      35.307365      0.525186         0.109863        0.014003   \n",
       "20      34.436005      0.834314         0.105552        0.010104   \n",
       "21      34.095695      0.417444         0.098823        0.003241   \n",
       "22      34.581108      0.754283         0.125283        0.040281   \n",
       "23      38.424356      4.599150         0.222355        0.054463   \n",
       "24      49.010089      0.906585         0.174179        0.096811   \n",
       "25      47.669683      1.932476         0.098491        0.010900   \n",
       "26      40.904222      2.797381         0.100398        0.009810   \n",
       "27      36.466341      1.584860         0.092555        0.000842   \n",
       "28      31.846954      0.626045         0.094703        0.003152   \n",
       "29      38.000964      3.110400         0.131667        0.018842   \n",
       "30      36.341710      1.506568         0.118322        0.009742   \n",
       "31      36.478480      0.601366         0.126061        0.008463   \n",
       "32      35.078579      0.345162         0.130580        0.010548   \n",
       "33      71.044246     25.793448         0.120314        0.024627   \n",
       "34      59.437645      7.560060         0.091533        0.002836   \n",
       "35      40.280546      8.596825         0.101277        0.005413   \n",
       "36      33.746473      9.889943         0.110431        0.021173   \n",
       "37      45.625955      1.288443         0.097332        0.006729   \n",
       "38      40.276747     10.304463         0.093587        0.003252   \n",
       "39      26.416302      0.159614         0.090134        0.005210   \n",
       "40      26.106032      0.349199         0.097528        0.005109   \n",
       "41      41.228638     10.261820         0.102568        0.012996   \n",
       "42      41.578143      9.412767         0.108375        0.018804   \n",
       "43      41.036846      9.235801         0.105867        0.020333   \n",
       "44      31.256010      7.838246         0.052781        0.012198   \n",
       "\n",
       "   param_classifier__n_iter param_classifier__penalization  \\\n",
       "0                        10                        28.6683   \n",
       "1                        10                        28.6683   \n",
       "2                        10                        28.6683   \n",
       "3                        10                        28.6683   \n",
       "4                        10                        28.6683   \n",
       "5                        10                        28.6683   \n",
       "6                        10                        28.6683   \n",
       "7                        10                        28.6683   \n",
       "8                        10                        28.6683   \n",
       "9                        10                        28.6683   \n",
       "10                       10                        28.6683   \n",
       "11                       10                        28.6683   \n",
       "12                       10                        28.6683   \n",
       "13                       10                        28.6683   \n",
       "14                       10                        28.6683   \n",
       "15                       10                        59.0915   \n",
       "16                       10                        59.0915   \n",
       "17                       10                        59.0915   \n",
       "18                       10                        59.0915   \n",
       "19                       10                        59.0915   \n",
       "20                       10                        59.0915   \n",
       "21                       10                        59.0915   \n",
       "22                       10                        59.0915   \n",
       "23                       10                        59.0915   \n",
       "24                       10                        59.0915   \n",
       "25                       10                        59.0915   \n",
       "26                       10                        59.0915   \n",
       "27                       10                        59.0915   \n",
       "28                       10                        59.0915   \n",
       "29                       10                        59.0915   \n",
       "30                       10                        3.06934   \n",
       "31                       10                        3.06934   \n",
       "32                       10                        3.06934   \n",
       "33                       10                        3.06934   \n",
       "34                       10                        3.06934   \n",
       "35                       10                        3.06934   \n",
       "36                       10                        3.06934   \n",
       "37                       10                        3.06934   \n",
       "38                       10                        3.06934   \n",
       "39                       10                        3.06934   \n",
       "40                       10                        3.06934   \n",
       "41                       10                        3.06934   \n",
       "42                       10                        3.06934   \n",
       "43                       10                        3.06934   \n",
       "44                       10                        3.06934   \n",
       "\n",
       "   param_classifier__q param_reduce_dim__n_components  \\\n",
       "0                3.754                              1   \n",
       "1                3.754                              2   \n",
       "2                3.754                              3   \n",
       "3              82.2636                              1   \n",
       "4              82.2636                              2   \n",
       "5              82.2636                              3   \n",
       "6              36.0318                              1   \n",
       "7              36.0318                              2   \n",
       "8              36.0318                              3   \n",
       "9              12.7234                              1   \n",
       "10             12.7234                              2   \n",
       "11             12.7234                              3   \n",
       "12             52.2338                              1   \n",
       "13             52.2338                              2   \n",
       "14             52.2338                              3   \n",
       "15               3.754                              1   \n",
       "16               3.754                              2   \n",
       "17               3.754                              3   \n",
       "18             82.2636                              1   \n",
       "19             82.2636                              2   \n",
       "20             82.2636                              3   \n",
       "21             36.0318                              1   \n",
       "22             36.0318                              2   \n",
       "23             36.0318                              3   \n",
       "24             12.7234                              1   \n",
       "25             12.7234                              2   \n",
       "26             12.7234                              3   \n",
       "27             52.2338                              1   \n",
       "28             52.2338                              2   \n",
       "29             52.2338                              3   \n",
       "30               3.754                              1   \n",
       "31               3.754                              2   \n",
       "32               3.754                              3   \n",
       "33             82.2636                              1   \n",
       "34             82.2636                              2   \n",
       "35             82.2636                              3   \n",
       "36             36.0318                              1   \n",
       "37             36.0318                              2   \n",
       "38             36.0318                              3   \n",
       "39             12.7234                              1   \n",
       "40             12.7234                              2   \n",
       "41             12.7234                              3   \n",
       "42             52.2338                              1   \n",
       "43             52.2338                              2   \n",
       "44             52.2338                              3   \n",
       "\n",
       "                                               params  split0_test_precision  \\\n",
       "0   {'classifier__n_iter': 10, 'classifier__penali...               0.833333   \n",
       "1   {'classifier__n_iter': 10, 'classifier__penali...               0.666667   \n",
       "2   {'classifier__n_iter': 10, 'classifier__penali...               0.625000   \n",
       "3   {'classifier__n_iter': 10, 'classifier__penali...               0.909091   \n",
       "4   {'classifier__n_iter': 10, 'classifier__penali...               1.000000   \n",
       "5   {'classifier__n_iter': 10, 'classifier__penali...               0.833333   \n",
       "6   {'classifier__n_iter': 10, 'classifier__penali...               0.909091   \n",
       "7   {'classifier__n_iter': 10, 'classifier__penali...               0.916667   \n",
       "8   {'classifier__n_iter': 10, 'classifier__penali...               0.888889   \n",
       "9   {'classifier__n_iter': 10, 'classifier__penali...               0.909091   \n",
       "10  {'classifier__n_iter': 10, 'classifier__penali...               0.900000   \n",
       "11  {'classifier__n_iter': 10, 'classifier__penali...               0.900000   \n",
       "12  {'classifier__n_iter': 10, 'classifier__penali...               0.909091   \n",
       "13  {'classifier__n_iter': 10, 'classifier__penali...               0.916667   \n",
       "14  {'classifier__n_iter': 10, 'classifier__penali...               0.800000   \n",
       "15  {'classifier__n_iter': 10, 'classifier__penali...               0.833333   \n",
       "16  {'classifier__n_iter': 10, 'classifier__penali...               0.666667   \n",
       "17  {'classifier__n_iter': 10, 'classifier__penali...               0.625000   \n",
       "18  {'classifier__n_iter': 10, 'classifier__penali...               0.909091   \n",
       "19  {'classifier__n_iter': 10, 'classifier__penali...               1.000000   \n",
       "20  {'classifier__n_iter': 10, 'classifier__penali...               0.833333   \n",
       "21  {'classifier__n_iter': 10, 'classifier__penali...               0.909091   \n",
       "22  {'classifier__n_iter': 10, 'classifier__penali...               0.916667   \n",
       "23  {'classifier__n_iter': 10, 'classifier__penali...               0.888889   \n",
       "24  {'classifier__n_iter': 10, 'classifier__penali...               0.909091   \n",
       "25  {'classifier__n_iter': 10, 'classifier__penali...               0.900000   \n",
       "26  {'classifier__n_iter': 10, 'classifier__penali...               0.900000   \n",
       "27  {'classifier__n_iter': 10, 'classifier__penali...               0.909091   \n",
       "28  {'classifier__n_iter': 10, 'classifier__penali...               0.916667   \n",
       "29  {'classifier__n_iter': 10, 'classifier__penali...               0.800000   \n",
       "30  {'classifier__n_iter': 10, 'classifier__penali...               0.666667   \n",
       "31  {'classifier__n_iter': 10, 'classifier__penali...               0.625000   \n",
       "32  {'classifier__n_iter': 10, 'classifier__penali...               0.600000   \n",
       "33  {'classifier__n_iter': 10, 'classifier__penali...               0.909091   \n",
       "34  {'classifier__n_iter': 10, 'classifier__penali...               1.000000   \n",
       "35  {'classifier__n_iter': 10, 'classifier__penali...               0.833333   \n",
       "36  {'classifier__n_iter': 10, 'classifier__penali...               0.909091   \n",
       "37  {'classifier__n_iter': 10, 'classifier__penali...               0.916667   \n",
       "38  {'classifier__n_iter': 10, 'classifier__penali...               0.900000   \n",
       "39  {'classifier__n_iter': 10, 'classifier__penali...               0.909091   \n",
       "40  {'classifier__n_iter': 10, 'classifier__penali...               0.900000   \n",
       "41  {'classifier__n_iter': 10, 'classifier__penali...               0.900000   \n",
       "42  {'classifier__n_iter': 10, 'classifier__penali...               0.909091   \n",
       "43  {'classifier__n_iter': 10, 'classifier__penali...               0.785714   \n",
       "44  {'classifier__n_iter': 10, 'classifier__penali...               0.818182   \n",
       "\n",
       "    ...  split1_test_f1  split2_test_f1  mean_test_f1  std_test_f1  \\\n",
       "0   ...        0.900000        0.594595      0.788053     0.137359   \n",
       "1   ...        0.571429        0.578947      0.639869     0.091524   \n",
       "2   ...        0.750000        0.564103      0.684948     0.085534   \n",
       "3   ...        0.909091        0.956522      0.924901     0.022359   \n",
       "4   ...        0.800000        0.761905      0.838095     0.082295   \n",
       "5   ...        0.800000        0.916667      0.862077     0.047922   \n",
       "6   ...        0.916667        0.956522      0.927426     0.020805   \n",
       "7   ...        0.800000        0.800000      0.852174     0.073785   \n",
       "8   ...        0.833333        0.846154      0.826496     0.019453   \n",
       "9   ...        0.916667        0.761905      0.862554     0.071237   \n",
       "10  ...        0.833333        0.615385      0.768620     0.108789   \n",
       "11  ...        0.869565        0.695652      0.807453     0.079218   \n",
       "12  ...        0.880000        0.956522      0.915204     0.031538   \n",
       "13  ...        0.833333        0.814815      0.868223     0.062892   \n",
       "14  ...        0.800000        0.846154      0.802686     0.034447   \n",
       "15  ...        0.900000        0.594595      0.788053     0.137359   \n",
       "16  ...        0.571429        0.578947      0.639869     0.091524   \n",
       "17  ...        0.750000        0.564103      0.684948     0.085534   \n",
       "18  ...        0.909091        0.956522      0.924901     0.022359   \n",
       "19  ...        0.800000        0.818182      0.856854     0.067954   \n",
       "20  ...        0.800000        0.916667      0.862077     0.047922   \n",
       "21  ...        0.880000        0.956522      0.915204     0.031538   \n",
       "22  ...        0.800000        0.800000      0.852174     0.073785   \n",
       "23  ...        0.833333        0.846154      0.826496     0.019453   \n",
       "24  ...        0.916667        0.761905      0.862554     0.071237   \n",
       "25  ...        0.833333        0.615385      0.768620     0.108789   \n",
       "26  ...        0.869565        0.695652      0.807453     0.079218   \n",
       "27  ...        0.880000        0.956522      0.915204     0.031538   \n",
       "28  ...        0.833333        0.814815      0.868223     0.062892   \n",
       "29  ...        0.800000        0.846154      0.802686     0.034447   \n",
       "30  ...        0.900000        0.578947      0.692982     0.146636   \n",
       "31  ...        0.571429        0.578947      0.630372     0.078103   \n",
       "32  ...        0.695652        0.526316      0.638092     0.079049   \n",
       "33  ...        0.909091        0.956522      0.924901     0.022359   \n",
       "34  ...        0.800000        0.761905      0.838095     0.082295   \n",
       "35  ...        0.800000        0.916667      0.862077     0.047922   \n",
       "36  ...        0.880000        0.880000      0.889697     0.013714   \n",
       "37  ...        0.833333        0.846154      0.878670     0.055298   \n",
       "38  ...        0.800000        0.846154      0.834432     0.024757   \n",
       "39  ...        0.916667        0.695652      0.840470     0.102448   \n",
       "40  ...        0.846154        0.727273      0.810190     0.058803   \n",
       "41  ...        0.833333        0.666667      0.785714     0.084739   \n",
       "42  ...        0.880000        0.956522      0.915204     0.031538   \n",
       "43  ...        0.833333        0.761905      0.825079     0.048564   \n",
       "44  ...        0.800000        0.846154      0.821445     0.018983   \n",
       "\n",
       "    rank_test_f1  split0_train_f1  split1_train_f1  split2_train_f1  \\\n",
       "0             34         0.875000         0.857143         0.584615   \n",
       "1             42         0.875000         0.717949         0.591549   \n",
       "2             40         0.816327         0.800000         0.555556   \n",
       "3              2         0.954545         0.977778         0.926829   \n",
       "4             22         0.954545         0.933333         0.900000   \n",
       "5             15         0.930233         0.933333         0.851064   \n",
       "6              1         0.976744         0.936170         0.904762   \n",
       "7             19         0.933333         0.897959         0.833333   \n",
       "8             25         0.930233         0.933333         0.800000   \n",
       "9             13         0.954545         0.936170         0.850000   \n",
       "10            37         0.954545         0.933333         0.711111   \n",
       "11            30         0.913043         0.909091         0.727273   \n",
       "12             5         0.954545         0.956522         0.904762   \n",
       "13            11         0.936170         0.933333         0.833333   \n",
       "14            32         0.930233         0.933333         0.816327   \n",
       "15            34         0.875000         0.857143         0.584615   \n",
       "16            42         0.875000         0.717949         0.591549   \n",
       "17            40         0.816327         0.800000         0.555556   \n",
       "18             2         0.954545         0.977778         0.926829   \n",
       "19            18         0.954545         0.933333         0.883721   \n",
       "20            15         0.930233         0.933333         0.851064   \n",
       "21             5         0.954545         0.936170         0.904762   \n",
       "22            19         0.933333         0.897959         0.833333   \n",
       "23            25         0.930233         0.933333         0.800000   \n",
       "24            13         0.954545         0.936170         0.850000   \n",
       "25            37         0.954545         0.933333         0.711111   \n",
       "26            30         0.913043         0.909091         0.727273   \n",
       "27             5         0.954545         0.956522         0.904762   \n",
       "28            11         0.936170         0.933333         0.833333   \n",
       "29            32         0.930233         0.933333         0.816327   \n",
       "30            39         0.775510         0.837209         0.579710   \n",
       "31            45         0.823529         0.702703         0.571429   \n",
       "32            44         0.816327         0.782609         0.555556   \n",
       "33             2         0.976744         0.977778         0.926829   \n",
       "34            22         0.954545         0.933333         0.900000   \n",
       "35            15         0.933333         0.933333         0.851064   \n",
       "36             9         0.954545         0.956522         0.883721   \n",
       "37            10         0.933333         0.933333         0.833333   \n",
       "38            24         0.930233         0.933333         0.800000   \n",
       "39            21         0.976744         0.936170         0.820513   \n",
       "40            29         0.954545         0.916667         0.666667   \n",
       "41            36         0.913043         0.913043         0.734694   \n",
       "42             5         0.954545         0.956522         0.904762   \n",
       "43            27         0.956522         0.933333         0.837209   \n",
       "44            28         0.930233         0.933333         0.816327   \n",
       "\n",
       "    mean_train_f1  std_train_f1  \n",
       "0        0.772253      0.132880  \n",
       "1        0.728166      0.115944  \n",
       "2        0.723961      0.119267  \n",
       "3        0.953051      0.020826  \n",
       "4        0.929293      0.022451  \n",
       "5        0.904877      0.038072  \n",
       "6        0.939225      0.029466  \n",
       "7        0.888209      0.041403  \n",
       "8        0.887855      0.062136  \n",
       "9        0.913572      0.045574  \n",
       "10       0.866330      0.110097  \n",
       "11       0.849802      0.086657  \n",
       "12       0.938610      0.023948  \n",
       "13       0.900946      0.047823  \n",
       "14       0.893297      0.054441  \n",
       "15       0.772253      0.132880  \n",
       "16       0.728166      0.115944  \n",
       "17       0.723961      0.119267  \n",
       "18       0.953051      0.020826  \n",
       "19       0.923867      0.029679  \n",
       "20       0.904877      0.038072  \n",
       "21       0.931826      0.020555  \n",
       "22       0.888209      0.041403  \n",
       "23       0.887855      0.062136  \n",
       "24       0.913572      0.045574  \n",
       "25       0.866330      0.110097  \n",
       "26       0.849802      0.086657  \n",
       "27       0.938610      0.023948  \n",
       "28       0.900946      0.047823  \n",
       "29       0.893297      0.054441  \n",
       "30       0.730810      0.109773  \n",
       "31       0.699220      0.102949  \n",
       "32       0.718164      0.115802  \n",
       "33       0.960450      0.023777  \n",
       "34       0.929293      0.022451  \n",
       "35       0.905910      0.038782  \n",
       "36       0.931596      0.033862  \n",
       "37       0.900000      0.047140  \n",
       "38       0.887855      0.062136  \n",
       "39       0.911142      0.066191  \n",
       "40       0.845960      0.127719  \n",
       "41       0.853594      0.084075  \n",
       "42       0.938610      0.023948  \n",
       "43       0.909021      0.051654  \n",
       "44       0.893297      0.054441  \n",
       "\n",
       "[45 rows x 42 columns]"
      ]
     },
     "execution_count": 109,
     "metadata": {},
     "output_type": "execute_result"
    }
   ],
   "source": [
    "import pandas as pd\n",
    "\n",
    "cv_res = pd.DataFrame(search.cv_results_)\n",
    "cv_res"
   ]
  },
  {
   "cell_type": "code",
   "execution_count": 96,
   "metadata": {
    "gather": {
     "logged": 1617385508150
    },
    "jupyter": {
     "outputs_hidden": false,
     "source_hidden": false
    },
    "nteract": {
     "transient": {
      "deleting": false
     }
    }
   },
   "outputs": [],
   "source": [
    "clf = search.best_estimator_['classifier']"
   ]
  },
  {
   "cell_type": "code",
   "execution_count": 97,
   "metadata": {
    "gather": {
     "logged": 1617385508263
    },
    "jupyter": {
     "outputs_hidden": false,
     "source_hidden": false
    },
    "nteract": {
     "transient": {
      "deleting": false
     }
    }
   },
   "outputs": [],
   "source": [
    "# TO CHECK PCA NUMBER OF COMPONENTS BEFORE PLOTTING\n",
    "# gx = np.linspace(min(clf.X_[:,0])-1, max(clf.X_[:,0])+1, 50)\n",
    "# gy = np.linspace(min(clf.X_[:,1])-1, max(clf.X_[:,1])+1, 50)\n",
    "# gX, gY = np.meshgrid(gx, gy)\n",
    "# zs = np.array([clf._compute_r(np.array([x, y])) for x, y in zip(np.ravel(gX), np.ravel(gY))])\n",
    "# gZ = zs.reshape(gX.shape)\n",
    "# membership_contour = plt.contour(gX, gY, gZ, levels=(clf.radiuses_[clf.sv_i], ))\n",
    "# plt.clabel(membership_contour, inline=1)\n",
    "\n",
    "# plt.scatter(clf.X_[:,0], clf.X_[:,1], c=clf.y_)\n",
    "# plt.show()"
   ]
  },
  {
   "cell_type": "code",
   "execution_count": 98,
   "metadata": {
    "gather": {
     "logged": 1617385508374
    },
    "jupyter": {
     "outputs_hidden": false,
     "source_hidden": false
    },
    "nteract": {
     "transient": {
      "deleting": false
     }
    }
   },
   "outputs": [
    {
     "name": "stdout",
     "output_type": "stream",
     "text": [
      "              precision    recall  f1-score   support\n",
      "\n",
      "           0       0.89      1.00      0.94        33\n",
      "           1       1.00      0.76      0.87        17\n",
      "\n",
      "    accuracy                           0.92        50\n",
      "   macro avg       0.95      0.88      0.90        50\n",
      "weighted avg       0.93      0.92      0.92        50\n",
      "\n"
     ]
    }
   ],
   "source": [
    "from sklearn.metrics import classification_report\n",
    "\n",
    "print(classification_report(y_test, search.predict(X_test)))"
   ]
  },
  {
   "cell_type": "code",
   "execution_count": 99,
   "metadata": {
    "gather": {
     "logged": 1617385508500
    },
    "jupyter": {
     "outputs_hidden": false,
     "source_hidden": false
    },
    "nteract": {
     "transient": {
      "deleting": false
     }
    }
   },
   "outputs": [
    {
     "data": {
      "text/plain": [
       "['grid_iris.joblib']"
      ]
     },
     "execution_count": 99,
     "metadata": {},
     "output_type": "execute_result"
    }
   ],
   "source": [
    "dump(clf, 'grid_iris.joblib') "
   ]
  },
  {
   "cell_type": "code",
   "execution_count": 100,
   "metadata": {
    "jupyter": {
     "outputs_hidden": false,
     "source_hidden": false
    },
    "nteract": {
     "transient": {
      "deleting": false
     }
    }
   },
   "outputs": [],
   "source": [
    "columns = [col for col in cv_res.columns if 'mean' in col and 'test' in col]\n",
    "columns.append('param_classifier__q')\n",
    "columns.append('param_reduce_dim__n_components')"
   ]
  },
  {
   "cell_type": "code",
   "execution_count": 124,
   "metadata": {},
   "outputs": [],
   "source": [
    "cv_res_fil = cv_res[cv_res['param_classifier__penalization'] == search.best_params_['classifier__penalization']][columns]\n",
    "cv_res_fil = cv_res_fil[cv_res_fil['param_reduce_dim__n_components'] == search.best_params_['reduce_dim__n_components']]\n",
    "cv_res_fil= cv_res_fil.drop('param_reduce_dim__n_components', axis=1)"
   ]
  },
  {
   "cell_type": "code",
   "execution_count": 131,
   "metadata": {},
   "outputs": [
    {
     "data": {
      "image/png": "[encoded data removed]",
      "text/plain": [
       "<Figure size 432x288 with 1 Axes>"
      ]
     },
     "metadata": {
      "needs_background": "light"
     },
     "output_type": "display_data"
    }
   ],
   "source": [
    "cv_res_fil.sort_values('param_classifier__q', axis=0).plot(x='param_classifier__q')\n",
    "plt.show()"
   ]
  },
  {
   "cell_type": "code",
   "execution_count": null,
   "metadata": {},
   "outputs": [],
   "source": []
  }
 ],
 "metadata": {
  "kernel_info": {
   "name": "python3"
  },
  "kernelspec": {
   "display_name": "Python 3",
   "language": "python",
   "name": "python3"
  },
  "language_info": {
   "codemirror_mode": {
    "name": "ipython",
    "version": 3
   },
   "file_extension": ".py",
   "mimetype": "text/x-python",
   "name": "python",
   "nbconvert_exporter": "python",
   "pygments_lexer": "ipython3",
   "version": "3.8.5"
  },
  "microsoft": {
   "host": {
    "AzureML": {
     "notebookHasBeenCompleted": true
    }
   }
  },
  "nteract": {
   "version": "nteract-front-end@1.0.0"
  }
 },
 "nbformat": 4,
 "nbformat_minor": 4
}

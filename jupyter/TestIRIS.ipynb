{
  "cells": [
    {
      "cell_type": "code",
      "source": [
        "from sklearn import datasets\n",
        "\n",
        "iris = datasets.load_iris()"
      ],
      "outputs": [],
      "execution_count": 1,
      "metadata": {
        "gather": {
          "logged": 1617384475877
        }
      }
    },
    {
      "cell_type": "code",
      "source": [
        "from sklearn.decomposition import PCA\n",
        "from sklearn.preprocessing import StandardScaler, MaxAbsScaler, RobustScaler, QuantileTransformer\n",
        "import numpy as np\n",
        "from sklearn.model_selection import GridSearchCV"
      ],
      "outputs": [],
      "execution_count": 2,
      "metadata": {
        "gather": {
          "logged": 1617384476397
        }
      }
    },
    {
      "cell_type": "code",
      "source": [
        "import matplotlib.pyplot as plt"
      ],
      "outputs": [],
      "execution_count": 3,
      "metadata": {
        "gather": {
          "logged": 1617384476716
        }
      }
    },
    {
      "cell_type": "code",
      "source": [
        "X = iris.data\n",
        "#y = [1] * 50 + [0] * 100\n",
        "y = [0] * 50 + [1] * 50 + [0] * 50"
      ],
      "outputs": [],
      "execution_count": 4,
      "metadata": {
        "gather": {
          "logged": 1617384477061
        }
      }
    },
    {
      "cell_type": "code",
      "source": [
        "X_scaled = MaxAbsScaler().fit_transform(X)\n",
        "X_reduced = PCA(n_components=2).fit_transform(X_scaled)\n",
        "X_class, y_class = np.concatenate((X_reduced[:50], X_reduced[100:])), np.concatenate((y[:50], y[100:]))"
      ],
      "outputs": [],
      "execution_count": 5,
      "metadata": {
        "gather": {
          "logged": 1617384477515
        }
      }
    },
    {
      "cell_type": "code",
      "source": [
        "plt.scatter(X_reduced[:,0],X_reduced[:,1], c=y)\n",
        "plt.show()"
      ],
      "outputs": [
        {
          "output_type": "display_data",
          "data": {
            "text/plain": "<Figure size 432x288 with 1 Axes>",
            "image/png": "[encoded data removed]"
          },
          "metadata": {
            "needs_background": "light"
          }
        }
      ],
      "execution_count": 6,
      "metadata": {
        "scrolled": true,
        "gather": {
          "logged": 1617384478050
        }
      }
    },
    {
      "cell_type": "code",
      "source": [
        "import sys\n",
        "\n",
        "sys.path.append('..')\n",
        "\n",
        "from flod.classifiers.bsvclassifier import BSVClassifier"
      ],
      "outputs": [],
      "execution_count": 7,
      "metadata": {
        "gather": {
          "logged": 1617384479362
        }
      }
    },
    {
      "cell_type": "code",
      "source": [
        "max_dist = 0\n",
        "for i in X:\n",
        "    for j in X:\n",
        "        dist = np.linalg.norm(i-j, ord=2)**2\n",
        "        if dist > max_dist:\n",
        "            max_dist = dist\n",
        "\n",
        "print(f'Suggested q: {1/max_dist}')"
      ],
      "outputs": [
        {
          "output_type": "stream",
          "name": "stdout",
          "text": [
            "Suggested q: 0.019920318725099598\n"
          ]
        }
      ],
      "execution_count": 8,
      "metadata": {
        "collapsed": true,
        "jupyter": {
          "source_hidden": false,
          "outputs_hidden": false
        },
        "nteract": {
          "transient": {
            "deleting": false
          }
        },
        "gather": {
          "logged": 1617384479666
        }
      }
    },
    {
      "cell_type": "code",
      "source": [
        "q = 10\n",
        "p = 50\n",
        "\n",
        "c = 1\n",
        "\n",
        "print(f'p={1 / (c*len(X_reduced))}')"
      ],
      "outputs": [
        {
          "output_type": "stream",
          "name": "stdout",
          "text": [
            "p=0.006666666666666667\n"
          ]
        }
      ],
      "execution_count": 9,
      "metadata": {
        "gather": {
          "logged": 1617384479780
        }
      }
    },
    {
      "cell_type": "code",
      "source": [
        "clf = BSVClassifier(n_iter=10, q=q, penalization=200)\n",
        "clf.fit(X_class, y_class)"
      ],
      "outputs": [
        {
          "output_type": "execute_result",
          "execution_count": 10,
          "data": {
            "text/plain": "BSVClassifier(init_bound=0.1, n_iter=10, penalization=200, q=10, random_seed=42)"
          },
          "metadata": {}
        }
      ],
      "execution_count": 10,
      "metadata": {
        "scrolled": true,
        "gather": {
          "logged": 1617384518443
        }
      }
    },
    {
      "cell_type": "code",
      "source": [
        "y_pred = clf.predict(X_reduced)"
      ],
      "outputs": [],
      "execution_count": 11,
      "metadata": {
        "gather": {
          "logged": 1617384518779
        }
      }
    },
    {
      "cell_type": "code",
      "source": [
        "from sklearn.metrics import accuracy_score, precision_score, recall_score, f1_score\n",
        "\n",
        "print(f'Precision {precision_score(y, y_pred)}')\n",
        "print(f'Recall {recall_score(y, y_pred)}')\n",
        "print(f'F1 {f1_score(y, y_pred)}')\n",
        "print(f'Accuracy {accuracy_score(y, y_pred)}')"
      ],
      "outputs": [
        {
          "output_type": "stream",
          "name": "stdout",
          "text": [
            "Precision 1.0\n",
            "Recall 0.46\n",
            "F1 0.6301369863013699\n",
            "Accuracy 0.82\n"
          ]
        }
      ],
      "execution_count": 12,
      "metadata": {
        "collapsed": true,
        "jupyter": {
          "source_hidden": false,
          "outputs_hidden": false
        },
        "nteract": {
          "transient": {
            "deleting": false
          }
        },
        "gather": {
          "logged": 1617384518894
        }
      }
    },
    {
      "cell_type": "code",
      "source": [
        "gx = np.linspace(min(X_reduced[:,0])-1, max(X_reduced[:,0])+1, 50)\n",
        "gy = np.linspace(min(X_reduced[:,1])-1, max(X_reduced[:,1])+1, 50)\n",
        "gX, gY = np.meshgrid(gx, gy)\n",
        "zs = np.array([clf._compute_r(np.array([x, y])) for x, y in zip(np.ravel(gX), np.ravel(gY))])\n",
        "gZ = zs.reshape(gX.shape)\n",
        "membership_contour = plt.contour(gX, gY, gZ, levels=(clf.radiuses_[clf.sv_i], ))\n",
        "plt.clabel(membership_contour, inline=1)\n",
        "\n",
        "plt.scatter(X_reduced[:,0],X_reduced[:,1], c=y)\n",
        "plt.show()"
      ],
      "outputs": [
        {
          "output_type": "display_data",
          "data": {
            "text/plain": "<Figure size 432x288 with 1 Axes>",
            "image/png": "[encoded data removed]"
          },
          "metadata": {
            "needs_background": "light"
          }
        }
      ],
      "execution_count": 13,
      "metadata": {
        "gather": {
          "logged": 1617384522412
        }
      }
    },
    {
      "cell_type": "code",
      "source": [
        "from joblib import dump, load\n",
        "dump(clf, 'iris.joblib') "
      ],
      "outputs": [
        {
          "output_type": "execute_result",
          "execution_count": 14,
          "data": {
            "text/plain": "['iris.joblib']"
          },
          "metadata": {}
        }
      ],
      "execution_count": 14,
      "metadata": {
        "gather": {
          "logged": 1617384522555
        }
      }
    },
    {
      "cell_type": "markdown",
      "source": [
        "**Analizzare risultato di questa run in altro notebook**"
      ],
      "metadata": {}
    },
    {
      "cell_type": "markdown",
      "source": [
        "Mi aspetto che esperimento qui sotto faccia schifo. C è uguale a 1 ma sto passando dei bsv.\n",
        "Dovrei far si che training (aka solve optimization) lavori solo con dati con y = 0"
      ],
      "metadata": {
        "nteract": {
          "transient": {
            "deleting": false
          }
        }
      }
    },
    {
      "cell_type": "code",
      "source": [
        "from sklearn.model_selection import train_test_split\n",
        "\n",
        "X_train, X_test, y_train, y_test = train_test_split(X, y, test_size=0.33, shuffle=True, stratify=y)"
      ],
      "outputs": [],
      "execution_count": 15,
      "metadata": {
        "collapsed": true,
        "jupyter": {
          "source_hidden": false,
          "outputs_hidden": false
        },
        "nteract": {
          "transient": {
            "deleting": false
          }
        },
        "gather": {
          "logged": 1617384522665
        }
      }
    },
    {
      "cell_type": "code",
      "source": [
        "from sklearn.pipeline import Pipeline\n",
        "from sklearn.model_selection import StratifiedKFold\n",
        "\n",
        "\n",
        "pipe = Pipeline([\n",
        "        ('scaler', MaxAbsScaler()),\n",
        "        ('reduce_dim', PCA()),\n",
        "        ('classifier', BSVClassifier())\n",
        "])"
      ],
      "outputs": [],
      "execution_count": 16,
      "metadata": {
        "gather": {
          "logged": 1617384522780
        }
      }
    },
    {
      "cell_type": "code",
      "source": [
        "params = {\n",
        "    #'scaler': [StandardScaler(), MaxAbsScaler(), RobustScaler(), QuantileTransformer()],\n",
        "    'reduce_dim__n_components': range(iris.data.shape[1]),\n",
        "    'classifier__n_iter': [10],\n",
        "    'classifier__penalization': [10, 100, 200],\n",
        "    'classifier__q': [1/max_dist, 1, 10, 100, 1000]\n",
        "}\n",
        "\n",
        "cv = StratifiedKFold(n_splits=3, shuffle=True)\n",
        "search = GridSearchCV(pipe, params, n_jobs=-1, cv=cv, refit=True, verbose=5, return_train_score=True)"
      ],
      "outputs": [],
      "execution_count": 17,
      "metadata": {
        "collapsed": true,
        "jupyter": {
          "source_hidden": false,
          "outputs_hidden": false
        },
        "nteract": {
          "transient": {
            "deleting": false
          }
        },
        "gather": {
          "logged": 1617384522911
        }
      }
    },
    {
      "cell_type": "code",
      "source": [
        "search.fit(X_train, y_train)"
      ],
      "outputs": [
        {
          "output_type": "stream",
          "name": "stdout",
          "text": [
            "Fitting 3 folds for each of 60 candidates, totalling 180 fits\n"
          ]
        },
        {
          "output_type": "stream",
          "name": "stderr",
          "text": [
            "[Parallel(n_jobs=-1)]: Using backend LokyBackend with 4 concurrent workers.\n",
            "[Parallel(n_jobs=-1)]: Done  10 tasks      | elapsed:  1.4min\n",
            "[Parallel(n_jobs=-1)]: Done  64 tasks      | elapsed:  6.6min\n",
            "[Parallel(n_jobs=-1)]: Done 154 tasks      | elapsed: 14.1min\n",
            "[Parallel(n_jobs=-1)]: Done 180 out of 180 | elapsed: 16.0min finished\n"
          ]
        },
        {
          "output_type": "execute_result",
          "execution_count": 18,
          "data": {
            "text/plain": "GridSearchCV(cv=StratifiedKFold(n_splits=3, random_state=None, shuffle=True),\n             error_score=nan,\n             estimator=Pipeline(memory=None,\n                                steps=[('scaler', MaxAbsScaler(copy=True)),\n                                       ('reduce_dim',\n                                        PCA(copy=True, iterated_power='auto',\n                                            n_components=None,\n                                            random_state=None,\n                                            svd_solver='auto', tol=0.0,\n                                            whiten=False)),\n                                       ('classifier',\n                                        BSVClassifier(init_bound=0.1,\n                                                      n_iter=100,\n                                                      penalization=10, q=1,\n                                                      random_seed=42))],\n                                verbose=False),\n             iid='deprecated', n_jobs=-1,\n             param_grid={'classifier__n_iter': [10],\n                         'classifier__penalization': [10, 100, 200],\n                         'classifier__q': [0.019920318725099598, 1, 10, 100,\n                                           1000],\n                         'reduce_dim__n_components': range(0, 4)},\n             pre_dispatch='2*n_jobs', refit=True, return_train_score=True,\n             scoring=None, verbose=5)"
          },
          "metadata": {}
        }
      ],
      "execution_count": 18,
      "metadata": {
        "collapsed": true,
        "jupyter": {
          "source_hidden": false,
          "outputs_hidden": false
        },
        "nteract": {
          "transient": {
            "deleting": false
          }
        },
        "gather": {
          "logged": 1617385506934
        }
      }
    },
    {
      "cell_type": "code",
      "source": [
        "print(f'Best params: {search.best_params_}')\n",
        "print(f'Best score: {search.best_score_}')"
      ],
      "outputs": [
        {
          "output_type": "stream",
          "name": "stdout",
          "text": [
            "Best params: {'classifier__n_iter': 10, 'classifier__penalization': 100, 'classifier__q': 100, 'reduce_dim__n_components': 1}\n",
            "Best score: 0.960190136660725\n"
          ]
        }
      ],
      "execution_count": 19,
      "metadata": {
        "collapsed": true,
        "jupyter": {
          "source_hidden": false,
          "outputs_hidden": false
        },
        "nteract": {
          "transient": {
            "deleting": false
          }
        },
        "gather": {
          "logged": 1617385507295
        }
      }
    },
    {
      "cell_type": "code",
      "source": [
        "search.score(X_test, y_test)"
      ],
      "outputs": [
        {
          "output_type": "execute_result",
          "execution_count": 20,
          "data": {
            "text/plain": "0.96"
          },
          "metadata": {}
        }
      ],
      "execution_count": 20,
      "metadata": {
        "collapsed": true,
        "jupyter": {
          "source_hidden": false,
          "outputs_hidden": false
        },
        "nteract": {
          "transient": {
            "deleting": false
          }
        },
        "gather": {
          "logged": 1617385507584
        }
      }
    },
    {
      "cell_type": "code",
      "source": [
        "search.cv_results_"
      ],
      "outputs": [
        {
          "output_type": "execute_result",
          "execution_count": 21,
          "data": {
            "text/plain": "{'mean_fit_time': array([26.81420167, 26.79873284, 26.86768794, 26.55250621, 26.4276042 ,\n        24.9370416 , 24.9936254 , 24.94566552, 26.57801374, 23.43603555,\n        23.60242478, 22.88908148, 26.51004632, 23.05505808, 22.07303754,\n        21.77376684, 26.34842881, 22.2694006 , 21.09881377, 20.89806167,\n        20.09247279, 20.08283997, 20.11805113, 20.10424717, 20.1774381 ,\n        20.07036757, 19.6275696 , 19.54299617, 20.70585171, 19.66845886,\n        19.83596198, 20.36171333, 19.93668254, 19.31565054, 19.7063671 ,\n        20.1722428 , 19.84179282, 19.17330774, 19.50084448, 19.49809504,\n        19.35408791, 19.73104421, 19.37032429, 19.72038031, 19.1486574 ,\n        18.49220785, 18.78919951, 18.50634702, 19.34822941, 19.11445419,\n        18.95131715, 19.0481716 , 19.25235558, 19.03978491, 18.88672853,\n        18.89159091, 19.05221279, 19.12008429, 18.09023905, 13.9038918 ]),\n 'std_fit_time': array([0.28929575, 0.55356014, 0.57812848, 0.03410401, 0.39773305,\n        0.90936923, 0.33809634, 0.52334207, 0.47408258, 0.43216985,\n        0.92913902, 1.14759461, 0.38998369, 1.07624975, 1.14414508,\n        0.74331981, 0.40716044, 0.50258444, 0.41197341, 0.10222247,\n        0.32368264, 0.4061606 , 0.43875196, 0.37641202, 0.38969268,\n        0.35071499, 0.46674143, 0.60779938, 0.41230507, 0.55201084,\n        0.18743267, 0.11433722, 0.70824429, 0.44661787, 0.19348832,\n        0.26963971, 0.93091553, 0.65588597, 0.76605841, 0.62271749,\n        0.58785281, 0.71426724, 0.63119047, 0.55166092, 0.53831433,\n        0.36232899, 0.59447504, 0.59791062, 0.2967634 , 0.61508763,\n        0.7712782 , 0.78471166, 0.38477757, 0.99959526, 0.69173982,\n        0.74287565, 0.19315339, 0.08872019, 0.47445965, 1.39414714]),\n 'mean_score_time': array([0.05469664, 0.05465849, 0.05549844, 0.05605324, 0.05463258,\n        0.05512492, 0.05482515, 0.05545449, 0.05528196, 0.05464673,\n        0.0554258 , 0.05554891, 0.05532893, 0.05487553, 0.0551846 ,\n        0.0556035 , 0.05455518, 0.05525287, 0.05532948, 0.0553925 ,\n        0.05511006, 0.05460064, 0.05513589, 0.0550139 , 0.05486766,\n        0.05462917, 0.05436683, 0.05443613, 0.05561209, 0.05258814,\n        0.05459762, 0.05503599, 0.05454222, 0.05381878, 0.05456599,\n        0.05524445, 0.05468861, 0.05385081, 0.05462885, 0.05522895,\n        0.05376299, 0.05447578, 0.05438177, 0.05522585, 0.05361803,\n        0.05376323, 0.05452394, 0.0537192 , 0.05402748, 0.05337469,\n        0.05386019, 0.05387203, 0.05410274, 0.05340123, 0.05556758,\n        0.05397264, 0.05357599, 0.05404711, 0.05423331, 0.03007253]),\n 'std_score_time': array([7.57350476e-04, 4.43452760e-04, 4.63054726e-04, 5.96702003e-05,\n        4.52153626e-04, 8.65176432e-04, 6.61082180e-04, 9.55145436e-04,\n        4.53496552e-04, 7.31470403e-04, 9.40894192e-04, 3.47045740e-04,\n        3.05658528e-04, 9.93236393e-04, 7.36250264e-04, 3.79407394e-04,\n        4.69346376e-04, 1.02766359e-03, 1.10167885e-03, 1.01201553e-03,\n        9.96469215e-04, 6.57628584e-04, 4.76539691e-04, 6.17586625e-04,\n        6.27308274e-04, 2.37575338e-04, 4.60595941e-04, 4.31351346e-04,\n        5.69593113e-04, 2.35493012e-03, 9.69771803e-04, 7.49830849e-04,\n        1.20321857e-04, 5.91646175e-04, 1.64377719e-03, 1.19685824e-03,\n        8.28873779e-04, 8.76987958e-04, 1.29188666e-03, 1.92322402e-03,\n        6.75957958e-04, 1.36881424e-03, 1.39009796e-03, 1.45541465e-03,\n        9.11153054e-04, 1.95329055e-03, 4.40938516e-04, 2.58095524e-04,\n        5.91823538e-04, 5.93536571e-04, 7.64640833e-04, 3.17198057e-04,\n        9.10402405e-04, 4.96540716e-04, 1.96891856e-03, 4.55147263e-04,\n        7.26612868e-04, 1.19121239e-03, 4.03872675e-04, 5.03403966e-04]),\n 'param_classifier__n_iter': masked_array(data=[10, 10, 10, 10, 10, 10, 10, 10, 10, 10, 10, 10, 10, 10,\n                    10, 10, 10, 10, 10, 10, 10, 10, 10, 10, 10, 10, 10, 10,\n                    10, 10, 10, 10, 10, 10, 10, 10, 10, 10, 10, 10, 10, 10,\n                    10, 10, 10, 10, 10, 10, 10, 10, 10, 10, 10, 10, 10, 10,\n                    10, 10, 10, 10],\n              mask=[False, False, False, False, False, False, False, False,\n                    False, False, False, False, False, False, False, False,\n                    False, False, False, False, False, False, False, False,\n                    False, False, False, False, False, False, False, False,\n                    False, False, False, False, False, False, False, False,\n                    False, False, False, False, False, False, False, False,\n                    False, False, False, False, False, False, False, False,\n                    False, False, False, False],\n        fill_value='?',\n             dtype=object),\n 'param_classifier__penalization': masked_array(data=[10, 10, 10, 10, 10, 10, 10, 10, 10, 10, 10, 10, 10, 10,\n                    10, 10, 10, 10, 10, 10, 100, 100, 100, 100, 100, 100,\n                    100, 100, 100, 100, 100, 100, 100, 100, 100, 100, 100,\n                    100, 100, 100, 200, 200, 200, 200, 200, 200, 200, 200,\n                    200, 200, 200, 200, 200, 200, 200, 200, 200, 200, 200,\n                    200],\n              mask=[False, False, False, False, False, False, False, False,\n                    False, False, False, False, False, False, False, False,\n                    False, False, False, False, False, False, False, False,\n                    False, False, False, False, False, False, False, False,\n                    False, False, False, False, False, False, False, False,\n                    False, False, False, False, False, False, False, False,\n                    False, False, False, False, False, False, False, False,\n                    False, False, False, False],\n        fill_value='?',\n             dtype=object),\n 'param_classifier__q': masked_array(data=[0.019920318725099598, 0.019920318725099598,\n                    0.019920318725099598, 0.019920318725099598, 1, 1, 1, 1,\n                    10, 10, 10, 10, 100, 100, 100, 100, 1000, 1000, 1000,\n                    1000, 0.019920318725099598, 0.019920318725099598,\n                    0.019920318725099598, 0.019920318725099598, 1, 1, 1, 1,\n                    10, 10, 10, 10, 100, 100, 100, 100, 1000, 1000, 1000,\n                    1000, 0.019920318725099598, 0.019920318725099598,\n                    0.019920318725099598, 0.019920318725099598, 1, 1, 1, 1,\n                    10, 10, 10, 10, 100, 100, 100, 100, 1000, 1000, 1000,\n                    1000],\n              mask=[False, False, False, False, False, False, False, False,\n                    False, False, False, False, False, False, False, False,\n                    False, False, False, False, False, False, False, False,\n                    False, False, False, False, False, False, False, False,\n                    False, False, False, False, False, False, False, False,\n                    False, False, False, False, False, False, False, False,\n                    False, False, False, False, False, False, False, False,\n                    False, False, False, False],\n        fill_value='?',\n             dtype=object),\n 'param_reduce_dim__n_components': masked_array(data=[0, 1, 2, 3, 0, 1, 2, 3, 0, 1, 2, 3, 0, 1, 2, 3, 0, 1,\n                    2, 3, 0, 1, 2, 3, 0, 1, 2, 3, 0, 1, 2, 3, 0, 1, 2, 3,\n                    0, 1, 2, 3, 0, 1, 2, 3, 0, 1, 2, 3, 0, 1, 2, 3, 0, 1,\n                    2, 3, 0, 1, 2, 3],\n              mask=[False, False, False, False, False, False, False, False,\n                    False, False, False, False, False, False, False, False,\n                    False, False, False, False, False, False, False, False,\n                    False, False, False, False, False, False, False, False,\n                    False, False, False, False, False, False, False, False,\n                    False, False, False, False, False, False, False, False,\n                    False, False, False, False, False, False, False, False,\n                    False, False, False, False],\n        fill_value='?',\n             dtype=object),\n 'params': [{'classifier__n_iter': 10,\n   'classifier__penalization': 10,\n   'classifier__q': 0.019920318725099598,\n   'reduce_dim__n_components': 0},\n  {'classifier__n_iter': 10,\n   'classifier__penalization': 10,\n   'classifier__q': 0.019920318725099598,\n   'reduce_dim__n_components': 1},\n  {'classifier__n_iter': 10,\n   'classifier__penalization': 10,\n   'classifier__q': 0.019920318725099598,\n   'reduce_dim__n_components': 2},\n  {'classifier__n_iter': 10,\n   'classifier__penalization': 10,\n   'classifier__q': 0.019920318725099598,\n   'reduce_dim__n_components': 3},\n  {'classifier__n_iter': 10,\n   'classifier__penalization': 10,\n   'classifier__q': 1,\n   'reduce_dim__n_components': 0},\n  {'classifier__n_iter': 10,\n   'classifier__penalization': 10,\n   'classifier__q': 1,\n   'reduce_dim__n_components': 1},\n  {'classifier__n_iter': 10,\n   'classifier__penalization': 10,\n   'classifier__q': 1,\n   'reduce_dim__n_components': 2},\n  {'classifier__n_iter': 10,\n   'classifier__penalization': 10,\n   'classifier__q': 1,\n   'reduce_dim__n_components': 3},\n  {'classifier__n_iter': 10,\n   'classifier__penalization': 10,\n   'classifier__q': 10,\n   'reduce_dim__n_components': 0},\n  {'classifier__n_iter': 10,\n   'classifier__penalization': 10,\n   'classifier__q': 10,\n   'reduce_dim__n_components': 1},\n  {'classifier__n_iter': 10,\n   'classifier__penalization': 10,\n   'classifier__q': 10,\n   'reduce_dim__n_components': 2},\n  {'classifier__n_iter': 10,\n   'classifier__penalization': 10,\n   'classifier__q': 10,\n   'reduce_dim__n_components': 3},\n  {'classifier__n_iter': 10,\n   'classifier__penalization': 10,\n   'classifier__q': 100,\n   'reduce_dim__n_components': 0},\n  {'classifier__n_iter': 10,\n   'classifier__penalization': 10,\n   'classifier__q': 100,\n   'reduce_dim__n_components': 1},\n  {'classifier__n_iter': 10,\n   'classifier__penalization': 10,\n   'classifier__q': 100,\n   'reduce_dim__n_components': 2},\n  {'classifier__n_iter': 10,\n   'classifier__penalization': 10,\n   'classifier__q': 100,\n   'reduce_dim__n_components': 3},\n  {'classifier__n_iter': 10,\n   'classifier__penalization': 10,\n   'classifier__q': 1000,\n   'reduce_dim__n_components': 0},\n  {'classifier__n_iter': 10,\n   'classifier__penalization': 10,\n   'classifier__q': 1000,\n   'reduce_dim__n_components': 1},\n  {'classifier__n_iter': 10,\n   'classifier__penalization': 10,\n   'classifier__q': 1000,\n   'reduce_dim__n_components': 2},\n  {'classifier__n_iter': 10,\n   'classifier__penalization': 10,\n   'classifier__q': 1000,\n   'reduce_dim__n_components': 3},\n  {'classifier__n_iter': 10,\n   'classifier__penalization': 100,\n   'classifier__q': 0.019920318725099598,\n   'reduce_dim__n_components': 0},\n  {'classifier__n_iter': 10,\n   'classifier__penalization': 100,\n   'classifier__q': 0.019920318725099598,\n   'reduce_dim__n_components': 1},\n  {'classifier__n_iter': 10,\n   'classifier__penalization': 100,\n   'classifier__q': 0.019920318725099598,\n   'reduce_dim__n_components': 2},\n  {'classifier__n_iter': 10,\n   'classifier__penalization': 100,\n   'classifier__q': 0.019920318725099598,\n   'reduce_dim__n_components': 3},\n  {'classifier__n_iter': 10,\n   'classifier__penalization': 100,\n   'classifier__q': 1,\n   'reduce_dim__n_components': 0},\n  {'classifier__n_iter': 10,\n   'classifier__penalization': 100,\n   'classifier__q': 1,\n   'reduce_dim__n_components': 1},\n  {'classifier__n_iter': 10,\n   'classifier__penalization': 100,\n   'classifier__q': 1,\n   'reduce_dim__n_components': 2},\n  {'classifier__n_iter': 10,\n   'classifier__penalization': 100,\n   'classifier__q': 1,\n   'reduce_dim__n_components': 3},\n  {'classifier__n_iter': 10,\n   'classifier__penalization': 100,\n   'classifier__q': 10,\n   'reduce_dim__n_components': 0},\n  {'classifier__n_iter': 10,\n   'classifier__penalization': 100,\n   'classifier__q': 10,\n   'reduce_dim__n_components': 1},\n  {'classifier__n_iter': 10,\n   'classifier__penalization': 100,\n   'classifier__q': 10,\n   'reduce_dim__n_components': 2},\n  {'classifier__n_iter': 10,\n   'classifier__penalization': 100,\n   'classifier__q': 10,\n   'reduce_dim__n_components': 3},\n  {'classifier__n_iter': 10,\n   'classifier__penalization': 100,\n   'classifier__q': 100,\n   'reduce_dim__n_components': 0},\n  {'classifier__n_iter': 10,\n   'classifier__penalization': 100,\n   'classifier__q': 100,\n   'reduce_dim__n_components': 1},\n  {'classifier__n_iter': 10,\n   'classifier__penalization': 100,\n   'classifier__q': 100,\n   'reduce_dim__n_components': 2},\n  {'classifier__n_iter': 10,\n   'classifier__penalization': 100,\n   'classifier__q': 100,\n   'reduce_dim__n_components': 3},\n  {'classifier__n_iter': 10,\n   'classifier__penalization': 100,\n   'classifier__q': 1000,\n   'reduce_dim__n_components': 0},\n  {'classifier__n_iter': 10,\n   'classifier__penalization': 100,\n   'classifier__q': 1000,\n   'reduce_dim__n_components': 1},\n  {'classifier__n_iter': 10,\n   'classifier__penalization': 100,\n   'classifier__q': 1000,\n   'reduce_dim__n_components': 2},\n  {'classifier__n_iter': 10,\n   'classifier__penalization': 100,\n   'classifier__q': 1000,\n   'reduce_dim__n_components': 3},\n  {'classifier__n_iter': 10,\n   'classifier__penalization': 200,\n   'classifier__q': 0.019920318725099598,\n   'reduce_dim__n_components': 0},\n  {'classifier__n_iter': 10,\n   'classifier__penalization': 200,\n   'classifier__q': 0.019920318725099598,\n   'reduce_dim__n_components': 1},\n  {'classifier__n_iter': 10,\n   'classifier__penalization': 200,\n   'classifier__q': 0.019920318725099598,\n   'reduce_dim__n_components': 2},\n  {'classifier__n_iter': 10,\n   'classifier__penalization': 200,\n   'classifier__q': 0.019920318725099598,\n   'reduce_dim__n_components': 3},\n  {'classifier__n_iter': 10,\n   'classifier__penalization': 200,\n   'classifier__q': 1,\n   'reduce_dim__n_components': 0},\n  {'classifier__n_iter': 10,\n   'classifier__penalization': 200,\n   'classifier__q': 1,\n   'reduce_dim__n_components': 1},\n  {'classifier__n_iter': 10,\n   'classifier__penalization': 200,\n   'classifier__q': 1,\n   'reduce_dim__n_components': 2},\n  {'classifier__n_iter': 10,\n   'classifier__penalization': 200,\n   'classifier__q': 1,\n   'reduce_dim__n_components': 3},\n  {'classifier__n_iter': 10,\n   'classifier__penalization': 200,\n   'classifier__q': 10,\n   'reduce_dim__n_components': 0},\n  {'classifier__n_iter': 10,\n   'classifier__penalization': 200,\n   'classifier__q': 10,\n   'reduce_dim__n_components': 1},\n  {'classifier__n_iter': 10,\n   'classifier__penalization': 200,\n   'classifier__q': 10,\n   'reduce_dim__n_components': 2},\n  {'classifier__n_iter': 10,\n   'classifier__penalization': 200,\n   'classifier__q': 10,\n   'reduce_dim__n_components': 3},\n  {'classifier__n_iter': 10,\n   'classifier__penalization': 200,\n   'classifier__q': 100,\n   'reduce_dim__n_components': 0},\n  {'classifier__n_iter': 10,\n   'classifier__penalization': 200,\n   'classifier__q': 100,\n   'reduce_dim__n_components': 1},\n  {'classifier__n_iter': 10,\n   'classifier__penalization': 200,\n   'classifier__q': 100,\n   'reduce_dim__n_components': 2},\n  {'classifier__n_iter': 10,\n   'classifier__penalization': 200,\n   'classifier__q': 100,\n   'reduce_dim__n_components': 3},\n  {'classifier__n_iter': 10,\n   'classifier__penalization': 200,\n   'classifier__q': 1000,\n   'reduce_dim__n_components': 0},\n  {'classifier__n_iter': 10,\n   'classifier__penalization': 200,\n   'classifier__q': 1000,\n   'reduce_dim__n_components': 1},\n  {'classifier__n_iter': 10,\n   'classifier__penalization': 200,\n   'classifier__q': 1000,\n   'reduce_dim__n_components': 2},\n  {'classifier__n_iter': 10,\n   'classifier__penalization': 200,\n   'classifier__q': 1000,\n   'reduce_dim__n_components': 3}],\n 'split0_test_score': array([0.67647059, 0.32352941, 0.23529412, 0.23529412, 0.67647059,\n        0.32352941, 0.32352941, 0.32352941, 0.67647059, 0.88235294,\n        0.85294118, 0.82352941, 0.67647059, 0.91176471, 0.82352941,\n        0.82352941, 0.67647059, 0.85294118, 0.79411765, 0.73529412,\n        0.67647059, 0.29411765, 0.23529412, 0.23529412, 0.67647059,\n        0.32352941, 0.32352941, 0.32352941, 0.67647059, 0.88235294,\n        0.70588235, 0.82352941, 0.67647059, 0.94117647, 0.82352941,\n        0.82352941, 0.67647059, 0.85294118, 0.79411765, 0.73529412,\n        0.67647059, 0.29411765, 0.23529412, 0.23529412, 0.67647059,\n        0.32352941, 0.32352941, 0.32352941, 0.67647059, 0.88235294,\n        0.70588235, 0.82352941, 0.67647059, 0.94117647, 0.82352941,\n        0.82352941, 0.67647059, 0.85294118, 0.79411765, 0.73529412]),\n 'split1_test_score': array([0.66666667, 0.33333333, 0.33333333, 0.33333333, 0.66666667,\n        0.33333333, 0.33333333, 0.33333333, 0.66666667, 0.93939394,\n        0.93939394, 0.93939394, 0.66666667, 0.96969697, 0.96969697,\n        0.90909091, 0.66666667, 0.93939394, 0.87878788, 0.87878788,\n        0.66666667, 0.33333333, 0.33333333, 0.33333333, 0.66666667,\n        0.33333333, 0.33333333, 0.33333333, 0.66666667, 0.93939394,\n        0.93939394, 0.93939394, 0.66666667, 0.96969697, 0.96969697,\n        0.90909091, 0.66666667, 0.96969697, 0.90909091, 0.87878788,\n        0.66666667, 0.33333333, 0.33333333, 0.33333333, 0.66666667,\n        0.33333333, 0.33333333, 0.33333333, 0.66666667, 0.93939394,\n        0.93939394, 0.93939394, 0.66666667, 0.96969697, 0.96969697,\n        0.90909091, 0.66666667, 0.96969697, 0.87878788, 0.84848485]),\n 'split2_test_score': array([0.66666667, 0.3030303 , 0.33333333, 0.33333333, 0.66666667,\n        0.51515152, 0.51515152, 0.51515152, 0.66666667, 0.93939394,\n        0.90909091, 0.90909091, 0.66666667, 0.96969697, 0.93939394,\n        0.96969697, 0.66666667, 0.96969697, 0.90909091, 0.90909091,\n        0.66666667, 0.3030303 , 0.33333333, 0.33333333, 0.66666667,\n        0.51515152, 0.51515152, 0.57575758, 0.66666667, 0.93939394,\n        0.90909091, 0.90909091, 0.66666667, 0.96969697, 0.93939394,\n        0.96969697, 0.66666667, 0.93939394, 0.96969697, 0.81818182,\n        0.66666667, 0.3030303 , 0.33333333, 0.33333333, 0.66666667,\n        0.51515152, 0.51515152, 0.57575758, 0.66666667, 0.93939394,\n        0.90909091, 0.90909091, 0.66666667, 0.96969697, 0.93939394,\n        0.96969697, 0.66666667, 0.93939394, 0.90909091, 0.93939394]),\n 'mean_test_score': array([0.66993464, 0.31996435, 0.30065359, 0.30065359, 0.66993464,\n        0.39067142, 0.39067142, 0.39067142, 0.66993464, 0.92038027,\n        0.90047534, 0.89067142, 0.66993464, 0.95038622, 0.91087344,\n        0.90077243, 0.66993464, 0.92067736, 0.86066548, 0.84105764,\n        0.66993464, 0.31016043, 0.30065359, 0.30065359, 0.66993464,\n        0.39067142, 0.39067142, 0.41087344, 0.66993464, 0.92038027,\n        0.85145573, 0.89067142, 0.66993464, 0.96019014, 0.91087344,\n        0.90077243, 0.66993464, 0.92067736, 0.89096851, 0.8107546 ,\n        0.66993464, 0.31016043, 0.30065359, 0.30065359, 0.66993464,\n        0.39067142, 0.39067142, 0.41087344, 0.66993464, 0.92038027,\n        0.85145573, 0.89067142, 0.66993464, 0.96019014, 0.91087344,\n        0.90077243, 0.66993464, 0.92067736, 0.86066548, 0.84105764]),\n 'std_test_score': array([0.00462161, 0.01262539, 0.04621613, 0.04621613, 0.00462161,\n        0.08811167, 0.08811167, 0.08811167, 0.00462161, 0.02688938,\n        0.03581611, 0.0490619 , 0.00462161, 0.02730953, 0.06298837,\n        0.05996186, 0.00462161, 0.04946859, 0.04865545, 0.07580242,\n        0.00462161, 0.01678484, 0.04621613, 0.04621613, 0.00462161,\n        0.08811167, 0.08811167, 0.11665937, 0.00462161, 0.02688938,\n        0.10367666, 0.0490619 , 0.00462161, 0.01344469, 0.06298837,\n        0.05996186, 0.00462161, 0.04946859, 0.07281639, 0.05881603,\n        0.00462161, 0.01678484, 0.04621613, 0.04621613, 0.00462161,\n        0.08811167, 0.08811167, 0.11665937, 0.00462161, 0.02688938,\n        0.10367666, 0.0490619 , 0.00462161, 0.01344469, 0.06298837,\n        0.05996186, 0.00462161, 0.04946859, 0.04865545, 0.08348875]),\n 'rank_test_score': array([28, 52, 55, 55, 28, 45, 45, 45, 28,  7, 16, 18, 28,  3, 10, 13, 28,\n         4, 21, 25, 28, 53, 55, 55, 28, 45, 45, 43, 28,  7, 23, 18, 28,  1,\n        10, 13, 28,  4, 17, 27, 28, 53, 55, 55, 28, 45, 45, 43, 28,  7, 23,\n        18, 28,  1, 10, 13, 28,  4, 21, 25], dtype=int32),\n 'split0_train_score': array([0.66666667, 0.31818182, 0.31818182, 0.31818182, 0.66666667,\n        0.31818182, 0.31818182, 0.31818182, 0.66666667, 0.86363636,\n        0.81818182, 0.8030303 , 0.66666667, 0.93939394, 0.90909091,\n        0.92424242, 0.66666667, 0.93939394, 0.90909091, 0.93939394,\n        0.66666667, 0.31818182, 0.31818182, 0.31818182, 0.66666667,\n        0.31818182, 0.31818182, 0.31818182, 0.66666667, 0.86363636,\n        0.72727273, 0.81818182, 0.66666667, 0.92424242, 0.90909091,\n        0.92424242, 0.66666667, 0.93939394, 0.93939394, 0.93939394,\n        0.66666667, 0.31818182, 0.31818182, 0.31818182, 0.66666667,\n        0.31818182, 0.31818182, 0.31818182, 0.66666667, 0.86363636,\n        0.72727273, 0.8030303 , 0.66666667, 0.92424242, 0.90909091,\n        0.90909091, 0.66666667, 0.93939394, 0.90909091, 0.93939394]),\n 'split1_train_score': array([0.67164179, 0.31343284, 0.31343284, 0.31343284, 0.67164179,\n        0.31343284, 0.31343284, 0.31343284, 0.67164179, 0.98507463,\n        0.97014925, 0.97014925, 0.67164179, 0.97014925, 0.95522388,\n        0.97014925, 0.67164179, 0.98507463, 0.98507463, 1.        ,\n        0.67164179, 0.31343284, 0.31343284, 0.31343284, 0.67164179,\n        0.31343284, 0.31343284, 0.31343284, 0.67164179, 0.98507463,\n        0.97014925, 0.97014925, 0.67164179, 0.97014925, 0.95522388,\n        0.97014925, 0.67164179, 0.98507463, 1.        , 1.        ,\n        0.67164179, 0.31343284, 0.31343284, 0.31343284, 0.67164179,\n        0.31343284, 0.31343284, 0.31343284, 0.67164179, 0.98507463,\n        0.97014925, 0.97014925, 0.67164179, 0.97014925, 0.95522388,\n        0.97014925, 0.67164179, 0.97014925, 0.98507463, 0.95522388]),\n 'split2_train_score': array([0.67164179, 0.31343284, 0.32835821, 0.34328358, 0.67164179,\n        0.65671642, 0.67164179, 0.67164179, 0.67164179, 0.98507463,\n        0.95522388, 0.95522388, 0.67164179, 0.97014925, 0.97014925,\n        0.97014925, 0.67164179, 0.97014925, 0.98507463, 0.98507463,\n        0.67164179, 0.31343284, 0.32835821, 0.34328358, 0.67164179,\n        0.64179104, 0.67164179, 0.67164179, 0.67164179, 0.98507463,\n        0.95522388, 0.95522388, 0.67164179, 0.98507463, 0.98507463,\n        0.97014925, 0.67164179, 0.98507463, 0.98507463, 0.98507463,\n        0.67164179, 0.31343284, 0.32835821, 0.34328358, 0.67164179,\n        0.64179104, 0.67164179, 0.67164179, 0.67164179, 0.98507463,\n        0.95522388, 0.95522388, 0.67164179, 0.97014925, 0.97014925,\n        0.97014925, 0.67164179, 0.98507463, 0.97014925, 0.95522388]),\n 'mean_train_score': array([0.66998342, 0.31501583, 0.31999095, 0.32496608, 0.66998342,\n        0.42944369, 0.43441882, 0.43441882, 0.66998342, 0.94459521,\n        0.91451832, 0.90946781, 0.66998342, 0.95989748, 0.94482135,\n        0.95484698, 0.66998342, 0.96487261, 0.95974672, 0.97482286,\n        0.66998342, 0.31501583, 0.31999095, 0.32496608, 0.66998342,\n        0.42446857, 0.43441882, 0.43441882, 0.66998342, 0.94459521,\n        0.88421529, 0.91451832, 0.66998342, 0.9598221 , 0.94979647,\n        0.95484698, 0.66998342, 0.96984773, 0.97482286, 0.97482286,\n        0.66998342, 0.31501583, 0.31999095, 0.32496608, 0.66998342,\n        0.42446857, 0.43441882, 0.43441882, 0.66998342, 0.94459521,\n        0.88421529, 0.90946781, 0.66998342, 0.95484698, 0.94482135,\n        0.94979647, 0.66998342, 0.96487261, 0.9547716 , 0.94994723]),\n 'std_train_score': array([0.0023453 , 0.00223869, 0.0062261 , 0.01309673, 0.0023453 ,\n        0.16071778, 0.16775318, 0.16775318, 0.0023453 , 0.05724655,\n        0.06839217, 0.07550894, 0.0023453 , 0.01449819, 0.02598961,\n        0.02164069, 0.0023453 , 0.01901865, 0.03581907, 0.02578239,\n        0.0023453 , 0.00223869, 0.0062261 , 0.01309673, 0.0023453 ,\n        0.15368243, 0.16775318, 0.16775318, 0.0023453 , 0.05724655,\n        0.1111423 , 0.06839217, 0.0023453 , 0.02588599, 0.03125672,\n        0.02164069, 0.0023453 , 0.02153408, 0.02578239, 0.02578239,\n        0.0023453 , 0.00223869, 0.0062261 , 0.01309673, 0.0023453 ,\n        0.15368243, 0.16775318, 0.16775318, 0.0023453 , 0.05724655,\n        0.1111423 , 0.07550894, 0.0023453 , 0.02164069, 0.02598961,\n        0.02878318, 0.0023453 , 0.01901865, 0.03287081, 0.00746231])}"
          },
          "metadata": {}
        }
      ],
      "execution_count": 21,
      "metadata": {
        "collapsed": true,
        "jupyter": {
          "source_hidden": false,
          "outputs_hidden": false
        },
        "nteract": {
          "transient": {
            "deleting": false
          }
        },
        "gather": {
          "logged": 1617385507940
        }
      }
    },
    {
      "cell_type": "code",
      "source": [
        "clf = search.best_estimator_['classifier']"
      ],
      "outputs": [],
      "execution_count": 22,
      "metadata": {
        "collapsed": true,
        "jupyter": {
          "source_hidden": false,
          "outputs_hidden": false
        },
        "nteract": {
          "transient": {
            "deleting": false
          }
        },
        "gather": {
          "logged": 1617385508150
        }
      }
    },
    {
      "cell_type": "code",
      "source": [
        "# TO CHECK PCA NUMBER OF COMPONENTS BEFORE PLOTTING\n",
        "# gx = np.linspace(min(clf.X_[:,0])-1, max(clf.X_[:,0])+1, 50)\n",
        "# gy = np.linspace(min(clf.X_[:,1])-1, max(clf.X_[:,1])+1, 50)\n",
        "# gX, gY = np.meshgrid(gx, gy)\n",
        "# zs = np.array([clf._compute_r(np.array([x, y])) for x, y in zip(np.ravel(gX), np.ravel(gY))])\n",
        "# gZ = zs.reshape(gX.shape)\n",
        "# membership_contour = plt.contour(gX, gY, gZ, levels=(clf.radiuses_[clf.sv_i], ))\n",
        "# plt.clabel(membership_contour, inline=1)\n",
        "\n",
        "# plt.scatter(clf.X_[:,0], clf.X_[:,1], c=clf.y_)\n",
        "# plt.show()"
      ],
      "outputs": [],
      "execution_count": 23,
      "metadata": {
        "collapsed": true,
        "jupyter": {
          "source_hidden": false,
          "outputs_hidden": false
        },
        "nteract": {
          "transient": {
            "deleting": false
          }
        },
        "gather": {
          "logged": 1617385508263
        }
      }
    },
    {
      "cell_type": "code",
      "source": [
        "from sklearn.metrics import classification_report\n",
        "\n",
        "print(classification_report(y_test, search.predict(X_test)))"
      ],
      "outputs": [
        {
          "output_type": "stream",
          "name": "stdout",
          "text": [
            "              precision    recall  f1-score   support\n",
            "\n",
            "           0       0.97      0.97      0.97        33\n",
            "           1       0.94      0.94      0.94        17\n",
            "\n",
            "    accuracy                           0.96        50\n",
            "   macro avg       0.96      0.96      0.96        50\n",
            "weighted avg       0.96      0.96      0.96        50\n",
            "\n"
          ]
        }
      ],
      "execution_count": 24,
      "metadata": {
        "collapsed": true,
        "jupyter": {
          "source_hidden": false,
          "outputs_hidden": false
        },
        "nteract": {
          "transient": {
            "deleting": false
          }
        },
        "gather": {
          "logged": 1617385508374
        }
      }
    },
    {
      "cell_type": "code",
      "source": [
        "dump(clf, 'grid_iris.joblib') "
      ],
      "outputs": [
        {
          "output_type": "execute_result",
          "execution_count": 25,
          "data": {
            "text/plain": "['grid_iris.joblib']"
          },
          "metadata": {}
        }
      ],
      "execution_count": 25,
      "metadata": {
        "collapsed": true,
        "jupyter": {
          "source_hidden": false,
          "outputs_hidden": false
        },
        "nteract": {
          "transient": {
            "deleting": false
          }
        },
        "gather": {
          "logged": 1617385508500
        }
      }
    },
    {
      "cell_type": "code",
      "source": [],
      "outputs": [],
      "execution_count": null,
      "metadata": {
        "collapsed": true,
        "jupyter": {
          "source_hidden": false,
          "outputs_hidden": false
        },
        "nteract": {
          "transient": {
            "deleting": false
          }
        }
      }
    }
  ],
  "metadata": {
    "kernelspec": {
      "name": "python3",
      "language": "python",
      "display_name": "Python 3"
    },
    "language_info": {
      "name": "python",
      "version": "3.6.9",
      "mimetype": "text/x-python",
      "codemirror_mode": {
        "name": "ipython",
        "version": 3
      },
      "pygments_lexer": "ipython3",
      "nbconvert_exporter": "python",
      "file_extension": ".py"
    },
    "kernel_info": {
      "name": "python3"
    },
    "microsoft": {
      "host": {
        "AzureML": {
          "notebookHasBeenCompleted": true
        }
      }
    },
    "nteract": {
      "version": "nteract-front-end@1.0.0"
    }
  },
  "nbformat": 4,
  "nbformat_minor": 4
}
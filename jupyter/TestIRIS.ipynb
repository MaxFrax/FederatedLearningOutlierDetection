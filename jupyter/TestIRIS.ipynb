{
  "cells": [
    {
      "cell_type": "code",
      "source": [
        "from sklearn import datasets\n",
        "\n",
        "iris = datasets.load_iris()"
      ],
      "outputs": [],
      "execution_count": 1,
      "metadata": {
        "gather": {
          "logged": 1618142225399
        }
      }
    },
    {
      "cell_type": "code",
      "source": [
        "from sklearn.decomposition import PCA\n",
        "from sklearn.preprocessing import StandardScaler, MaxAbsScaler, RobustScaler, QuantileTransformer\n",
        "import numpy as np\n",
        "from sklearn.model_selection import RandomizedSearchCV"
      ],
      "outputs": [],
      "execution_count": 2,
      "metadata": {
        "gather": {
          "logged": 1618142225671
        }
      }
    },
    {
      "cell_type": "code",
      "source": [
        "import matplotlib.pyplot as plt"
      ],
      "outputs": [],
      "execution_count": 3,
      "metadata": {
        "gather": {
          "logged": 1618142226210
        }
      }
    },
    {
      "cell_type": "markdown",
      "source": [
        "# Let's try the algorithm\n",
        "\n",
        "First of all we select the middle class as outlier (label = 1) since it's a bit harder than the others.\n",
        "In fact by being in the middle of the other two, the sphere projection must split."
      ],
      "metadata": {}
    },
    {
      "cell_type": "code",
      "source": [
        "X = iris.data\n",
        "y = [0] * 50 + [1] * 50 + [0] * 50\n",
        "colors = ['red' if i == 1 else 'green' for i in y]"
      ],
      "outputs": [],
      "execution_count": 4,
      "metadata": {
        "gather": {
          "logged": 1618142226481
        }
      }
    },
    {
      "cell_type": "markdown",
      "source": [
        "We scale the data and reduce the components to two, just to work in a easy to visualize environment."
      ],
      "metadata": {}
    },
    {
      "cell_type": "code",
      "source": [
        "X_scaled = MaxAbsScaler().fit_transform(X)\n",
        "X_reduced = PCA(n_components=2).fit_transform(X_scaled)"
      ],
      "outputs": [],
      "execution_count": 5,
      "metadata": {
        "gather": {
          "logged": 1618142226800
        }
      }
    },
    {
      "cell_type": "code",
      "source": [
        "plt.scatter(X_reduced[:,0],X_reduced[:,1], c=colors)\n",
        "plt.show()"
      ],
      "outputs": [
        {
          "output_type": "display_data",
          "data": {
            "text/plain": "<Figure size 432x288 with 1 Axes>",
            "image/png": "[encoded data removed]"
          },
          "metadata": {
            "needs_background": "light"
          }
        }
      ],
      "execution_count": 6,
      "metadata": {
        "gather": {
          "logged": 1618142227887
        },
        "scrolled": true
      }
    },
    {
      "cell_type": "code",
      "source": [
        "import sys\n",
        "\n",
        "sys.path.append('..')\n",
        "\n",
        "from flod.classifiers.bsvclassifier import BSVClassifier"
      ],
      "outputs": [],
      "execution_count": 7,
      "metadata": {
        "gather": {
          "logged": 1618142228858
        }
      }
    },
    {
      "cell_type": "markdown",
      "source": [
        "We keep only 33% of the dataset as test set.\n",
        "\n",
        "We shuffle and stratify, since the outliers are not the same amount as the regular points."
      ],
      "metadata": {}
    },
    {
      "cell_type": "code",
      "source": [
        "from sklearn.model_selection import train_test_split\n",
        "\n",
        "X_train, X_test, y_train, y_test = train_test_split(X_reduced, y, test_size=0.33, shuffle=True, stratify=y)"
      ],
      "outputs": [],
      "execution_count": 8,
      "metadata": {
        "gather": {
          "logged": 1618142229143
        }
      }
    },
    {
      "cell_type": "code",
      "source": [
        "clf = BSVClassifier(n_iter=10, c=.25, q=100, penalization=200)\n",
        "clf.fit(X_train, y_train)"
      ],
      "outputs": [
        {
          "output_type": "stream",
          "name": "stderr",
          "text": [
            "Estimated kernel_values size 1.6722828149795532e-05 GB\n"
          ]
        },
        {
          "output_type": "execute_result",
          "execution_count": 9,
          "data": {
            "text/plain": "BSVClassifier(c=0.25, init_bound=0.1, n_iter=10, penalization=200, q=100,\n              random_seed=42)"
          },
          "metadata": {}
        }
      ],
      "execution_count": 9,
      "metadata": {
        "gather": {
          "logged": 1618142248537
        },
        "scrolled": true
      }
    },
    {
      "cell_type": "code",
      "source": [
        "y_pred = clf.predict(X_test)"
      ],
      "outputs": [],
      "execution_count": 10,
      "metadata": {
        "gather": {
          "logged": 1618142248822
        }
      }
    },
    {
      "cell_type": "code",
      "source": [
        "from sklearn.metrics import accuracy_score, precision_score, recall_score, f1_score\n",
        "\n",
        "print(f'Precision {precision_score(y_test, y_pred)}')\n",
        "print(f'Recall {recall_score(y_test, y_pred)}')\n",
        "print(f'F1 {f1_score(y_test, y_pred)}')\n",
        "print(f'Accuracy {accuracy_score(y_test, y_pred)}')"
      ],
      "outputs": [
        {
          "output_type": "stream",
          "name": "stdout",
          "text": [
            "Precision 0.9444444444444444\n",
            "Recall 1.0\n",
            "F1 0.9714285714285714\n",
            "Accuracy 0.98\n"
          ]
        }
      ],
      "execution_count": 11,
      "metadata": {
        "gather": {
          "logged": 1618142248951
        },
        "jupyter": {
          "outputs_hidden": false,
          "source_hidden": false
        },
        "nteract": {
          "transient": {
            "deleting": false
          }
        }
      }
    },
    {
      "cell_type": "code",
      "source": [
        "from sklearn.metrics import classification_report\n",
        "\n",
        "print(classification_report(y_test, y_pred))"
      ],
      "outputs": [
        {
          "output_type": "stream",
          "name": "stdout",
          "text": [
            "              precision    recall  f1-score   support\n",
            "\n",
            "           0       1.00      0.97      0.98        33\n",
            "           1       0.94      1.00      0.97        17\n",
            "\n",
            "    accuracy                           0.98        50\n",
            "   macro avg       0.97      0.98      0.98        50\n",
            "weighted avg       0.98      0.98      0.98        50\n",
            "\n"
          ]
        }
      ],
      "execution_count": 12,
      "metadata": {
        "gather": {
          "logged": 1618142249061
        }
      }
    },
    {
      "cell_type": "code",
      "source": [
        "gx = np.linspace(min(X_reduced[:,0])-.2, max(X_reduced[:,0])+.2, 50)\n",
        "gy = np.linspace(min(X_reduced[:,1])-.2, max(X_reduced[:,1])+.2, 50)\n",
        "gX, gY = np.meshgrid(gx, gy)\n",
        "zs = np.array([clf._compute_r(np.array([x, y])) for x, y in zip(np.ravel(gX), np.ravel(gY))])\n",
        "gZ = zs.reshape(gX.shape)\n",
        "membership_contour = plt.contour(gX, gY, gZ, levels=(clf.radiuses_[clf.sv_i], ))\n",
        "plt.clabel(membership_contour, inline=1)\n",
        "\n",
        "plt.scatter(X_reduced[:,0],X_reduced[:,1], c=y)\n",
        "plt.show()"
      ],
      "outputs": [
        {
          "output_type": "display_data",
          "data": {
            "text/plain": "<Figure size 432x288 with 1 Axes>",
            "image/png": "[encoded data removed]"
          },
          "metadata": {
            "needs_background": "light"
          }
        }
      ],
      "execution_count": 13,
      "metadata": {
        "gather": {
          "logged": 1618142251942
        }
      }
    },
    {
      "cell_type": "code",
      "source": [
        "from joblib import dump, load\n",
        "dump(clf, 'iris.joblib') "
      ],
      "outputs": [
        {
          "output_type": "execute_result",
          "execution_count": 14,
          "data": {
            "text/plain": "['iris.joblib']"
          },
          "metadata": {}
        }
      ],
      "execution_count": 14,
      "metadata": {
        "gather": {
          "logged": 1618142252264
        }
      }
    },
    {
      "cell_type": "markdown",
      "source": [
        "# Let's setup a Pipeline"
      ],
      "metadata": {}
    },
    {
      "cell_type": "markdown",
      "source": [
        "We split train and test the same as above."
      ],
      "metadata": {}
    },
    {
      "cell_type": "code",
      "source": [
        "from scipy.stats import randint, uniform\n",
        "from sklearn.model_selection import cross_validate\n",
        "from tqdm.notebook import tqdm"
      ],
      "outputs": [],
      "execution_count": 15,
      "metadata": {
        "gather": {
          "logged": 1618142252382
        },
        "jupyter": {
          "outputs_hidden": false,
          "source_hidden": false
        },
        "nteract": {
          "transient": {
            "deleting": false
          }
        }
      }
    },
    {
      "cell_type": "code",
      "source": [
        "from sklearn.pipeline import Pipeline\n",
        "from sklearn.model_selection import StratifiedKFold\n",
        "\n",
        "\n",
        "pipe = Pipeline([\n",
        "        ('scaler', MaxAbsScaler()),\n",
        "        ('reduce_dim', PCA('mle')),\n",
        "        ('classifier', BSVClassifier())\n",
        "])\n",
        "\n",
        "params = {\n",
        "    'scaler': [StandardScaler(), MaxAbsScaler(), RobustScaler(), QuantileTransformer()],\n",
        "    'classifier__n_iter': [10],\n",
        "    'classifier__penalization': randint(0, 500),\n",
        "    'classifier__q': randint(0, 500),\n",
        "    'classifier__c': uniform()    \n",
        "}\n",
        "\n",
        "scoring = ['precision', 'recall', 'f1']"
      ],
      "outputs": [],
      "execution_count": 16,
      "metadata": {
        "gather": {
          "logged": 1618142252503
        }
      }
    },
    {
      "cell_type": "markdown",
      "source": [
        "Inner loop aka RandomizedSearchCV to find the best model given the data.\n",
        "Outer loop to see if the best model was just lucky or all the best models perform well."
      ],
      "metadata": {}
    },
    {
      "cell_type": "code",
      "source": [
        "outer_cv = StratifiedKFold(n_splits=5, shuffle=True)\n",
        "inner_cv = StratifiedKFold(n_splits=2, shuffle=True)\n",
        "\n",
        "\n",
        "clf = RandomizedSearchCV(pipe, params, n_jobs=-1, cv=inner_cv, refit='f1', verbose=10, return_train_score=False, scoring=scoring, n_iter=10)\n",
        "scores = cross_validate(clf, X=X, y=y, cv=outer_cv, n_jobs=-1, scoring=scoring, verbose=10, return_estimator=True, return_train_score=True)"
      ],
      "outputs": [
        {
          "output_type": "stream",
          "name": "stderr",
          "text": [
            "[Parallel(n_jobs=-1)]: Using backend LokyBackend with 4 concurrent workers.\n",
            "[Parallel(n_jobs=-1)]: Done   2 out of   5 | elapsed:  7.0min remaining: 10.5min\n",
            "[Parallel(n_jobs=-1)]: Done   3 out of   5 | elapsed:  7.0min remaining:  4.7min\n",
            "[Parallel(n_jobs=-1)]: Done   5 out of   5 | elapsed: 11.7min remaining:    0.0s\n",
            "[Parallel(n_jobs=-1)]: Done   5 out of   5 | elapsed: 11.7min finished\n"
          ]
        }
      ],
      "execution_count": 17,
      "metadata": {
        "gather": {
          "logged": 1618142953207
        },
        "jupyter": {
          "outputs_hidden": false,
          "source_hidden": false
        },
        "nteract": {
          "transient": {
            "deleting": false
          }
        }
      }
    },
    {
      "cell_type": "code",
      "source": [
        "scores"
      ],
      "outputs": [
        {
          "output_type": "execute_result",
          "execution_count": 18,
          "data": {
            "text/plain": "{'fit_time': array([415.66086793, 427.88870931, 356.67845345, 413.91563749,\n        340.07449341]),\n 'score_time': array([0.06421065, 0.05745029, 0.15289664, 0.12532949, 0.04020238]),\n 'estimator': (RandomizedSearchCV(cv=StratifiedKFold(n_splits=2, random_state=None, shuffle=True),\n                     error_score=nan,\n                     estimator=Pipeline(memory=None,\n                                        steps=[('scaler',\n                                                MaxAbsScaler(copy=True)),\n                                               ('reduce_dim',\n                                                PCA(copy=True,\n                                                    iterated_power='auto',\n                                                    n_components='mle',\n                                                    random_state=None,\n                                                    svd_solver='auto', tol=0.0,\n                                                    whiten=False)),\n                                               ('classifier',\n                                                BSVClassifier(c=1, init_bound=0.1,\n                                                              n_ite...\n                                                     RobustScaler(copy=True,\n                                                                  quantile_range=(25.0,\n                                                                                  75.0),\n                                                                  with_centering=True,\n                                                                  with_scaling=True),\n                                                     QuantileTransformer(copy=True,\n                                                                         ignore_implicit_zeros=False,\n                                                                         n_quantiles=1000,\n                                                                         output_distribution='uniform',\n                                                                         random_state=None,\n                                                                         subsample=100000)]},\n                     pre_dispatch='2*n_jobs', random_state=None, refit='f1',\n                     return_train_score=False,\n                     scoring=['precision', 'recall', 'f1'], verbose=10),\n  RandomizedSearchCV(cv=StratifiedKFold(n_splits=2, random_state=None, shuffle=True),\n                     error_score=nan,\n                     estimator=Pipeline(memory=None,\n                                        steps=[('scaler',\n                                                MaxAbsScaler(copy=True)),\n                                               ('reduce_dim',\n                                                PCA(copy=True,\n                                                    iterated_power='auto',\n                                                    n_components='mle',\n                                                    random_state=None,\n                                                    svd_solver='auto', tol=0.0,\n                                                    whiten=False)),\n                                               ('classifier',\n                                                BSVClassifier(c=1, init_bound=0.1,\n                                                              n_ite...\n                                                     RobustScaler(copy=True,\n                                                                  quantile_range=(25.0,\n                                                                                  75.0),\n                                                                  with_centering=True,\n                                                                  with_scaling=True),\n                                                     QuantileTransformer(copy=True,\n                                                                         ignore_implicit_zeros=False,\n                                                                         n_quantiles=1000,\n                                                                         output_distribution='uniform',\n                                                                         random_state=None,\n                                                                         subsample=100000)]},\n                     pre_dispatch='2*n_jobs', random_state=None, refit='f1',\n                     return_train_score=False,\n                     scoring=['precision', 'recall', 'f1'], verbose=10),\n  RandomizedSearchCV(cv=StratifiedKFold(n_splits=2, random_state=None, shuffle=True),\n                     error_score=nan,\n                     estimator=Pipeline(memory=None,\n                                        steps=[('scaler',\n                                                MaxAbsScaler(copy=True)),\n                                               ('reduce_dim',\n                                                PCA(copy=True,\n                                                    iterated_power='auto',\n                                                    n_components='mle',\n                                                    random_state=None,\n                                                    svd_solver='auto', tol=0.0,\n                                                    whiten=False)),\n                                               ('classifier',\n                                                BSVClassifier(c=1, init_bound=0.1,\n                                                              n_ite...\n                                                     RobustScaler(copy=True,\n                                                                  quantile_range=(25.0,\n                                                                                  75.0),\n                                                                  with_centering=True,\n                                                                  with_scaling=True),\n                                                     QuantileTransformer(copy=True,\n                                                                         ignore_implicit_zeros=False,\n                                                                         n_quantiles=1000,\n                                                                         output_distribution='uniform',\n                                                                         random_state=None,\n                                                                         subsample=100000)]},\n                     pre_dispatch='2*n_jobs', random_state=None, refit='f1',\n                     return_train_score=False,\n                     scoring=['precision', 'recall', 'f1'], verbose=10),\n  RandomizedSearchCV(cv=StratifiedKFold(n_splits=2, random_state=None, shuffle=True),\n                     error_score=nan,\n                     estimator=Pipeline(memory=None,\n                                        steps=[('scaler',\n                                                MaxAbsScaler(copy=True)),\n                                               ('reduce_dim',\n                                                PCA(copy=True,\n                                                    iterated_power='auto',\n                                                    n_components='mle',\n                                                    random_state=None,\n                                                    svd_solver='auto', tol=0.0,\n                                                    whiten=False)),\n                                               ('classifier',\n                                                BSVClassifier(c=1, init_bound=0.1,\n                                                              n_ite...\n                                                     RobustScaler(copy=True,\n                                                                  quantile_range=(25.0,\n                                                                                  75.0),\n                                                                  with_centering=True,\n                                                                  with_scaling=True),\n                                                     QuantileTransformer(copy=True,\n                                                                         ignore_implicit_zeros=False,\n                                                                         n_quantiles=1000,\n                                                                         output_distribution='uniform',\n                                                                         random_state=None,\n                                                                         subsample=100000)]},\n                     pre_dispatch='2*n_jobs', random_state=None, refit='f1',\n                     return_train_score=False,\n                     scoring=['precision', 'recall', 'f1'], verbose=10),\n  RandomizedSearchCV(cv=StratifiedKFold(n_splits=2, random_state=None, shuffle=True),\n                     error_score=nan,\n                     estimator=Pipeline(memory=None,\n                                        steps=[('scaler',\n                                                MaxAbsScaler(copy=True)),\n                                               ('reduce_dim',\n                                                PCA(copy=True,\n                                                    iterated_power='auto',\n                                                    n_components='mle',\n                                                    random_state=None,\n                                                    svd_solver='auto', tol=0.0,\n                                                    whiten=False)),\n                                               ('classifier',\n                                                BSVClassifier(c=1, init_bound=0.1,\n                                                              n_ite...\n                                                     RobustScaler(copy=True,\n                                                                  quantile_range=(25.0,\n                                                                                  75.0),\n                                                                  with_centering=True,\n                                                                  with_scaling=True),\n                                                     QuantileTransformer(copy=True,\n                                                                         ignore_implicit_zeros=False,\n                                                                         n_quantiles=1000,\n                                                                         output_distribution='uniform',\n                                                                         random_state=None,\n                                                                         subsample=100000)]},\n                     pre_dispatch='2*n_jobs', random_state=None, refit='f1',\n                     return_train_score=False,\n                     scoring=['precision', 'recall', 'f1'], verbose=10)),\n 'test_precision': array([0.9       , 0.625     , 0.81818182, 0.90909091, 0.69230769]),\n 'train_precision': array([1.        , 0.97368421, 0.95      , 0.97222222, 0.88372093]),\n 'test_recall': array([0.9, 1. , 0.9, 1. , 0.9]),\n 'train_recall': array([0.925, 0.925, 0.95 , 0.875, 0.95 ]),\n 'test_f1': array([0.9       , 0.76923077, 0.85714286, 0.95238095, 0.7826087 ]),\n 'train_f1': array([0.96103896, 0.94871795, 0.95      , 0.92105263, 0.91566265])}"
          },
          "metadata": {}
        }
      ],
      "execution_count": 18,
      "metadata": {
        "collapsed": true,
        "jupyter": {
          "source_hidden": false,
          "outputs_hidden": false
        },
        "nteract": {
          "transient": {
            "deleting": false
          }
        },
        "gather": {
          "logged": 1618142953524
        }
      }
    },
    {
      "cell_type": "code",
      "source": [
        "import pandas as pd\n",
        "\n",
        "cv_res = pd.DataFrame(scores)\n",
        "cv_res"
      ],
      "outputs": [
        {
          "output_type": "execute_result",
          "execution_count": 20,
          "data": {
            "text/plain": "     fit_time  score_time                                          estimator  \\\n0  415.660868    0.064211  RandomizedSearchCV(cv=StratifiedKFold(n_splits...   \n1  427.888709    0.057450  RandomizedSearchCV(cv=StratifiedKFold(n_splits...   \n2  356.678453    0.152897  RandomizedSearchCV(cv=StratifiedKFold(n_splits...   \n3  413.915637    0.125329  RandomizedSearchCV(cv=StratifiedKFold(n_splits...   \n4  340.074493    0.040202  RandomizedSearchCV(cv=StratifiedKFold(n_splits...   \n\n   test_precision  train_precision  test_recall  train_recall   test_f1  \\\n0        0.900000         1.000000          0.9         0.925  0.900000   \n1        0.625000         0.973684          1.0         0.925  0.769231   \n2        0.818182         0.950000          0.9         0.950  0.857143   \n3        0.909091         0.972222          1.0         0.875  0.952381   \n4        0.692308         0.883721          0.9         0.950  0.782609   \n\n   train_f1  \n0  0.961039  \n1  0.948718  \n2  0.950000  \n3  0.921053  \n4  0.915663  ",
            "text/html": "<div>\n<style scoped>\n    .dataframe tbody tr th:only-of-type {\n        vertical-align: middle;\n    }\n\n    .dataframe tbody tr th {\n        vertical-align: top;\n    }\n\n    .dataframe thead th {\n        text-align: right;\n    }\n</style>\n<table border=\"1\" class=\"dataframe\">\n  <thead>\n    <tr style=\"text-align: right;\">\n      <th></th>\n      <th>fit_time</th>\n      <th>score_time</th>\n      <th>estimator</th>\n      <th>test_precision</th>\n      <th>train_precision</th>\n      <th>test_recall</th>\n      <th>train_recall</th>\n      <th>test_f1</th>\n      <th>train_f1</th>\n    </tr>\n  </thead>\n  <tbody>\n    <tr>\n      <th>0</th>\n      <td>415.660868</td>\n      <td>0.064211</td>\n      <td>RandomizedSearchCV(cv=StratifiedKFold(n_splits...</td>\n      <td>0.900000</td>\n      <td>1.000000</td>\n      <td>0.9</td>\n      <td>0.925</td>\n      <td>0.900000</td>\n      <td>0.961039</td>\n    </tr>\n    <tr>\n      <th>1</th>\n      <td>427.888709</td>\n      <td>0.057450</td>\n      <td>RandomizedSearchCV(cv=StratifiedKFold(n_splits...</td>\n      <td>0.625000</td>\n      <td>0.973684</td>\n      <td>1.0</td>\n      <td>0.925</td>\n      <td>0.769231</td>\n      <td>0.948718</td>\n    </tr>\n    <tr>\n      <th>2</th>\n      <td>356.678453</td>\n      <td>0.152897</td>\n      <td>RandomizedSearchCV(cv=StratifiedKFold(n_splits...</td>\n      <td>0.818182</td>\n      <td>0.950000</td>\n      <td>0.9</td>\n      <td>0.950</td>\n      <td>0.857143</td>\n      <td>0.950000</td>\n    </tr>\n    <tr>\n      <th>3</th>\n      <td>413.915637</td>\n      <td>0.125329</td>\n      <td>RandomizedSearchCV(cv=StratifiedKFold(n_splits...</td>\n      <td>0.909091</td>\n      <td>0.972222</td>\n      <td>1.0</td>\n      <td>0.875</td>\n      <td>0.952381</td>\n      <td>0.921053</td>\n    </tr>\n    <tr>\n      <th>4</th>\n      <td>340.074493</td>\n      <td>0.040202</td>\n      <td>RandomizedSearchCV(cv=StratifiedKFold(n_splits...</td>\n      <td>0.692308</td>\n      <td>0.883721</td>\n      <td>0.9</td>\n      <td>0.950</td>\n      <td>0.782609</td>\n      <td>0.915663</td>\n    </tr>\n  </tbody>\n</table>\n</div>"
          },
          "metadata": {}
        }
      ],
      "execution_count": 20,
      "metadata": {
        "gather": {
          "logged": 1618142993529
        },
        "jupyter": {
          "outputs_hidden": false,
          "source_hidden": false
        },
        "nteract": {
          "transient": {
            "deleting": false
          }
        }
      }
    },
    {
      "cell_type": "markdown",
      "source": [
        "# TODO\n",
        "\n",
        "1. Perform analisys on cross validation results\n",
        "1. Try to increase number of inner splits\n",
        "1. Add comments in all the notebook"
      ],
      "metadata": {
        "nteract": {
          "transient": {
            "deleting": false
          }
        }
      }
    },
    {
      "cell_type": "code",
      "source": [],
      "outputs": [],
      "execution_count": null,
      "metadata": {
        "collapsed": true,
        "jupyter": {
          "source_hidden": false,
          "outputs_hidden": false
        },
        "nteract": {
          "transient": {
            "deleting": false
          }
        }
      }
    }
  ],
  "metadata": {
    "kernel_info": {
      "name": "python3"
    },
    "kernelspec": {
      "name": "python3",
      "language": "python",
      "display_name": "Python 3"
    },
    "language_info": {
      "name": "python",
      "version": "3.6.9",
      "mimetype": "text/x-python",
      "codemirror_mode": {
        "name": "ipython",
        "version": 3
      },
      "pygments_lexer": "ipython3",
      "nbconvert_exporter": "python",
      "file_extension": ".py"
    },
    "microsoft": {
      "host": {
        "AzureML": {
          "notebookHasBeenCompleted": true
        }
      }
    },
    "nteract": {
      "version": "nteract-front-end@1.0.0"
    }
  },
  "nbformat": 4,
  "nbformat_minor": 4
}
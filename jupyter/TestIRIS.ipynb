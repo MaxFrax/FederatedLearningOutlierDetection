{
 "cells": [
  {
   "cell_type": "code",
   "execution_count": null,
   "metadata": {
    "gather": {
     "logged": 1618142225399
    }
   },
   "outputs": [],
   "source": [
    "from sklearn import datasets\n",
    "\n",
    "iris = datasets.load_iris()"
   ]
  },
  {
   "cell_type": "code",
   "execution_count": null,
   "metadata": {
    "gather": {
     "logged": 1618142225671
    }
   },
   "outputs": [],
   "source": [
    "from sklearn.decomposition import PCA\n",
    "from sklearn.preprocessing import StandardScaler, MaxAbsScaler, RobustScaler, QuantileTransformer\n",
    "import numpy as np\n",
    "from sklearn.model_selection import RandomizedSearchCV\n",
    "import random"
   ]
  },
  {
   "cell_type": "code",
   "execution_count": null,
   "metadata": {
    "gather": {
     "logged": 1618142226210
    }
   },
   "outputs": [],
   "source": [
    "import matplotlib.pyplot as plt"
   ]
  },
  {
   "cell_type": "code",
   "execution_count": null,
   "metadata": {},
   "outputs": [],
   "source": [
    "from scipy.stats import randint, uniform\n",
    "from sklearn.model_selection import cross_validate\n",
    "from tqdm.notebook import tqdm"
   ]
  },
  {
   "cell_type": "markdown",
   "metadata": {},
   "source": [
    "# Let's try the algorithm\n",
    "\n",
    "First of all we select the middle class as outlier (label = 1) since it's a bit harder than the others.\n",
    "In fact by being in the middle of the other two, the sphere projection must split."
   ]
  },
  {
   "cell_type": "code",
   "execution_count": null,
   "metadata": {
    "gather": {
     "logged": 1618142226481
    }
   },
   "outputs": [],
   "source": [
    "classes = [1, 1, 1]\n",
    "\n",
    "while sum(classes) <= 0 or sum(classes) >=3:\n",
    "    classes = [random.choice([0, 1]) for _ in range(3)]\n",
    "    \n",
    "X = iris.data\n",
    "y = [classes[0]] * 50 + [classes[1]] * 50 + [classes[2]] * 50\n",
    "colors = ['red' if i == 1 else 'green' for i in y]"
   ]
  },
  {
   "cell_type": "markdown",
   "metadata": {},
   "source": [
    "We scale the data and reduce the components to two, just to work in a easy to visualize environment."
   ]
  },
  {
   "cell_type": "code",
   "execution_count": null,
   "metadata": {
    "gather": {
     "logged": 1618142226800
    }
   },
   "outputs": [],
   "source": [
    "X_scaled = MaxAbsScaler().fit_transform(X)\n",
    "X_reduced = PCA(n_components=2).fit_transform(X_scaled)"
   ]
  },
  {
   "cell_type": "code",
   "execution_count": null,
   "metadata": {
    "gather": {
     "logged": 1618142227887
    },
    "scrolled": true
   },
   "outputs": [],
   "source": [
    "plt.scatter(X_reduced[:,0],X_reduced[:,1], c=colors)\n",
    "plt.show()"
   ]
  },
  {
   "cell_type": "code",
   "execution_count": null,
   "metadata": {
    "gather": {
     "logged": 1618142228858
    }
   },
   "outputs": [],
   "source": [
    "import sys\n",
    "\n",
    "sys.path.append('..')\n",
    "\n",
    "from flod.classifiers.bsvclassifier import BSVClassifier"
   ]
  },
  {
   "cell_type": "markdown",
   "metadata": {},
   "source": [
    "We keep only 33% of the dataset as test set.\n",
    "\n",
    "We shuffle and stratify, since the outliers are not the same amount as the regular points."
   ]
  },
  {
   "cell_type": "code",
   "execution_count": null,
   "metadata": {
    "gather": {
     "logged": 1618142229143
    }
   },
   "outputs": [],
   "source": [
    "from sklearn.model_selection import train_test_split\n",
    "\n",
    "X_train, X_test, y_train, y_test = train_test_split(X_reduced, y, test_size=0.33, shuffle=True, stratify=y)"
   ]
  },
  {
   "cell_type": "code",
   "execution_count": null,
   "metadata": {
    "gather": {
     "logged": 1618142248537
    },
    "scrolled": true
   },
   "outputs": [],
   "source": [
    "import time\n",
    "from scipy.stats.distributions import norm\n",
    "\n",
    "start = time.time()\n",
    "\n",
    "#norm(loc=1.0, scale=1.0), \n",
    "params = {\n",
    "    'q': randint(0, 500),\n",
    "    'c': uniform(),\n",
    "    'p1': uniform(0, 10),\n",
    "    'p2': uniform(0, 10),\n",
    "    'p3': uniform(0, 10),\n",
    "    'p4': uniform(0, 10),\n",
    "}\n",
    "clf = RandomizedSearchCV(BSVClassifier(), params, cv=5, n_jobs=4, refit='f1', verbose=10, return_train_score=False, n_iter=200)\n",
    "\n",
    "clf.fit(X_train, y_train)\n",
    "\n",
    "print(f'RandomizedSearchCV took: {time.time() - start}')"
   ]
  },
  {
   "cell_type": "code",
   "execution_count": null,
   "metadata": {
    "gather": {
     "logged": 1618142248822
    }
   },
   "outputs": [],
   "source": [
    "y_pred = clf.predict(X_test)"
   ]
  },
  {
   "cell_type": "code",
   "execution_count": null,
   "metadata": {
    "gather": {
     "logged": 1618142248951
    },
    "jupyter": {
     "outputs_hidden": false,
     "source_hidden": false
    },
    "nteract": {
     "transient": {
      "deleting": false
     }
    }
   },
   "outputs": [],
   "source": [
    "from sklearn.metrics import accuracy_score, precision_score, recall_score, f1_score\n",
    "\n",
    "print(f'Precision {precision_score(y_test, y_pred)}')\n",
    "print(f'Recall {recall_score(y_test, y_pred)}')\n",
    "print(f'F1 {f1_score(y_test, y_pred)}')\n",
    "print(f'Accuracy {accuracy_score(y_test, y_pred)}')"
   ]
  },
  {
   "cell_type": "code",
   "execution_count": null,
   "metadata": {
    "gather": {
     "logged": 1618142249061
    },
    "scrolled": true
   },
   "outputs": [],
   "source": [
    "from sklearn.metrics import classification_report\n",
    "\n",
    "print(classification_report(y_test, y_pred))"
   ]
  },
  {
   "cell_type": "code",
   "execution_count": null,
   "metadata": {},
   "outputs": [],
   "source": [
    "best_clf = clf.best_estimator_\n",
    "\n",
    "best_clf"
   ]
  },
  {
   "cell_type": "code",
   "execution_count": null,
   "metadata": {
    "gather": {
     "logged": 1618142251942
    }
   },
   "outputs": [],
   "source": [
    "gx = np.linspace(min(X_reduced[:,0])-.2, max(X_reduced[:,0])+.2, 50)\n",
    "gy = np.linspace(min(X_reduced[:,1])-.2, max(X_reduced[:,1])+.2, 50)\n",
    "gX, gY = np.meshgrid(gx, gy)\n",
    "zs = np.array([best_clf._compute_r(np.array([x, y]), 'tensorflow') for x, y in zip(np.ravel(gX), np.ravel(gY))])\n",
    "gZ = zs.reshape(gX.shape)\n",
    "membership_contour = plt.contour(gX, gY, gZ, levels=(best_clf.radius_, ))\n",
    "plt.clabel(membership_contour, inline=1)\n",
    "\n",
    "plt.scatter(X_reduced[:,0],X_reduced[:,1], c=colors)\n",
    "plt.show()"
   ]
  },
  {
   "cell_type": "code",
   "execution_count": null,
   "metadata": {
    "gather": {
     "logged": 1618142252264
    }
   },
   "outputs": [],
   "source": [
    "from joblib import dump, load\n",
    "dump(clf, 'iris.joblib') "
   ]
  },
  {
   "cell_type": "markdown",
   "metadata": {},
   "source": [
    "# Nested Cross validation"
   ]
  },
  {
   "cell_type": "markdown",
   "metadata": {},
   "source": [
    "Once found the best hyper params each training set, how good and consistent are the metrics?"
   ]
  },
  {
   "cell_type": "code",
   "execution_count": null,
   "metadata": {
    "gather": {
     "logged": 1618142252503
    }
   },
   "outputs": [],
   "source": [
    "from sklearn.pipeline import Pipeline\n",
    "from sklearn.model_selection import StratifiedKFold, LeaveOneOut\n",
    "\n",
    "\n",
    "pipe = Pipeline([\n",
    "        ('scaler', MaxAbsScaler()),\n",
    "        ('reduce_dim', PCA()),\n",
    "        ('classifier', BSVClassifier())\n",
    "])\n",
    "\n",
    "params = {\n",
    "    'scaler': [StandardScaler(), MaxAbsScaler(), RobustScaler(), QuantileTransformer()],\n",
    "    'reduce_dim__n_components': randint(0, X.shape[1]),\n",
    "    'classifier__q': randint(0, 500),\n",
    "    'classifier__c': uniform()    \n",
    "}\n",
    "\n",
    "scoring = ['precision', 'recall', 'f1']"
   ]
  },
  {
   "cell_type": "markdown",
   "metadata": {},
   "source": [
    "Inner loop aka RandomizedSearchCV to find the best model given the data.\n",
    "Outer loop to see if the best model was just lucky or all the best models perform well."
   ]
  },
  {
   "cell_type": "code",
   "execution_count": null,
   "metadata": {
    "gather": {
     "logged": 1618142953207
    },
    "jupyter": {
     "outputs_hidden": false,
     "source_hidden": false
    },
    "nteract": {
     "transient": {
      "deleting": false
     }
    }
   },
   "outputs": [],
   "source": [
    "outer_cv = StratifiedKFold(n_splits=10, shuffle=True)\n",
    "inner_cv = StratifiedKFold(n_splits=5, shuffle=True)\n",
    "\n",
    "\n",
    "r_clf = RandomizedSearchCV(pipe, params, n_jobs=-1, cv=inner_cv, refit='f1', verbose=10, return_train_score=False, scoring=scoring, n_iter=100)\n",
    "scores = cross_validate(r_clf, X=X, y=y, cv=outer_cv, n_jobs=-1, scoring=scoring, verbose=10, return_estimator=True, return_train_score=True)"
   ]
  },
  {
   "cell_type": "code",
   "execution_count": null,
   "metadata": {
    "gather": {
     "logged": 1618142993529
    },
    "jupyter": {
     "outputs_hidden": false,
     "source_hidden": false
    },
    "nteract": {
     "transient": {
      "deleting": false
     }
    }
   },
   "outputs": [],
   "source": [
    "import pandas as pd\n",
    "\n",
    "cv_res = pd.DataFrame(scores)\n",
    "cv_res['estimator_params'] = [est.best_params_ for est in cv_res['estimator']]\n",
    "cv_res = cv_res.dropna()\n",
    "\n",
    "cv_res"
   ]
  },
  {
   "cell_type": "code",
   "execution_count": null,
   "metadata": {
    "jupyter": {
     "outputs_hidden": false,
     "source_hidden": false
    },
    "nteract": {
     "transient": {
      "deleting": false
     }
    }
   },
   "outputs": [],
   "source": [
    "print(f'Average precision: {np.average(cv_res[\"test_precision\"]):.4f}')\n",
    "print(f'Std precision: {np.std(cv_res[\"test_precision\"]):.4f}')\n",
    "\n",
    "print(f'\\nAverage recall: {np.average(cv_res[\"test_recall\"]):.4f}')\n",
    "print(f'Std recall: {np.std(cv_res[\"test_recall\"]):.4f}')\n",
    "\n",
    "print(f'\\nAverage f1: {np.average(cv_res[\"test_f1\"]):.4f}')\n",
    "print(f'Std f1: {np.std(cv_res[\"test_f1\"]):.2f}')"
   ]
  },
  {
   "cell_type": "code",
   "execution_count": null,
   "metadata": {},
   "outputs": [],
   "source": [
    "ix = cv_res['test_f1'].idxmax()\n",
    "\n",
    "cv_res['estimator_params'][ix]"
   ]
  }
 ],
 "metadata": {
  "kernel_info": {
   "name": "python3"
  },
  "kernelspec": {
   "display_name": "Python 3",
   "language": "python",
   "name": "python3"
  },
  "language_info": {
   "codemirror_mode": {
    "name": "ipython",
    "version": 3
   },
   "file_extension": ".py",
   "mimetype": "text/x-python",
   "name": "python",
   "nbconvert_exporter": "python",
   "pygments_lexer": "ipython3",
   "version": "3.7.10"
  },
  "microsoft": {
   "host": {
    "AzureML": {
     "notebookHasBeenCompleted": true
    }
   }
  },
  "nteract": {
   "version": "nteract-front-end@1.0.0"
  }
 },
 "nbformat": 4,
 "nbformat_minor": 4
}

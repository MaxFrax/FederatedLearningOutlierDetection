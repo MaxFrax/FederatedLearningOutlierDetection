{
  "cells": [
    {
      "cell_type": "code",
      "source": [
        "from sklearn import datasets\n",
        "\n",
        "iris = datasets.load_iris()"
      ],
      "outputs": [],
      "execution_count": null,
      "metadata": {
        "gather": {
          "logged": 1617884566718
        }
      }
    },
    {
      "cell_type": "code",
      "source": [
        "from sklearn.decomposition import PCA\n",
        "from sklearn.preprocessing import StandardScaler, MaxAbsScaler, RobustScaler, QuantileTransformer\n",
        "import numpy as np\n",
        "from sklearn.model_selection import GridSearchCV"
      ],
      "outputs": [],
      "execution_count": null,
      "metadata": {
        "gather": {
          "logged": 1617884567144
        }
      }
    },
    {
      "cell_type": "code",
      "source": [
        "import matplotlib.pyplot as plt"
      ],
      "outputs": [],
      "execution_count": null,
      "metadata": {
        "gather": {
          "logged": 1617884567496
        }
      }
    },
    {
      "cell_type": "markdown",
      "source": [
        "# Let's try the algorithm\n",
        "\n",
        "First of all we select the middle class as outlier (label = 1) since it's a bit harder than the others.\n",
        "In fact by being in the middle of the other two, the sphere projection must split."
      ],
      "metadata": {}
    },
    {
      "cell_type": "code",
      "source": [
        "X = iris.data\n",
        "y = [0] * 50 + [1] * 50 + [0] * 50\n",
        "colors = ['red' if i == 1 else 'green' for i in y]"
      ],
      "outputs": [],
      "execution_count": null,
      "metadata": {
        "gather": {
          "logged": 1617884567908
        }
      }
    },
    {
      "cell_type": "markdown",
      "source": [
        "We scale the data and reduce the components to two, just to work in a easy to visualize environment."
      ],
      "metadata": {}
    },
    {
      "cell_type": "code",
      "source": [
        "X_scaled = MaxAbsScaler().fit_transform(X)\n",
        "X_reduced = PCA(n_components=2).fit_transform(X_scaled)"
      ],
      "outputs": [],
      "execution_count": null,
      "metadata": {
        "gather": {
          "logged": 1617884568527
        }
      }
    },
    {
      "cell_type": "code",
      "source": [
        "plt.scatter(X_reduced[:,0],X_reduced[:,1], c=colors)\n",
        "plt.show()"
      ],
      "outputs": [],
      "execution_count": null,
      "metadata": {
        "gather": {
          "logged": 1617884569156
        },
        "scrolled": true
      }
    },
    {
      "cell_type": "code",
      "source": [
        "import sys\n",
        "\n",
        "sys.path.append('..')\n",
        "\n",
        "from flod.classifiers.bsvclassifier import BSVClassifier"
      ],
      "outputs": [],
      "execution_count": null,
      "metadata": {
        "gather": {
          "logged": 1617884569316
        }
      }
    },
    {
      "cell_type": "markdown",
      "source": [
        "We keep only 33% of the dataset as test set.\n",
        "\n",
        "We shuffle and stratify, since the outliers are not the same amount as the regular points."
      ],
      "metadata": {}
    },
    {
      "cell_type": "code",
      "source": [
        "from sklearn.model_selection import train_test_split\n",
        "\n",
        "X_train, X_test, y_train, y_test = train_test_split(X_reduced, y, test_size=0.33, shuffle=True, stratify=y)"
      ],
      "outputs": [],
      "execution_count": null,
      "metadata": {
        "gather": {
          "logged": 1617884569699
        }
      }
    },
    {
      "cell_type": "code",
      "source": [
        "clf = BSVClassifier(n_iter=10, q=100, penalization=200)\n",
        "clf.fit(X_train, y_train)"
      ],
      "outputs": [],
      "execution_count": null,
      "metadata": {
        "gather": {
          "logged": 1617884844593
        },
        "scrolled": true
      }
    },
    {
      "cell_type": "code",
      "source": [
        "y_pred = clf.predict(X_test)"
      ],
      "outputs": [],
      "execution_count": null,
      "metadata": {
        "gather": {
          "logged": 1617884844843
        }
      }
    },
    {
      "cell_type": "code",
      "source": [
        "from sklearn.metrics import accuracy_score, precision_score, recall_score, f1_score\n",
        "\n",
        "print(f'Precision {precision_score(y_test, y_pred)}')\n",
        "print(f'Recall {recall_score(y_test, y_pred)}')\n",
        "print(f'F1 {f1_score(y_test, y_pred)}')\n",
        "print(f'Accuracy {accuracy_score(y_test, y_pred)}')"
      ],
      "outputs": [],
      "execution_count": null,
      "metadata": {
        "gather": {
          "logged": 1617884845039
        },
        "jupyter": {
          "outputs_hidden": false,
          "source_hidden": false
        },
        "nteract": {
          "transient": {
            "deleting": false
          }
        }
      }
    },
    {
      "cell_type": "code",
      "source": [
        "from sklearn.metrics import classification_report\n",
        "\n",
        "print(classification_report(y_test, y_pred))"
      ],
      "outputs": [],
      "execution_count": null,
      "metadata": {
        "gather": {
          "logged": 1617884845220
        }
      }
    },
    {
      "cell_type": "code",
      "source": [
        "gx = np.linspace(min(X_reduced[:,0])-.2, max(X_reduced[:,0])+.2, 50)\n",
        "gy = np.linspace(min(X_reduced[:,1])-.2, max(X_reduced[:,1])+.2, 50)\n",
        "gX, gY = np.meshgrid(gx, gy)\n",
        "zs = np.array([clf._compute_r(np.array([x, y])) for x, y in zip(np.ravel(gX), np.ravel(gY))])\n",
        "gZ = zs.reshape(gX.shape)\n",
        "membership_contour = plt.contour(gX, gY, gZ, levels=(clf.radiuses_[clf.sv_i], ))\n",
        "plt.clabel(membership_contour, inline=1)\n",
        "\n",
        "plt.scatter(X_reduced[:,0],X_reduced[:,1], c=y)\n",
        "plt.show()"
      ],
      "outputs": [],
      "execution_count": null,
      "metadata": {
        "gather": {
          "logged": 1617884848593
        }
      }
    },
    {
      "cell_type": "code",
      "source": [
        "from joblib import dump, load\n",
        "dump(clf, 'iris.joblib') "
      ],
      "outputs": [],
      "execution_count": null,
      "metadata": {
        "gather": {
          "logged": 1617881817628
        }
      }
    },
    {
      "cell_type": "markdown",
      "source": [
        "# Let's setup a Pipeline"
      ],
      "metadata": {}
    },
    {
      "cell_type": "markdown",
      "source": [
        "We split train and test the same as above."
      ],
      "metadata": {}
    },
    {
      "cell_type": "code",
      "source": [
        "from sklearn.model_selection import train_test_split\n",
        "\n",
        "X_train, X_test, y_train, y_test = train_test_split(X, y, test_size=0.33, shuffle=True, stratify=y)"
      ],
      "outputs": [],
      "execution_count": null,
      "metadata": {
        "gather": {
          "logged": 1617881817772
        },
        "jupyter": {
          "outputs_hidden": false,
          "source_hidden": false
        },
        "nteract": {
          "transient": {
            "deleting": false
          }
        }
      }
    },
    {
      "cell_type": "code",
      "source": [
        "from sklearn.pipeline import Pipeline\n",
        "from sklearn.model_selection import StratifiedKFold\n",
        "\n",
        "\n",
        "pipe = Pipeline([\n",
        "        ('scaler', MaxAbsScaler()),\n",
        "        ('reduce_dim', PCA()),\n",
        "        ('classifier', BSVClassifier())\n",
        "])"
      ],
      "outputs": [],
      "execution_count": null,
      "metadata": {
        "gather": {
          "logged": 1617881817969
        }
      }
    },
    {
      "cell_type": "code",
      "source": [
        "params = {\n",
        "    'scaler': [StandardScaler(), MaxAbsScaler(), RobustScaler(), QuantileTransformer()],\n",
        "    'reduce_dim__n_components': range(iris.data.shape[1])[1:],\n",
        "    'classifier__n_iter': [10],\n",
        "    'classifier__penalization': np.random.uniform(1, 100, 3),\n",
        "    'classifier__q': np.random.uniform(.1, 100, 5)\n",
        "}\n",
        "\n",
        "scoring = ['precision', 'recall', 'f1']\n",
        "cv = StratifiedKFold(n_splits=3, shuffle=True)\n",
        "search = GridSearchCV(pipe, params, n_jobs=-1, cv=cv, refit='f1', verbose=5, return_train_score=True, scoring=scoring)"
      ],
      "outputs": [],
      "execution_count": null,
      "metadata": {
        "gather": {
          "logged": 1617881818108
        },
        "jupyter": {
          "outputs_hidden": false,
          "source_hidden": false
        },
        "nteract": {
          "transient": {
            "deleting": false
          }
        }
      }
    },
    {
      "cell_type": "code",
      "source": [
        "search.fit(X_train, y_train)"
      ],
      "outputs": [],
      "execution_count": null,
      "metadata": {
        "gather": {
          "logged": 1617883856107
        },
        "jupyter": {
          "outputs_hidden": false,
          "source_hidden": false
        },
        "nteract": {
          "transient": {
            "deleting": false
          }
        }
      }
    },
    {
      "cell_type": "code",
      "source": [
        "print(f'Best params: {search.best_params_}')\n",
        "print(f'Best score: {search.best_score_}')"
      ],
      "outputs": [],
      "execution_count": null,
      "metadata": {
        "gather": {
          "logged": 1617883856264
        },
        "jupyter": {
          "outputs_hidden": false,
          "source_hidden": false
        },
        "nteract": {
          "transient": {
            "deleting": false
          }
        }
      }
    },
    {
      "cell_type": "code",
      "source": [
        "search.score(X_test, y_test)"
      ],
      "outputs": [],
      "execution_count": null,
      "metadata": {
        "gather": {
          "logged": 1617883856617
        },
        "jupyter": {
          "outputs_hidden": false,
          "source_hidden": false
        },
        "nteract": {
          "transient": {
            "deleting": false
          }
        }
      }
    },
    {
      "cell_type": "code",
      "source": [
        "import pandas as pd\n",
        "\n",
        "cv_res = pd.DataFrame(search.cv_results_)\n",
        "cv_res"
      ],
      "outputs": [],
      "execution_count": null,
      "metadata": {
        "gather": {
          "logged": 1617883856786
        },
        "jupyter": {
          "outputs_hidden": false,
          "source_hidden": false
        },
        "nteract": {
          "transient": {
            "deleting": false
          }
        }
      }
    },
    {
      "cell_type": "code",
      "source": [
        "clf = search.best_estimator_['classifier']"
      ],
      "outputs": [],
      "execution_count": null,
      "metadata": {
        "gather": {
          "logged": 1617883856935
        },
        "jupyter": {
          "outputs_hidden": false,
          "source_hidden": false
        },
        "nteract": {
          "transient": {
            "deleting": false
          }
        }
      }
    },
    {
      "cell_type": "code",
      "source": [
        "from sklearn.metrics import classification_report\n",
        "\n",
        "print(classification_report(y_test, search.predict(X_test)))"
      ],
      "outputs": [],
      "execution_count": null,
      "metadata": {
        "gather": {
          "logged": 1617883857090
        },
        "jupyter": {
          "outputs_hidden": false,
          "source_hidden": false
        },
        "nteract": {
          "transient": {
            "deleting": false
          }
        }
      }
    },
    {
      "cell_type": "code",
      "source": [
        "dump(clf, 'grid_iris.joblib') "
      ],
      "outputs": [],
      "execution_count": null,
      "metadata": {
        "gather": {
          "logged": 1617883857256
        },
        "jupyter": {
          "outputs_hidden": false,
          "source_hidden": false
        },
        "nteract": {
          "transient": {
            "deleting": false
          }
        }
      }
    },
    {
      "cell_type": "markdown",
      "source": [
        "## Parameter Q analisys\n",
        "\n",
        "Let's see how different Q values perform over the best classifier"
      ],
      "metadata": {}
    },
    {
      "cell_type": "code",
      "source": [
        "columns = [col for col in cv_res.columns if 'mean' in col and 'test' in col]\n",
        "columns.append('param_classifier__q')\n",
        "columns.append('param_reduce_dim__n_components')\n",
        "columns.append('param_scaler')\n",
        "\n",
        "columns"
      ],
      "outputs": [],
      "execution_count": null,
      "metadata": {
        "jupyter": {
          "outputs_hidden": false,
          "source_hidden": false
        },
        "nteract": {
          "transient": {
            "deleting": false
          }
        },
        "gather": {
          "logged": 1617884487817
        }
      }
    },
    {
      "cell_type": "markdown",
      "source": [
        "Let's keep only the row that applied the best penalization."
      ],
      "metadata": {
        "nteract": {
          "transient": {
            "deleting": false
          }
        }
      }
    },
    {
      "cell_type": "code",
      "source": [
        "best_penalization = search.best_params_['classifier__penalization']\n",
        "\n",
        "cv_res_fil = cv_res[cv_res['param_classifier__penalization'] == best_penalization][columns]\n",
        "cv_res_fil"
      ],
      "outputs": [],
      "execution_count": null,
      "metadata": {
        "gather": {
          "logged": 1617884488426
        }
      }
    },
    {
      "cell_type": "markdown",
      "source": [
        "Let's filter by the best number of components and best scaler. Then we drop the column"
      ],
      "metadata": {
        "nteract": {
          "transient": {
            "deleting": false
          }
        }
      }
    },
    {
      "cell_type": "code",
      "source": [
        "best_n_components = search.best_params_['reduce_dim__n_components']\n",
        "best_scaler = search.best_params_['scaler']\n",
        "\n",
        "cv_res_fil = cv_res_fil[cv_res_fil['param_reduce_dim__n_components'] == best_n_components]\n",
        "cv_res_fil= cv_res_fil.drop('param_reduce_dim__n_components', axis=1)\n",
        "\n",
        "cv_res_fil = cv_res_fil[cv_res_fil['param_scaler'] == best_scaler]\n",
        "cv_res_fil= cv_res_fil.drop('param_scaler', axis=1)\n",
        "\n",
        "cv_res_fil"
      ],
      "outputs": [],
      "execution_count": null,
      "metadata": {
        "collapsed": true,
        "jupyter": {
          "source_hidden": false,
          "outputs_hidden": false
        },
        "nteract": {
          "transient": {
            "deleting": false
          }
        },
        "gather": {
          "logged": 1617884489065
        }
      }
    },
    {
      "cell_type": "code",
      "source": [
        "cv_res_fil.sort_values('param_classifier__q', axis=0).plot(x='param_classifier__q')\n",
        "plt.show()"
      ],
      "outputs": [],
      "execution_count": null,
      "metadata": {
        "gather": {
          "logged": 1617884490004
        }
      }
    },
    {
      "cell_type": "code",
      "source": [],
      "outputs": [],
      "execution_count": null,
      "metadata": {
        "collapsed": true,
        "jupyter": {
          "source_hidden": false,
          "outputs_hidden": false
        },
        "nteract": {
          "transient": {
            "deleting": false
          }
        }
      }
    }
  ],
  "metadata": {
    "kernel_info": {
      "name": "python3"
    },
    "kernelspec": {
      "name": "python3",
      "language": "python",
      "display_name": "Python 3"
    },
    "language_info": {
      "name": "python",
      "version": "3.6.9",
      "mimetype": "text/x-python",
      "codemirror_mode": {
        "name": "ipython",
        "version": 3
      },
      "pygments_lexer": "ipython3",
      "nbconvert_exporter": "python",
      "file_extension": ".py"
    },
    "microsoft": {
      "host": {
        "AzureML": {
          "notebookHasBeenCompleted": true
        }
      }
    },
    "nteract": {
      "version": "nteract-front-end@1.0.0"
    }
  },
  "nbformat": 4,
  "nbformat_minor": 4
}
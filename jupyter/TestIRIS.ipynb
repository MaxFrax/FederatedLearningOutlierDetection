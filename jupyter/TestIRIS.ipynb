{
 "cells": [
  {
   "cell_type": "code",
   "execution_count": 1,
   "metadata": {
    "gather": {
     "logged": 1618142225399
    }
   },
   "outputs": [],
   "source": [
    "from sklearn import datasets\n",
    "\n",
    "iris = datasets.load_iris()"
   ]
  },
  {
   "cell_type": "code",
   "execution_count": 2,
   "metadata": {
    "gather": {
     "logged": 1618142225671
    }
   },
   "outputs": [],
   "source": [
    "from sklearn.decomposition import PCA\n",
    "from sklearn.preprocessing import StandardScaler, MaxAbsScaler, RobustScaler, QuantileTransformer\n",
    "import numpy as np\n",
    "from sklearn.model_selection import RandomizedSearchCV\n",
    "import random"
   ]
  },
  {
   "cell_type": "code",
   "execution_count": 3,
   "metadata": {
    "gather": {
     "logged": 1618142226210
    }
   },
   "outputs": [],
   "source": [
    "import matplotlib.pyplot as plt"
   ]
  },
  {
   "cell_type": "code",
   "execution_count": 4,
   "metadata": {},
   "outputs": [],
   "source": [
    "from scipy.stats import randint, uniform\n",
    "from sklearn.model_selection import cross_validate\n",
    "from tqdm.notebook import tqdm"
   ]
  },
  {
   "cell_type": "markdown",
   "metadata": {},
   "source": [
    "# Let's try the algorithm\n",
    "\n",
    "First of all we select the middle class as outlier (label = 1) since it's a bit harder than the others.\n",
    "In fact by being in the middle of the other two, the sphere projection must split."
   ]
  },
  {
   "cell_type": "code",
   "execution_count": 5,
   "metadata": {
    "gather": {
     "logged": 1618142226481
    }
   },
   "outputs": [],
   "source": [
    "classes = [1, 1, 1]\n",
    "\n",
    "while sum(classes) <= 0 or sum(classes) >=3:\n",
    "    classes = [random.choice([0, 1]) for _ in range(3)]\n",
    "    \n",
    "X = iris.data\n",
    "y = [classes[0]] * 50 + [classes[1]] * 50 + [classes[2]] * 50\n",
    "colors = ['red' if i == 1 else 'green' for i in y]"
   ]
  },
  {
   "cell_type": "markdown",
   "metadata": {},
   "source": [
    "We scale the data and reduce the components to two, just to work in a easy to visualize environment."
   ]
  },
  {
   "cell_type": "code",
   "execution_count": 6,
   "metadata": {
    "gather": {
     "logged": 1618142226800
    }
   },
   "outputs": [],
   "source": [
    "X_scaled = MaxAbsScaler().fit_transform(X)\n",
    "X_reduced = PCA(n_components=2).fit_transform(X_scaled)"
   ]
  },
  {
   "cell_type": "code",
   "execution_count": 7,
   "metadata": {
    "gather": {
     "logged": 1618142227887
    },
    "scrolled": true
   },
   "outputs": [
    {
     "data": {
      "image/png": "[encoded data removed]",
      "text/plain": [
       "<Figure size 432x288 with 1 Axes>"
      ]
     },
     "metadata": {
      "needs_background": "light"
     },
     "output_type": "display_data"
    }
   ],
   "source": [
    "plt.scatter(X_reduced[:,0],X_reduced[:,1], c=colors)\n",
    "plt.show()"
   ]
  },
  {
   "cell_type": "code",
   "execution_count": 8,
   "metadata": {
    "gather": {
     "logged": 1618142228858
    }
   },
   "outputs": [],
   "source": [
    "import sys\n",
    "\n",
    "sys.path.append('..')\n",
    "\n",
    "from flod.classifiers.bsvclassifier import BSVClassifier"
   ]
  },
  {
   "cell_type": "markdown",
   "metadata": {},
   "source": [
    "We keep only 33% of the dataset as test set.\n",
    "\n",
    "We shuffle and stratify, since the outliers are not the same amount as the regular points."
   ]
  },
  {
   "cell_type": "code",
   "execution_count": 9,
   "metadata": {
    "gather": {
     "logged": 1618142229143
    }
   },
   "outputs": [],
   "source": [
    "from sklearn.model_selection import train_test_split\n",
    "\n",
    "X_train, X_test, y_train, y_test = train_test_split(X_reduced, y, test_size=0.33, shuffle=True, stratify=y)"
   ]
  },
  {
   "cell_type": "code",
   "execution_count": 10,
   "metadata": {
    "gather": {
     "logged": 1618142248537
    },
    "scrolled": true
   },
   "outputs": [
    {
     "name": "stdout",
     "output_type": "stream",
     "text": [
      "Fitting 5 folds for each of 100 candidates, totalling 500 fits\n"
     ]
    },
    {
     "name": "stderr",
     "output_type": "stream",
     "text": [
      "[Parallel(n_jobs=-1)]: Using backend LokyBackend with 8 concurrent workers.\n",
      "[Parallel(n_jobs=-1)]: Done   2 tasks      | elapsed:    1.0s\n",
      "[Parallel(n_jobs=-1)]: Done   9 tasks      | elapsed:    1.1s\n",
      "[Parallel(n_jobs=-1)]: Done  16 tasks      | elapsed:    1.2s\n",
      "[Parallel(n_jobs=-1)]: Done  25 tasks      | elapsed:    1.3s\n",
      "[Parallel(n_jobs=-1)]: Done  34 tasks      | elapsed:    1.4s\n",
      "[Parallel(n_jobs=-1)]: Batch computation too fast (0.1916s.) Setting batch_size=2.\n",
      "[Parallel(n_jobs=-1)]: Done  45 tasks      | elapsed:    1.5s\n",
      "[Parallel(n_jobs=-1)]: Done  56 tasks      | elapsed:    1.6s\n",
      "[Parallel(n_jobs=-1)]: Batch computation too fast (0.1640s.) Setting batch_size=4.\n",
      "[Parallel(n_jobs=-1)]: Done  82 tasks      | elapsed:    1.9s\n",
      "[Parallel(n_jobs=-1)]: Done 128 tasks      | elapsed:    2.5s\n",
      "[Parallel(n_jobs=-1)]: Done 188 tasks      | elapsed:    3.0s\n",
      "[Parallel(n_jobs=-1)]: Done 248 tasks      | elapsed:    3.4s\n",
      "[Parallel(n_jobs=-1)]: Done 316 tasks      | elapsed:    3.9s\n",
      "[Parallel(n_jobs=-1)]: Done 384 tasks      | elapsed:    4.6s\n",
      "[Parallel(n_jobs=-1)]: Done 457 tasks      | elapsed:    5.1s\n"
     ]
    },
    {
     "name": "stdout",
     "output_type": "stream",
     "text": [
      "Academic license - for non-commercial use only - expires 2021-06-25\n",
      "Using license file /Users/maxfrax/gurobi.lic\n",
      "Changed value of parameter ObjScale to -0.5\n",
      "   Prev: 0.0  Min: -1.0  Max: inf  Default: 0.0\n",
      "Changed value of parameter NumericFocus to 3\n",
      "   Prev: 0  Min: 0  Max: 3  Default: 0\n",
      "Gurobi Optimizer version 9.1.2 build v9.1.2rc0 (mac64)\n",
      "Thread count: 8 physical cores, 8 logical processors, using up to 8 threads\n",
      "Optimize a model with 1 rows, 33 columns and 33 nonzeros\n",
      "Model fingerprint: 0x4edb303f\n",
      "Model has 561 quadratic objective terms\n",
      "Coefficient statistics:\n",
      "  Matrix range     [1e+00, 1e+00]\n",
      "  Objective range  [1e+00, 1e+00]\n",
      "  QObjective range [8e-01, 4e+00]\n",
      "  Bounds range     [8e-01, 8e-01]\n",
      "  RHS range        [1e+00, 1e+00]\n",
      "Presolve time: 0.00s\n",
      "Presolved: 1 rows, 33 columns, 33 nonzeros\n",
      "Presolved model has 561 quadratic objective terms\n",
      "Ordering time: 0.00s\n",
      "\n",
      "Barrier statistics:\n",
      " Free vars  : 29\n",
      " AA' NZ     : 4.350e+02\n",
      " Factor NZ  : 4.650e+02\n",
      " Factor Ops : 9.455e+03 (less than 1 second per iteration)\n",
      " Threads    : 1\n",
      "\n",
      "                  Objective                Residual\n",
      "Iter       Primal          Dual         Primal    Dual     Compl     Time\n",
      "   0   3.30006385e+04  2.66468603e+04  3.30e+04 3.58e-01  1.00e+06     0s\n",
      "   1   3.30039366e+03  2.66098527e+04  3.30e+03 3.58e-02  1.00e+05     0s\n",
      "   2   3.29550763e+02  2.62556913e+04  3.29e+02 3.57e-03  1.03e+04     0s\n",
      "   3   3.27945989e+01  2.30832297e+04  3.26e+01 3.54e-04  1.27e+03     0s\n",
      "   4   3.38577234e+00  9.44332313e+03  3.23e+00 3.51e-05  2.06e+02     0s\n",
      "   5   4.71330585e-01  1.54236840e+03  3.21e-01 3.48e-06  2.64e+01     0s\n",
      "   6   1.82553464e-01  1.81695126e+02  3.18e-02 3.45e-07  2.79e+00     0s\n",
      "   7   1.54594518e-01  1.90052482e+01  3.26e-03 3.54e-08  2.86e-01     0s\n",
      "   8   1.58313371e-01  2.68717375e+00  4.22e-04 4.58e-09  3.83e-02     0s\n",
      "   9   2.41573328e-01  7.21173050e-01  4.36e-05 4.73e-10  7.27e-03     0s\n",
      "  10   3.49663552e-01  4.85426226e-01  4.33e-06 4.69e-11  2.06e-03     0s\n",
      "  11   3.84766497e-01  4.06573689e-01  4.29e-07 4.65e-12  3.30e-04     0s\n",
      "  12   3.94306596e-01  3.96945657e-01  4.30e-08 4.66e-13  4.00e-05     0s\n",
      "  13   3.95759815e-01  3.96022204e-01  4.26e-09 4.62e-14  3.98e-06     0s\n",
      "  14   3.95907912e-01  3.95934055e-01  4.22e-10 4.58e-15  3.96e-07     0s\n",
      "  15   3.95922674e-01  3.95925287e-01  4.19e-11 4.51e-16  3.96e-08     0s\n",
      "  16   3.95924150e-01  3.95924411e-01  4.15e-12 2.22e-16  3.96e-09     0s\n",
      "  17   3.95924297e-01  3.95924323e-01  4.13e-13 2.22e-16  3.96e-10     0s\n",
      "  18   3.95924312e-01  3.95924315e-01  3.91e-14 2.22e-16  3.96e-11     0s\n",
      "\n",
      "Barrier solved model in 18 iterations and 0.01 seconds\n",
      "Optimal objective 3.95924312e-01\n",
      "\n"
     ]
    },
    {
     "name": "stderr",
     "output_type": "stream",
     "text": [
      "[Parallel(n_jobs=-1)]: Done 500 out of 500 | elapsed:    5.3s finished\n"
     ]
    },
    {
     "data": {
      "text/plain": [
       "RandomizedSearchCV(cv=5, estimator=BSVClassifier(), n_iter=100, n_jobs=-1,\n",
       "                   param_distributions={'c': <scipy.stats._distn_infrastructure.rv_frozen object at 0x7fa250059af0>,\n",
       "                                        'q': <scipy.stats._distn_infrastructure.rv_frozen object at 0x7fa250059820>},\n",
       "                   refit='f1', verbose=10)"
      ]
     },
     "execution_count": 10,
     "metadata": {},
     "output_type": "execute_result"
    }
   ],
   "source": [
    "params = {\n",
    "    'q': randint(0, 500),\n",
    "    'c': uniform()    \n",
    "}\n",
    "clf = RandomizedSearchCV(BSVClassifier(), params, cv=5, n_jobs=-1, refit='f1', verbose=10, return_train_score=False, n_iter=100)\n",
    "clf.fit(X_train, y_train)"
   ]
  },
  {
   "cell_type": "code",
   "execution_count": 11,
   "metadata": {
    "gather": {
     "logged": 1618142248822
    }
   },
   "outputs": [],
   "source": [
    "y_pred = clf.predict(X_test)"
   ]
  },
  {
   "cell_type": "code",
   "execution_count": 12,
   "metadata": {
    "gather": {
     "logged": 1618142248951
    },
    "jupyter": {
     "outputs_hidden": false,
     "source_hidden": false
    },
    "nteract": {
     "transient": {
      "deleting": false
     }
    }
   },
   "outputs": [
    {
     "name": "stdout",
     "output_type": "stream",
     "text": [
      "Precision 0.9705882352941176\n",
      "Recall 1.0\n",
      "F1 0.9850746268656716\n",
      "Accuracy 0.98\n"
     ]
    }
   ],
   "source": [
    "from sklearn.metrics import accuracy_score, precision_score, recall_score, f1_score\n",
    "\n",
    "print(f'Precision {precision_score(y_test, y_pred)}')\n",
    "print(f'Recall {recall_score(y_test, y_pred)}')\n",
    "print(f'F1 {f1_score(y_test, y_pred)}')\n",
    "print(f'Accuracy {accuracy_score(y_test, y_pred)}')"
   ]
  },
  {
   "cell_type": "code",
   "execution_count": 13,
   "metadata": {
    "gather": {
     "logged": 1618142249061
    }
   },
   "outputs": [
    {
     "name": "stdout",
     "output_type": "stream",
     "text": [
      "              precision    recall  f1-score   support\n",
      "\n",
      "           0       1.00      0.94      0.97        17\n",
      "           1       0.97      1.00      0.99        33\n",
      "\n",
      "    accuracy                           0.98        50\n",
      "   macro avg       0.99      0.97      0.98        50\n",
      "weighted avg       0.98      0.98      0.98        50\n",
      "\n"
     ]
    }
   ],
   "source": [
    "from sklearn.metrics import classification_report\n",
    "\n",
    "print(classification_report(y_test, y_pred))"
   ]
  },
  {
   "cell_type": "code",
   "execution_count": 14,
   "metadata": {
    "gather": {
     "logged": 1618142251942
    }
   },
   "outputs": [
    {
     "data": {
      "image/png": "[encoded data removed]",
      "text/plain": [
       "<Figure size 432x288 with 1 Axes>"
      ]
     },
     "metadata": {
      "needs_background": "light"
     },
     "output_type": "display_data"
    }
   ],
   "source": [
    "best_clf = clf.best_estimator_\n",
    "\n",
    "gx = np.linspace(min(X_reduced[:,0])-.2, max(X_reduced[:,0])+.2, 50)\n",
    "gy = np.linspace(min(X_reduced[:,1])-.2, max(X_reduced[:,1])+.2, 50)\n",
    "gX, gY = np.meshgrid(gx, gy)\n",
    "zs = np.array([best_clf._compute_r(np.array([x, y])) for x, y in zip(np.ravel(gX), np.ravel(gY))])\n",
    "gZ = zs.reshape(gX.shape)\n",
    "membership_contour = plt.contour(gX, gY, gZ, levels=(best_clf.radius_, ))\n",
    "plt.clabel(membership_contour, inline=1)\n",
    "\n",
    "plt.scatter(X_reduced[:,0],X_reduced[:,1], c=colors)\n",
    "plt.show()"
   ]
  },
  {
   "cell_type": "code",
   "execution_count": 15,
   "metadata": {
    "gather": {
     "logged": 1618142252264
    }
   },
   "outputs": [
    {
     "data": {
      "text/plain": [
       "['iris.joblib']"
      ]
     },
     "execution_count": 15,
     "metadata": {},
     "output_type": "execute_result"
    }
   ],
   "source": [
    "from joblib import dump, load\n",
    "dump(clf, 'iris.joblib') "
   ]
  },
  {
   "cell_type": "markdown",
   "metadata": {},
   "source": [
    "# Nested Cross validation"
   ]
  },
  {
   "cell_type": "markdown",
   "metadata": {},
   "source": [
    "Once found the best hyper params each training set, how good and consistent are the metrics?"
   ]
  },
  {
   "cell_type": "code",
   "execution_count": 16,
   "metadata": {
    "gather": {
     "logged": 1618142252503
    }
   },
   "outputs": [],
   "source": [
    "from sklearn.pipeline import Pipeline\n",
    "from sklearn.model_selection import StratifiedKFold, LeaveOneOut\n",
    "\n",
    "\n",
    "pipe = Pipeline([\n",
    "        ('scaler', MaxAbsScaler()),\n",
    "        ('reduce_dim', PCA()),\n",
    "        ('classifier', BSVClassifier())\n",
    "])\n",
    "\n",
    "params = {\n",
    "    'scaler': [StandardScaler(), MaxAbsScaler(), RobustScaler(), QuantileTransformer()],\n",
    "    'reduce_dim__n_components': randint(0, X.shape[1]),\n",
    "    'classifier__q': randint(0, 500),\n",
    "    'classifier__c': uniform()    \n",
    "}\n",
    "\n",
    "scoring = ['precision', 'recall', 'f1']"
   ]
  },
  {
   "cell_type": "markdown",
   "metadata": {},
   "source": [
    "Inner loop aka RandomizedSearchCV to find the best model given the data.\n",
    "Outer loop to see if the best model was just lucky or all the best models perform well."
   ]
  },
  {
   "cell_type": "code",
   "execution_count": 17,
   "metadata": {
    "gather": {
     "logged": 1618142953207
    },
    "jupyter": {
     "outputs_hidden": false,
     "source_hidden": false
    },
    "nteract": {
     "transient": {
      "deleting": false
     }
    }
   },
   "outputs": [
    {
     "name": "stderr",
     "output_type": "stream",
     "text": [
      "[Parallel(n_jobs=-1)]: Using backend LokyBackend with 8 concurrent workers.\n",
      "[Parallel(n_jobs=-1)]: Done   3 out of  10 | elapsed:  1.3min remaining:  3.1min\n",
      "[Parallel(n_jobs=-1)]: Done   5 out of  10 | elapsed:  1.3min remaining:  1.3min\n",
      "[Parallel(n_jobs=-1)]: Done   7 out of  10 | elapsed:  1.3min remaining:   34.4s\n",
      "[Parallel(n_jobs=-1)]: Done  10 out of  10 | elapsed:  2.5min finished\n"
     ]
    }
   ],
   "source": [
    "outer_cv = StratifiedKFold(n_splits=10, shuffle=True)\n",
    "inner_cv = StratifiedKFold(n_splits=5, shuffle=True)\n",
    "\n",
    "\n",
    "r_clf = RandomizedSearchCV(pipe, params, n_jobs=-1, cv=inner_cv, refit='f1', verbose=10, return_train_score=False, scoring=scoring, n_iter=100)\n",
    "scores = cross_validate(r_clf, X=X, y=y, cv=outer_cv, n_jobs=-1, scoring=scoring, verbose=10, return_estimator=True, return_train_score=True)"
   ]
  },
  {
   "cell_type": "code",
   "execution_count": 18,
   "metadata": {
    "gather": {
     "logged": 1618142993529
    },
    "jupyter": {
     "outputs_hidden": false,
     "source_hidden": false
    },
    "nteract": {
     "transient": {
      "deleting": false
     }
    }
   },
   "outputs": [
    {
     "data": {
      "text/html": [
       "<div>\n",
       "<style scoped>\n",
       "    .dataframe tbody tr th:only-of-type {\n",
       "        vertical-align: middle;\n",
       "    }\n",
       "\n",
       "    .dataframe tbody tr th {\n",
       "        vertical-align: top;\n",
       "    }\n",
       "\n",
       "    .dataframe thead th {\n",
       "        text-align: right;\n",
       "    }\n",
       "</style>\n",
       "<table border=\"1\" class=\"dataframe\">\n",
       "  <thead>\n",
       "    <tr style=\"text-align: right;\">\n",
       "      <th></th>\n",
       "      <th>fit_time</th>\n",
       "      <th>score_time</th>\n",
       "      <th>estimator</th>\n",
       "      <th>test_precision</th>\n",
       "      <th>train_precision</th>\n",
       "      <th>test_recall</th>\n",
       "      <th>train_recall</th>\n",
       "      <th>test_f1</th>\n",
       "      <th>train_f1</th>\n",
       "      <th>estimator_params</th>\n",
       "    </tr>\n",
       "  </thead>\n",
       "  <tbody>\n",
       "    <tr>\n",
       "      <th>0</th>\n",
       "      <td>79.725776</td>\n",
       "      <td>0.006570</td>\n",
       "      <td>RandomizedSearchCV(cv=StratifiedKFold(n_splits...</td>\n",
       "      <td>1.000000</td>\n",
       "      <td>0.977273</td>\n",
       "      <td>0.8</td>\n",
       "      <td>0.955556</td>\n",
       "      <td>0.888889</td>\n",
       "      <td>0.966292</td>\n",
       "      <td>{'classifier__c': 0.17696066033622415, 'classi...</td>\n",
       "    </tr>\n",
       "    <tr>\n",
       "      <th>2</th>\n",
       "      <td>79.797501</td>\n",
       "      <td>0.006917</td>\n",
       "      <td>RandomizedSearchCV(cv=StratifiedKFold(n_splits...</td>\n",
       "      <td>1.000000</td>\n",
       "      <td>0.988235</td>\n",
       "      <td>1.0</td>\n",
       "      <td>0.933333</td>\n",
       "      <td>1.000000</td>\n",
       "      <td>0.960000</td>\n",
       "      <td>{'classifier__c': 0.3467361894529877, 'classif...</td>\n",
       "    </tr>\n",
       "    <tr>\n",
       "      <th>3</th>\n",
       "      <td>79.050620</td>\n",
       "      <td>0.006297</td>\n",
       "      <td>RandomizedSearchCV(cv=StratifiedKFold(n_splits...</td>\n",
       "      <td>1.000000</td>\n",
       "      <td>0.976744</td>\n",
       "      <td>1.0</td>\n",
       "      <td>0.933333</td>\n",
       "      <td>1.000000</td>\n",
       "      <td>0.954545</td>\n",
       "      <td>{'classifier__c': 0.949013176380314, 'classifi...</td>\n",
       "    </tr>\n",
       "    <tr>\n",
       "      <th>4</th>\n",
       "      <td>80.111701</td>\n",
       "      <td>0.007602</td>\n",
       "      <td>RandomizedSearchCV(cv=StratifiedKFold(n_splits...</td>\n",
       "      <td>0.900000</td>\n",
       "      <td>0.955056</td>\n",
       "      <td>0.9</td>\n",
       "      <td>0.944444</td>\n",
       "      <td>0.900000</td>\n",
       "      <td>0.949721</td>\n",
       "      <td>{'classifier__c': 0.4543498764805012, 'classif...</td>\n",
       "    </tr>\n",
       "    <tr>\n",
       "      <th>5</th>\n",
       "      <td>78.599621</td>\n",
       "      <td>0.006056</td>\n",
       "      <td>RandomizedSearchCV(cv=StratifiedKFold(n_splits...</td>\n",
       "      <td>1.000000</td>\n",
       "      <td>0.955056</td>\n",
       "      <td>0.9</td>\n",
       "      <td>0.944444</td>\n",
       "      <td>0.947368</td>\n",
       "      <td>0.949721</td>\n",
       "      <td>{'classifier__c': 0.8687777401516811, 'classif...</td>\n",
       "    </tr>\n",
       "    <tr>\n",
       "      <th>6</th>\n",
       "      <td>79.000381</td>\n",
       "      <td>0.006215</td>\n",
       "      <td>RandomizedSearchCV(cv=StratifiedKFold(n_splits...</td>\n",
       "      <td>1.000000</td>\n",
       "      <td>0.967033</td>\n",
       "      <td>0.9</td>\n",
       "      <td>0.977778</td>\n",
       "      <td>0.947368</td>\n",
       "      <td>0.972376</td>\n",
       "      <td>{'classifier__c': 0.0731412707338146, 'classif...</td>\n",
       "    </tr>\n",
       "    <tr>\n",
       "      <th>7</th>\n",
       "      <td>77.272224</td>\n",
       "      <td>0.006309</td>\n",
       "      <td>RandomizedSearchCV(cv=StratifiedKFold(n_splits...</td>\n",
       "      <td>1.000000</td>\n",
       "      <td>0.965116</td>\n",
       "      <td>0.9</td>\n",
       "      <td>0.922222</td>\n",
       "      <td>0.947368</td>\n",
       "      <td>0.943182</td>\n",
       "      <td>{'classifier__c': 0.10537630104694595, 'classi...</td>\n",
       "    </tr>\n",
       "    <tr>\n",
       "      <th>8</th>\n",
       "      <td>70.733849</td>\n",
       "      <td>0.006380</td>\n",
       "      <td>RandomizedSearchCV(cv=StratifiedKFold(n_splits...</td>\n",
       "      <td>0.909091</td>\n",
       "      <td>0.965116</td>\n",
       "      <td>1.0</td>\n",
       "      <td>0.922222</td>\n",
       "      <td>0.952381</td>\n",
       "      <td>0.943182</td>\n",
       "      <td>{'classifier__c': 0.9214910548076831, 'classif...</td>\n",
       "    </tr>\n",
       "    <tr>\n",
       "      <th>9</th>\n",
       "      <td>69.973819</td>\n",
       "      <td>0.006561</td>\n",
       "      <td>RandomizedSearchCV(cv=StratifiedKFold(n_splits...</td>\n",
       "      <td>0.833333</td>\n",
       "      <td>0.977528</td>\n",
       "      <td>1.0</td>\n",
       "      <td>0.966667</td>\n",
       "      <td>0.909091</td>\n",
       "      <td>0.972067</td>\n",
       "      <td>{'classifier__c': 0.11960541189440665, 'classi...</td>\n",
       "    </tr>\n",
       "  </tbody>\n",
       "</table>\n",
       "</div>"
      ],
      "text/plain": [
       "    fit_time  score_time                                          estimator  \\\n",
       "0  79.725776    0.006570  RandomizedSearchCV(cv=StratifiedKFold(n_splits...   \n",
       "2  79.797501    0.006917  RandomizedSearchCV(cv=StratifiedKFold(n_splits...   \n",
       "3  79.050620    0.006297  RandomizedSearchCV(cv=StratifiedKFold(n_splits...   \n",
       "4  80.111701    0.007602  RandomizedSearchCV(cv=StratifiedKFold(n_splits...   \n",
       "5  78.599621    0.006056  RandomizedSearchCV(cv=StratifiedKFold(n_splits...   \n",
       "6  79.000381    0.006215  RandomizedSearchCV(cv=StratifiedKFold(n_splits...   \n",
       "7  77.272224    0.006309  RandomizedSearchCV(cv=StratifiedKFold(n_splits...   \n",
       "8  70.733849    0.006380  RandomizedSearchCV(cv=StratifiedKFold(n_splits...   \n",
       "9  69.973819    0.006561  RandomizedSearchCV(cv=StratifiedKFold(n_splits...   \n",
       "\n",
       "   test_precision  train_precision  test_recall  train_recall   test_f1  \\\n",
       "0        1.000000         0.977273          0.8      0.955556  0.888889   \n",
       "2        1.000000         0.988235          1.0      0.933333  1.000000   \n",
       "3        1.000000         0.976744          1.0      0.933333  1.000000   \n",
       "4        0.900000         0.955056          0.9      0.944444  0.900000   \n",
       "5        1.000000         0.955056          0.9      0.944444  0.947368   \n",
       "6        1.000000         0.967033          0.9      0.977778  0.947368   \n",
       "7        1.000000         0.965116          0.9      0.922222  0.947368   \n",
       "8        0.909091         0.965116          1.0      0.922222  0.952381   \n",
       "9        0.833333         0.977528          1.0      0.966667  0.909091   \n",
       "\n",
       "   train_f1                                   estimator_params  \n",
       "0  0.966292  {'classifier__c': 0.17696066033622415, 'classi...  \n",
       "2  0.960000  {'classifier__c': 0.3467361894529877, 'classif...  \n",
       "3  0.954545  {'classifier__c': 0.949013176380314, 'classifi...  \n",
       "4  0.949721  {'classifier__c': 0.4543498764805012, 'classif...  \n",
       "5  0.949721  {'classifier__c': 0.8687777401516811, 'classif...  \n",
       "6  0.972376  {'classifier__c': 0.0731412707338146, 'classif...  \n",
       "7  0.943182  {'classifier__c': 0.10537630104694595, 'classi...  \n",
       "8  0.943182  {'classifier__c': 0.9214910548076831, 'classif...  \n",
       "9  0.972067  {'classifier__c': 0.11960541189440665, 'classi...  "
      ]
     },
     "execution_count": 18,
     "metadata": {},
     "output_type": "execute_result"
    }
   ],
   "source": [
    "import pandas as pd\n",
    "\n",
    "cv_res = pd.DataFrame(scores)\n",
    "cv_res['estimator_params'] = [est.best_params_ for est in cv_res['estimator']]\n",
    "cv_res = cv_res.dropna()\n",
    "\n",
    "cv_res"
   ]
  },
  {
   "cell_type": "code",
   "execution_count": 19,
   "metadata": {
    "jupyter": {
     "outputs_hidden": false,
     "source_hidden": false
    },
    "nteract": {
     "transient": {
      "deleting": false
     }
    }
   },
   "outputs": [
    {
     "name": "stdout",
     "output_type": "stream",
     "text": [
      "Average precision: 0.9603\n",
      "Std precision: 0.0595\n",
      "\n",
      "Average recall: 0.9333\n",
      "Std recall: 0.0667\n",
      "\n",
      "Average f1: 0.9436\n",
      "Std f1: 0.04\n"
     ]
    }
   ],
   "source": [
    "print(f'Average precision: {np.average(cv_res[\"test_precision\"]):.4f}')\n",
    "print(f'Std precision: {np.std(cv_res[\"test_precision\"]):.4f}')\n",
    "\n",
    "print(f'\\nAverage recall: {np.average(cv_res[\"test_recall\"]):.4f}')\n",
    "print(f'Std recall: {np.std(cv_res[\"test_recall\"]):.4f}')\n",
    "\n",
    "print(f'\\nAverage f1: {np.average(cv_res[\"test_f1\"]):.4f}')\n",
    "print(f'Std f1: {np.std(cv_res[\"test_f1\"]):.2f}')"
   ]
  },
  {
   "cell_type": "code",
   "execution_count": 20,
   "metadata": {},
   "outputs": [
    {
     "data": {
      "text/plain": [
       "{'classifier__c': 0.3467361894529877,\n",
       " 'classifier__q': 13,\n",
       " 'reduce_dim__n_components': 1,\n",
       " 'scaler': MaxAbsScaler()}"
      ]
     },
     "execution_count": 20,
     "metadata": {},
     "output_type": "execute_result"
    }
   ],
   "source": [
    "ix = cv_res['test_f1'].idxmax()\n",
    "\n",
    "cv_res['estimator_params'][ix]"
   ]
  }
 ],
 "metadata": {
  "kernel_info": {
   "name": "python3"
  },
  "kernelspec": {
   "display_name": "Python 3",
   "language": "python",
   "name": "python3"
  },
  "language_info": {
   "codemirror_mode": {
    "name": "ipython",
    "version": 3
   },
   "file_extension": ".py",
   "mimetype": "text/x-python",
   "name": "python",
   "nbconvert_exporter": "python",
   "pygments_lexer": "ipython3",
   "version": "3.8.5"
  },
  "microsoft": {
   "host": {
    "AzureML": {
     "notebookHasBeenCompleted": true
    }
   }
  },
  "nteract": {
   "version": "nteract-front-end@1.0.0"
  }
 },
 "nbformat": 4,
 "nbformat_minor": 4
}

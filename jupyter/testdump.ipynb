{
 "cells": [
  {
   "cell_type": "markdown",
   "metadata": {
    "id": "j82peBObBmvg"
   },
   "source": [
    "# BSVClassifier Class"
   ]
  },
  {
   "cell_type": "code",
   "execution_count": 27,
   "metadata": {
    "executionInfo": {
     "elapsed": 2507,
     "status": "ok",
     "timestamp": 1616709102757,
     "user": {
      "displayName": "Massimo Frasson",
      "photoUrl": "https://lh3.googleusercontent.com/a-/AOh14GgRYgqdrCV2RBw6mud9GZiTlAXnSWawV8ttlZYv0w=s64",
      "userId": "09747843240273532020"
     },
     "user_tz": -60
    },
    "gather": {
     "logged": 1616942575232
    },
    "id": "VOMTc65TCjrx"
   },
   "outputs": [],
   "source": [
    "import sys\n",
    "\n",
    "sys.path.append('..')\n",
    "\n",
    "from flod.classifiers.bsvclassifier import BSVClassifier"
   ]
  },
  {
   "cell_type": "markdown",
   "metadata": {
    "id": "leJb6Fn0BnsA"
   },
   "source": [
    "# Analysis"
   ]
  },
  {
   "cell_type": "code",
   "execution_count": 28,
   "metadata": {
    "executionInfo": {
     "elapsed": 2503,
     "status": "ok",
     "timestamp": 1616709102758,
     "user": {
      "displayName": "Massimo Frasson",
      "photoUrl": "https://lh3.googleusercontent.com/a-/AOh14GgRYgqdrCV2RBw6mud9GZiTlAXnSWawV8ttlZYv0w=s64",
      "userId": "09747843240273532020"
     },
     "user_tz": -60
    },
    "gather": {
     "logged": 1616942575742
    },
    "id": "AYb0zMIoBgA6"
   },
   "outputs": [],
   "source": [
    "from sklearn.datasets import make_blobs\n",
    "import matplotlib.pyplot as plt\n",
    "from sklearn.model_selection import train_test_split, StratifiedKFold, RandomizedSearchCV, GridSearchCV\n",
    "from sklearn.metrics import precision_score, recall_score, f1_score, make_scorer, confusion_matrix, accuracy_score\n",
    "from scipy.stats import uniform as sp_randFloat\n",
    "from scipy.stats import randint as sp_randInt\n",
    "from tqdm.notebook import tqdm\n",
    "import numpy as np\n",
    "\n",
    "plt.rcParams[\"figure.figsize\"] = (15,4)"
   ]
  },
  {
   "cell_type": "markdown",
   "metadata": {
    "id": "pwjg1wfMBgBH"
   },
   "source": [
    "Proviamo a generare un dataset artificiale, composto per la 90% da ADL (y=0) e di un 10% da falls (y=1).\n",
    "Teniamo clusters particolarmente separati"
   ]
  },
  {
   "cell_type": "code",
   "execution_count": 29,
   "metadata": {
    "executionInfo": {
     "elapsed": 2501,
     "status": "ok",
     "timestamp": 1616709102760,
     "user": {
      "displayName": "Massimo Frasson",
      "photoUrl": "https://lh3.googleusercontent.com/a-/AOh14GgRYgqdrCV2RBw6mud9GZiTlAXnSWawV8ttlZYv0w=s64",
      "userId": "09747843240273532020"
     },
     "user_tz": -60
    },
    "gather": {
     "logged": 1616942576088
    },
    "id": "59Sg6xfpBgBH"
   },
   "outputs": [],
   "source": [
    "X, y = make_blobs(n_samples=[90, 10], n_features=2, centers=None, cluster_std=1)"
   ]
  },
  {
   "cell_type": "code",
   "execution_count": 30,
   "metadata": {
    "gather": {
     "logged": 1616942576598
    },
    "jupyter": {
     "outputs_hidden": false,
     "source_hidden": false
    },
    "nteract": {
     "transient": {
      "deleting": false
     }
    }
   },
   "outputs": [
    {
     "name": "stdout",
     "output_type": "stream",
     "text": [
      "ADL 90 Falls 10\n"
     ]
    }
   ],
   "source": [
    "print(f'ADL {len(y)-sum(y)} Falls {sum(y)}')"
   ]
  },
  {
   "cell_type": "code",
   "execution_count": 31,
   "metadata": {
    "colab": {
     "base_uri": "https://localhost:8080/",
     "height": 265
    },
    "executionInfo": {
     "elapsed": 2497,
     "status": "ok",
     "timestamp": 1616709102760,
     "user": {
      "displayName": "Massimo Frasson",
      "photoUrl": "https://lh3.googleusercontent.com/a-/AOh14GgRYgqdrCV2RBw6mud9GZiTlAXnSWawV8ttlZYv0w=s64",
      "userId": "09747843240273532020"
     },
     "user_tz": -60
    },
    "gather": {
     "logged": 1616942577787
    },
    "id": "WBGu_IpUBgBI",
    "outputId": "7c0f80f0-0cba-455e-ef68-ca4c3f374f40",
    "scrolled": false
   },
   "outputs": [
    {
     "data": {
      "image/png": "[encoded data removed]",
      "text/plain": [
       "<Figure size 1080x288 with 1 Axes>"
      ]
     },
     "metadata": {
      "needs_background": "light"
     },
     "output_type": "display_data"
    }
   ],
   "source": [
    "colors = ['green' if i == 0 else 'red' for i in y]\n",
    "\n",
    "plt.scatter(X[:, 0], X[:, 1], c=colors, alpha=.4)\n",
    "plt.show()"
   ]
  },
  {
   "cell_type": "code",
   "execution_count": 32,
   "metadata": {
    "executionInfo": {
     "elapsed": 2494,
     "status": "ok",
     "timestamp": 1616709102761,
     "user": {
      "displayName": "Massimo Frasson",
      "photoUrl": "https://lh3.googleusercontent.com/a-/AOh14GgRYgqdrCV2RBw6mud9GZiTlAXnSWawV8ttlZYv0w=s64",
      "userId": "09747843240273532020"
     },
     "user_tz": -60
    },
    "gather": {
     "logged": 1616942578118
    },
    "id": "ti91AHttBgBJ"
   },
   "outputs": [],
   "source": [
    "X_train, X_test, y_train, y_test = train_test_split(X, y, test_size=.25, stratify=y, shuffle=True)"
   ]
  },
  {
   "cell_type": "markdown",
   "metadata": {
    "nteract": {
     "transient": {
      "deleting": false
     }
    }
   },
   "source": [
    "Verifichiamo che in training vengano visti anche degli outliers (dovrebbe essere già garantito dallo stratify qui sopra)"
   ]
  },
  {
   "cell_type": "code",
   "execution_count": 33,
   "metadata": {
    "colab": {
     "base_uri": "https://localhost:8080/"
    },
    "executionInfo": {
     "elapsed": 2491,
     "status": "ok",
     "timestamp": 1616709102762,
     "user": {
      "displayName": "Massimo Frasson",
      "photoUrl": "https://lh3.googleusercontent.com/a-/AOh14GgRYgqdrCV2RBw6mud9GZiTlAXnSWawV8ttlZYv0w=s64",
      "userId": "09747843240273532020"
     },
     "user_tz": -60
    },
    "gather": {
     "logged": 1616942578237
    },
    "id": "SP2tQPrFBgBK",
    "outputId": "b6560c99-3944-41ed-b0ee-5aa4b4d115f4"
   },
   "outputs": [
    {
     "name": "stdout",
     "output_type": "stream",
     "text": [
      "7/75\n"
     ]
    }
   ],
   "source": [
    "print(f'{sum(y_train)}/{len(y_train)}')"
   ]
  },
  {
   "cell_type": "markdown",
   "metadata": {
    "nteract": {
     "transient": {
      "deleting": false
     }
    }
   },
   "source": [
    "Calcoliamo empiricamente i migliori iper parametri tramite una randomized search.\n",
    "\n",
    "Per definizione C deve stare tra 0 e 1. (1 non è ammissibile, in quanto non permette la presenza di bsv).\n",
    "\n",
    "Q può essere arbitrariamente grande, così come la penalizzazione."
   ]
  },
  {
   "cell_type": "code",
   "execution_count": 34,
   "metadata": {
    "gather": {
     "logged": 1616942580614
    },
    "jupyter": {
     "outputs_hidden": false,
     "source_hidden": false
    },
    "nteract": {
     "transient": {
      "deleting": false
     }
    }
   },
   "outputs": [
    {
     "name": "stdout",
     "output_type": "stream",
     "text": [
      "Max distance 8.03627554104422\n"
     ]
    }
   ],
   "source": [
    "max_distance = 0\n",
    "for i in X_train:\n",
    "    for j in X_train:\n",
    "        dist = np.linalg.norm(i-j, ord=2)\n",
    "        if dist > max_distance:\n",
    "            max_distance = dist\n",
    "\n",
    "print(f'Max distance {max_distance}')"
   ]
  },
  {
   "cell_type": "markdown",
   "metadata": {
    "nteract": {
     "transient": {
      "deleting": false
     }
    }
   },
   "source": [
    "Analizziamo il miglior classifier trovato dalla random research"
   ]
  },
  {
   "cell_type": "code",
   "execution_count": 35,
   "metadata": {
    "gather": {
     "logged": 1616942698444
    },
    "id": "AOLC1XQBBgBL"
   },
   "outputs": [
    {
     "name": "stdout",
     "output_type": "stream",
     "text": [
      "Precision 0.12\n",
      "Recall 1.0\n",
      "F1 0.21428571428571425\n",
      "Accuracy 0.12\n"
     ]
    }
   ],
   "source": [
    "from joblib import dump, load\n",
    "clf = load('bsv.joblib')\n",
    "\n",
    "y_pred = clf.predict(X_test)\n",
    "\n",
    "print(f'Precision {precision_score(y_test, y_pred)}')\n",
    "print(f'Recall {recall_score(y_test, y_pred)}')\n",
    "print(f'F1 {f1_score(y_test, y_pred)}')\n",
    "print(f'Accuracy {accuracy_score(y_test, y_pred)}')"
   ]
  },
  {
   "cell_type": "code",
   "execution_count": 36,
   "metadata": {
    "gather": {
     "logged": 1616942718856
    },
    "id": "LrF5qBCuBgBM"
   },
   "outputs": [
    {
     "data": {
      "image/png": "[encoded data removed]",
      "text/plain": [
       "<Figure size 1080x288 with 1 Axes>"
      ]
     },
     "metadata": {
      "needs_background": "light"
     },
     "output_type": "display_data"
    }
   ],
   "source": [
    "colors = ['green' if i == 0 else 'red' for i in y]\n",
    "\n",
    "gx = np.linspace(-15, 10, 50)\n",
    "gy = np.linspace(-10, 10, 50)\n",
    "gX, gY = np.meshgrid(gx, gy)\n",
    "zs = np.array([clf._compute_r(np.array([x, y])) for x, y in zip(np.ravel(gX), np.ravel(gY))])\n",
    "gZ = zs.reshape(gX.shape)\n",
    "membership_contour = plt.contour(gX, gY, gZ, levels=(clf.radiuses_[clf.sv_i], ))\n",
    "plt.clabel(membership_contour, inline=1)\n",
    "\n",
    "plt.scatter(X[:, 0], X[:, 1], c=colors, alpha=.4)\n",
    "\n",
    "plt.show()"
   ]
  },
  {
   "cell_type": "markdown",
   "metadata": {
    "nteract": {
     "transient": {
      "deleting": false
     }
    }
   },
   "source": [
    "Dal grafico qui sopra dovrebbero risultare tutti e soli i punti verdi inclusi nel contorno."
   ]
  },
  {
   "cell_type": "code",
   "execution_count": 37,
   "metadata": {
    "gather": {
     "logged": 1616942719213
    },
    "id": "-p1SC4rTBgBN"
   },
   "outputs": [
    {
     "name": "stdout",
     "output_type": "stream",
     "text": [
      "TP: 3 FP: 22 FN: 0 TN: 0\n"
     ]
    }
   ],
   "source": [
    "tn, fp, fn, tp = confusion_matrix(y_test, y_pred).ravel()\n",
    "\n",
    "print(f'TP: {tp} FP: {fp} FN: {fn} TN: {tn}')"
   ]
  },
  {
   "cell_type": "code",
   "execution_count": 38,
   "metadata": {
    "gather": {
     "logged": 1616942719330
    },
    "jupyter": {
     "outputs_hidden": false,
     "source_hidden": false
    },
    "nteract": {
     "transient": {
      "deleting": false
     }
    }
   },
   "outputs": [],
   "source": [
    "outliers_ix = [i for i, y in enumerate(clf.y_) if y == 1]"
   ]
  },
  {
   "cell_type": "markdown",
   "metadata": {
    "nteract": {
     "transient": {
      "deleting": false
     }
    }
   },
   "source": [
    "Qui sotto possiamo vedere la distribuzione dei valori di beta. Le beta degli outlier dovrebbero essere sovrapposte ai punti rappresentanti c.\n",
    "Inoltre il support vector dovrebbe trovarsi abbastanza vicino alla parte centrale del grafico."
   ]
  },
  {
   "cell_type": "code",
   "execution_count": 39,
   "metadata": {
    "gather": {
     "logged": 1616942719706
    },
    "id": "1vPmFhE3BgBN"
   },
   "outputs": [
    {
     "data": {
      "image/png": "[encoded data removed]",
      "text/plain": [
       "<Figure size 1080x288 with 1 Axes>"
      ]
     },
     "metadata": {
      "needs_background": "light"
     },
     "output_type": "display_data"
    }
   ],
   "source": [
    "plt.plot(clf.sv_i, clf.betas_[clf.sv_i], 'o', c='purple', label = 'support vector', alpha=1)\n",
    "plt.plot(outliers_ix, [clf.c]*len(outliers_ix), 'o', c='orange', label = 'c', alpha=1)\n",
    "plt.scatter(outliers_ix, [clf.betas_[i] for i in outliers_ix], c='red', label='outliers', alpha=1)\n",
    "plt.plot(clf.betas_, 'o', alpha=.3, label='betas')\n",
    "plt.legend()\n",
    "plt.show()"
   ]
  },
  {
   "cell_type": "code",
   "execution_count": 40,
   "metadata": {
    "gather": {
     "logged": 1616942719840
    },
    "jupyter": {
     "outputs_hidden": false,
     "source_hidden": false
    },
    "nteract": {
     "transient": {
      "deleting": false
     }
    }
   },
   "outputs": [
    {
     "name": "stdout",
     "output_type": "stream",
     "text": [
      "Sum betas 0.15661636004395424 Negative betas 0\n"
     ]
    }
   ],
   "source": [
    "print(f'Sum betas {sum(clf.betas_)} Negative betas {len([1 for b in clf.betas_ if b < 0])}')"
   ]
  },
  {
   "cell_type": "markdown",
   "metadata": {
    "nteract": {
     "transient": {
      "deleting": false
     }
    }
   },
   "source": [
    "I raggi degli outlier dovrebbero essere tutti chiaramente sopra a quelli del support vector. Inoltre gli altri dovrebbero essere simili o chiaramente sotto"
   ]
  },
  {
   "cell_type": "code",
   "execution_count": 41,
   "metadata": {
    "gather": {
     "logged": 1616942720285
    },
    "jupyter": {
     "outputs_hidden": false,
     "source_hidden": false
    },
    "nteract": {
     "transient": {
      "deleting": false
     }
    }
   },
   "outputs": [
    {
     "data": {
      "image/png": "[encoded data removed]",
      "text/plain": [
       "<Figure size 1080x288 with 1 Axes>"
      ]
     },
     "metadata": {
      "needs_background": "light"
     },
     "output_type": "display_data"
    }
   ],
   "source": [
    "plt.plot(clf.sv_i, clf.radiuses_[clf.sv_i], 'o', c='purple', label = 'support vector', alpha=1)\n",
    "plt.scatter(outliers_ix, [clf.radiuses_[i] for i in outliers_ix], c='red', label='outliers', alpha=1)\n",
    "plt.plot(clf.radiuses_, label='radius')\n",
    "plt.legend()\n",
    "plt.show()"
   ]
  },
  {
   "cell_type": "markdown",
   "metadata": {
    "collapsed": true,
    "jupyter": {
     "outputs_hidden": false,
     "source_hidden": false
    },
    "nteract": {
     "transient": {
      "deleting": false
     }
    }
   },
   "source": [
    "Proviamo a salvare il modello per fare analisi in un momento successivo"
   ]
  },
  {
   "cell_type": "code",
   "execution_count": 42,
   "metadata": {},
   "outputs": [],
   "source": [
    "#from joblib import dump, load\n",
    "#dump(clf, 'bsv.joblib') "
   ]
  },
  {
   "cell_type": "code",
   "execution_count": null,
   "metadata": {},
   "outputs": [],
   "source": []
  }
 ],
 "metadata": {
  "accelerator": "GPU",
  "colab": {
   "collapsed_sections": [
    "j82peBObBmvg"
   ],
   "name": "TestBSV.ipynb",
   "provenance": []
  },
  "kernel_info": {
   "name": "python3"
  },
  "kernelspec": {
   "display_name": "Python 3",
   "language": "python",
   "name": "python3"
  },
  "language_info": {
   "codemirror_mode": {
    "name": "ipython",
    "version": 3
   },
   "file_extension": ".py",
   "mimetype": "text/x-python",
   "name": "python",
   "nbconvert_exporter": "python",
   "pygments_lexer": "ipython3",
   "version": "3.8.5"
  },
  "microsoft": {
   "host": {
    "AzureML": {
     "notebookHasBeenCompleted": true
    }
   }
  },
  "nteract": {
   "version": "nteract-front-end@1.0.0"
  }
 },
 "nbformat": 4,
 "nbformat_minor": 1
}
